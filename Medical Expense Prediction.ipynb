{
 "cells": [
  {
   "cell_type": "markdown",
   "id": "ac4b8ea1",
   "metadata": {},
   "source": [
    "## Predicting Medical Expenses using Regression"
   ]
  },
  {
   "cell_type": "markdown",
   "id": "735c23ee",
   "metadata": {},
   "source": [
    "### Importing necessary modules"
   ]
  },
  {
   "cell_type": "code",
   "execution_count": 227,
   "id": "a8d737fd",
   "metadata": {},
   "outputs": [],
   "source": [
    "import numpy as np\n",
    "import pandas as pd\n",
    "import matplotlib.pyplot as plt\n",
    "import seaborn as sns\n",
    "import os"
   ]
  },
  {
   "cell_type": "markdown",
   "id": "da82dd45",
   "metadata": {},
   "source": [
    "### Loading Dataset"
   ]
  },
  {
   "cell_type": "code",
   "execution_count": 228,
   "id": "fef487dc",
   "metadata": {},
   "outputs": [],
   "source": [
    "#File_Path = \"..\"+ os.path.sep + \"Python-Practice-code\" + os.path.sep + \"insurance.csv\"\n",
    "File_Path = \"insurance.csv\"\n",
    "medical = pd.read_csv(File_Path)"
   ]
  },
  {
   "cell_type": "code",
   "execution_count": 229,
   "id": "15dfded3",
   "metadata": {},
   "outputs": [
    {
     "name": "stdout",
     "output_type": "stream",
     "text": [
      "insurance.csv\n"
     ]
    }
   ],
   "source": [
    "print(File_Path)"
   ]
  },
  {
   "cell_type": "code",
   "execution_count": 230,
   "id": "bee75199",
   "metadata": {},
   "outputs": [
    {
     "data": {
      "text/plain": [
       "pandas.core.frame.DataFrame"
      ]
     },
     "execution_count": 230,
     "metadata": {},
     "output_type": "execute_result"
    }
   ],
   "source": [
    "type(medical)"
   ]
  },
  {
   "cell_type": "code",
   "execution_count": 231,
   "id": "457a7f17",
   "metadata": {},
   "outputs": [
    {
     "data": {
      "text/html": [
       "<div>\n",
       "<style scoped>\n",
       "    .dataframe tbody tr th:only-of-type {\n",
       "        vertical-align: middle;\n",
       "    }\n",
       "\n",
       "    .dataframe tbody tr th {\n",
       "        vertical-align: top;\n",
       "    }\n",
       "\n",
       "    .dataframe thead th {\n",
       "        text-align: right;\n",
       "    }\n",
       "</style>\n",
       "<table border=\"1\" class=\"dataframe\">\n",
       "  <thead>\n",
       "    <tr style=\"text-align: right;\">\n",
       "      <th></th>\n",
       "      <th>age</th>\n",
       "      <th>sex</th>\n",
       "      <th>bmi</th>\n",
       "      <th>children</th>\n",
       "      <th>smoker</th>\n",
       "      <th>region</th>\n",
       "      <th>expenses</th>\n",
       "    </tr>\n",
       "  </thead>\n",
       "  <tbody>\n",
       "    <tr>\n",
       "      <th>0</th>\n",
       "      <td>19</td>\n",
       "      <td>female</td>\n",
       "      <td>27.9</td>\n",
       "      <td>0</td>\n",
       "      <td>yes</td>\n",
       "      <td>southwest</td>\n",
       "      <td>16884.92</td>\n",
       "    </tr>\n",
       "    <tr>\n",
       "      <th>1</th>\n",
       "      <td>18</td>\n",
       "      <td>male</td>\n",
       "      <td>33.8</td>\n",
       "      <td>1</td>\n",
       "      <td>no</td>\n",
       "      <td>southeast</td>\n",
       "      <td>1725.55</td>\n",
       "    </tr>\n",
       "    <tr>\n",
       "      <th>2</th>\n",
       "      <td>28</td>\n",
       "      <td>male</td>\n",
       "      <td>33.0</td>\n",
       "      <td>3</td>\n",
       "      <td>no</td>\n",
       "      <td>southeast</td>\n",
       "      <td>4449.46</td>\n",
       "    </tr>\n",
       "    <tr>\n",
       "      <th>3</th>\n",
       "      <td>33</td>\n",
       "      <td>male</td>\n",
       "      <td>22.7</td>\n",
       "      <td>0</td>\n",
       "      <td>no</td>\n",
       "      <td>northwest</td>\n",
       "      <td>21984.47</td>\n",
       "    </tr>\n",
       "    <tr>\n",
       "      <th>4</th>\n",
       "      <td>32</td>\n",
       "      <td>male</td>\n",
       "      <td>28.9</td>\n",
       "      <td>0</td>\n",
       "      <td>no</td>\n",
       "      <td>northwest</td>\n",
       "      <td>3866.86</td>\n",
       "    </tr>\n",
       "  </tbody>\n",
       "</table>\n",
       "</div>"
      ],
      "text/plain": [
       "   age     sex   bmi  children smoker     region  expenses\n",
       "0   19  female  27.9         0    yes  southwest  16884.92\n",
       "1   18    male  33.8         1     no  southeast   1725.55\n",
       "2   28    male  33.0         3     no  southeast   4449.46\n",
       "3   33    male  22.7         0     no  northwest  21984.47\n",
       "4   32    male  28.9         0     no  northwest   3866.86"
      ]
     },
     "execution_count": 231,
     "metadata": {},
     "output_type": "execute_result"
    }
   ],
   "source": [
    "medical.head()"
   ]
  },
  {
   "cell_type": "code",
   "execution_count": 232,
   "id": "129ab600",
   "metadata": {},
   "outputs": [
    {
     "data": {
      "text/html": [
       "<div>\n",
       "<style scoped>\n",
       "    .dataframe tbody tr th:only-of-type {\n",
       "        vertical-align: middle;\n",
       "    }\n",
       "\n",
       "    .dataframe tbody tr th {\n",
       "        vertical-align: top;\n",
       "    }\n",
       "\n",
       "    .dataframe thead th {\n",
       "        text-align: right;\n",
       "    }\n",
       "</style>\n",
       "<table border=\"1\" class=\"dataframe\">\n",
       "  <thead>\n",
       "    <tr style=\"text-align: right;\">\n",
       "      <th></th>\n",
       "      <th>age</th>\n",
       "      <th>bmi</th>\n",
       "      <th>children</th>\n",
       "      <th>expenses</th>\n",
       "    </tr>\n",
       "  </thead>\n",
       "  <tbody>\n",
       "    <tr>\n",
       "      <th>count</th>\n",
       "      <td>1338.000000</td>\n",
       "      <td>1338.000000</td>\n",
       "      <td>1338.000000</td>\n",
       "      <td>1338.000000</td>\n",
       "    </tr>\n",
       "    <tr>\n",
       "      <th>mean</th>\n",
       "      <td>39.207025</td>\n",
       "      <td>30.665471</td>\n",
       "      <td>1.094918</td>\n",
       "      <td>13270.422414</td>\n",
       "    </tr>\n",
       "    <tr>\n",
       "      <th>std</th>\n",
       "      <td>14.049960</td>\n",
       "      <td>6.098382</td>\n",
       "      <td>1.205493</td>\n",
       "      <td>12110.011240</td>\n",
       "    </tr>\n",
       "    <tr>\n",
       "      <th>min</th>\n",
       "      <td>18.000000</td>\n",
       "      <td>16.000000</td>\n",
       "      <td>0.000000</td>\n",
       "      <td>1121.870000</td>\n",
       "    </tr>\n",
       "    <tr>\n",
       "      <th>25%</th>\n",
       "      <td>27.000000</td>\n",
       "      <td>26.300000</td>\n",
       "      <td>0.000000</td>\n",
       "      <td>4740.287500</td>\n",
       "    </tr>\n",
       "    <tr>\n",
       "      <th>50%</th>\n",
       "      <td>39.000000</td>\n",
       "      <td>30.400000</td>\n",
       "      <td>1.000000</td>\n",
       "      <td>9382.030000</td>\n",
       "    </tr>\n",
       "    <tr>\n",
       "      <th>75%</th>\n",
       "      <td>51.000000</td>\n",
       "      <td>34.700000</td>\n",
       "      <td>2.000000</td>\n",
       "      <td>16639.915000</td>\n",
       "    </tr>\n",
       "    <tr>\n",
       "      <th>max</th>\n",
       "      <td>64.000000</td>\n",
       "      <td>53.100000</td>\n",
       "      <td>5.000000</td>\n",
       "      <td>63770.430000</td>\n",
       "    </tr>\n",
       "  </tbody>\n",
       "</table>\n",
       "</div>"
      ],
      "text/plain": [
       "               age          bmi     children      expenses\n",
       "count  1338.000000  1338.000000  1338.000000   1338.000000\n",
       "mean     39.207025    30.665471     1.094918  13270.422414\n",
       "std      14.049960     6.098382     1.205493  12110.011240\n",
       "min      18.000000    16.000000     0.000000   1121.870000\n",
       "25%      27.000000    26.300000     0.000000   4740.287500\n",
       "50%      39.000000    30.400000     1.000000   9382.030000\n",
       "75%      51.000000    34.700000     2.000000  16639.915000\n",
       "max      64.000000    53.100000     5.000000  63770.430000"
      ]
     },
     "execution_count": 232,
     "metadata": {},
     "output_type": "execute_result"
    }
   ],
   "source": [
    "medical.describe()"
   ]
  },
  {
   "cell_type": "code",
   "execution_count": 233,
   "id": "3dda31ac",
   "metadata": {},
   "outputs": [
    {
     "name": "stdout",
     "output_type": "stream",
     "text": [
      "<class 'pandas.core.frame.DataFrame'>\n",
      "RangeIndex: 1338 entries, 0 to 1337\n",
      "Data columns (total 7 columns):\n",
      " #   Column    Non-Null Count  Dtype  \n",
      "---  ------    --------------  -----  \n",
      " 0   age       1338 non-null   int64  \n",
      " 1   sex       1338 non-null   object \n",
      " 2   bmi       1338 non-null   float64\n",
      " 3   children  1338 non-null   int64  \n",
      " 4   smoker    1338 non-null   object \n",
      " 5   region    1338 non-null   object \n",
      " 6   expenses  1338 non-null   float64\n",
      "dtypes: float64(2), int64(2), object(3)\n",
      "memory usage: 73.3+ KB\n"
     ]
    }
   ],
   "source": [
    "medical.info()"
   ]
  },
  {
   "cell_type": "code",
   "execution_count": 234,
   "id": "ebb3cb3b",
   "metadata": {},
   "outputs": [],
   "source": [
    "### summarizing about the columns separately which are object or categorical type"
   ]
  },
  {
   "cell_type": "code",
   "execution_count": 235,
   "id": "e88b95c2",
   "metadata": {},
   "outputs": [
    {
     "name": "stdout",
     "output_type": "stream",
     "text": [
      "         sex smoker     region\n",
      "count   1338   1338       1338\n",
      "unique     2      2          4\n",
      "top     male     no  southeast\n",
      "freq     676   1064        364\n"
     ]
    }
   ],
   "source": [
    "print(medical.describe(include = ['object']))"
   ]
  },
  {
   "cell_type": "code",
   "execution_count": 236,
   "id": "a8dfef60",
   "metadata": {},
   "outputs": [],
   "source": [
    "## We have to predict the expense column i.e. how it varies with the change of other columns or attributes"
   ]
  },
  {
   "cell_type": "markdown",
   "id": "938ce1d9",
   "metadata": {},
   "source": [
    "### Exploratory Data Analysis of the dataset"
   ]
  },
  {
   "cell_type": "code",
   "execution_count": 237,
   "id": "5da0c183",
   "metadata": {},
   "outputs": [],
   "source": [
    "# Histogram plot"
   ]
  },
  {
   "cell_type": "code",
   "execution_count": 238,
   "id": "9cb45e70",
   "metadata": {
    "scrolled": false
   },
   "outputs": [
    {
     "data": {
      "text/plain": [
       "array([[<AxesSubplot:title={'center':'age'}>,\n",
       "        <AxesSubplot:title={'center':'bmi'}>],\n",
       "       [<AxesSubplot:title={'center':'children'}>,\n",
       "        <AxesSubplot:title={'center':'expenses'}>]], dtype=object)"
      ]
     },
     "execution_count": 238,
     "metadata": {},
     "output_type": "execute_result"
    },
    {
     "data": {
      "image/png": "[encoded data removed]",
      "text/plain": [
       "<Figure size 1080x720 with 4 Axes>"
      ]
     },
     "metadata": {
      "needs_background": "light"
     },
     "output_type": "display_data"
    }
   ],
   "source": [
    "medical.hist(bins = 10, figsize=(15,10))"
   ]
  },
  {
   "cell_type": "code",
   "execution_count": 239,
   "id": "71866888",
   "metadata": {},
   "outputs": [],
   "source": [
    "# Regression Plot"
   ]
  },
  {
   "cell_type": "code",
   "execution_count": 240,
   "id": "a9eb5b12",
   "metadata": {},
   "outputs": [
    {
     "data": {
      "text/plain": [
       "<matplotlib.lines.Line2D at 0x1c7b5f7ba30>"
      ]
     },
     "execution_count": 240,
     "metadata": {},
     "output_type": "execute_result"
    },
    {
     "data": {
      "image/png": "[encoded data removed]",
      "text/plain": [
       "<Figure size 432x288 with 1 Axes>"
      ]
     },
     "metadata": {
      "needs_background": "light"
     },
     "output_type": "display_data"
    }
   ],
   "source": [
    "sns.regplot(x='age', y='expenses', data=medical,ci=None)\n",
    "plt.axvline(30, color='r')"
   ]
  },
  {
   "cell_type": "markdown",
   "id": "0cc04f75",
   "metadata": {},
   "source": [
    "#### From this graph we can say that with the increase of age the expense is also increasing. In any particular age there are three distinguishable expense cluster and in the lowest cluster the dense of population is highest which is gradually decreasing for higher expense clusters. An example is shown here with the age '30'"
   ]
  },
  {
   "cell_type": "code",
   "execution_count": 241,
   "id": "1c616700",
   "metadata": {
    "scrolled": true
   },
   "outputs": [
    {
     "data": {
      "text/plain": [
       "<AxesSubplot:xlabel='bmi', ylabel='expenses'>"
      ]
     },
     "execution_count": 241,
     "metadata": {},
     "output_type": "execute_result"
    },
    {
     "data": {
      "image/png": "[encoded data removed]",
      "text/plain": [
       "<Figure size 432x288 with 1 Axes>"
      ]
     },
     "metadata": {
      "needs_background": "light"
     },
     "output_type": "display_data"
    }
   ],
   "source": [
    "sns.regplot(x='bmi', y='expenses', data=medical,ci=None)"
   ]
  },
  {
   "cell_type": "markdown",
   "id": "18e84d4e",
   "metadata": {},
   "source": [
    "#### In this graph also we can see that the expense is gradually increasing with the increase of bmi."
   ]
  },
  {
   "cell_type": "code",
   "execution_count": 242,
   "id": "fd555ca7",
   "metadata": {},
   "outputs": [
    {
     "data": {
      "text/plain": [
       "<AxesSubplot:xlabel='sex', ylabel='count'>"
      ]
     },
     "execution_count": 242,
     "metadata": {},
     "output_type": "execute_result"
    },
    {
     "data": {
      "image/png": "[encoded data removed]",
      "text/plain": [
       "<Figure size 432x288 with 1 Axes>"
      ]
     },
     "metadata": {
      "needs_background": "light"
     },
     "output_type": "display_data"
    }
   ],
   "source": [
    "sns.countplot(x='sex',data=medical)"
   ]
  },
  {
   "cell_type": "markdown",
   "id": "47fa9340",
   "metadata": {},
   "source": [
    "## Count of Male and Female are almost equal"
   ]
  },
  {
   "cell_type": "code",
   "execution_count": null,
   "id": "31d9def5",
   "metadata": {},
   "outputs": [],
   "source": []
  },
  {
   "cell_type": "code",
   "execution_count": 243,
   "id": "500bef45",
   "metadata": {},
   "outputs": [
    {
     "data": {
      "text/plain": [
       "Text(0, 0.5, 'mean_expenses')"
      ]
     },
     "execution_count": 243,
     "metadata": {},
     "output_type": "execute_result"
    },
    {
     "data": {
      "image/png": "[encoded data removed]",
      "text/plain": [
       "<Figure size 1296x504 with 1 Axes>"
      ]
     },
     "metadata": {
      "needs_background": "light"
     },
     "output_type": "display_data"
    }
   ],
   "source": [
    "medical.groupby(by = 'age')['expenses'].mean().plot(kind = 'bar',figsize=(18,7))\n",
    "plt.ylabel('mean_expenses')"
   ]
  },
  {
   "cell_type": "markdown",
   "id": "a2646c34",
   "metadata": {},
   "source": [
    "#### If checking the mean expense for individual age group then we can see that as age increases the mean expense also increases"
   ]
  },
  {
   "cell_type": "code",
   "execution_count": null,
   "id": "b48a8f69",
   "metadata": {},
   "outputs": [],
   "source": []
  },
  {
   "cell_type": "markdown",
   "id": "17e946e8",
   "metadata": {},
   "source": [
    "### Correlation"
   ]
  },
  {
   "cell_type": "code",
   "execution_count": 244,
   "id": "b50e8f2c",
   "metadata": {},
   "outputs": [],
   "source": [
    "corr = medical.corr()"
   ]
  },
  {
   "cell_type": "code",
   "execution_count": 245,
   "id": "1560ef7a",
   "metadata": {
    "scrolled": true
   },
   "outputs": [
    {
     "data": {
      "text/html": [
       "<div>\n",
       "<style scoped>\n",
       "    .dataframe tbody tr th:only-of-type {\n",
       "        vertical-align: middle;\n",
       "    }\n",
       "\n",
       "    .dataframe tbody tr th {\n",
       "        vertical-align: top;\n",
       "    }\n",
       "\n",
       "    .dataframe thead th {\n",
       "        text-align: right;\n",
       "    }\n",
       "</style>\n",
       "<table border=\"1\" class=\"dataframe\">\n",
       "  <thead>\n",
       "    <tr style=\"text-align: right;\">\n",
       "      <th></th>\n",
       "      <th>age</th>\n",
       "      <th>bmi</th>\n",
       "      <th>children</th>\n",
       "      <th>expenses</th>\n",
       "    </tr>\n",
       "  </thead>\n",
       "  <tbody>\n",
       "    <tr>\n",
       "      <th>age</th>\n",
       "      <td>1.000000</td>\n",
       "      <td>0.109341</td>\n",
       "      <td>0.042469</td>\n",
       "      <td>0.299008</td>\n",
       "    </tr>\n",
       "    <tr>\n",
       "      <th>bmi</th>\n",
       "      <td>0.109341</td>\n",
       "      <td>1.000000</td>\n",
       "      <td>0.012645</td>\n",
       "      <td>0.198576</td>\n",
       "    </tr>\n",
       "    <tr>\n",
       "      <th>children</th>\n",
       "      <td>0.042469</td>\n",
       "      <td>0.012645</td>\n",
       "      <td>1.000000</td>\n",
       "      <td>0.067998</td>\n",
       "    </tr>\n",
       "    <tr>\n",
       "      <th>expenses</th>\n",
       "      <td>0.299008</td>\n",
       "      <td>0.198576</td>\n",
       "      <td>0.067998</td>\n",
       "      <td>1.000000</td>\n",
       "    </tr>\n",
       "  </tbody>\n",
       "</table>\n",
       "</div>"
      ],
      "text/plain": [
       "               age       bmi  children  expenses\n",
       "age       1.000000  0.109341  0.042469  0.299008\n",
       "bmi       0.109341  1.000000  0.012645  0.198576\n",
       "children  0.042469  0.012645  1.000000  0.067998\n",
       "expenses  0.299008  0.198576  0.067998  1.000000"
      ]
     },
     "execution_count": 245,
     "metadata": {},
     "output_type": "execute_result"
    }
   ],
   "source": [
    "corr"
   ]
  },
  {
   "cell_type": "code",
   "execution_count": 246,
   "id": "30d7d97c",
   "metadata": {},
   "outputs": [
    {
     "data": {
      "text/plain": [
       "<AxesSubplot:>"
      ]
     },
     "execution_count": 246,
     "metadata": {},
     "output_type": "execute_result"
    },
    {
     "data": {
      "image/png": "[encoded data removed]",
      "text/plain": [
       "<Figure size 432x288 with 2 Axes>"
      ]
     },
     "metadata": {
      "needs_background": "light"
     },
     "output_type": "display_data"
    }
   ],
   "source": [
    "sns.heatmap(medical.corr(),annot= True)"
   ]
  },
  {
   "cell_type": "code",
   "execution_count": 247,
   "id": "3c873936",
   "metadata": {},
   "outputs": [
    {
     "data": {
      "text/plain": [
       "expenses    1.000000\n",
       "age         0.299008\n",
       "bmi         0.198576\n",
       "children    0.067998\n",
       "Name: expenses, dtype: float64"
      ]
     },
     "execution_count": 247,
     "metadata": {},
     "output_type": "execute_result"
    }
   ],
   "source": [
    "corr.expenses.sort_values(ascending=False)"
   ]
  },
  {
   "cell_type": "markdown",
   "id": "ff4fecc1",
   "metadata": {},
   "source": [
    "### It can be said from the correlation values that , expenses are more likely to be impacted by age . Also it can be said that age and bmi have a very weak positive correlation with expense"
   ]
  },
  {
   "cell_type": "markdown",
   "id": "2b370f82",
   "metadata": {},
   "source": [
    "## Making some age category which can help in understanding categorywise mean expense "
   ]
  },
  {
   "cell_type": "markdown",
   "id": "fd5f86f4",
   "metadata": {},
   "source": [
    "### Below we are checking few properties of age attribute and categorizing it."
   ]
  },
  {
   "cell_type": "code",
   "execution_count": 248,
   "id": "2d14a767",
   "metadata": {},
   "outputs": [
    {
     "data": {
      "text/plain": [
       "18"
      ]
     },
     "execution_count": 248,
     "metadata": {},
     "output_type": "execute_result"
    }
   ],
   "source": [
    "np.min(medical.age)"
   ]
  },
  {
   "cell_type": "code",
   "execution_count": 249,
   "id": "76f8b196",
   "metadata": {},
   "outputs": [
    {
     "data": {
      "text/plain": [
       "64"
      ]
     },
     "execution_count": 249,
     "metadata": {},
     "output_type": "execute_result"
    }
   ],
   "source": [
    "np.max(medical.age)"
   ]
  },
  {
   "cell_type": "code",
   "execution_count": 250,
   "id": "64328b6a",
   "metadata": {},
   "outputs": [
    {
     "data": {
      "text/plain": [
       "47"
      ]
     },
     "execution_count": 250,
     "metadata": {},
     "output_type": "execute_result"
    }
   ],
   "source": [
    "len(medical.age.unique())"
   ]
  },
  {
   "cell_type": "code",
   "execution_count": 251,
   "id": "e0750a7c",
   "metadata": {
    "scrolled": true
   },
   "outputs": [
    {
     "data": {
      "text/plain": [
       "47"
      ]
     },
     "execution_count": 251,
     "metadata": {},
     "output_type": "execute_result"
    }
   ],
   "source": [
    "len(np.ceil(medical.age).unique())"
   ]
  },
  {
   "cell_type": "code",
   "execution_count": 252,
   "id": "1a30eb74",
   "metadata": {},
   "outputs": [],
   "source": [
    "medical['age_cat']=np.ceil(medical.age / 18)"
   ]
  },
  {
   "cell_type": "code",
   "execution_count": 253,
   "id": "bf718ded",
   "metadata": {},
   "outputs": [
    {
     "data": {
      "text/plain": [
       "4"
      ]
     },
     "execution_count": 253,
     "metadata": {},
     "output_type": "execute_result"
    }
   ],
   "source": [
    "len(medical.age_cat.value_counts().sort_index(ascending= True))"
   ]
  },
  {
   "cell_type": "code",
   "execution_count": 254,
   "id": "f96503b5",
   "metadata": {},
   "outputs": [
    {
     "data": {
      "text/plain": [
       "1.0     69\n",
       "2.0    530\n",
       "3.0    497\n",
       "4.0    242\n",
       "Name: age_cat, dtype: int64"
      ]
     },
     "execution_count": 254,
     "metadata": {},
     "output_type": "execute_result"
    }
   ],
   "source": [
    "medical.age_cat.value_counts().sort_index(ascending = True)"
   ]
  },
  {
   "cell_type": "code",
   "execution_count": 255,
   "id": "676ead00",
   "metadata": {},
   "outputs": [],
   "source": [
    "count = medical.age_cat.value_counts()"
   ]
  },
  {
   "cell_type": "code",
   "execution_count": 256,
   "id": "b6b41727",
   "metadata": {
    "scrolled": true
   },
   "outputs": [
    {
     "data": {
      "text/plain": [
       "<AxesSubplot:xlabel='age_cat', ylabel='count'>"
      ]
     },
     "execution_count": 256,
     "metadata": {},
     "output_type": "execute_result"
    },
    {
     "data": {
      "image/png": "[encoded data removed]",
      "text/plain": [
       "<Figure size 432x288 with 1 Axes>"
      ]
     },
     "metadata": {
      "needs_background": "light"
     },
     "output_type": "display_data"
    }
   ],
   "source": [
    "sns.countplot(x= 'age_cat', data= medical)"
   ]
  },
  {
   "cell_type": "code",
   "execution_count": 257,
   "id": "5ca00b27",
   "metadata": {},
   "outputs": [
    {
     "data": {
      "text/plain": [
       "<AxesSubplot:xlabel='children', ylabel='count'>"
      ]
     },
     "execution_count": 257,
     "metadata": {},
     "output_type": "execute_result"
    },
    {
     "data": {
      "image/png": "[encoded data removed]",
      "text/plain": [
       "<Figure size 432x288 with 1 Axes>"
      ]
     },
     "metadata": {
      "needs_background": "light"
     },
     "output_type": "display_data"
    }
   ],
   "source": [
    "sns.countplot(x ='children', data = medical)"
   ]
  },
  {
   "cell_type": "code",
   "execution_count": 258,
   "id": "d1324d3c",
   "metadata": {},
   "outputs": [
    {
     "data": {
      "text/plain": [
       "0    574\n",
       "1    324\n",
       "2    240\n",
       "3    157\n",
       "4     25\n",
       "5     18\n",
       "Name: children, dtype: int64"
      ]
     },
     "execution_count": 258,
     "metadata": {},
     "output_type": "execute_result"
    }
   ],
   "source": [
    "medical['children'].value_counts()"
   ]
  },
  {
   "cell_type": "code",
   "execution_count": 259,
   "id": "23a7da9c",
   "metadata": {},
   "outputs": [
    {
     "data": {
      "text/plain": [
       "<AxesSubplot:xlabel='region', ylabel='count'>"
      ]
     },
     "execution_count": 259,
     "metadata": {},
     "output_type": "execute_result"
    },
    {
     "data": {
      "image/png": "[encoded data removed]",
      "text/plain": [
       "<Figure size 432x288 with 1 Axes>"
      ]
     },
     "metadata": {
      "needs_background": "light"
     },
     "output_type": "display_data"
    }
   ],
   "source": [
    "sns.countplot(x = 'region', data= medical)"
   ]
  },
  {
   "cell_type": "code",
   "execution_count": 260,
   "id": "c453fa52",
   "metadata": {},
   "outputs": [
    {
     "data": {
      "text/plain": [
       "southeast    364\n",
       "southwest    325\n",
       "northwest    325\n",
       "northeast    324\n",
       "Name: region, dtype: int64"
      ]
     },
     "execution_count": 260,
     "metadata": {},
     "output_type": "execute_result"
    }
   ],
   "source": [
    "medical['region'].value_counts()"
   ]
  },
  {
   "cell_type": "code",
   "execution_count": 261,
   "id": "e150f624",
   "metadata": {},
   "outputs": [
    {
     "data": {
      "text/plain": [
       "<AxesSubplot:xlabel='smoker', ylabel='count'>"
      ]
     },
     "execution_count": 261,
     "metadata": {},
     "output_type": "execute_result"
    },
    {
     "data": {
      "image/png": "[encoded data removed]",
      "text/plain": [
       "<Figure size 432x288 with 1 Axes>"
      ]
     },
     "metadata": {
      "needs_background": "light"
     },
     "output_type": "display_data"
    }
   ],
   "source": [
    "sns.countplot(x = 'smoker', data=medical)"
   ]
  },
  {
   "cell_type": "code",
   "execution_count": 262,
   "id": "a213d73d",
   "metadata": {},
   "outputs": [
    {
     "data": {
      "text/plain": [
       "no     1064\n",
       "yes     274\n",
       "Name: smoker, dtype: int64"
      ]
     },
     "execution_count": 262,
     "metadata": {},
     "output_type": "execute_result"
    }
   ],
   "source": [
    "medical['smoker'].value_counts()"
   ]
  },
  {
   "cell_type": "code",
   "execution_count": 263,
   "id": "be39882c",
   "metadata": {},
   "outputs": [
    {
     "data": {
      "text/html": [
       "<div>\n",
       "<style scoped>\n",
       "    .dataframe tbody tr th:only-of-type {\n",
       "        vertical-align: middle;\n",
       "    }\n",
       "\n",
       "    .dataframe tbody tr th {\n",
       "        vertical-align: top;\n",
       "    }\n",
       "\n",
       "    .dataframe thead th {\n",
       "        text-align: right;\n",
       "    }\n",
       "</style>\n",
       "<table border=\"1\" class=\"dataframe\">\n",
       "  <thead>\n",
       "    <tr style=\"text-align: right;\">\n",
       "      <th></th>\n",
       "      <th>age</th>\n",
       "      <th>sex</th>\n",
       "      <th>bmi</th>\n",
       "      <th>children</th>\n",
       "      <th>smoker</th>\n",
       "      <th>region</th>\n",
       "      <th>expenses</th>\n",
       "      <th>age_cat</th>\n",
       "    </tr>\n",
       "  </thead>\n",
       "  <tbody>\n",
       "    <tr>\n",
       "      <th>0</th>\n",
       "      <td>19</td>\n",
       "      <td>female</td>\n",
       "      <td>27.9</td>\n",
       "      <td>0</td>\n",
       "      <td>yes</td>\n",
       "      <td>southwest</td>\n",
       "      <td>16884.92</td>\n",
       "      <td>2.0</td>\n",
       "    </tr>\n",
       "    <tr>\n",
       "      <th>1</th>\n",
       "      <td>18</td>\n",
       "      <td>male</td>\n",
       "      <td>33.8</td>\n",
       "      <td>1</td>\n",
       "      <td>no</td>\n",
       "      <td>southeast</td>\n",
       "      <td>1725.55</td>\n",
       "      <td>1.0</td>\n",
       "    </tr>\n",
       "    <tr>\n",
       "      <th>2</th>\n",
       "      <td>28</td>\n",
       "      <td>male</td>\n",
       "      <td>33.0</td>\n",
       "      <td>3</td>\n",
       "      <td>no</td>\n",
       "      <td>southeast</td>\n",
       "      <td>4449.46</td>\n",
       "      <td>2.0</td>\n",
       "    </tr>\n",
       "    <tr>\n",
       "      <th>3</th>\n",
       "      <td>33</td>\n",
       "      <td>male</td>\n",
       "      <td>22.7</td>\n",
       "      <td>0</td>\n",
       "      <td>no</td>\n",
       "      <td>northwest</td>\n",
       "      <td>21984.47</td>\n",
       "      <td>2.0</td>\n",
       "    </tr>\n",
       "    <tr>\n",
       "      <th>4</th>\n",
       "      <td>32</td>\n",
       "      <td>male</td>\n",
       "      <td>28.9</td>\n",
       "      <td>0</td>\n",
       "      <td>no</td>\n",
       "      <td>northwest</td>\n",
       "      <td>3866.86</td>\n",
       "      <td>2.0</td>\n",
       "    </tr>\n",
       "    <tr>\n",
       "      <th>...</th>\n",
       "      <td>...</td>\n",
       "      <td>...</td>\n",
       "      <td>...</td>\n",
       "      <td>...</td>\n",
       "      <td>...</td>\n",
       "      <td>...</td>\n",
       "      <td>...</td>\n",
       "      <td>...</td>\n",
       "    </tr>\n",
       "    <tr>\n",
       "      <th>1333</th>\n",
       "      <td>50</td>\n",
       "      <td>male</td>\n",
       "      <td>31.0</td>\n",
       "      <td>3</td>\n",
       "      <td>no</td>\n",
       "      <td>northwest</td>\n",
       "      <td>10600.55</td>\n",
       "      <td>3.0</td>\n",
       "    </tr>\n",
       "    <tr>\n",
       "      <th>1334</th>\n",
       "      <td>18</td>\n",
       "      <td>female</td>\n",
       "      <td>31.9</td>\n",
       "      <td>0</td>\n",
       "      <td>no</td>\n",
       "      <td>northeast</td>\n",
       "      <td>2205.98</td>\n",
       "      <td>1.0</td>\n",
       "    </tr>\n",
       "    <tr>\n",
       "      <th>1335</th>\n",
       "      <td>18</td>\n",
       "      <td>female</td>\n",
       "      <td>36.9</td>\n",
       "      <td>0</td>\n",
       "      <td>no</td>\n",
       "      <td>southeast</td>\n",
       "      <td>1629.83</td>\n",
       "      <td>1.0</td>\n",
       "    </tr>\n",
       "    <tr>\n",
       "      <th>1336</th>\n",
       "      <td>21</td>\n",
       "      <td>female</td>\n",
       "      <td>25.8</td>\n",
       "      <td>0</td>\n",
       "      <td>no</td>\n",
       "      <td>southwest</td>\n",
       "      <td>2007.95</td>\n",
       "      <td>2.0</td>\n",
       "    </tr>\n",
       "    <tr>\n",
       "      <th>1337</th>\n",
       "      <td>61</td>\n",
       "      <td>female</td>\n",
       "      <td>29.1</td>\n",
       "      <td>0</td>\n",
       "      <td>yes</td>\n",
       "      <td>northwest</td>\n",
       "      <td>29141.36</td>\n",
       "      <td>4.0</td>\n",
       "    </tr>\n",
       "  </tbody>\n",
       "</table>\n",
       "<p>1338 rows × 8 columns</p>\n",
       "</div>"
      ],
      "text/plain": [
       "      age     sex   bmi  children smoker     region  expenses  age_cat\n",
       "0      19  female  27.9         0    yes  southwest  16884.92      2.0\n",
       "1      18    male  33.8         1     no  southeast   1725.55      1.0\n",
       "2      28    male  33.0         3     no  southeast   4449.46      2.0\n",
       "3      33    male  22.7         0     no  northwest  21984.47      2.0\n",
       "4      32    male  28.9         0     no  northwest   3866.86      2.0\n",
       "...   ...     ...   ...       ...    ...        ...       ...      ...\n",
       "1333   50    male  31.0         3     no  northwest  10600.55      3.0\n",
       "1334   18  female  31.9         0     no  northeast   2205.98      1.0\n",
       "1335   18  female  36.9         0     no  southeast   1629.83      1.0\n",
       "1336   21  female  25.8         0     no  southwest   2007.95      2.0\n",
       "1337   61  female  29.1         0    yes  northwest  29141.36      4.0\n",
       "\n",
       "[1338 rows x 8 columns]"
      ]
     },
     "execution_count": 263,
     "metadata": {},
     "output_type": "execute_result"
    }
   ],
   "source": [
    "medical"
   ]
  },
  {
   "cell_type": "code",
   "execution_count": 264,
   "id": "58f20e69",
   "metadata": {},
   "outputs": [],
   "source": [
    "m1 = medical[medical['age_cat']==1.0].sort_index(ascending = True)"
   ]
  },
  {
   "cell_type": "code",
   "execution_count": 265,
   "id": "76394998",
   "metadata": {},
   "outputs": [
    {
     "data": {
      "text/plain": [
       "array([18], dtype=int64)"
      ]
     },
     "execution_count": 265,
     "metadata": {},
     "output_type": "execute_result"
    }
   ],
   "source": [
    "m1['age'].unique()"
   ]
  },
  {
   "cell_type": "code",
   "execution_count": 266,
   "id": "18aba706",
   "metadata": {},
   "outputs": [
    {
     "data": {
      "text/plain": [
       "18    69\n",
       "Name: age, dtype: int64"
      ]
     },
     "execution_count": 266,
     "metadata": {},
     "output_type": "execute_result"
    }
   ],
   "source": [
    "m1['age'].value_counts()"
   ]
  },
  {
   "cell_type": "code",
   "execution_count": 267,
   "id": "5b20aa3b",
   "metadata": {},
   "outputs": [
    {
     "name": "stderr",
     "output_type": "stream",
     "text": [
      "C:\\Users\\rajde\\anaconda3\\lib\\site-packages\\seaborn\\distributions.py:306: UserWarning: Dataset has 0 variance; skipping density estimate.\n",
      "  warnings.warn(msg, UserWarning)\n"
     ]
    },
    {
     "data": {
      "text/plain": [
       "<AxesSubplot:xlabel='age', ylabel='Count'>"
      ]
     },
     "execution_count": 267,
     "metadata": {},
     "output_type": "execute_result"
    },
    {
     "data": {
      "image/png": "[encoded data removed]",
      "text/plain": [
       "<Figure size 432x288 with 1 Axes>"
      ]
     },
     "metadata": {
      "needs_background": "light"
     },
     "output_type": "display_data"
    }
   ],
   "source": [
    "sns.histplot(x='age',data=m1, kde=True)"
   ]
  },
  {
   "cell_type": "code",
   "execution_count": 268,
   "id": "24726246",
   "metadata": {},
   "outputs": [],
   "source": [
    "m2 = medical[medical['age_cat']==2.0].sort_index(ascending = True)"
   ]
  },
  {
   "cell_type": "code",
   "execution_count": 269,
   "id": "fcb1c973",
   "metadata": {},
   "outputs": [
    {
     "data": {
      "text/plain": [
       "18"
      ]
     },
     "execution_count": 269,
     "metadata": {},
     "output_type": "execute_result"
    }
   ],
   "source": [
    "m2['age'].nunique()"
   ]
  },
  {
   "cell_type": "code",
   "execution_count": 270,
   "id": "44a72e6b",
   "metadata": {},
   "outputs": [
    {
     "data": {
      "text/plain": [
       "array([19, 28, 33, 32, 31, 25, 23, 27, 30, 34, 22, 26, 35, 24, 36, 21, 20,\n",
       "       29], dtype=int64)"
      ]
     },
     "execution_count": 270,
     "metadata": {},
     "output_type": "execute_result"
    }
   ],
   "source": [
    "m2['age'].unique()"
   ]
  },
  {
   "cell_type": "code",
   "execution_count": 271,
   "id": "306e144d",
   "metadata": {},
   "outputs": [
    {
     "data": {
      "text/plain": [
       "19    68\n",
       "20    29\n",
       "25    28\n",
       "27    28\n",
       "26    28\n",
       "28    28\n",
       "24    28\n",
       "23    28\n",
       "22    28\n",
       "21    28\n",
       "29    27\n",
       "30    27\n",
       "31    27\n",
       "32    26\n",
       "33    26\n",
       "34    26\n",
       "35    25\n",
       "36    25\n",
       "Name: age, dtype: int64"
      ]
     },
     "execution_count": 271,
     "metadata": {},
     "output_type": "execute_result"
    }
   ],
   "source": [
    "m2['age'].value_counts()"
   ]
  },
  {
   "cell_type": "code",
   "execution_count": 272,
   "id": "11a52b61",
   "metadata": {},
   "outputs": [
    {
     "data": {
      "text/plain": [
       "<AxesSubplot:xlabel='age', ylabel='Count'>"
      ]
     },
     "execution_count": 272,
     "metadata": {},
     "output_type": "execute_result"
    },
    {
     "data": {
      "image/png": "[encoded data removed]",
      "text/plain": [
       "<Figure size 432x288 with 1 Axes>"
      ]
     },
     "metadata": {
      "needs_background": "light"
     },
     "output_type": "display_data"
    }
   ],
   "source": [
    "sns.histplot(x='age', data=m2, kde=True)"
   ]
  },
  {
   "cell_type": "code",
   "execution_count": 273,
   "id": "36c933ee",
   "metadata": {},
   "outputs": [],
   "source": [
    "m3 = medical[medical['age_cat']==3.0].sort_index(ascending = True)"
   ]
  },
  {
   "cell_type": "code",
   "execution_count": 274,
   "id": "841de2e4",
   "metadata": {},
   "outputs": [
    {
     "data": {
      "text/html": [
       "<div>\n",
       "<style scoped>\n",
       "    .dataframe tbody tr th:only-of-type {\n",
       "        vertical-align: middle;\n",
       "    }\n",
       "\n",
       "    .dataframe tbody tr th {\n",
       "        vertical-align: top;\n",
       "    }\n",
       "\n",
       "    .dataframe thead th {\n",
       "        text-align: right;\n",
       "    }\n",
       "</style>\n",
       "<table border=\"1\" class=\"dataframe\">\n",
       "  <thead>\n",
       "    <tr style=\"text-align: right;\">\n",
       "      <th></th>\n",
       "      <th>age</th>\n",
       "      <th>sex</th>\n",
       "      <th>bmi</th>\n",
       "      <th>children</th>\n",
       "      <th>smoker</th>\n",
       "      <th>region</th>\n",
       "      <th>expenses</th>\n",
       "      <th>age_cat</th>\n",
       "    </tr>\n",
       "  </thead>\n",
       "  <tbody>\n",
       "    <tr>\n",
       "      <th>6</th>\n",
       "      <td>46</td>\n",
       "      <td>female</td>\n",
       "      <td>33.4</td>\n",
       "      <td>1</td>\n",
       "      <td>no</td>\n",
       "      <td>southeast</td>\n",
       "      <td>8240.59</td>\n",
       "      <td>3.0</td>\n",
       "    </tr>\n",
       "    <tr>\n",
       "      <th>7</th>\n",
       "      <td>37</td>\n",
       "      <td>female</td>\n",
       "      <td>27.7</td>\n",
       "      <td>3</td>\n",
       "      <td>no</td>\n",
       "      <td>northwest</td>\n",
       "      <td>7281.51</td>\n",
       "      <td>3.0</td>\n",
       "    </tr>\n",
       "    <tr>\n",
       "      <th>8</th>\n",
       "      <td>37</td>\n",
       "      <td>male</td>\n",
       "      <td>29.8</td>\n",
       "      <td>2</td>\n",
       "      <td>no</td>\n",
       "      <td>northeast</td>\n",
       "      <td>6406.41</td>\n",
       "      <td>3.0</td>\n",
       "    </tr>\n",
       "    <tr>\n",
       "      <th>16</th>\n",
       "      <td>52</td>\n",
       "      <td>female</td>\n",
       "      <td>30.8</td>\n",
       "      <td>1</td>\n",
       "      <td>no</td>\n",
       "      <td>northeast</td>\n",
       "      <td>10797.34</td>\n",
       "      <td>3.0</td>\n",
       "    </tr>\n",
       "    <tr>\n",
       "      <th>24</th>\n",
       "      <td>37</td>\n",
       "      <td>male</td>\n",
       "      <td>28.0</td>\n",
       "      <td>2</td>\n",
       "      <td>no</td>\n",
       "      <td>northwest</td>\n",
       "      <td>6203.90</td>\n",
       "      <td>3.0</td>\n",
       "    </tr>\n",
       "    <tr>\n",
       "      <th>...</th>\n",
       "      <td>...</td>\n",
       "      <td>...</td>\n",
       "      <td>...</td>\n",
       "      <td>...</td>\n",
       "      <td>...</td>\n",
       "      <td>...</td>\n",
       "      <td>...</td>\n",
       "      <td>...</td>\n",
       "    </tr>\n",
       "    <tr>\n",
       "      <th>1326</th>\n",
       "      <td>42</td>\n",
       "      <td>female</td>\n",
       "      <td>32.9</td>\n",
       "      <td>0</td>\n",
       "      <td>no</td>\n",
       "      <td>northeast</td>\n",
       "      <td>7050.02</td>\n",
       "      <td>3.0</td>\n",
       "    </tr>\n",
       "    <tr>\n",
       "      <th>1327</th>\n",
       "      <td>51</td>\n",
       "      <td>male</td>\n",
       "      <td>30.0</td>\n",
       "      <td>1</td>\n",
       "      <td>no</td>\n",
       "      <td>southeast</td>\n",
       "      <td>9377.90</td>\n",
       "      <td>3.0</td>\n",
       "    </tr>\n",
       "    <tr>\n",
       "      <th>1329</th>\n",
       "      <td>52</td>\n",
       "      <td>male</td>\n",
       "      <td>38.6</td>\n",
       "      <td>2</td>\n",
       "      <td>no</td>\n",
       "      <td>southwest</td>\n",
       "      <td>10325.21</td>\n",
       "      <td>3.0</td>\n",
       "    </tr>\n",
       "    <tr>\n",
       "      <th>1332</th>\n",
       "      <td>52</td>\n",
       "      <td>female</td>\n",
       "      <td>44.7</td>\n",
       "      <td>3</td>\n",
       "      <td>no</td>\n",
       "      <td>southwest</td>\n",
       "      <td>11411.69</td>\n",
       "      <td>3.0</td>\n",
       "    </tr>\n",
       "    <tr>\n",
       "      <th>1333</th>\n",
       "      <td>50</td>\n",
       "      <td>male</td>\n",
       "      <td>31.0</td>\n",
       "      <td>3</td>\n",
       "      <td>no</td>\n",
       "      <td>northwest</td>\n",
       "      <td>10600.55</td>\n",
       "      <td>3.0</td>\n",
       "    </tr>\n",
       "  </tbody>\n",
       "</table>\n",
       "<p>497 rows × 8 columns</p>\n",
       "</div>"
      ],
      "text/plain": [
       "      age     sex   bmi  children smoker     region  expenses  age_cat\n",
       "6      46  female  33.4         1     no  southeast   8240.59      3.0\n",
       "7      37  female  27.7         3     no  northwest   7281.51      3.0\n",
       "8      37    male  29.8         2     no  northeast   6406.41      3.0\n",
       "16     52  female  30.8         1     no  northeast  10797.34      3.0\n",
       "24     37    male  28.0         2     no  northwest   6203.90      3.0\n",
       "...   ...     ...   ...       ...    ...        ...       ...      ...\n",
       "1326   42  female  32.9         0     no  northeast   7050.02      3.0\n",
       "1327   51    male  30.0         1     no  southeast   9377.90      3.0\n",
       "1329   52    male  38.6         2     no  southwest  10325.21      3.0\n",
       "1332   52  female  44.7         3     no  southwest  11411.69      3.0\n",
       "1333   50    male  31.0         3     no  northwest  10600.55      3.0\n",
       "\n",
       "[497 rows x 8 columns]"
      ]
     },
     "execution_count": 274,
     "metadata": {},
     "output_type": "execute_result"
    }
   ],
   "source": [
    "m3"
   ]
  },
  {
   "cell_type": "code",
   "execution_count": 275,
   "id": "aade9ee2",
   "metadata": {},
   "outputs": [
    {
     "data": {
      "text/plain": [
       "18"
      ]
     },
     "execution_count": 275,
     "metadata": {},
     "output_type": "execute_result"
    }
   ],
   "source": [
    "m3['age'].nunique()"
   ]
  },
  {
   "cell_type": "code",
   "execution_count": 276,
   "id": "94b51557",
   "metadata": {},
   "outputs": [
    {
     "data": {
      "text/plain": [
       "array([46, 37, 52, 41, 38, 48, 40, 53, 43, 44, 45, 54, 49, 47, 51, 42, 50,\n",
       "       39], dtype=int64)"
      ]
     },
     "execution_count": 276,
     "metadata": {},
     "output_type": "execute_result"
    }
   ],
   "source": [
    "m3['age'].unique()"
   ]
  },
  {
   "cell_type": "code",
   "execution_count": 277,
   "id": "e0b75c68",
   "metadata": {},
   "outputs": [
    {
     "data": {
      "text/plain": [
       "46    29\n",
       "47    29\n",
       "52    29\n",
       "51    29\n",
       "50    29\n",
       "48    29\n",
       "45    29\n",
       "53    28\n",
       "49    28\n",
       "54    28\n",
       "44    27\n",
       "43    27\n",
       "42    27\n",
       "41    27\n",
       "40    27\n",
       "38    25\n",
       "39    25\n",
       "37    25\n",
       "Name: age, dtype: int64"
      ]
     },
     "execution_count": 277,
     "metadata": {},
     "output_type": "execute_result"
    }
   ],
   "source": [
    "m3['age'].value_counts()"
   ]
  },
  {
   "cell_type": "code",
   "execution_count": 278,
   "id": "fdafd573",
   "metadata": {},
   "outputs": [
    {
     "data": {
      "text/plain": [
       "<AxesSubplot:xlabel='age', ylabel='Count'>"
      ]
     },
     "execution_count": 278,
     "metadata": {},
     "output_type": "execute_result"
    },
    {
     "data": {
      "image/png": "[encoded data removed]",
      "text/plain": [
       "<Figure size 432x288 with 1 Axes>"
      ]
     },
     "metadata": {
      "needs_background": "light"
     },
     "output_type": "display_data"
    }
   ],
   "source": [
    "sns.histplot(x='age', data=m3, kde=True)"
   ]
  },
  {
   "cell_type": "code",
   "execution_count": 279,
   "id": "a13aa96c",
   "metadata": {},
   "outputs": [
    {
     "data": {
      "text/plain": [
       "(37, 54)"
      ]
     },
     "execution_count": 279,
     "metadata": {},
     "output_type": "execute_result"
    }
   ],
   "source": [
    "m3['age'].min(), m3['age'].max()"
   ]
  },
  {
   "cell_type": "code",
   "execution_count": 280,
   "id": "642732ba",
   "metadata": {},
   "outputs": [],
   "source": [
    "m4 = medical[medical['age_cat']==4.0]"
   ]
  },
  {
   "cell_type": "code",
   "execution_count": 281,
   "id": "e21d065a",
   "metadata": {},
   "outputs": [
    {
     "data": {
      "text/html": [
       "<div>\n",
       "<style scoped>\n",
       "    .dataframe tbody tr th:only-of-type {\n",
       "        vertical-align: middle;\n",
       "    }\n",
       "\n",
       "    .dataframe tbody tr th {\n",
       "        vertical-align: top;\n",
       "    }\n",
       "\n",
       "    .dataframe thead th {\n",
       "        text-align: right;\n",
       "    }\n",
       "</style>\n",
       "<table border=\"1\" class=\"dataframe\">\n",
       "  <thead>\n",
       "    <tr style=\"text-align: right;\">\n",
       "      <th></th>\n",
       "      <th>age</th>\n",
       "      <th>sex</th>\n",
       "      <th>bmi</th>\n",
       "      <th>children</th>\n",
       "      <th>smoker</th>\n",
       "      <th>region</th>\n",
       "      <th>expenses</th>\n",
       "      <th>age_cat</th>\n",
       "    </tr>\n",
       "  </thead>\n",
       "  <tbody>\n",
       "    <tr>\n",
       "      <th>9</th>\n",
       "      <td>60</td>\n",
       "      <td>female</td>\n",
       "      <td>25.8</td>\n",
       "      <td>0</td>\n",
       "      <td>no</td>\n",
       "      <td>northwest</td>\n",
       "      <td>28923.14</td>\n",
       "      <td>4.0</td>\n",
       "    </tr>\n",
       "    <tr>\n",
       "      <th>11</th>\n",
       "      <td>62</td>\n",
       "      <td>female</td>\n",
       "      <td>26.3</td>\n",
       "      <td>0</td>\n",
       "      <td>yes</td>\n",
       "      <td>southeast</td>\n",
       "      <td>27808.73</td>\n",
       "      <td>4.0</td>\n",
       "    </tr>\n",
       "    <tr>\n",
       "      <th>13</th>\n",
       "      <td>56</td>\n",
       "      <td>female</td>\n",
       "      <td>39.8</td>\n",
       "      <td>0</td>\n",
       "      <td>no</td>\n",
       "      <td>southeast</td>\n",
       "      <td>11090.72</td>\n",
       "      <td>4.0</td>\n",
       "    </tr>\n",
       "    <tr>\n",
       "      <th>18</th>\n",
       "      <td>56</td>\n",
       "      <td>male</td>\n",
       "      <td>40.3</td>\n",
       "      <td>0</td>\n",
       "      <td>no</td>\n",
       "      <td>southwest</td>\n",
       "      <td>10602.39</td>\n",
       "      <td>4.0</td>\n",
       "    </tr>\n",
       "    <tr>\n",
       "      <th>20</th>\n",
       "      <td>60</td>\n",
       "      <td>female</td>\n",
       "      <td>36.0</td>\n",
       "      <td>0</td>\n",
       "      <td>no</td>\n",
       "      <td>northeast</td>\n",
       "      <td>13228.85</td>\n",
       "      <td>4.0</td>\n",
       "    </tr>\n",
       "    <tr>\n",
       "      <th>...</th>\n",
       "      <td>...</td>\n",
       "      <td>...</td>\n",
       "      <td>...</td>\n",
       "      <td>...</td>\n",
       "      <td>...</td>\n",
       "      <td>...</td>\n",
       "      <td>...</td>\n",
       "      <td>...</td>\n",
       "    </tr>\n",
       "    <tr>\n",
       "      <th>1321</th>\n",
       "      <td>62</td>\n",
       "      <td>male</td>\n",
       "      <td>26.7</td>\n",
       "      <td>0</td>\n",
       "      <td>yes</td>\n",
       "      <td>northeast</td>\n",
       "      <td>28101.33</td>\n",
       "      <td>4.0</td>\n",
       "    </tr>\n",
       "    <tr>\n",
       "      <th>1322</th>\n",
       "      <td>62</td>\n",
       "      <td>male</td>\n",
       "      <td>38.8</td>\n",
       "      <td>0</td>\n",
       "      <td>no</td>\n",
       "      <td>southeast</td>\n",
       "      <td>12981.35</td>\n",
       "      <td>4.0</td>\n",
       "    </tr>\n",
       "    <tr>\n",
       "      <th>1325</th>\n",
       "      <td>61</td>\n",
       "      <td>male</td>\n",
       "      <td>33.5</td>\n",
       "      <td>0</td>\n",
       "      <td>no</td>\n",
       "      <td>northeast</td>\n",
       "      <td>13143.34</td>\n",
       "      <td>4.0</td>\n",
       "    </tr>\n",
       "    <tr>\n",
       "      <th>1330</th>\n",
       "      <td>57</td>\n",
       "      <td>female</td>\n",
       "      <td>25.7</td>\n",
       "      <td>2</td>\n",
       "      <td>no</td>\n",
       "      <td>southeast</td>\n",
       "      <td>12629.17</td>\n",
       "      <td>4.0</td>\n",
       "    </tr>\n",
       "    <tr>\n",
       "      <th>1337</th>\n",
       "      <td>61</td>\n",
       "      <td>female</td>\n",
       "      <td>29.1</td>\n",
       "      <td>0</td>\n",
       "      <td>yes</td>\n",
       "      <td>northwest</td>\n",
       "      <td>29141.36</td>\n",
       "      <td>4.0</td>\n",
       "    </tr>\n",
       "  </tbody>\n",
       "</table>\n",
       "<p>242 rows × 8 columns</p>\n",
       "</div>"
      ],
      "text/plain": [
       "      age     sex   bmi  children smoker     region  expenses  age_cat\n",
       "9      60  female  25.8         0     no  northwest  28923.14      4.0\n",
       "11     62  female  26.3         0    yes  southeast  27808.73      4.0\n",
       "13     56  female  39.8         0     no  southeast  11090.72      4.0\n",
       "18     56    male  40.3         0     no  southwest  10602.39      4.0\n",
       "20     60  female  36.0         0     no  northeast  13228.85      4.0\n",
       "...   ...     ...   ...       ...    ...        ...       ...      ...\n",
       "1321   62    male  26.7         0    yes  northeast  28101.33      4.0\n",
       "1322   62    male  38.8         0     no  southeast  12981.35      4.0\n",
       "1325   61    male  33.5         0     no  northeast  13143.34      4.0\n",
       "1330   57  female  25.7         2     no  southeast  12629.17      4.0\n",
       "1337   61  female  29.1         0    yes  northwest  29141.36      4.0\n",
       "\n",
       "[242 rows x 8 columns]"
      ]
     },
     "execution_count": 281,
     "metadata": {},
     "output_type": "execute_result"
    }
   ],
   "source": [
    "m4"
   ]
  },
  {
   "cell_type": "code",
   "execution_count": 282,
   "id": "b5bd968b",
   "metadata": {},
   "outputs": [
    {
     "data": {
      "text/plain": [
       "array([60, 62, 56, 59, 63, 55, 58, 64, 61, 57], dtype=int64)"
      ]
     },
     "execution_count": 282,
     "metadata": {},
     "output_type": "execute_result"
    }
   ],
   "source": [
    "m4['age'].unique()"
   ]
  },
  {
   "cell_type": "code",
   "execution_count": 283,
   "id": "dc689554",
   "metadata": {},
   "outputs": [
    {
     "data": {
      "text/plain": [
       "55    26\n",
       "56    26\n",
       "57    26\n",
       "58    25\n",
       "59    25\n",
       "60    23\n",
       "61    23\n",
       "62    23\n",
       "63    23\n",
       "64    22\n",
       "Name: age, dtype: int64"
      ]
     },
     "execution_count": 283,
     "metadata": {},
     "output_type": "execute_result"
    }
   ],
   "source": [
    "m4['age'].value_counts()"
   ]
  },
  {
   "cell_type": "code",
   "execution_count": 284,
   "id": "ce5f0c6b",
   "metadata": {},
   "outputs": [
    {
     "data": {
      "text/plain": [
       "<AxesSubplot:xlabel='age', ylabel='Count'>"
      ]
     },
     "execution_count": 284,
     "metadata": {},
     "output_type": "execute_result"
    },
    {
     "data": {
      "image/png": "[encoded data removed]",
      "text/plain": [
       "<Figure size 432x288 with 1 Axes>"
      ]
     },
     "metadata": {
      "needs_background": "light"
     },
     "output_type": "display_data"
    }
   ],
   "source": [
    "sns.histplot(x='age', data=m4, kde=True)"
   ]
  },
  {
   "cell_type": "code",
   "execution_count": 285,
   "id": "b8a66667",
   "metadata": {},
   "outputs": [
    {
     "data": {
      "text/plain": [
       "1.0    0.051570\n",
       "2.0    0.396114\n",
       "3.0    0.371450\n",
       "4.0    0.180867\n",
       "Name: age_cat, dtype: float64"
      ]
     },
     "execution_count": 285,
     "metadata": {},
     "output_type": "execute_result"
    }
   ],
   "source": [
    "# Checking for the proportion of each age category in the dataset\n",
    "medical.age_cat.value_counts().sort_index(ascending = True) / len(medical)"
   ]
  },
  {
   "cell_type": "code",
   "execution_count": 286,
   "id": "dd5a9b54",
   "metadata": {},
   "outputs": [],
   "source": [
    "## In age category 2 the count of people is higher than other categories"
   ]
  },
  {
   "cell_type": "markdown",
   "id": "d5708f27",
   "metadata": {},
   "source": [
    "### Similar categorization for BMI as after age expense is impacted by bmi."
   ]
  },
  {
   "cell_type": "code",
   "execution_count": 287,
   "id": "c7d1cd1d",
   "metadata": {},
   "outputs": [
    {
     "data": {
      "text/plain": [
       "16.0"
      ]
     },
     "execution_count": 287,
     "metadata": {},
     "output_type": "execute_result"
    }
   ],
   "source": [
    "np.min(medical.bmi)"
   ]
  },
  {
   "cell_type": "code",
   "execution_count": 288,
   "id": "641033fe",
   "metadata": {},
   "outputs": [
    {
     "data": {
      "text/plain": [
       "53.1"
      ]
     },
     "execution_count": 288,
     "metadata": {},
     "output_type": "execute_result"
    }
   ],
   "source": [
    "np.max(medical.bmi)"
   ]
  },
  {
   "cell_type": "code",
   "execution_count": 289,
   "id": "621326f9",
   "metadata": {},
   "outputs": [
    {
     "data": {
      "text/plain": [
       "275"
      ]
     },
     "execution_count": 289,
     "metadata": {},
     "output_type": "execute_result"
    }
   ],
   "source": [
    "len(medical['bmi'].unique())"
   ]
  },
  {
   "cell_type": "code",
   "execution_count": 290,
   "id": "50df4130",
   "metadata": {},
   "outputs": [],
   "source": [
    "## Similar operation performed on BMI as age to check which category has higher average medical expense "
   ]
  },
  {
   "cell_type": "code",
   "execution_count": 291,
   "id": "80f999c5",
   "metadata": {},
   "outputs": [],
   "source": [
    "medical['bmi_cat']=np.ceil(medical.bmi / 16)"
   ]
  },
  {
   "cell_type": "code",
   "execution_count": 292,
   "id": "e0f1ec96",
   "metadata": {},
   "outputs": [
    {
     "data": {
      "text/plain": [
       "1.0      1\n",
       "2.0    802\n",
       "3.0    530\n",
       "4.0      5\n",
       "Name: bmi_cat, dtype: int64"
      ]
     },
     "execution_count": 292,
     "metadata": {},
     "output_type": "execute_result"
    }
   ],
   "source": [
    "medical.bmi_cat.value_counts().sort_index(ascending=True)"
   ]
  },
  {
   "cell_type": "code",
   "execution_count": 293,
   "id": "7d817f71",
   "metadata": {},
   "outputs": [
    {
     "data": {
      "text/plain": [
       "1.0    0.000747\n",
       "2.0    0.599402\n",
       "3.0    0.396114\n",
       "4.0    0.003737\n",
       "Name: bmi_cat, dtype: float64"
      ]
     },
     "execution_count": 293,
     "metadata": {},
     "output_type": "execute_result"
    }
   ],
   "source": [
    "medical.bmi_cat.value_counts().sort_index(ascending = True) / len(medical)"
   ]
  },
  {
   "cell_type": "code",
   "execution_count": 294,
   "id": "cf23b8c7",
   "metadata": {},
   "outputs": [
    {
     "data": {
      "text/html": [
       "<div>\n",
       "<style scoped>\n",
       "    .dataframe tbody tr th:only-of-type {\n",
       "        vertical-align: middle;\n",
       "    }\n",
       "\n",
       "    .dataframe tbody tr th {\n",
       "        vertical-align: top;\n",
       "    }\n",
       "\n",
       "    .dataframe thead th {\n",
       "        text-align: right;\n",
       "    }\n",
       "</style>\n",
       "<table border=\"1\" class=\"dataframe\">\n",
       "  <thead>\n",
       "    <tr style=\"text-align: right;\">\n",
       "      <th></th>\n",
       "      <th>age</th>\n",
       "      <th>sex</th>\n",
       "      <th>bmi</th>\n",
       "      <th>children</th>\n",
       "      <th>smoker</th>\n",
       "      <th>region</th>\n",
       "      <th>expenses</th>\n",
       "      <th>age_cat</th>\n",
       "      <th>bmi_cat</th>\n",
       "    </tr>\n",
       "  </thead>\n",
       "  <tbody>\n",
       "    <tr>\n",
       "      <th>0</th>\n",
       "      <td>19</td>\n",
       "      <td>female</td>\n",
       "      <td>27.9</td>\n",
       "      <td>0</td>\n",
       "      <td>yes</td>\n",
       "      <td>southwest</td>\n",
       "      <td>16884.92</td>\n",
       "      <td>2.0</td>\n",
       "      <td>2.0</td>\n",
       "    </tr>\n",
       "    <tr>\n",
       "      <th>1</th>\n",
       "      <td>18</td>\n",
       "      <td>male</td>\n",
       "      <td>33.8</td>\n",
       "      <td>1</td>\n",
       "      <td>no</td>\n",
       "      <td>southeast</td>\n",
       "      <td>1725.55</td>\n",
       "      <td>1.0</td>\n",
       "      <td>3.0</td>\n",
       "    </tr>\n",
       "    <tr>\n",
       "      <th>2</th>\n",
       "      <td>28</td>\n",
       "      <td>male</td>\n",
       "      <td>33.0</td>\n",
       "      <td>3</td>\n",
       "      <td>no</td>\n",
       "      <td>southeast</td>\n",
       "      <td>4449.46</td>\n",
       "      <td>2.0</td>\n",
       "      <td>3.0</td>\n",
       "    </tr>\n",
       "    <tr>\n",
       "      <th>3</th>\n",
       "      <td>33</td>\n",
       "      <td>male</td>\n",
       "      <td>22.7</td>\n",
       "      <td>0</td>\n",
       "      <td>no</td>\n",
       "      <td>northwest</td>\n",
       "      <td>21984.47</td>\n",
       "      <td>2.0</td>\n",
       "      <td>2.0</td>\n",
       "    </tr>\n",
       "    <tr>\n",
       "      <th>4</th>\n",
       "      <td>32</td>\n",
       "      <td>male</td>\n",
       "      <td>28.9</td>\n",
       "      <td>0</td>\n",
       "      <td>no</td>\n",
       "      <td>northwest</td>\n",
       "      <td>3866.86</td>\n",
       "      <td>2.0</td>\n",
       "      <td>2.0</td>\n",
       "    </tr>\n",
       "    <tr>\n",
       "      <th>...</th>\n",
       "      <td>...</td>\n",
       "      <td>...</td>\n",
       "      <td>...</td>\n",
       "      <td>...</td>\n",
       "      <td>...</td>\n",
       "      <td>...</td>\n",
       "      <td>...</td>\n",
       "      <td>...</td>\n",
       "      <td>...</td>\n",
       "    </tr>\n",
       "    <tr>\n",
       "      <th>1333</th>\n",
       "      <td>50</td>\n",
       "      <td>male</td>\n",
       "      <td>31.0</td>\n",
       "      <td>3</td>\n",
       "      <td>no</td>\n",
       "      <td>northwest</td>\n",
       "      <td>10600.55</td>\n",
       "      <td>3.0</td>\n",
       "      <td>2.0</td>\n",
       "    </tr>\n",
       "    <tr>\n",
       "      <th>1334</th>\n",
       "      <td>18</td>\n",
       "      <td>female</td>\n",
       "      <td>31.9</td>\n",
       "      <td>0</td>\n",
       "      <td>no</td>\n",
       "      <td>northeast</td>\n",
       "      <td>2205.98</td>\n",
       "      <td>1.0</td>\n",
       "      <td>2.0</td>\n",
       "    </tr>\n",
       "    <tr>\n",
       "      <th>1335</th>\n",
       "      <td>18</td>\n",
       "      <td>female</td>\n",
       "      <td>36.9</td>\n",
       "      <td>0</td>\n",
       "      <td>no</td>\n",
       "      <td>southeast</td>\n",
       "      <td>1629.83</td>\n",
       "      <td>1.0</td>\n",
       "      <td>3.0</td>\n",
       "    </tr>\n",
       "    <tr>\n",
       "      <th>1336</th>\n",
       "      <td>21</td>\n",
       "      <td>female</td>\n",
       "      <td>25.8</td>\n",
       "      <td>0</td>\n",
       "      <td>no</td>\n",
       "      <td>southwest</td>\n",
       "      <td>2007.95</td>\n",
       "      <td>2.0</td>\n",
       "      <td>2.0</td>\n",
       "    </tr>\n",
       "    <tr>\n",
       "      <th>1337</th>\n",
       "      <td>61</td>\n",
       "      <td>female</td>\n",
       "      <td>29.1</td>\n",
       "      <td>0</td>\n",
       "      <td>yes</td>\n",
       "      <td>northwest</td>\n",
       "      <td>29141.36</td>\n",
       "      <td>4.0</td>\n",
       "      <td>2.0</td>\n",
       "    </tr>\n",
       "  </tbody>\n",
       "</table>\n",
       "<p>1338 rows × 9 columns</p>\n",
       "</div>"
      ],
      "text/plain": [
       "      age     sex   bmi  children smoker     region  expenses  age_cat  \\\n",
       "0      19  female  27.9         0    yes  southwest  16884.92      2.0   \n",
       "1      18    male  33.8         1     no  southeast   1725.55      1.0   \n",
       "2      28    male  33.0         3     no  southeast   4449.46      2.0   \n",
       "3      33    male  22.7         0     no  northwest  21984.47      2.0   \n",
       "4      32    male  28.9         0     no  northwest   3866.86      2.0   \n",
       "...   ...     ...   ...       ...    ...        ...       ...      ...   \n",
       "1333   50    male  31.0         3     no  northwest  10600.55      3.0   \n",
       "1334   18  female  31.9         0     no  northeast   2205.98      1.0   \n",
       "1335   18  female  36.9         0     no  southeast   1629.83      1.0   \n",
       "1336   21  female  25.8         0     no  southwest   2007.95      2.0   \n",
       "1337   61  female  29.1         0    yes  northwest  29141.36      4.0   \n",
       "\n",
       "      bmi_cat  \n",
       "0         2.0  \n",
       "1         3.0  \n",
       "2         3.0  \n",
       "3         2.0  \n",
       "4         2.0  \n",
       "...       ...  \n",
       "1333      2.0  \n",
       "1334      2.0  \n",
       "1335      3.0  \n",
       "1336      2.0  \n",
       "1337      2.0  \n",
       "\n",
       "[1338 rows x 9 columns]"
      ]
     },
     "execution_count": 294,
     "metadata": {},
     "output_type": "execute_result"
    }
   ],
   "source": [
    "medical"
   ]
  },
  {
   "cell_type": "code",
   "execution_count": 295,
   "id": "26ebedb8",
   "metadata": {},
   "outputs": [],
   "source": [
    "b1 = medical[medical['bmi_cat']==1.0]"
   ]
  },
  {
   "cell_type": "code",
   "execution_count": 296,
   "id": "3e27f275",
   "metadata": {},
   "outputs": [
    {
     "data": {
      "text/html": [
       "<div>\n",
       "<style scoped>\n",
       "    .dataframe tbody tr th:only-of-type {\n",
       "        vertical-align: middle;\n",
       "    }\n",
       "\n",
       "    .dataframe tbody tr th {\n",
       "        vertical-align: top;\n",
       "    }\n",
       "\n",
       "    .dataframe thead th {\n",
       "        text-align: right;\n",
       "    }\n",
       "</style>\n",
       "<table border=\"1\" class=\"dataframe\">\n",
       "  <thead>\n",
       "    <tr style=\"text-align: right;\">\n",
       "      <th></th>\n",
       "      <th>age</th>\n",
       "      <th>sex</th>\n",
       "      <th>bmi</th>\n",
       "      <th>children</th>\n",
       "      <th>smoker</th>\n",
       "      <th>region</th>\n",
       "      <th>expenses</th>\n",
       "      <th>age_cat</th>\n",
       "      <th>bmi_cat</th>\n",
       "    </tr>\n",
       "  </thead>\n",
       "  <tbody>\n",
       "    <tr>\n",
       "      <th>172</th>\n",
       "      <td>18</td>\n",
       "      <td>male</td>\n",
       "      <td>16.0</td>\n",
       "      <td>0</td>\n",
       "      <td>no</td>\n",
       "      <td>northeast</td>\n",
       "      <td>1694.8</td>\n",
       "      <td>1.0</td>\n",
       "      <td>1.0</td>\n",
       "    </tr>\n",
       "  </tbody>\n",
       "</table>\n",
       "</div>"
      ],
      "text/plain": [
       "     age   sex   bmi  children smoker     region  expenses  age_cat  bmi_cat\n",
       "172   18  male  16.0         0     no  northeast    1694.8      1.0      1.0"
      ]
     },
     "execution_count": 296,
     "metadata": {},
     "output_type": "execute_result"
    }
   ],
   "source": [
    "b1"
   ]
  },
  {
   "cell_type": "code",
   "execution_count": 297,
   "id": "e00d34cf",
   "metadata": {},
   "outputs": [
    {
     "data": {
      "text/plain": [
       "1"
      ]
     },
     "execution_count": 297,
     "metadata": {},
     "output_type": "execute_result"
    }
   ],
   "source": [
    "b1['bmi'].nunique()"
   ]
  },
  {
   "cell_type": "code",
   "execution_count": 298,
   "id": "428a5846",
   "metadata": {},
   "outputs": [
    {
     "data": {
      "text/plain": [
       "16.0    1\n",
       "Name: bmi, dtype: int64"
      ]
     },
     "execution_count": 298,
     "metadata": {},
     "output_type": "execute_result"
    }
   ],
   "source": [
    "b1['bmi'].value_counts()"
   ]
  },
  {
   "cell_type": "code",
   "execution_count": 299,
   "id": "20d6c102",
   "metadata": {},
   "outputs": [],
   "source": [
    "b2 = medical[medical['bmi_cat']==2.0]"
   ]
  },
  {
   "cell_type": "code",
   "execution_count": 300,
   "id": "cb860e5c",
   "metadata": {},
   "outputs": [
    {
     "data": {
      "text/html": [
       "<div>\n",
       "<style scoped>\n",
       "    .dataframe tbody tr th:only-of-type {\n",
       "        vertical-align: middle;\n",
       "    }\n",
       "\n",
       "    .dataframe tbody tr th {\n",
       "        vertical-align: top;\n",
       "    }\n",
       "\n",
       "    .dataframe thead th {\n",
       "        text-align: right;\n",
       "    }\n",
       "</style>\n",
       "<table border=\"1\" class=\"dataframe\">\n",
       "  <thead>\n",
       "    <tr style=\"text-align: right;\">\n",
       "      <th></th>\n",
       "      <th>age</th>\n",
       "      <th>sex</th>\n",
       "      <th>bmi</th>\n",
       "      <th>children</th>\n",
       "      <th>smoker</th>\n",
       "      <th>region</th>\n",
       "      <th>expenses</th>\n",
       "      <th>age_cat</th>\n",
       "      <th>bmi_cat</th>\n",
       "    </tr>\n",
       "  </thead>\n",
       "  <tbody>\n",
       "    <tr>\n",
       "      <th>0</th>\n",
       "      <td>19</td>\n",
       "      <td>female</td>\n",
       "      <td>27.9</td>\n",
       "      <td>0</td>\n",
       "      <td>yes</td>\n",
       "      <td>southwest</td>\n",
       "      <td>16884.92</td>\n",
       "      <td>2.0</td>\n",
       "      <td>2.0</td>\n",
       "    </tr>\n",
       "    <tr>\n",
       "      <th>3</th>\n",
       "      <td>33</td>\n",
       "      <td>male</td>\n",
       "      <td>22.7</td>\n",
       "      <td>0</td>\n",
       "      <td>no</td>\n",
       "      <td>northwest</td>\n",
       "      <td>21984.47</td>\n",
       "      <td>2.0</td>\n",
       "      <td>2.0</td>\n",
       "    </tr>\n",
       "    <tr>\n",
       "      <th>4</th>\n",
       "      <td>32</td>\n",
       "      <td>male</td>\n",
       "      <td>28.9</td>\n",
       "      <td>0</td>\n",
       "      <td>no</td>\n",
       "      <td>northwest</td>\n",
       "      <td>3866.86</td>\n",
       "      <td>2.0</td>\n",
       "      <td>2.0</td>\n",
       "    </tr>\n",
       "    <tr>\n",
       "      <th>5</th>\n",
       "      <td>31</td>\n",
       "      <td>female</td>\n",
       "      <td>25.7</td>\n",
       "      <td>0</td>\n",
       "      <td>no</td>\n",
       "      <td>southeast</td>\n",
       "      <td>3756.62</td>\n",
       "      <td>2.0</td>\n",
       "      <td>2.0</td>\n",
       "    </tr>\n",
       "    <tr>\n",
       "      <th>7</th>\n",
       "      <td>37</td>\n",
       "      <td>female</td>\n",
       "      <td>27.7</td>\n",
       "      <td>3</td>\n",
       "      <td>no</td>\n",
       "      <td>northwest</td>\n",
       "      <td>7281.51</td>\n",
       "      <td>3.0</td>\n",
       "      <td>2.0</td>\n",
       "    </tr>\n",
       "    <tr>\n",
       "      <th>...</th>\n",
       "      <td>...</td>\n",
       "      <td>...</td>\n",
       "      <td>...</td>\n",
       "      <td>...</td>\n",
       "      <td>...</td>\n",
       "      <td>...</td>\n",
       "      <td>...</td>\n",
       "      <td>...</td>\n",
       "      <td>...</td>\n",
       "    </tr>\n",
       "    <tr>\n",
       "      <th>1330</th>\n",
       "      <td>57</td>\n",
       "      <td>female</td>\n",
       "      <td>25.7</td>\n",
       "      <td>2</td>\n",
       "      <td>no</td>\n",
       "      <td>southeast</td>\n",
       "      <td>12629.17</td>\n",
       "      <td>4.0</td>\n",
       "      <td>2.0</td>\n",
       "    </tr>\n",
       "    <tr>\n",
       "      <th>1333</th>\n",
       "      <td>50</td>\n",
       "      <td>male</td>\n",
       "      <td>31.0</td>\n",
       "      <td>3</td>\n",
       "      <td>no</td>\n",
       "      <td>northwest</td>\n",
       "      <td>10600.55</td>\n",
       "      <td>3.0</td>\n",
       "      <td>2.0</td>\n",
       "    </tr>\n",
       "    <tr>\n",
       "      <th>1334</th>\n",
       "      <td>18</td>\n",
       "      <td>female</td>\n",
       "      <td>31.9</td>\n",
       "      <td>0</td>\n",
       "      <td>no</td>\n",
       "      <td>northeast</td>\n",
       "      <td>2205.98</td>\n",
       "      <td>1.0</td>\n",
       "      <td>2.0</td>\n",
       "    </tr>\n",
       "    <tr>\n",
       "      <th>1336</th>\n",
       "      <td>21</td>\n",
       "      <td>female</td>\n",
       "      <td>25.8</td>\n",
       "      <td>0</td>\n",
       "      <td>no</td>\n",
       "      <td>southwest</td>\n",
       "      <td>2007.95</td>\n",
       "      <td>2.0</td>\n",
       "      <td>2.0</td>\n",
       "    </tr>\n",
       "    <tr>\n",
       "      <th>1337</th>\n",
       "      <td>61</td>\n",
       "      <td>female</td>\n",
       "      <td>29.1</td>\n",
       "      <td>0</td>\n",
       "      <td>yes</td>\n",
       "      <td>northwest</td>\n",
       "      <td>29141.36</td>\n",
       "      <td>4.0</td>\n",
       "      <td>2.0</td>\n",
       "    </tr>\n",
       "  </tbody>\n",
       "</table>\n",
       "<p>802 rows × 9 columns</p>\n",
       "</div>"
      ],
      "text/plain": [
       "      age     sex   bmi  children smoker     region  expenses  age_cat  \\\n",
       "0      19  female  27.9         0    yes  southwest  16884.92      2.0   \n",
       "3      33    male  22.7         0     no  northwest  21984.47      2.0   \n",
       "4      32    male  28.9         0     no  northwest   3866.86      2.0   \n",
       "5      31  female  25.7         0     no  southeast   3756.62      2.0   \n",
       "7      37  female  27.7         3     no  northwest   7281.51      3.0   \n",
       "...   ...     ...   ...       ...    ...        ...       ...      ...   \n",
       "1330   57  female  25.7         2     no  southeast  12629.17      4.0   \n",
       "1333   50    male  31.0         3     no  northwest  10600.55      3.0   \n",
       "1334   18  female  31.9         0     no  northeast   2205.98      1.0   \n",
       "1336   21  female  25.8         0     no  southwest   2007.95      2.0   \n",
       "1337   61  female  29.1         0    yes  northwest  29141.36      4.0   \n",
       "\n",
       "      bmi_cat  \n",
       "0         2.0  \n",
       "3         2.0  \n",
       "4         2.0  \n",
       "5         2.0  \n",
       "7         2.0  \n",
       "...       ...  \n",
       "1330      2.0  \n",
       "1333      2.0  \n",
       "1334      2.0  \n",
       "1336      2.0  \n",
       "1337      2.0  \n",
       "\n",
       "[802 rows x 9 columns]"
      ]
     },
     "execution_count": 300,
     "metadata": {},
     "output_type": "execute_result"
    }
   ],
   "source": [
    "b2"
   ]
  },
  {
   "cell_type": "code",
   "execution_count": 301,
   "id": "504fddcf",
   "metadata": {},
   "outputs": [
    {
     "data": {
      "text/plain": [
       "143"
      ]
     },
     "execution_count": 301,
     "metadata": {},
     "output_type": "execute_result"
    }
   ],
   "source": [
    "b2['bmi'].nunique()"
   ]
  },
  {
   "cell_type": "code",
   "execution_count": 302,
   "id": "439b27ef",
   "metadata": {},
   "outputs": [
    {
     "data": {
      "text/plain": [
       "(16.8, 32.0)"
      ]
     },
     "execution_count": 302,
     "metadata": {},
     "output_type": "execute_result"
    }
   ],
   "source": [
    "# checking the min and max value of bmi category 2.0\n",
    "b2['bmi'].min(), b2['bmi'].max()"
   ]
  },
  {
   "cell_type": "code",
   "execution_count": 303,
   "id": "20a9412c",
   "metadata": {},
   "outputs": [
    {
     "data": {
      "text/plain": [
       "<AxesSubplot:xlabel='bmi', ylabel='Count'>"
      ]
     },
     "execution_count": 303,
     "metadata": {},
     "output_type": "execute_result"
    },
    {
     "data": {
      "image/png": "[encoded data removed]",
      "text/plain": [
       "<Figure size 432x288 with 1 Axes>"
      ]
     },
     "metadata": {
      "needs_background": "light"
     },
     "output_type": "display_data"
    }
   ],
   "source": [
    "sns.histplot(x='bmi',data=b2, kde=True)"
   ]
  },
  {
   "cell_type": "code",
   "execution_count": 304,
   "id": "a732f097",
   "metadata": {},
   "outputs": [],
   "source": [
    "b3 = medical[medical['bmi_cat']==3.0]"
   ]
  },
  {
   "cell_type": "code",
   "execution_count": 305,
   "id": "17cbcf11",
   "metadata": {},
   "outputs": [
    {
     "data": {
      "text/html": [
       "<div>\n",
       "<style scoped>\n",
       "    .dataframe tbody tr th:only-of-type {\n",
       "        vertical-align: middle;\n",
       "    }\n",
       "\n",
       "    .dataframe tbody tr th {\n",
       "        vertical-align: top;\n",
       "    }\n",
       "\n",
       "    .dataframe thead th {\n",
       "        text-align: right;\n",
       "    }\n",
       "</style>\n",
       "<table border=\"1\" class=\"dataframe\">\n",
       "  <thead>\n",
       "    <tr style=\"text-align: right;\">\n",
       "      <th></th>\n",
       "      <th>age</th>\n",
       "      <th>sex</th>\n",
       "      <th>bmi</th>\n",
       "      <th>children</th>\n",
       "      <th>smoker</th>\n",
       "      <th>region</th>\n",
       "      <th>expenses</th>\n",
       "      <th>age_cat</th>\n",
       "      <th>bmi_cat</th>\n",
       "    </tr>\n",
       "  </thead>\n",
       "  <tbody>\n",
       "    <tr>\n",
       "      <th>1</th>\n",
       "      <td>18</td>\n",
       "      <td>male</td>\n",
       "      <td>33.8</td>\n",
       "      <td>1</td>\n",
       "      <td>no</td>\n",
       "      <td>southeast</td>\n",
       "      <td>1725.55</td>\n",
       "      <td>1.0</td>\n",
       "      <td>3.0</td>\n",
       "    </tr>\n",
       "    <tr>\n",
       "      <th>2</th>\n",
       "      <td>28</td>\n",
       "      <td>male</td>\n",
       "      <td>33.0</td>\n",
       "      <td>3</td>\n",
       "      <td>no</td>\n",
       "      <td>southeast</td>\n",
       "      <td>4449.46</td>\n",
       "      <td>2.0</td>\n",
       "      <td>3.0</td>\n",
       "    </tr>\n",
       "    <tr>\n",
       "      <th>6</th>\n",
       "      <td>46</td>\n",
       "      <td>female</td>\n",
       "      <td>33.4</td>\n",
       "      <td>1</td>\n",
       "      <td>no</td>\n",
       "      <td>southeast</td>\n",
       "      <td>8240.59</td>\n",
       "      <td>3.0</td>\n",
       "      <td>3.0</td>\n",
       "    </tr>\n",
       "    <tr>\n",
       "      <th>12</th>\n",
       "      <td>23</td>\n",
       "      <td>male</td>\n",
       "      <td>34.4</td>\n",
       "      <td>0</td>\n",
       "      <td>no</td>\n",
       "      <td>southwest</td>\n",
       "      <td>1826.84</td>\n",
       "      <td>2.0</td>\n",
       "      <td>3.0</td>\n",
       "    </tr>\n",
       "    <tr>\n",
       "      <th>13</th>\n",
       "      <td>56</td>\n",
       "      <td>female</td>\n",
       "      <td>39.8</td>\n",
       "      <td>0</td>\n",
       "      <td>no</td>\n",
       "      <td>southeast</td>\n",
       "      <td>11090.72</td>\n",
       "      <td>4.0</td>\n",
       "      <td>3.0</td>\n",
       "    </tr>\n",
       "    <tr>\n",
       "      <th>...</th>\n",
       "      <td>...</td>\n",
       "      <td>...</td>\n",
       "      <td>...</td>\n",
       "      <td>...</td>\n",
       "      <td>...</td>\n",
       "      <td>...</td>\n",
       "      <td>...</td>\n",
       "      <td>...</td>\n",
       "      <td>...</td>\n",
       "    </tr>\n",
       "    <tr>\n",
       "      <th>1326</th>\n",
       "      <td>42</td>\n",
       "      <td>female</td>\n",
       "      <td>32.9</td>\n",
       "      <td>0</td>\n",
       "      <td>no</td>\n",
       "      <td>northeast</td>\n",
       "      <td>7050.02</td>\n",
       "      <td>3.0</td>\n",
       "      <td>3.0</td>\n",
       "    </tr>\n",
       "    <tr>\n",
       "      <th>1329</th>\n",
       "      <td>52</td>\n",
       "      <td>male</td>\n",
       "      <td>38.6</td>\n",
       "      <td>2</td>\n",
       "      <td>no</td>\n",
       "      <td>southwest</td>\n",
       "      <td>10325.21</td>\n",
       "      <td>3.0</td>\n",
       "      <td>3.0</td>\n",
       "    </tr>\n",
       "    <tr>\n",
       "      <th>1331</th>\n",
       "      <td>23</td>\n",
       "      <td>female</td>\n",
       "      <td>33.4</td>\n",
       "      <td>0</td>\n",
       "      <td>no</td>\n",
       "      <td>southwest</td>\n",
       "      <td>10795.94</td>\n",
       "      <td>2.0</td>\n",
       "      <td>3.0</td>\n",
       "    </tr>\n",
       "    <tr>\n",
       "      <th>1332</th>\n",
       "      <td>52</td>\n",
       "      <td>female</td>\n",
       "      <td>44.7</td>\n",
       "      <td>3</td>\n",
       "      <td>no</td>\n",
       "      <td>southwest</td>\n",
       "      <td>11411.69</td>\n",
       "      <td>3.0</td>\n",
       "      <td>3.0</td>\n",
       "    </tr>\n",
       "    <tr>\n",
       "      <th>1335</th>\n",
       "      <td>18</td>\n",
       "      <td>female</td>\n",
       "      <td>36.9</td>\n",
       "      <td>0</td>\n",
       "      <td>no</td>\n",
       "      <td>southeast</td>\n",
       "      <td>1629.83</td>\n",
       "      <td>1.0</td>\n",
       "      <td>3.0</td>\n",
       "    </tr>\n",
       "  </tbody>\n",
       "</table>\n",
       "<p>530 rows × 9 columns</p>\n",
       "</div>"
      ],
      "text/plain": [
       "      age     sex   bmi  children smoker     region  expenses  age_cat  \\\n",
       "1      18    male  33.8         1     no  southeast   1725.55      1.0   \n",
       "2      28    male  33.0         3     no  southeast   4449.46      2.0   \n",
       "6      46  female  33.4         1     no  southeast   8240.59      3.0   \n",
       "12     23    male  34.4         0     no  southwest   1826.84      2.0   \n",
       "13     56  female  39.8         0     no  southeast  11090.72      4.0   \n",
       "...   ...     ...   ...       ...    ...        ...       ...      ...   \n",
       "1326   42  female  32.9         0     no  northeast   7050.02      3.0   \n",
       "1329   52    male  38.6         2     no  southwest  10325.21      3.0   \n",
       "1331   23  female  33.4         0     no  southwest  10795.94      2.0   \n",
       "1332   52  female  44.7         3     no  southwest  11411.69      3.0   \n",
       "1335   18  female  36.9         0     no  southeast   1629.83      1.0   \n",
       "\n",
       "      bmi_cat  \n",
       "1         3.0  \n",
       "2         3.0  \n",
       "6         3.0  \n",
       "12        3.0  \n",
       "13        3.0  \n",
       "...       ...  \n",
       "1326      3.0  \n",
       "1329      3.0  \n",
       "1331      3.0  \n",
       "1332      3.0  \n",
       "1335      3.0  \n",
       "\n",
       "[530 rows x 9 columns]"
      ]
     },
     "execution_count": 305,
     "metadata": {},
     "output_type": "execute_result"
    }
   ],
   "source": [
    "b3"
   ]
  },
  {
   "cell_type": "code",
   "execution_count": 306,
   "id": "93a2e8bf",
   "metadata": {},
   "outputs": [
    {
     "data": {
      "text/plain": [
       "126"
      ]
     },
     "execution_count": 306,
     "metadata": {},
     "output_type": "execute_result"
    }
   ],
   "source": [
    "b3['bmi'].nunique()"
   ]
  },
  {
   "cell_type": "code",
   "execution_count": 307,
   "id": "93f1bb76",
   "metadata": {},
   "outputs": [
    {
     "data": {
      "text/plain": [
       "(32.1, 47.7)"
      ]
     },
     "execution_count": 307,
     "metadata": {},
     "output_type": "execute_result"
    }
   ],
   "source": [
    "# checking the min and max value of bmi category 2.0\n",
    "b3['bmi'].min(), b3['bmi'].max()"
   ]
  },
  {
   "cell_type": "code",
   "execution_count": 308,
   "id": "397cd141",
   "metadata": {},
   "outputs": [
    {
     "data": {
      "text/plain": [
       "array([33.8, 33. , 33.4, 34.4, 39.8, 42.1, 40.3, 35.3, 36. , 32.4, 34.1,\n",
       "       32.8, 36.3, 35.6, 36.4, 36.7, 39.9, 36.6, 37.1, 37.3, 38.7, 34.8,\n",
       "       35.2, 33.6, 37. , 33.7, 39.1, 36.2, 34. , 35.5, 38.3, 37.6, 41.2,\n",
       "       39.5, 35.1, 35.7, 32.2, 33.9, 37.4, 34.7, 35.9, 32.5, 38.8, 37.7,\n",
       "       36.9, 39.6, 33.2, 41.5, 33.3, 41.9, 32.1, 39.3, 36.1, 38.1, 38.4,\n",
       "       34.2, 40.2, 42.4, 40.6, 36.8, 45.5, 37.5, 38. , 34.9, 33.1, 40.9,\n",
       "       36.5, 34.5, 32.3, 35.8, 43.9, 32.9, 43.3, 38.2, 47.5, 39.2, 46.8,\n",
       "       32.7, 33.5, 43. , 38.6, 46.5, 32.6, 41.3, 34.3, 43.4, 44.2, 39.4,\n",
       "       40.5, 38.9, 47.4, 35.4, 46.7, 46.2, 44.8, 43.1, 45.4, 37.8, 42.5,\n",
       "       39. , 39.7, 35. , 42.7, 40.8, 41.7, 44.7, 40.7, 37.9, 34.6, 41.1,\n",
       "       41.8, 42.2, 41.4, 42.9, 47.6, 43.7, 44. , 37.2, 46.1, 40. , 45.3,\n",
       "       47.7, 42.8, 45.9, 44.9, 40.4])"
      ]
     },
     "execution_count": 308,
     "metadata": {},
     "output_type": "execute_result"
    }
   ],
   "source": [
    "b3['bmi'].unique()"
   ]
  },
  {
   "cell_type": "code",
   "execution_count": 309,
   "id": "6904ad08",
   "metadata": {},
   "outputs": [
    {
     "data": {
      "text/plain": [
       "33.3    17\n",
       "32.3    15\n",
       "37.1    13\n",
       "34.1    12\n",
       "32.8    11\n",
       "        ..\n",
       "45.4     1\n",
       "44.0     1\n",
       "42.2     1\n",
       "40.7     1\n",
       "44.9     1\n",
       "Name: bmi, Length: 126, dtype: int64"
      ]
     },
     "execution_count": 309,
     "metadata": {},
     "output_type": "execute_result"
    }
   ],
   "source": [
    "b3['bmi'].value_counts()"
   ]
  },
  {
   "cell_type": "code",
   "execution_count": 310,
   "id": "685924af",
   "metadata": {},
   "outputs": [
    {
     "data": {
      "text/plain": [
       "<AxesSubplot:xlabel='bmi', ylabel='Count'>"
      ]
     },
     "execution_count": 310,
     "metadata": {},
     "output_type": "execute_result"
    },
    {
     "data": {
      "image/png": "[encoded data removed]",
      "text/plain": [
       "<Figure size 432x288 with 1 Axes>"
      ]
     },
     "metadata": {
      "needs_background": "light"
     },
     "output_type": "display_data"
    }
   ],
   "source": [
    "sns.histplot(x='bmi',data=b3,kde=True)"
   ]
  },
  {
   "cell_type": "code",
   "execution_count": 311,
   "id": "9eea8943",
   "metadata": {},
   "outputs": [],
   "source": [
    "b4 = medical[medical['bmi_cat']==4.0]"
   ]
  },
  {
   "cell_type": "code",
   "execution_count": 312,
   "id": "a0385655",
   "metadata": {},
   "outputs": [
    {
     "data": {
      "text/html": [
       "<div>\n",
       "<style scoped>\n",
       "    .dataframe tbody tr th:only-of-type {\n",
       "        vertical-align: middle;\n",
       "    }\n",
       "\n",
       "    .dataframe tbody tr th {\n",
       "        vertical-align: top;\n",
       "    }\n",
       "\n",
       "    .dataframe thead th {\n",
       "        text-align: right;\n",
       "    }\n",
       "</style>\n",
       "<table border=\"1\" class=\"dataframe\">\n",
       "  <thead>\n",
       "    <tr style=\"text-align: right;\">\n",
       "      <th></th>\n",
       "      <th>age</th>\n",
       "      <th>sex</th>\n",
       "      <th>bmi</th>\n",
       "      <th>children</th>\n",
       "      <th>smoker</th>\n",
       "      <th>region</th>\n",
       "      <th>expenses</th>\n",
       "      <th>age_cat</th>\n",
       "      <th>bmi_cat</th>\n",
       "    </tr>\n",
       "  </thead>\n",
       "  <tbody>\n",
       "    <tr>\n",
       "      <th>116</th>\n",
       "      <td>58</td>\n",
       "      <td>male</td>\n",
       "      <td>49.1</td>\n",
       "      <td>0</td>\n",
       "      <td>no</td>\n",
       "      <td>southeast</td>\n",
       "      <td>11381.33</td>\n",
       "      <td>4.0</td>\n",
       "      <td>4.0</td>\n",
       "    </tr>\n",
       "    <tr>\n",
       "      <th>286</th>\n",
       "      <td>46</td>\n",
       "      <td>female</td>\n",
       "      <td>48.1</td>\n",
       "      <td>2</td>\n",
       "      <td>no</td>\n",
       "      <td>northeast</td>\n",
       "      <td>9432.93</td>\n",
       "      <td>3.0</td>\n",
       "      <td>4.0</td>\n",
       "    </tr>\n",
       "    <tr>\n",
       "      <th>847</th>\n",
       "      <td>23</td>\n",
       "      <td>male</td>\n",
       "      <td>50.4</td>\n",
       "      <td>1</td>\n",
       "      <td>no</td>\n",
       "      <td>southeast</td>\n",
       "      <td>2438.06</td>\n",
       "      <td>2.0</td>\n",
       "      <td>4.0</td>\n",
       "    </tr>\n",
       "    <tr>\n",
       "      <th>1047</th>\n",
       "      <td>22</td>\n",
       "      <td>male</td>\n",
       "      <td>52.6</td>\n",
       "      <td>1</td>\n",
       "      <td>yes</td>\n",
       "      <td>southeast</td>\n",
       "      <td>44501.40</td>\n",
       "      <td>2.0</td>\n",
       "      <td>4.0</td>\n",
       "    </tr>\n",
       "    <tr>\n",
       "      <th>1317</th>\n",
       "      <td>18</td>\n",
       "      <td>male</td>\n",
       "      <td>53.1</td>\n",
       "      <td>0</td>\n",
       "      <td>no</td>\n",
       "      <td>southeast</td>\n",
       "      <td>1163.46</td>\n",
       "      <td>1.0</td>\n",
       "      <td>4.0</td>\n",
       "    </tr>\n",
       "  </tbody>\n",
       "</table>\n",
       "</div>"
      ],
      "text/plain": [
       "      age     sex   bmi  children smoker     region  expenses  age_cat  \\\n",
       "116    58    male  49.1         0     no  southeast  11381.33      4.0   \n",
       "286    46  female  48.1         2     no  northeast   9432.93      3.0   \n",
       "847    23    male  50.4         1     no  southeast   2438.06      2.0   \n",
       "1047   22    male  52.6         1    yes  southeast  44501.40      2.0   \n",
       "1317   18    male  53.1         0     no  southeast   1163.46      1.0   \n",
       "\n",
       "      bmi_cat  \n",
       "116       4.0  \n",
       "286       4.0  \n",
       "847       4.0  \n",
       "1047      4.0  \n",
       "1317      4.0  "
      ]
     },
     "execution_count": 312,
     "metadata": {},
     "output_type": "execute_result"
    }
   ],
   "source": [
    "b4"
   ]
  },
  {
   "cell_type": "code",
   "execution_count": 313,
   "id": "81dc2c6c",
   "metadata": {},
   "outputs": [
    {
     "data": {
      "text/plain": [
       "52.6    1\n",
       "48.1    1\n",
       "49.1    1\n",
       "50.4    1\n",
       "53.1    1\n",
       "Name: bmi, dtype: int64"
      ]
     },
     "execution_count": 313,
     "metadata": {},
     "output_type": "execute_result"
    }
   ],
   "source": [
    "b4['bmi'].value_counts()"
   ]
  },
  {
   "cell_type": "code",
   "execution_count": 314,
   "id": "1ea72ae0",
   "metadata": {},
   "outputs": [
    {
     "data": {
      "text/plain": [
       "<AxesSubplot:xlabel='bmi', ylabel='Count'>"
      ]
     },
     "execution_count": 314,
     "metadata": {},
     "output_type": "execute_result"
    },
    {
     "data": {
      "image/png": "[encoded data removed]",
      "text/plain": [
       "<Figure size 432x288 with 1 Axes>"
      ]
     },
     "metadata": {
      "needs_background": "light"
     },
     "output_type": "display_data"
    }
   ],
   "source": [
    "sns.histplot(x='bmi', data=b4,kde=True)"
   ]
  },
  {
   "cell_type": "code",
   "execution_count": 315,
   "id": "dd29935b",
   "metadata": {},
   "outputs": [
    {
     "data": {
      "text/plain": [
       "<AxesSubplot:xlabel='bmi_cat', ylabel='count'>"
      ]
     },
     "execution_count": 315,
     "metadata": {},
     "output_type": "execute_result"
    },
    {
     "data": {
      "image/png": "[encoded data removed]",
      "text/plain": [
       "<Figure size 432x288 with 1 Axes>"
      ]
     },
     "metadata": {
      "needs_background": "light"
     },
     "output_type": "display_data"
    }
   ],
   "source": [
    "sns.countplot(x= 'bmi_cat', data= medical)"
   ]
  },
  {
   "cell_type": "code",
   "execution_count": null,
   "id": "c4f6ecdf",
   "metadata": {},
   "outputs": [],
   "source": []
  },
  {
   "cell_type": "code",
   "execution_count": 316,
   "id": "ae522d39",
   "metadata": {},
   "outputs": [
    {
     "data": {
      "text/plain": [
       "<AxesSubplot:xlabel='age'>"
      ]
     },
     "execution_count": 316,
     "metadata": {},
     "output_type": "execute_result"
    },
    {
     "data": {
      "image/png": "[encoded data removed]",
      "text/plain": [
       "<Figure size 432x288 with 1 Axes>"
      ]
     },
     "metadata": {
      "needs_background": "light"
     },
     "output_type": "display_data"
    }
   ],
   "source": [
    "sns.boxplot(x='age', data=medical)"
   ]
  },
  {
   "cell_type": "code",
   "execution_count": 317,
   "id": "af15aadc",
   "metadata": {},
   "outputs": [
    {
     "data": {
      "text/plain": [
       "<AxesSubplot:xlabel='bmi'>"
      ]
     },
     "execution_count": 317,
     "metadata": {},
     "output_type": "execute_result"
    },
    {
     "data": {
      "image/png": "[encoded data removed]",
      "text/plain": [
       "<Figure size 432x288 with 1 Axes>"
      ]
     },
     "metadata": {
      "needs_background": "light"
     },
     "output_type": "display_data"
    }
   ],
   "source": [
    "sns.boxplot(x='bmi', data=medical)"
   ]
  },
  {
   "cell_type": "markdown",
   "id": "2fcd840a",
   "metadata": {},
   "source": [
    "## Only BMI has few outliers , age doesn't have any outliers"
   ]
  },
  {
   "cell_type": "markdown",
   "id": "66a700e5",
   "metadata": {},
   "source": [
    "### Plot of the Mean Expense vs Attributes"
   ]
  },
  {
   "cell_type": "code",
   "execution_count": 318,
   "id": "9f565f45",
   "metadata": {},
   "outputs": [
    {
     "name": "stdout",
     "output_type": "stream",
     "text": [
      "age_cat\n"
     ]
    },
    {
     "data": {
      "image/png": "[encoded data removed]",
      "text/plain": [
       "<Figure size 432x288 with 1 Axes>"
      ]
     },
     "metadata": {
      "needs_background": "light"
     },
     "output_type": "display_data"
    },
    {
     "name": "stdout",
     "output_type": "stream",
     "text": [
      "sex\n"
     ]
    },
    {
     "data": {
      "image/png": "[encoded data removed]",
      "text/plain": [
       "<Figure size 432x288 with 1 Axes>"
      ]
     },
     "metadata": {
      "needs_background": "light"
     },
     "output_type": "display_data"
    },
    {
     "name": "stdout",
     "output_type": "stream",
     "text": [
      "region\n"
     ]
    },
    {
     "data": {
      "image/png": "[encoded data removed]",
      "text/plain": [
       "<Figure size 432x288 with 1 Axes>"
      ]
     },
     "metadata": {
      "needs_background": "light"
     },
     "output_type": "display_data"
    },
    {
     "name": "stdout",
     "output_type": "stream",
     "text": [
      "bmi_cat\n"
     ]
    },
    {
     "data": {
      "image/png": "[encoded data removed]",
      "text/plain": [
       "<Figure size 432x288 with 1 Axes>"
      ]
     },
     "metadata": {
      "needs_background": "light"
     },
     "output_type": "display_data"
    },
    {
     "name": "stdout",
     "output_type": "stream",
     "text": [
      "children\n"
     ]
    },
    {
     "data": {
      "image/png": "[encoded data removed]",
      "text/plain": [
       "<Figure size 432x288 with 1 Axes>"
      ]
     },
     "metadata": {
      "needs_background": "light"
     },
     "output_type": "display_data"
    },
    {
     "name": "stdout",
     "output_type": "stream",
     "text": [
      "smoker\n"
     ]
    },
    {
     "data": {
      "image/png": "[encoded data removed]",
      "text/plain": [
       "<Figure size 432x288 with 1 Axes>"
      ]
     },
     "metadata": {
      "needs_background": "light"
     },
     "output_type": "display_data"
    }
   ],
   "source": [
    "lst = ['age_cat','sex','region','bmi_cat','children', 'smoker']\n",
    "for i in lst:\n",
    "    data = medical.groupby(by = i)['expenses'].mean().plot(kind = 'bar')\n",
    "    print(i)\n",
    "    plt.ylabel('mean_expenses')\n",
    "    plt.show()"
   ]
  },
  {
   "cell_type": "markdown",
   "id": "69faf1b3",
   "metadata": {},
   "source": [
    "#### Mean expense is highest for the age category 4.0 among all other age categories.\n",
    "#### Mean expense is highest for Male among all genders.\n",
    "#### Mean expense is higher for southwest region among all other regions.\n",
    "#### Mean expense is higher for the bmi category 3.0 among all other categories of bmi.\n",
    "#### Mean expense is higher for the category having 3 children followed by 2 children."
   ]
  },
  {
   "cell_type": "code",
   "execution_count": null,
   "id": "98d20676",
   "metadata": {},
   "outputs": [],
   "source": []
  },
  {
   "cell_type": "markdown",
   "id": "1f284ff4",
   "metadata": {},
   "source": [
    "### Checking for the proportion of each age category in the dataset"
   ]
  },
  {
   "cell_type": "code",
   "execution_count": 319,
   "id": "9d9cd310",
   "metadata": {},
   "outputs": [
    {
     "data": {
      "text/plain": [
       "1.0    0.051570\n",
       "2.0    0.396114\n",
       "3.0    0.371450\n",
       "4.0    0.180867\n",
       "Name: age_cat, dtype: float64"
      ]
     },
     "execution_count": 319,
     "metadata": {},
     "output_type": "execute_result"
    }
   ],
   "source": [
    "medical.age_cat.value_counts().sort_index(ascending = True) / len(medical)"
   ]
  },
  {
   "cell_type": "code",
   "execution_count": 320,
   "id": "125e2018",
   "metadata": {},
   "outputs": [],
   "source": [
    "medical = medical.drop('age_cat',axis=1)\n",
    "medical = medical.drop('bmi_cat',axis=1)"
   ]
  },
  {
   "cell_type": "code",
   "execution_count": 321,
   "id": "43d54376",
   "metadata": {},
   "outputs": [
    {
     "data": {
      "text/html": [
       "<div>\n",
       "<style scoped>\n",
       "    .dataframe tbody tr th:only-of-type {\n",
       "        vertical-align: middle;\n",
       "    }\n",
       "\n",
       "    .dataframe tbody tr th {\n",
       "        vertical-align: top;\n",
       "    }\n",
       "\n",
       "    .dataframe thead th {\n",
       "        text-align: right;\n",
       "    }\n",
       "</style>\n",
       "<table border=\"1\" class=\"dataframe\">\n",
       "  <thead>\n",
       "    <tr style=\"text-align: right;\">\n",
       "      <th></th>\n",
       "      <th>age</th>\n",
       "      <th>sex</th>\n",
       "      <th>bmi</th>\n",
       "      <th>children</th>\n",
       "      <th>smoker</th>\n",
       "      <th>region</th>\n",
       "      <th>expenses</th>\n",
       "    </tr>\n",
       "  </thead>\n",
       "  <tbody>\n",
       "    <tr>\n",
       "      <th>0</th>\n",
       "      <td>19</td>\n",
       "      <td>female</td>\n",
       "      <td>27.9</td>\n",
       "      <td>0</td>\n",
       "      <td>yes</td>\n",
       "      <td>southwest</td>\n",
       "      <td>16884.92</td>\n",
       "    </tr>\n",
       "    <tr>\n",
       "      <th>1</th>\n",
       "      <td>18</td>\n",
       "      <td>male</td>\n",
       "      <td>33.8</td>\n",
       "      <td>1</td>\n",
       "      <td>no</td>\n",
       "      <td>southeast</td>\n",
       "      <td>1725.55</td>\n",
       "    </tr>\n",
       "    <tr>\n",
       "      <th>2</th>\n",
       "      <td>28</td>\n",
       "      <td>male</td>\n",
       "      <td>33.0</td>\n",
       "      <td>3</td>\n",
       "      <td>no</td>\n",
       "      <td>southeast</td>\n",
       "      <td>4449.46</td>\n",
       "    </tr>\n",
       "    <tr>\n",
       "      <th>3</th>\n",
       "      <td>33</td>\n",
       "      <td>male</td>\n",
       "      <td>22.7</td>\n",
       "      <td>0</td>\n",
       "      <td>no</td>\n",
       "      <td>northwest</td>\n",
       "      <td>21984.47</td>\n",
       "    </tr>\n",
       "    <tr>\n",
       "      <th>4</th>\n",
       "      <td>32</td>\n",
       "      <td>male</td>\n",
       "      <td>28.9</td>\n",
       "      <td>0</td>\n",
       "      <td>no</td>\n",
       "      <td>northwest</td>\n",
       "      <td>3866.86</td>\n",
       "    </tr>\n",
       "    <tr>\n",
       "      <th>...</th>\n",
       "      <td>...</td>\n",
       "      <td>...</td>\n",
       "      <td>...</td>\n",
       "      <td>...</td>\n",
       "      <td>...</td>\n",
       "      <td>...</td>\n",
       "      <td>...</td>\n",
       "    </tr>\n",
       "    <tr>\n",
       "      <th>1333</th>\n",
       "      <td>50</td>\n",
       "      <td>male</td>\n",
       "      <td>31.0</td>\n",
       "      <td>3</td>\n",
       "      <td>no</td>\n",
       "      <td>northwest</td>\n",
       "      <td>10600.55</td>\n",
       "    </tr>\n",
       "    <tr>\n",
       "      <th>1334</th>\n",
       "      <td>18</td>\n",
       "      <td>female</td>\n",
       "      <td>31.9</td>\n",
       "      <td>0</td>\n",
       "      <td>no</td>\n",
       "      <td>northeast</td>\n",
       "      <td>2205.98</td>\n",
       "    </tr>\n",
       "    <tr>\n",
       "      <th>1335</th>\n",
       "      <td>18</td>\n",
       "      <td>female</td>\n",
       "      <td>36.9</td>\n",
       "      <td>0</td>\n",
       "      <td>no</td>\n",
       "      <td>southeast</td>\n",
       "      <td>1629.83</td>\n",
       "    </tr>\n",
       "    <tr>\n",
       "      <th>1336</th>\n",
       "      <td>21</td>\n",
       "      <td>female</td>\n",
       "      <td>25.8</td>\n",
       "      <td>0</td>\n",
       "      <td>no</td>\n",
       "      <td>southwest</td>\n",
       "      <td>2007.95</td>\n",
       "    </tr>\n",
       "    <tr>\n",
       "      <th>1337</th>\n",
       "      <td>61</td>\n",
       "      <td>female</td>\n",
       "      <td>29.1</td>\n",
       "      <td>0</td>\n",
       "      <td>yes</td>\n",
       "      <td>northwest</td>\n",
       "      <td>29141.36</td>\n",
       "    </tr>\n",
       "  </tbody>\n",
       "</table>\n",
       "<p>1338 rows × 7 columns</p>\n",
       "</div>"
      ],
      "text/plain": [
       "      age     sex   bmi  children smoker     region  expenses\n",
       "0      19  female  27.9         0    yes  southwest  16884.92\n",
       "1      18    male  33.8         1     no  southeast   1725.55\n",
       "2      28    male  33.0         3     no  southeast   4449.46\n",
       "3      33    male  22.7         0     no  northwest  21984.47\n",
       "4      32    male  28.9         0     no  northwest   3866.86\n",
       "...   ...     ...   ...       ...    ...        ...       ...\n",
       "1333   50    male  31.0         3     no  northwest  10600.55\n",
       "1334   18  female  31.9         0     no  northeast   2205.98\n",
       "1335   18  female  36.9         0     no  southeast   1629.83\n",
       "1336   21  female  25.8         0     no  southwest   2007.95\n",
       "1337   61  female  29.1         0    yes  northwest  29141.36\n",
       "\n",
       "[1338 rows x 7 columns]"
      ]
     },
     "execution_count": 321,
     "metadata": {},
     "output_type": "execute_result"
    }
   ],
   "source": [
    "medical"
   ]
  },
  {
   "cell_type": "code",
   "execution_count": 322,
   "id": "32da129e",
   "metadata": {},
   "outputs": [],
   "source": [
    "X = medical.drop('expenses', axis = 1)\n",
    "y = medical['expenses']"
   ]
  },
  {
   "cell_type": "code",
   "execution_count": 323,
   "id": "0c3b2bfe",
   "metadata": {},
   "outputs": [
    {
     "data": {
      "text/html": [
       "<div>\n",
       "<style scoped>\n",
       "    .dataframe tbody tr th:only-of-type {\n",
       "        vertical-align: middle;\n",
       "    }\n",
       "\n",
       "    .dataframe tbody tr th {\n",
       "        vertical-align: top;\n",
       "    }\n",
       "\n",
       "    .dataframe thead th {\n",
       "        text-align: right;\n",
       "    }\n",
       "</style>\n",
       "<table border=\"1\" class=\"dataframe\">\n",
       "  <thead>\n",
       "    <tr style=\"text-align: right;\">\n",
       "      <th></th>\n",
       "      <th>age</th>\n",
       "      <th>sex</th>\n",
       "      <th>bmi</th>\n",
       "      <th>children</th>\n",
       "      <th>smoker</th>\n",
       "      <th>region</th>\n",
       "    </tr>\n",
       "  </thead>\n",
       "  <tbody>\n",
       "    <tr>\n",
       "      <th>0</th>\n",
       "      <td>19</td>\n",
       "      <td>female</td>\n",
       "      <td>27.9</td>\n",
       "      <td>0</td>\n",
       "      <td>yes</td>\n",
       "      <td>southwest</td>\n",
       "    </tr>\n",
       "    <tr>\n",
       "      <th>1</th>\n",
       "      <td>18</td>\n",
       "      <td>male</td>\n",
       "      <td>33.8</td>\n",
       "      <td>1</td>\n",
       "      <td>no</td>\n",
       "      <td>southeast</td>\n",
       "    </tr>\n",
       "    <tr>\n",
       "      <th>2</th>\n",
       "      <td>28</td>\n",
       "      <td>male</td>\n",
       "      <td>33.0</td>\n",
       "      <td>3</td>\n",
       "      <td>no</td>\n",
       "      <td>southeast</td>\n",
       "    </tr>\n",
       "    <tr>\n",
       "      <th>3</th>\n",
       "      <td>33</td>\n",
       "      <td>male</td>\n",
       "      <td>22.7</td>\n",
       "      <td>0</td>\n",
       "      <td>no</td>\n",
       "      <td>northwest</td>\n",
       "    </tr>\n",
       "    <tr>\n",
       "      <th>4</th>\n",
       "      <td>32</td>\n",
       "      <td>male</td>\n",
       "      <td>28.9</td>\n",
       "      <td>0</td>\n",
       "      <td>no</td>\n",
       "      <td>northwest</td>\n",
       "    </tr>\n",
       "  </tbody>\n",
       "</table>\n",
       "</div>"
      ],
      "text/plain": [
       "   age     sex   bmi  children smoker     region\n",
       "0   19  female  27.9         0    yes  southwest\n",
       "1   18    male  33.8         1     no  southeast\n",
       "2   28    male  33.0         3     no  southeast\n",
       "3   33    male  22.7         0     no  northwest\n",
       "4   32    male  28.9         0     no  northwest"
      ]
     },
     "execution_count": 323,
     "metadata": {},
     "output_type": "execute_result"
    }
   ],
   "source": [
    "X.head()"
   ]
  },
  {
   "cell_type": "code",
   "execution_count": 324,
   "id": "e0c2af69",
   "metadata": {},
   "outputs": [
    {
     "data": {
      "text/plain": [
       "0    16884.92\n",
       "1     1725.55\n",
       "2     4449.46\n",
       "3    21984.47\n",
       "4     3866.86\n",
       "Name: expenses, dtype: float64"
      ]
     },
     "execution_count": 324,
     "metadata": {},
     "output_type": "execute_result"
    }
   ],
   "source": [
    "y.head()"
   ]
  },
  {
   "cell_type": "markdown",
   "id": "1bb1b21e",
   "metadata": {},
   "source": [
    "## Splitting into test data and train data"
   ]
  },
  {
   "cell_type": "code",
   "execution_count": 325,
   "id": "cba501a6",
   "metadata": {},
   "outputs": [],
   "source": [
    "from sklearn.model_selection import train_test_split"
   ]
  },
  {
   "cell_type": "code",
   "execution_count": 326,
   "id": "41a5b5d7",
   "metadata": {},
   "outputs": [],
   "source": [
    "X_train, X_test, y_train, y_test = train_test_split(X, y, test_size=0.2, random_state=42)"
   ]
  },
  {
   "cell_type": "code",
   "execution_count": 327,
   "id": "e975c206",
   "metadata": {},
   "outputs": [
    {
     "data": {
      "text/plain": [
       "((1070, 6), (1070,), (268, 6), (268,))"
      ]
     },
     "execution_count": 327,
     "metadata": {},
     "output_type": "execute_result"
    }
   ],
   "source": [
    "X_train.shape, y_train.shape, X_test.shape, y_test.shape"
   ]
  },
  {
   "cell_type": "code",
   "execution_count": null,
   "id": "7aeb6852",
   "metadata": {},
   "outputs": [],
   "source": []
  },
  {
   "cell_type": "markdown",
   "id": "0d381845",
   "metadata": {},
   "source": [
    "### checking whether percentage of train and test data set are according to the given ratio or not"
   ]
  },
  {
   "cell_type": "code",
   "execution_count": 328,
   "id": "c057e57b",
   "metadata": {},
   "outputs": [
    {
     "data": {
      "text/plain": [
       "79.97010463378177"
      ]
     },
     "execution_count": 328,
     "metadata": {},
     "output_type": "execute_result"
    }
   ],
   "source": [
    "(len(X_train)/len(medical))*100"
   ]
  },
  {
   "cell_type": "code",
   "execution_count": 329,
   "id": "13e9ff0b",
   "metadata": {},
   "outputs": [
    {
     "data": {
      "text/plain": [
       "20.029895366218238"
      ]
     },
     "execution_count": 329,
     "metadata": {},
     "output_type": "execute_result"
    }
   ],
   "source": [
    "(len(X_test)/len(medical))*100"
   ]
  },
  {
   "cell_type": "code",
   "execution_count": 330,
   "id": "21ab59fd",
   "metadata": {},
   "outputs": [
    {
     "data": {
      "text/html": [
       "<div>\n",
       "<style scoped>\n",
       "    .dataframe tbody tr th:only-of-type {\n",
       "        vertical-align: middle;\n",
       "    }\n",
       "\n",
       "    .dataframe tbody tr th {\n",
       "        vertical-align: top;\n",
       "    }\n",
       "\n",
       "    .dataframe thead th {\n",
       "        text-align: right;\n",
       "    }\n",
       "</style>\n",
       "<table border=\"1\" class=\"dataframe\">\n",
       "  <thead>\n",
       "    <tr style=\"text-align: right;\">\n",
       "      <th></th>\n",
       "      <th>age</th>\n",
       "      <th>sex</th>\n",
       "      <th>bmi</th>\n",
       "      <th>children</th>\n",
       "      <th>smoker</th>\n",
       "      <th>region</th>\n",
       "    </tr>\n",
       "  </thead>\n",
       "  <tbody>\n",
       "    <tr>\n",
       "      <th>764</th>\n",
       "      <td>45</td>\n",
       "      <td>female</td>\n",
       "      <td>25.2</td>\n",
       "      <td>2</td>\n",
       "      <td>no</td>\n",
       "      <td>northeast</td>\n",
       "    </tr>\n",
       "    <tr>\n",
       "      <th>887</th>\n",
       "      <td>36</td>\n",
       "      <td>female</td>\n",
       "      <td>30.0</td>\n",
       "      <td>0</td>\n",
       "      <td>no</td>\n",
       "      <td>northwest</td>\n",
       "    </tr>\n",
       "    <tr>\n",
       "      <th>890</th>\n",
       "      <td>64</td>\n",
       "      <td>female</td>\n",
       "      <td>26.9</td>\n",
       "      <td>0</td>\n",
       "      <td>yes</td>\n",
       "      <td>northwest</td>\n",
       "    </tr>\n",
       "    <tr>\n",
       "      <th>1293</th>\n",
       "      <td>46</td>\n",
       "      <td>male</td>\n",
       "      <td>25.7</td>\n",
       "      <td>3</td>\n",
       "      <td>no</td>\n",
       "      <td>northwest</td>\n",
       "    </tr>\n",
       "    <tr>\n",
       "      <th>259</th>\n",
       "      <td>19</td>\n",
       "      <td>male</td>\n",
       "      <td>31.9</td>\n",
       "      <td>0</td>\n",
       "      <td>yes</td>\n",
       "      <td>northwest</td>\n",
       "    </tr>\n",
       "    <tr>\n",
       "      <th>...</th>\n",
       "      <td>...</td>\n",
       "      <td>...</td>\n",
       "      <td>...</td>\n",
       "      <td>...</td>\n",
       "      <td>...</td>\n",
       "      <td>...</td>\n",
       "    </tr>\n",
       "    <tr>\n",
       "      <th>109</th>\n",
       "      <td>63</td>\n",
       "      <td>male</td>\n",
       "      <td>35.1</td>\n",
       "      <td>0</td>\n",
       "      <td>yes</td>\n",
       "      <td>southeast</td>\n",
       "    </tr>\n",
       "    <tr>\n",
       "      <th>575</th>\n",
       "      <td>58</td>\n",
       "      <td>female</td>\n",
       "      <td>27.2</td>\n",
       "      <td>0</td>\n",
       "      <td>no</td>\n",
       "      <td>northwest</td>\n",
       "    </tr>\n",
       "    <tr>\n",
       "      <th>535</th>\n",
       "      <td>38</td>\n",
       "      <td>male</td>\n",
       "      <td>28.0</td>\n",
       "      <td>1</td>\n",
       "      <td>no</td>\n",
       "      <td>northeast</td>\n",
       "    </tr>\n",
       "    <tr>\n",
       "      <th>543</th>\n",
       "      <td>54</td>\n",
       "      <td>female</td>\n",
       "      <td>47.4</td>\n",
       "      <td>0</td>\n",
       "      <td>yes</td>\n",
       "      <td>southeast</td>\n",
       "    </tr>\n",
       "    <tr>\n",
       "      <th>846</th>\n",
       "      <td>51</td>\n",
       "      <td>female</td>\n",
       "      <td>34.2</td>\n",
       "      <td>1</td>\n",
       "      <td>no</td>\n",
       "      <td>southwest</td>\n",
       "    </tr>\n",
       "  </tbody>\n",
       "</table>\n",
       "<p>268 rows × 6 columns</p>\n",
       "</div>"
      ],
      "text/plain": [
       "      age     sex   bmi  children smoker     region\n",
       "764    45  female  25.2         2     no  northeast\n",
       "887    36  female  30.0         0     no  northwest\n",
       "890    64  female  26.9         0    yes  northwest\n",
       "1293   46    male  25.7         3     no  northwest\n",
       "259    19    male  31.9         0    yes  northwest\n",
       "...   ...     ...   ...       ...    ...        ...\n",
       "109    63    male  35.1         0    yes  southeast\n",
       "575    58  female  27.2         0     no  northwest\n",
       "535    38    male  28.0         1     no  northeast\n",
       "543    54  female  47.4         0    yes  southeast\n",
       "846    51  female  34.2         1     no  southwest\n",
       "\n",
       "[268 rows x 6 columns]"
      ]
     },
     "execution_count": 330,
     "metadata": {},
     "output_type": "execute_result"
    }
   ],
   "source": [
    "X_test"
   ]
  },
  {
   "cell_type": "code",
   "execution_count": 331,
   "id": "91f8df7a",
   "metadata": {},
   "outputs": [
    {
     "data": {
      "text/html": [
       "<div>\n",
       "<style scoped>\n",
       "    .dataframe tbody tr th:only-of-type {\n",
       "        vertical-align: middle;\n",
       "    }\n",
       "\n",
       "    .dataframe tbody tr th {\n",
       "        vertical-align: top;\n",
       "    }\n",
       "\n",
       "    .dataframe thead th {\n",
       "        text-align: right;\n",
       "    }\n",
       "</style>\n",
       "<table border=\"1\" class=\"dataframe\">\n",
       "  <thead>\n",
       "    <tr style=\"text-align: right;\">\n",
       "      <th></th>\n",
       "      <th>age</th>\n",
       "      <th>sex</th>\n",
       "      <th>bmi</th>\n",
       "      <th>children</th>\n",
       "      <th>smoker</th>\n",
       "      <th>region</th>\n",
       "    </tr>\n",
       "  </thead>\n",
       "  <tbody>\n",
       "    <tr>\n",
       "      <th>560</th>\n",
       "      <td>46</td>\n",
       "      <td>female</td>\n",
       "      <td>20.0</td>\n",
       "      <td>2</td>\n",
       "      <td>no</td>\n",
       "      <td>northwest</td>\n",
       "    </tr>\n",
       "    <tr>\n",
       "      <th>1285</th>\n",
       "      <td>47</td>\n",
       "      <td>female</td>\n",
       "      <td>24.3</td>\n",
       "      <td>0</td>\n",
       "      <td>no</td>\n",
       "      <td>northeast</td>\n",
       "    </tr>\n",
       "    <tr>\n",
       "      <th>1142</th>\n",
       "      <td>52</td>\n",
       "      <td>female</td>\n",
       "      <td>24.9</td>\n",
       "      <td>0</td>\n",
       "      <td>no</td>\n",
       "      <td>southeast</td>\n",
       "    </tr>\n",
       "    <tr>\n",
       "      <th>969</th>\n",
       "      <td>39</td>\n",
       "      <td>female</td>\n",
       "      <td>34.3</td>\n",
       "      <td>5</td>\n",
       "      <td>no</td>\n",
       "      <td>southeast</td>\n",
       "    </tr>\n",
       "    <tr>\n",
       "      <th>486</th>\n",
       "      <td>54</td>\n",
       "      <td>female</td>\n",
       "      <td>21.5</td>\n",
       "      <td>3</td>\n",
       "      <td>no</td>\n",
       "      <td>northwest</td>\n",
       "    </tr>\n",
       "    <tr>\n",
       "      <th>...</th>\n",
       "      <td>...</td>\n",
       "      <td>...</td>\n",
       "      <td>...</td>\n",
       "      <td>...</td>\n",
       "      <td>...</td>\n",
       "      <td>...</td>\n",
       "    </tr>\n",
       "    <tr>\n",
       "      <th>1095</th>\n",
       "      <td>18</td>\n",
       "      <td>female</td>\n",
       "      <td>31.4</td>\n",
       "      <td>4</td>\n",
       "      <td>no</td>\n",
       "      <td>northeast</td>\n",
       "    </tr>\n",
       "    <tr>\n",
       "      <th>1130</th>\n",
       "      <td>39</td>\n",
       "      <td>female</td>\n",
       "      <td>23.9</td>\n",
       "      <td>5</td>\n",
       "      <td>no</td>\n",
       "      <td>southeast</td>\n",
       "    </tr>\n",
       "    <tr>\n",
       "      <th>1294</th>\n",
       "      <td>58</td>\n",
       "      <td>male</td>\n",
       "      <td>25.2</td>\n",
       "      <td>0</td>\n",
       "      <td>no</td>\n",
       "      <td>northeast</td>\n",
       "    </tr>\n",
       "    <tr>\n",
       "      <th>860</th>\n",
       "      <td>37</td>\n",
       "      <td>female</td>\n",
       "      <td>47.6</td>\n",
       "      <td>2</td>\n",
       "      <td>yes</td>\n",
       "      <td>southwest</td>\n",
       "    </tr>\n",
       "    <tr>\n",
       "      <th>1126</th>\n",
       "      <td>55</td>\n",
       "      <td>male</td>\n",
       "      <td>29.9</td>\n",
       "      <td>0</td>\n",
       "      <td>no</td>\n",
       "      <td>southwest</td>\n",
       "    </tr>\n",
       "  </tbody>\n",
       "</table>\n",
       "<p>1070 rows × 6 columns</p>\n",
       "</div>"
      ],
      "text/plain": [
       "      age     sex   bmi  children smoker     region\n",
       "560    46  female  20.0         2     no  northwest\n",
       "1285   47  female  24.3         0     no  northeast\n",
       "1142   52  female  24.9         0     no  southeast\n",
       "969    39  female  34.3         5     no  southeast\n",
       "486    54  female  21.5         3     no  northwest\n",
       "...   ...     ...   ...       ...    ...        ...\n",
       "1095   18  female  31.4         4     no  northeast\n",
       "1130   39  female  23.9         5     no  southeast\n",
       "1294   58    male  25.2         0     no  northeast\n",
       "860    37  female  47.6         2    yes  southwest\n",
       "1126   55    male  29.9         0     no  southwest\n",
       "\n",
       "[1070 rows x 6 columns]"
      ]
     },
     "execution_count": 331,
     "metadata": {},
     "output_type": "execute_result"
    }
   ],
   "source": [
    "X_train"
   ]
  },
  {
   "cell_type": "code",
   "execution_count": 332,
   "id": "83f2a707",
   "metadata": {},
   "outputs": [
    {
     "data": {
      "text/plain": [
       "560      9193.84\n",
       "1285     8534.67\n",
       "1142    27117.99\n",
       "969      8596.83\n",
       "486     12475.35\n",
       "          ...   \n",
       "1095     4561.19\n",
       "1130     8582.30\n",
       "1294    11931.13\n",
       "860     46113.51\n",
       "1126    10214.64\n",
       "Name: expenses, Length: 1070, dtype: float64"
      ]
     },
     "execution_count": 332,
     "metadata": {},
     "output_type": "execute_result"
    }
   ],
   "source": [
    "y_train"
   ]
  },
  {
   "cell_type": "code",
   "execution_count": 333,
   "id": "f35687b7",
   "metadata": {},
   "outputs": [
    {
     "data": {
      "text/plain": [
       "764      9095.07\n",
       "887      5272.18\n",
       "890     29330.98\n",
       "1293     9301.89\n",
       "259     33750.29\n",
       "          ...   \n",
       "109     47055.53\n",
       "575     12222.90\n",
       "535      6067.13\n",
       "543     63770.43\n",
       "846      9872.70\n",
       "Name: expenses, Length: 268, dtype: float64"
      ]
     },
     "execution_count": 333,
     "metadata": {},
     "output_type": "execute_result"
    }
   ],
   "source": [
    "y_test"
   ]
  },
  {
   "cell_type": "markdown",
   "id": "75d340f9",
   "metadata": {},
   "source": [
    "# Data Preprocessing"
   ]
  },
  {
   "cell_type": "code",
   "execution_count": 334,
   "id": "75395491",
   "metadata": {},
   "outputs": [
    {
     "name": "stdout",
     "output_type": "stream",
     "text": [
      "<class 'pandas.core.frame.DataFrame'>\n",
      "Int64Index: 1070 entries, 560 to 1126\n",
      "Data columns (total 6 columns):\n",
      " #   Column    Non-Null Count  Dtype  \n",
      "---  ------    --------------  -----  \n",
      " 0   age       1070 non-null   int64  \n",
      " 1   sex       1070 non-null   object \n",
      " 2   bmi       1070 non-null   float64\n",
      " 3   children  1070 non-null   int64  \n",
      " 4   smoker    1070 non-null   object \n",
      " 5   region    1070 non-null   object \n",
      "dtypes: float64(1), int64(2), object(3)\n",
      "memory usage: 58.5+ KB\n"
     ]
    }
   ],
   "source": [
    "X_train.info()"
   ]
  },
  {
   "cell_type": "markdown",
   "id": "7cda29a1",
   "metadata": {},
   "source": [
    "#### Separating numerical and categorical attributes"
   ]
  },
  {
   "cell_type": "code",
   "execution_count": 335,
   "id": "823d6ee0",
   "metadata": {},
   "outputs": [],
   "source": [
    "X_train_num = X_train.drop(['sex','smoker','region'],axis = 1)"
   ]
  },
  {
   "cell_type": "code",
   "execution_count": 336,
   "id": "1bbd25c3",
   "metadata": {},
   "outputs": [
    {
     "data": {
      "text/html": [
       "<div>\n",
       "<style scoped>\n",
       "    .dataframe tbody tr th:only-of-type {\n",
       "        vertical-align: middle;\n",
       "    }\n",
       "\n",
       "    .dataframe tbody tr th {\n",
       "        vertical-align: top;\n",
       "    }\n",
       "\n",
       "    .dataframe thead th {\n",
       "        text-align: right;\n",
       "    }\n",
       "</style>\n",
       "<table border=\"1\" class=\"dataframe\">\n",
       "  <thead>\n",
       "    <tr style=\"text-align: right;\">\n",
       "      <th></th>\n",
       "      <th>age</th>\n",
       "      <th>bmi</th>\n",
       "      <th>children</th>\n",
       "    </tr>\n",
       "  </thead>\n",
       "  <tbody>\n",
       "    <tr>\n",
       "      <th>560</th>\n",
       "      <td>46</td>\n",
       "      <td>20.0</td>\n",
       "      <td>2</td>\n",
       "    </tr>\n",
       "    <tr>\n",
       "      <th>1285</th>\n",
       "      <td>47</td>\n",
       "      <td>24.3</td>\n",
       "      <td>0</td>\n",
       "    </tr>\n",
       "    <tr>\n",
       "      <th>1142</th>\n",
       "      <td>52</td>\n",
       "      <td>24.9</td>\n",
       "      <td>0</td>\n",
       "    </tr>\n",
       "    <tr>\n",
       "      <th>969</th>\n",
       "      <td>39</td>\n",
       "      <td>34.3</td>\n",
       "      <td>5</td>\n",
       "    </tr>\n",
       "    <tr>\n",
       "      <th>486</th>\n",
       "      <td>54</td>\n",
       "      <td>21.5</td>\n",
       "      <td>3</td>\n",
       "    </tr>\n",
       "    <tr>\n",
       "      <th>...</th>\n",
       "      <td>...</td>\n",
       "      <td>...</td>\n",
       "      <td>...</td>\n",
       "    </tr>\n",
       "    <tr>\n",
       "      <th>1095</th>\n",
       "      <td>18</td>\n",
       "      <td>31.4</td>\n",
       "      <td>4</td>\n",
       "    </tr>\n",
       "    <tr>\n",
       "      <th>1130</th>\n",
       "      <td>39</td>\n",
       "      <td>23.9</td>\n",
       "      <td>5</td>\n",
       "    </tr>\n",
       "    <tr>\n",
       "      <th>1294</th>\n",
       "      <td>58</td>\n",
       "      <td>25.2</td>\n",
       "      <td>0</td>\n",
       "    </tr>\n",
       "    <tr>\n",
       "      <th>860</th>\n",
       "      <td>37</td>\n",
       "      <td>47.6</td>\n",
       "      <td>2</td>\n",
       "    </tr>\n",
       "    <tr>\n",
       "      <th>1126</th>\n",
       "      <td>55</td>\n",
       "      <td>29.9</td>\n",
       "      <td>0</td>\n",
       "    </tr>\n",
       "  </tbody>\n",
       "</table>\n",
       "<p>1070 rows × 3 columns</p>\n",
       "</div>"
      ],
      "text/plain": [
       "      age   bmi  children\n",
       "560    46  20.0         2\n",
       "1285   47  24.3         0\n",
       "1142   52  24.9         0\n",
       "969    39  34.3         5\n",
       "486    54  21.5         3\n",
       "...   ...   ...       ...\n",
       "1095   18  31.4         4\n",
       "1130   39  23.9         5\n",
       "1294   58  25.2         0\n",
       "860    37  47.6         2\n",
       "1126   55  29.9         0\n",
       "\n",
       "[1070 rows x 3 columns]"
      ]
     },
     "execution_count": 336,
     "metadata": {},
     "output_type": "execute_result"
    }
   ],
   "source": [
    "X_train_num"
   ]
  },
  {
   "cell_type": "code",
   "execution_count": 391,
   "id": "c2e0045a",
   "metadata": {},
   "outputs": [],
   "source": [
    "X_train_cat = X_train[['sex','smoker','region']]"
   ]
  },
  {
   "cell_type": "code",
   "execution_count": 392,
   "id": "9e343336",
   "metadata": {},
   "outputs": [
    {
     "data": {
      "text/html": [
       "<div>\n",
       "<style scoped>\n",
       "    .dataframe tbody tr th:only-of-type {\n",
       "        vertical-align: middle;\n",
       "    }\n",
       "\n",
       "    .dataframe tbody tr th {\n",
       "        vertical-align: top;\n",
       "    }\n",
       "\n",
       "    .dataframe thead th {\n",
       "        text-align: right;\n",
       "    }\n",
       "</style>\n",
       "<table border=\"1\" class=\"dataframe\">\n",
       "  <thead>\n",
       "    <tr style=\"text-align: right;\">\n",
       "      <th></th>\n",
       "      <th>sex</th>\n",
       "      <th>smoker</th>\n",
       "      <th>region</th>\n",
       "    </tr>\n",
       "  </thead>\n",
       "  <tbody>\n",
       "    <tr>\n",
       "      <th>560</th>\n",
       "      <td>female</td>\n",
       "      <td>no</td>\n",
       "      <td>northwest</td>\n",
       "    </tr>\n",
       "    <tr>\n",
       "      <th>1285</th>\n",
       "      <td>female</td>\n",
       "      <td>no</td>\n",
       "      <td>northeast</td>\n",
       "    </tr>\n",
       "    <tr>\n",
       "      <th>1142</th>\n",
       "      <td>female</td>\n",
       "      <td>no</td>\n",
       "      <td>southeast</td>\n",
       "    </tr>\n",
       "    <tr>\n",
       "      <th>969</th>\n",
       "      <td>female</td>\n",
       "      <td>no</td>\n",
       "      <td>southeast</td>\n",
       "    </tr>\n",
       "    <tr>\n",
       "      <th>486</th>\n",
       "      <td>female</td>\n",
       "      <td>no</td>\n",
       "      <td>northwest</td>\n",
       "    </tr>\n",
       "    <tr>\n",
       "      <th>...</th>\n",
       "      <td>...</td>\n",
       "      <td>...</td>\n",
       "      <td>...</td>\n",
       "    </tr>\n",
       "    <tr>\n",
       "      <th>1095</th>\n",
       "      <td>female</td>\n",
       "      <td>no</td>\n",
       "      <td>northeast</td>\n",
       "    </tr>\n",
       "    <tr>\n",
       "      <th>1130</th>\n",
       "      <td>female</td>\n",
       "      <td>no</td>\n",
       "      <td>southeast</td>\n",
       "    </tr>\n",
       "    <tr>\n",
       "      <th>1294</th>\n",
       "      <td>male</td>\n",
       "      <td>no</td>\n",
       "      <td>northeast</td>\n",
       "    </tr>\n",
       "    <tr>\n",
       "      <th>860</th>\n",
       "      <td>female</td>\n",
       "      <td>yes</td>\n",
       "      <td>southwest</td>\n",
       "    </tr>\n",
       "    <tr>\n",
       "      <th>1126</th>\n",
       "      <td>male</td>\n",
       "      <td>no</td>\n",
       "      <td>southwest</td>\n",
       "    </tr>\n",
       "  </tbody>\n",
       "</table>\n",
       "<p>1070 rows × 3 columns</p>\n",
       "</div>"
      ],
      "text/plain": [
       "         sex smoker     region\n",
       "560   female     no  northwest\n",
       "1285  female     no  northeast\n",
       "1142  female     no  southeast\n",
       "969   female     no  southeast\n",
       "486   female     no  northwest\n",
       "...      ...    ...        ...\n",
       "1095  female     no  northeast\n",
       "1130  female     no  southeast\n",
       "1294    male     no  northeast\n",
       "860   female    yes  southwest\n",
       "1126    male     no  southwest\n",
       "\n",
       "[1070 rows x 3 columns]"
      ]
     },
     "execution_count": 392,
     "metadata": {},
     "output_type": "execute_result"
    }
   ],
   "source": [
    "X_train_cat"
   ]
  },
  {
   "cell_type": "code",
   "execution_count": 339,
   "id": "2b082e93",
   "metadata": {},
   "outputs": [
    {
     "name": "stdout",
     "output_type": "stream",
     "text": [
      "<class 'pandas.core.frame.DataFrame'>\n",
      "Int64Index: 1070 entries, 560 to 1126\n",
      "Data columns (total 3 columns):\n",
      " #   Column    Non-Null Count  Dtype  \n",
      "---  ------    --------------  -----  \n",
      " 0   age       1070 non-null   int64  \n",
      " 1   bmi       1070 non-null   float64\n",
      " 2   children  1070 non-null   int64  \n",
      "dtypes: float64(1), int64(2)\n",
      "memory usage: 33.4 KB\n"
     ]
    }
   ],
   "source": [
    "X_train_num.info()"
   ]
  },
  {
   "cell_type": "code",
   "execution_count": 340,
   "id": "072c0113",
   "metadata": {},
   "outputs": [
    {
     "name": "stdout",
     "output_type": "stream",
     "text": [
      "<class 'pandas.core.frame.DataFrame'>\n",
      "Int64Index: 1070 entries, 560 to 1126\n",
      "Data columns (total 3 columns):\n",
      " #   Column  Non-Null Count  Dtype \n",
      "---  ------  --------------  ----- \n",
      " 0   sex     1070 non-null   object\n",
      " 1   smoker  1070 non-null   object\n",
      " 2   region  1070 non-null   object\n",
      "dtypes: object(3)\n",
      "memory usage: 33.4+ KB\n"
     ]
    }
   ],
   "source": [
    "X_train_cat.info()"
   ]
  },
  {
   "cell_type": "markdown",
   "id": "4b5aba70",
   "metadata": {},
   "source": [
    "#### We can see from the above that there are no null values in x_train and x_test itself. So most likely, we won't need null value imputation"
   ]
  },
  {
   "cell_type": "markdown",
   "id": "1894113a",
   "metadata": {},
   "source": [
    "# Scaling"
   ]
  },
  {
   "cell_type": "code",
   "execution_count": 341,
   "id": "b609939d",
   "metadata": {},
   "outputs": [],
   "source": [
    "### Normally we follow standard scaling to avoid the error of saturation which is caused for min-max scaling\n",
    "### Min-Max scaling brings all the data in a prticular range for which we can't distinguish data with a very high value and\n",
    "### a very low value. This problem can be avoided through standard scaling. Standard scaling doesn't bring the data in any\n",
    "### particular range. Rather after this the values remain distinguishable and a curve like normal distribution can be found\n",
    "### It is for doing the scaling operation on the numerical data"
   ]
  },
  {
   "cell_type": "code",
   "execution_count": 342,
   "id": "b8012c6c",
   "metadata": {},
   "outputs": [],
   "source": [
    "from sklearn.preprocessing import StandardScaler"
   ]
  },
  {
   "cell_type": "code",
   "execution_count": 343,
   "id": "7992ca1d",
   "metadata": {},
   "outputs": [],
   "source": [
    "scaler = StandardScaler()"
   ]
  },
  {
   "cell_type": "code",
   "execution_count": 344,
   "id": "4d29380e",
   "metadata": {},
   "outputs": [],
   "source": [
    "X_train_num_ndarray = scaler.fit_transform(X_train_num)"
   ]
  },
  {
   "cell_type": "code",
   "execution_count": 345,
   "id": "cb7dc61e",
   "metadata": {
    "scrolled": true
   },
   "outputs": [
    {
     "data": {
      "text/plain": [
       "array([[ 0.47222651, -1.74857248,  0.73433626],\n",
       "       [ 0.54331294, -1.03670397, -0.91119211],\n",
       "       [ 0.8987451 , -0.93737348, -0.91119211],\n",
       "       ...,\n",
       "       [ 1.3252637 , -0.88770823, -0.91119211],\n",
       "       [-0.16755139,  2.82063006,  0.73433626],\n",
       "       [ 1.1120044 , -0.1096194 , -0.91119211]])"
      ]
     },
     "execution_count": 345,
     "metadata": {},
     "output_type": "execute_result"
    }
   ],
   "source": [
    "X_train_num_ndarray"
   ]
  },
  {
   "cell_type": "code",
   "execution_count": 346,
   "id": "b2839aa6",
   "metadata": {
    "scrolled": true
   },
   "outputs": [
    {
     "data": {
      "text/plain": [
       "array([[ 0.47222651, -1.74857248,  0.73433626],\n",
       "       [ 0.54331294, -1.03670397, -0.91119211],\n",
       "       [ 0.8987451 , -0.93737348, -0.91119211],\n",
       "       [-0.02537852,  0.6188042 ,  3.20262882],\n",
       "       [ 1.04091797, -1.50024626,  1.55710045],\n",
       "       [ 1.68069586,  1.81077008, -0.91119211],\n",
       "       [-1.23384787, -1.03670397, -0.91119211],\n",
       "       [-1.5181936 , -1.48369117, -0.91119211],\n",
       "       [ 0.04570791,  1.76110483, -0.08842793],\n",
       "       [-0.16755139,  0.60224912, -0.08842793]])"
      ]
     },
     "execution_count": 346,
     "metadata": {},
     "output_type": "execute_result"
    }
   ],
   "source": [
    "X_train_num_ndarray[:10]"
   ]
  },
  {
   "cell_type": "code",
   "execution_count": 347,
   "id": "0685d056",
   "metadata": {},
   "outputs": [],
   "source": [
    "X_train_num_columns_scaled_df = pd.DataFrame(X_train_num_ndarray, columns=X_train_num.columns)"
   ]
  },
  {
   "cell_type": "code",
   "execution_count": 348,
   "id": "bea4d00e",
   "metadata": {},
   "outputs": [
    {
     "data": {
      "text/html": [
       "<div>\n",
       "<style scoped>\n",
       "    .dataframe tbody tr th:only-of-type {\n",
       "        vertical-align: middle;\n",
       "    }\n",
       "\n",
       "    .dataframe tbody tr th {\n",
       "        vertical-align: top;\n",
       "    }\n",
       "\n",
       "    .dataframe thead th {\n",
       "        text-align: right;\n",
       "    }\n",
       "</style>\n",
       "<table border=\"1\" class=\"dataframe\">\n",
       "  <thead>\n",
       "    <tr style=\"text-align: right;\">\n",
       "      <th></th>\n",
       "      <th>age</th>\n",
       "      <th>bmi</th>\n",
       "      <th>children</th>\n",
       "    </tr>\n",
       "  </thead>\n",
       "  <tbody>\n",
       "    <tr>\n",
       "      <th>0</th>\n",
       "      <td>0.472227</td>\n",
       "      <td>-1.748572</td>\n",
       "      <td>0.734336</td>\n",
       "    </tr>\n",
       "    <tr>\n",
       "      <th>1</th>\n",
       "      <td>0.543313</td>\n",
       "      <td>-1.036704</td>\n",
       "      <td>-0.911192</td>\n",
       "    </tr>\n",
       "    <tr>\n",
       "      <th>2</th>\n",
       "      <td>0.898745</td>\n",
       "      <td>-0.937373</td>\n",
       "      <td>-0.911192</td>\n",
       "    </tr>\n",
       "    <tr>\n",
       "      <th>3</th>\n",
       "      <td>-0.025379</td>\n",
       "      <td>0.618804</td>\n",
       "      <td>3.202629</td>\n",
       "    </tr>\n",
       "    <tr>\n",
       "      <th>4</th>\n",
       "      <td>1.040918</td>\n",
       "      <td>-1.500246</td>\n",
       "      <td>1.557100</td>\n",
       "    </tr>\n",
       "  </tbody>\n",
       "</table>\n",
       "</div>"
      ],
      "text/plain": [
       "        age       bmi  children\n",
       "0  0.472227 -1.748572  0.734336\n",
       "1  0.543313 -1.036704 -0.911192\n",
       "2  0.898745 -0.937373 -0.911192\n",
       "3 -0.025379  0.618804  3.202629\n",
       "4  1.040918 -1.500246  1.557100"
      ]
     },
     "execution_count": 348,
     "metadata": {},
     "output_type": "execute_result"
    }
   ],
   "source": [
    "X_train_num_columns_scaled_df.head()"
   ]
  },
  {
   "cell_type": "code",
   "execution_count": null,
   "id": "02723584",
   "metadata": {},
   "outputs": [],
   "source": []
  },
  {
   "cell_type": "markdown",
   "id": "730c3896",
   "metadata": {},
   "source": [
    "## Dummy Encoding on train set"
   ]
  },
  {
   "cell_type": "code",
   "execution_count": 439,
   "id": "e70bd0e1",
   "metadata": {},
   "outputs": [],
   "source": [
    "X_train_dummy_columns_df=pd.get_dummies(X_train_cat, drop_first = True)"
   ]
  },
  {
   "cell_type": "code",
   "execution_count": 440,
   "id": "160e1196",
   "metadata": {},
   "outputs": [
    {
     "data": {
      "text/html": [
       "<div>\n",
       "<style scoped>\n",
       "    .dataframe tbody tr th:only-of-type {\n",
       "        vertical-align: middle;\n",
       "    }\n",
       "\n",
       "    .dataframe tbody tr th {\n",
       "        vertical-align: top;\n",
       "    }\n",
       "\n",
       "    .dataframe thead th {\n",
       "        text-align: right;\n",
       "    }\n",
       "</style>\n",
       "<table border=\"1\" class=\"dataframe\">\n",
       "  <thead>\n",
       "    <tr style=\"text-align: right;\">\n",
       "      <th></th>\n",
       "      <th>sex_male</th>\n",
       "      <th>smoker_yes</th>\n",
       "      <th>region_northwest</th>\n",
       "      <th>region_southeast</th>\n",
       "      <th>region_southwest</th>\n",
       "    </tr>\n",
       "  </thead>\n",
       "  <tbody>\n",
       "    <tr>\n",
       "      <th>560</th>\n",
       "      <td>0</td>\n",
       "      <td>0</td>\n",
       "      <td>1</td>\n",
       "      <td>0</td>\n",
       "      <td>0</td>\n",
       "    </tr>\n",
       "    <tr>\n",
       "      <th>1285</th>\n",
       "      <td>0</td>\n",
       "      <td>0</td>\n",
       "      <td>0</td>\n",
       "      <td>0</td>\n",
       "      <td>0</td>\n",
       "    </tr>\n",
       "    <tr>\n",
       "      <th>1142</th>\n",
       "      <td>0</td>\n",
       "      <td>0</td>\n",
       "      <td>0</td>\n",
       "      <td>1</td>\n",
       "      <td>0</td>\n",
       "    </tr>\n",
       "    <tr>\n",
       "      <th>969</th>\n",
       "      <td>0</td>\n",
       "      <td>0</td>\n",
       "      <td>0</td>\n",
       "      <td>1</td>\n",
       "      <td>0</td>\n",
       "    </tr>\n",
       "    <tr>\n",
       "      <th>486</th>\n",
       "      <td>0</td>\n",
       "      <td>0</td>\n",
       "      <td>1</td>\n",
       "      <td>0</td>\n",
       "      <td>0</td>\n",
       "    </tr>\n",
       "    <tr>\n",
       "      <th>...</th>\n",
       "      <td>...</td>\n",
       "      <td>...</td>\n",
       "      <td>...</td>\n",
       "      <td>...</td>\n",
       "      <td>...</td>\n",
       "    </tr>\n",
       "    <tr>\n",
       "      <th>1095</th>\n",
       "      <td>0</td>\n",
       "      <td>0</td>\n",
       "      <td>0</td>\n",
       "      <td>0</td>\n",
       "      <td>0</td>\n",
       "    </tr>\n",
       "    <tr>\n",
       "      <th>1130</th>\n",
       "      <td>0</td>\n",
       "      <td>0</td>\n",
       "      <td>0</td>\n",
       "      <td>1</td>\n",
       "      <td>0</td>\n",
       "    </tr>\n",
       "    <tr>\n",
       "      <th>1294</th>\n",
       "      <td>1</td>\n",
       "      <td>0</td>\n",
       "      <td>0</td>\n",
       "      <td>0</td>\n",
       "      <td>0</td>\n",
       "    </tr>\n",
       "    <tr>\n",
       "      <th>860</th>\n",
       "      <td>0</td>\n",
       "      <td>1</td>\n",
       "      <td>0</td>\n",
       "      <td>0</td>\n",
       "      <td>1</td>\n",
       "    </tr>\n",
       "    <tr>\n",
       "      <th>1126</th>\n",
       "      <td>1</td>\n",
       "      <td>0</td>\n",
       "      <td>0</td>\n",
       "      <td>0</td>\n",
       "      <td>1</td>\n",
       "    </tr>\n",
       "  </tbody>\n",
       "</table>\n",
       "<p>1070 rows × 5 columns</p>\n",
       "</div>"
      ],
      "text/plain": [
       "      sex_male  smoker_yes  region_northwest  region_southeast  \\\n",
       "560          0           0                 1                 0   \n",
       "1285         0           0                 0                 0   \n",
       "1142         0           0                 0                 1   \n",
       "969          0           0                 0                 1   \n",
       "486          0           0                 1                 0   \n",
       "...        ...         ...               ...               ...   \n",
       "1095         0           0                 0                 0   \n",
       "1130         0           0                 0                 1   \n",
       "1294         1           0                 0                 0   \n",
       "860          0           1                 0                 0   \n",
       "1126         1           0                 0                 0   \n",
       "\n",
       "      region_southwest  \n",
       "560                  0  \n",
       "1285                 0  \n",
       "1142                 0  \n",
       "969                  0  \n",
       "486                  0  \n",
       "...                ...  \n",
       "1095                 0  \n",
       "1130                 0  \n",
       "1294                 0  \n",
       "860                  1  \n",
       "1126                 1  \n",
       "\n",
       "[1070 rows x 5 columns]"
      ]
     },
     "execution_count": 440,
     "metadata": {},
     "output_type": "execute_result"
    }
   ],
   "source": [
    "X_train_dummy_columns_df"
   ]
  },
  {
   "cell_type": "code",
   "execution_count": 441,
   "id": "aac0a612",
   "metadata": {
    "scrolled": true
   },
   "outputs": [
    {
     "data": {
      "text/plain": [
       "Int64Index([ 560, 1285, 1142,  969,  486,  170,  277, 1033,  209,  947,\n",
       "            ...\n",
       "             330, 1238,  466,  121, 1044, 1095, 1130, 1294,  860, 1126],\n",
       "           dtype='int64', length=1070)"
      ]
     },
     "execution_count": 441,
     "metadata": {},
     "output_type": "execute_result"
    }
   ],
   "source": [
    "X_train_num_columns_scaled_df.index"
   ]
  },
  {
   "cell_type": "code",
   "execution_count": 442,
   "id": "9d166ac9",
   "metadata": {},
   "outputs": [
    {
     "data": {
      "text/plain": [
       "Int64Index([ 560, 1285, 1142,  969,  486,  170,  277, 1033,  209,  947,\n",
       "            ...\n",
       "             330, 1238,  466,  121, 1044, 1095, 1130, 1294,  860, 1126],\n",
       "           dtype='int64', length=1070)"
      ]
     },
     "execution_count": 442,
     "metadata": {},
     "output_type": "execute_result"
    }
   ],
   "source": [
    "X_train_dummy_columns_df.index"
   ]
  },
  {
   "cell_type": "code",
   "execution_count": 443,
   "id": "49470b4a",
   "metadata": {},
   "outputs": [],
   "source": [
    "X_train_num_columns_scaled_df.index = X_train_dummy_columns_df.index"
   ]
  },
  {
   "cell_type": "markdown",
   "id": "f79f0bca",
   "metadata": {},
   "source": [
    "## Combining Preprocessed Results on Train Dataset"
   ]
  },
  {
   "cell_type": "code",
   "execution_count": 444,
   "id": "aca1e7cb",
   "metadata": {},
   "outputs": [],
   "source": [
    "X_train_final = pd.concat([X_train_num_columns_scaled_df, X_train_dummy_columns_df],axis=1)"
   ]
  },
  {
   "cell_type": "code",
   "execution_count": 445,
   "id": "bffaaab8",
   "metadata": {},
   "outputs": [
    {
     "data": {
      "text/html": [
       "<div>\n",
       "<style scoped>\n",
       "    .dataframe tbody tr th:only-of-type {\n",
       "        vertical-align: middle;\n",
       "    }\n",
       "\n",
       "    .dataframe tbody tr th {\n",
       "        vertical-align: top;\n",
       "    }\n",
       "\n",
       "    .dataframe thead th {\n",
       "        text-align: right;\n",
       "    }\n",
       "</style>\n",
       "<table border=\"1\" class=\"dataframe\">\n",
       "  <thead>\n",
       "    <tr style=\"text-align: right;\">\n",
       "      <th></th>\n",
       "      <th>age</th>\n",
       "      <th>bmi</th>\n",
       "      <th>children</th>\n",
       "      <th>sex_male</th>\n",
       "      <th>smoker_yes</th>\n",
       "      <th>region_northwest</th>\n",
       "      <th>region_southeast</th>\n",
       "      <th>region_southwest</th>\n",
       "    </tr>\n",
       "  </thead>\n",
       "  <tbody>\n",
       "    <tr>\n",
       "      <th>560</th>\n",
       "      <td>0.472227</td>\n",
       "      <td>-1.748572</td>\n",
       "      <td>0.734336</td>\n",
       "      <td>0</td>\n",
       "      <td>0</td>\n",
       "      <td>1</td>\n",
       "      <td>0</td>\n",
       "      <td>0</td>\n",
       "    </tr>\n",
       "    <tr>\n",
       "      <th>1285</th>\n",
       "      <td>0.543313</td>\n",
       "      <td>-1.036704</td>\n",
       "      <td>-0.911192</td>\n",
       "      <td>0</td>\n",
       "      <td>0</td>\n",
       "      <td>0</td>\n",
       "      <td>0</td>\n",
       "      <td>0</td>\n",
       "    </tr>\n",
       "    <tr>\n",
       "      <th>1142</th>\n",
       "      <td>0.898745</td>\n",
       "      <td>-0.937373</td>\n",
       "      <td>-0.911192</td>\n",
       "      <td>0</td>\n",
       "      <td>0</td>\n",
       "      <td>0</td>\n",
       "      <td>1</td>\n",
       "      <td>0</td>\n",
       "    </tr>\n",
       "    <tr>\n",
       "      <th>969</th>\n",
       "      <td>-0.025379</td>\n",
       "      <td>0.618804</td>\n",
       "      <td>3.202629</td>\n",
       "      <td>0</td>\n",
       "      <td>0</td>\n",
       "      <td>0</td>\n",
       "      <td>1</td>\n",
       "      <td>0</td>\n",
       "    </tr>\n",
       "    <tr>\n",
       "      <th>486</th>\n",
       "      <td>1.040918</td>\n",
       "      <td>-1.500246</td>\n",
       "      <td>1.557100</td>\n",
       "      <td>0</td>\n",
       "      <td>0</td>\n",
       "      <td>1</td>\n",
       "      <td>0</td>\n",
       "      <td>0</td>\n",
       "    </tr>\n",
       "  </tbody>\n",
       "</table>\n",
       "</div>"
      ],
      "text/plain": [
       "           age       bmi  children  sex_male  smoker_yes  region_northwest  \\\n",
       "560   0.472227 -1.748572  0.734336         0           0                 1   \n",
       "1285  0.543313 -1.036704 -0.911192         0           0                 0   \n",
       "1142  0.898745 -0.937373 -0.911192         0           0                 0   \n",
       "969  -0.025379  0.618804  3.202629         0           0                 0   \n",
       "486   1.040918 -1.500246  1.557100         0           0                 1   \n",
       "\n",
       "      region_southeast  region_southwest  \n",
       "560                  0                 0  \n",
       "1285                 0                 0  \n",
       "1142                 1                 0  \n",
       "969                  1                 0  \n",
       "486                  0                 0  "
      ]
     },
     "execution_count": 445,
     "metadata": {},
     "output_type": "execute_result"
    }
   ],
   "source": [
    "X_train_final.head()"
   ]
  },
  {
   "cell_type": "markdown",
   "id": "431b9552",
   "metadata": {},
   "source": [
    "# Preprocessing on Test Dataset"
   ]
  },
  {
   "cell_type": "code",
   "execution_count": 446,
   "id": "d1d9e202",
   "metadata": {},
   "outputs": [
    {
     "data": {
      "text/html": [
       "<div>\n",
       "<style scoped>\n",
       "    .dataframe tbody tr th:only-of-type {\n",
       "        vertical-align: middle;\n",
       "    }\n",
       "\n",
       "    .dataframe tbody tr th {\n",
       "        vertical-align: top;\n",
       "    }\n",
       "\n",
       "    .dataframe thead th {\n",
       "        text-align: right;\n",
       "    }\n",
       "</style>\n",
       "<table border=\"1\" class=\"dataframe\">\n",
       "  <thead>\n",
       "    <tr style=\"text-align: right;\">\n",
       "      <th></th>\n",
       "      <th>age</th>\n",
       "      <th>sex</th>\n",
       "      <th>bmi</th>\n",
       "      <th>children</th>\n",
       "      <th>smoker</th>\n",
       "      <th>region</th>\n",
       "    </tr>\n",
       "  </thead>\n",
       "  <tbody>\n",
       "    <tr>\n",
       "      <th>764</th>\n",
       "      <td>45</td>\n",
       "      <td>female</td>\n",
       "      <td>25.2</td>\n",
       "      <td>2</td>\n",
       "      <td>no</td>\n",
       "      <td>northeast</td>\n",
       "    </tr>\n",
       "    <tr>\n",
       "      <th>887</th>\n",
       "      <td>36</td>\n",
       "      <td>female</td>\n",
       "      <td>30.0</td>\n",
       "      <td>0</td>\n",
       "      <td>no</td>\n",
       "      <td>northwest</td>\n",
       "    </tr>\n",
       "    <tr>\n",
       "      <th>890</th>\n",
       "      <td>64</td>\n",
       "      <td>female</td>\n",
       "      <td>26.9</td>\n",
       "      <td>0</td>\n",
       "      <td>yes</td>\n",
       "      <td>northwest</td>\n",
       "    </tr>\n",
       "    <tr>\n",
       "      <th>1293</th>\n",
       "      <td>46</td>\n",
       "      <td>male</td>\n",
       "      <td>25.7</td>\n",
       "      <td>3</td>\n",
       "      <td>no</td>\n",
       "      <td>northwest</td>\n",
       "    </tr>\n",
       "    <tr>\n",
       "      <th>259</th>\n",
       "      <td>19</td>\n",
       "      <td>male</td>\n",
       "      <td>31.9</td>\n",
       "      <td>0</td>\n",
       "      <td>yes</td>\n",
       "      <td>northwest</td>\n",
       "    </tr>\n",
       "  </tbody>\n",
       "</table>\n",
       "</div>"
      ],
      "text/plain": [
       "      age     sex   bmi  children smoker     region\n",
       "764    45  female  25.2         2     no  northeast\n",
       "887    36  female  30.0         0     no  northwest\n",
       "890    64  female  26.9         0    yes  northwest\n",
       "1293   46    male  25.7         3     no  northwest\n",
       "259    19    male  31.9         0    yes  northwest"
      ]
     },
     "execution_count": 446,
     "metadata": {},
     "output_type": "execute_result"
    }
   ],
   "source": [
    "X_test.head()"
   ]
  },
  {
   "cell_type": "code",
   "execution_count": 447,
   "id": "da7675d5",
   "metadata": {},
   "outputs": [],
   "source": [
    "X_test_num = X_test.drop(['sex','smoker','region'],axis = 1)"
   ]
  },
  {
   "cell_type": "code",
   "execution_count": 448,
   "id": "3ab34dc0",
   "metadata": {},
   "outputs": [],
   "source": [
    "X_test_cat = X_test[['sex','smoker','region']]"
   ]
  },
  {
   "cell_type": "code",
   "execution_count": 449,
   "id": "b35a4495",
   "metadata": {},
   "outputs": [
    {
     "data": {
      "text/html": [
       "<div>\n",
       "<style scoped>\n",
       "    .dataframe tbody tr th:only-of-type {\n",
       "        vertical-align: middle;\n",
       "    }\n",
       "\n",
       "    .dataframe tbody tr th {\n",
       "        vertical-align: top;\n",
       "    }\n",
       "\n",
       "    .dataframe thead th {\n",
       "        text-align: right;\n",
       "    }\n",
       "</style>\n",
       "<table border=\"1\" class=\"dataframe\">\n",
       "  <thead>\n",
       "    <tr style=\"text-align: right;\">\n",
       "      <th></th>\n",
       "      <th>age</th>\n",
       "      <th>bmi</th>\n",
       "      <th>children</th>\n",
       "    </tr>\n",
       "  </thead>\n",
       "  <tbody>\n",
       "    <tr>\n",
       "      <th>764</th>\n",
       "      <td>45</td>\n",
       "      <td>25.2</td>\n",
       "      <td>2</td>\n",
       "    </tr>\n",
       "    <tr>\n",
       "      <th>887</th>\n",
       "      <td>36</td>\n",
       "      <td>30.0</td>\n",
       "      <td>0</td>\n",
       "    </tr>\n",
       "    <tr>\n",
       "      <th>890</th>\n",
       "      <td>64</td>\n",
       "      <td>26.9</td>\n",
       "      <td>0</td>\n",
       "    </tr>\n",
       "    <tr>\n",
       "      <th>1293</th>\n",
       "      <td>46</td>\n",
       "      <td>25.7</td>\n",
       "      <td>3</td>\n",
       "    </tr>\n",
       "    <tr>\n",
       "      <th>259</th>\n",
       "      <td>19</td>\n",
       "      <td>31.9</td>\n",
       "      <td>0</td>\n",
       "    </tr>\n",
       "  </tbody>\n",
       "</table>\n",
       "</div>"
      ],
      "text/plain": [
       "      age   bmi  children\n",
       "764    45  25.2         2\n",
       "887    36  30.0         0\n",
       "890    64  26.9         0\n",
       "1293   46  25.7         3\n",
       "259    19  31.9         0"
      ]
     },
     "execution_count": 449,
     "metadata": {},
     "output_type": "execute_result"
    }
   ],
   "source": [
    "X_test_num.head()"
   ]
  },
  {
   "cell_type": "code",
   "execution_count": 450,
   "id": "fb17c17c",
   "metadata": {},
   "outputs": [
    {
     "data": {
      "text/html": [
       "<div>\n",
       "<style scoped>\n",
       "    .dataframe tbody tr th:only-of-type {\n",
       "        vertical-align: middle;\n",
       "    }\n",
       "\n",
       "    .dataframe tbody tr th {\n",
       "        vertical-align: top;\n",
       "    }\n",
       "\n",
       "    .dataframe thead th {\n",
       "        text-align: right;\n",
       "    }\n",
       "</style>\n",
       "<table border=\"1\" class=\"dataframe\">\n",
       "  <thead>\n",
       "    <tr style=\"text-align: right;\">\n",
       "      <th></th>\n",
       "      <th>sex</th>\n",
       "      <th>smoker</th>\n",
       "      <th>region</th>\n",
       "    </tr>\n",
       "  </thead>\n",
       "  <tbody>\n",
       "    <tr>\n",
       "      <th>764</th>\n",
       "      <td>female</td>\n",
       "      <td>no</td>\n",
       "      <td>northeast</td>\n",
       "    </tr>\n",
       "    <tr>\n",
       "      <th>887</th>\n",
       "      <td>female</td>\n",
       "      <td>no</td>\n",
       "      <td>northwest</td>\n",
       "    </tr>\n",
       "    <tr>\n",
       "      <th>890</th>\n",
       "      <td>female</td>\n",
       "      <td>yes</td>\n",
       "      <td>northwest</td>\n",
       "    </tr>\n",
       "    <tr>\n",
       "      <th>1293</th>\n",
       "      <td>male</td>\n",
       "      <td>no</td>\n",
       "      <td>northwest</td>\n",
       "    </tr>\n",
       "    <tr>\n",
       "      <th>259</th>\n",
       "      <td>male</td>\n",
       "      <td>yes</td>\n",
       "      <td>northwest</td>\n",
       "    </tr>\n",
       "  </tbody>\n",
       "</table>\n",
       "</div>"
      ],
      "text/plain": [
       "         sex smoker     region\n",
       "764   female     no  northeast\n",
       "887   female     no  northwest\n",
       "890   female    yes  northwest\n",
       "1293    male     no  northwest\n",
       "259     male    yes  northwest"
      ]
     },
     "execution_count": 450,
     "metadata": {},
     "output_type": "execute_result"
    }
   ],
   "source": [
    "X_test_cat.head()"
   ]
  },
  {
   "cell_type": "code",
   "execution_count": 451,
   "id": "58bc8836",
   "metadata": {},
   "outputs": [],
   "source": [
    "# Scaling on numerical Data\n",
    "X_test_num_ndarray = scaler.transform(X_test_num)"
   ]
  },
  {
   "cell_type": "code",
   "execution_count": 452,
   "id": "f08a59d8",
   "metadata": {},
   "outputs": [],
   "source": [
    "X_test_num_columns_scaled_df = pd.DataFrame(X_test_num_ndarray, columns=X_test_num.columns)"
   ]
  },
  {
   "cell_type": "code",
   "execution_count": 453,
   "id": "429a59a3",
   "metadata": {},
   "outputs": [
    {
     "data": {
      "text/html": [
       "<div>\n",
       "<style scoped>\n",
       "    .dataframe tbody tr th:only-of-type {\n",
       "        vertical-align: middle;\n",
       "    }\n",
       "\n",
       "    .dataframe tbody tr th {\n",
       "        vertical-align: top;\n",
       "    }\n",
       "\n",
       "    .dataframe thead th {\n",
       "        text-align: right;\n",
       "    }\n",
       "</style>\n",
       "<table border=\"1\" class=\"dataframe\">\n",
       "  <thead>\n",
       "    <tr style=\"text-align: right;\">\n",
       "      <th></th>\n",
       "      <th>age</th>\n",
       "      <th>bmi</th>\n",
       "      <th>children</th>\n",
       "    </tr>\n",
       "  </thead>\n",
       "  <tbody>\n",
       "    <tr>\n",
       "      <th>0</th>\n",
       "      <td>0.401140</td>\n",
       "      <td>-0.887708</td>\n",
       "      <td>0.734336</td>\n",
       "    </tr>\n",
       "    <tr>\n",
       "      <th>1</th>\n",
       "      <td>-0.238638</td>\n",
       "      <td>-0.093064</td>\n",
       "      <td>-0.911192</td>\n",
       "    </tr>\n",
       "    <tr>\n",
       "      <th>2</th>\n",
       "      <td>1.751782</td>\n",
       "      <td>-0.606272</td>\n",
       "      <td>-0.911192</td>\n",
       "    </tr>\n",
       "    <tr>\n",
       "      <th>3</th>\n",
       "      <td>0.472227</td>\n",
       "      <td>-0.804933</td>\n",
       "      <td>1.557100</td>\n",
       "    </tr>\n",
       "    <tr>\n",
       "      <th>4</th>\n",
       "      <td>-1.447107</td>\n",
       "      <td>0.221482</td>\n",
       "      <td>-0.911192</td>\n",
       "    </tr>\n",
       "    <tr>\n",
       "      <th>...</th>\n",
       "      <td>...</td>\n",
       "      <td>...</td>\n",
       "      <td>...</td>\n",
       "    </tr>\n",
       "    <tr>\n",
       "      <th>263</th>\n",
       "      <td>1.680696</td>\n",
       "      <td>0.751245</td>\n",
       "      <td>-0.911192</td>\n",
       "    </tr>\n",
       "    <tr>\n",
       "      <th>264</th>\n",
       "      <td>1.325264</td>\n",
       "      <td>-0.556607</td>\n",
       "      <td>-0.911192</td>\n",
       "    </tr>\n",
       "    <tr>\n",
       "      <th>265</th>\n",
       "      <td>-0.096465</td>\n",
       "      <td>-0.424166</td>\n",
       "      <td>-0.088428</td>\n",
       "    </tr>\n",
       "    <tr>\n",
       "      <th>266</th>\n",
       "      <td>1.040918</td>\n",
       "      <td>2.787520</td>\n",
       "      <td>-0.911192</td>\n",
       "    </tr>\n",
       "    <tr>\n",
       "      <th>267</th>\n",
       "      <td>0.827659</td>\n",
       "      <td>0.602249</td>\n",
       "      <td>-0.088428</td>\n",
       "    </tr>\n",
       "  </tbody>\n",
       "</table>\n",
       "<p>268 rows × 3 columns</p>\n",
       "</div>"
      ],
      "text/plain": [
       "          age       bmi  children\n",
       "0    0.401140 -0.887708  0.734336\n",
       "1   -0.238638 -0.093064 -0.911192\n",
       "2    1.751782 -0.606272 -0.911192\n",
       "3    0.472227 -0.804933  1.557100\n",
       "4   -1.447107  0.221482 -0.911192\n",
       "..        ...       ...       ...\n",
       "263  1.680696  0.751245 -0.911192\n",
       "264  1.325264 -0.556607 -0.911192\n",
       "265 -0.096465 -0.424166 -0.088428\n",
       "266  1.040918  2.787520 -0.911192\n",
       "267  0.827659  0.602249 -0.088428\n",
       "\n",
       "[268 rows x 3 columns]"
      ]
     },
     "execution_count": 453,
     "metadata": {},
     "output_type": "execute_result"
    }
   ],
   "source": [
    "X_test_num_columns_scaled_df"
   ]
  },
  {
   "cell_type": "markdown",
   "id": "36e59305",
   "metadata": {},
   "source": [
    "## Dummy Encoding on test set"
   ]
  },
  {
   "cell_type": "code",
   "execution_count": 454,
   "id": "f345ce6d",
   "metadata": {},
   "outputs": [],
   "source": [
    "X_test_dummy_columns_df=pd.get_dummies(X_test_cat, drop_first = True)"
   ]
  },
  {
   "cell_type": "code",
   "execution_count": 455,
   "id": "4cc7e060",
   "metadata": {
    "scrolled": true
   },
   "outputs": [
    {
     "data": {
      "text/html": [
       "<div>\n",
       "<style scoped>\n",
       "    .dataframe tbody tr th:only-of-type {\n",
       "        vertical-align: middle;\n",
       "    }\n",
       "\n",
       "    .dataframe tbody tr th {\n",
       "        vertical-align: top;\n",
       "    }\n",
       "\n",
       "    .dataframe thead th {\n",
       "        text-align: right;\n",
       "    }\n",
       "</style>\n",
       "<table border=\"1\" class=\"dataframe\">\n",
       "  <thead>\n",
       "    <tr style=\"text-align: right;\">\n",
       "      <th></th>\n",
       "      <th>sex_male</th>\n",
       "      <th>smoker_yes</th>\n",
       "      <th>region_northwest</th>\n",
       "      <th>region_southeast</th>\n",
       "      <th>region_southwest</th>\n",
       "    </tr>\n",
       "  </thead>\n",
       "  <tbody>\n",
       "    <tr>\n",
       "      <th>764</th>\n",
       "      <td>0</td>\n",
       "      <td>0</td>\n",
       "      <td>0</td>\n",
       "      <td>0</td>\n",
       "      <td>0</td>\n",
       "    </tr>\n",
       "    <tr>\n",
       "      <th>887</th>\n",
       "      <td>0</td>\n",
       "      <td>0</td>\n",
       "      <td>1</td>\n",
       "      <td>0</td>\n",
       "      <td>0</td>\n",
       "    </tr>\n",
       "    <tr>\n",
       "      <th>890</th>\n",
       "      <td>0</td>\n",
       "      <td>1</td>\n",
       "      <td>1</td>\n",
       "      <td>0</td>\n",
       "      <td>0</td>\n",
       "    </tr>\n",
       "    <tr>\n",
       "      <th>1293</th>\n",
       "      <td>1</td>\n",
       "      <td>0</td>\n",
       "      <td>1</td>\n",
       "      <td>0</td>\n",
       "      <td>0</td>\n",
       "    </tr>\n",
       "    <tr>\n",
       "      <th>259</th>\n",
       "      <td>1</td>\n",
       "      <td>1</td>\n",
       "      <td>1</td>\n",
       "      <td>0</td>\n",
       "      <td>0</td>\n",
       "    </tr>\n",
       "  </tbody>\n",
       "</table>\n",
       "</div>"
      ],
      "text/plain": [
       "      sex_male  smoker_yes  region_northwest  region_southeast  \\\n",
       "764          0           0                 0                 0   \n",
       "887          0           0                 1                 0   \n",
       "890          0           1                 1                 0   \n",
       "1293         1           0                 1                 0   \n",
       "259          1           1                 1                 0   \n",
       "\n",
       "      region_southwest  \n",
       "764                  0  \n",
       "887                  0  \n",
       "890                  0  \n",
       "1293                 0  \n",
       "259                  0  "
      ]
     },
     "execution_count": 455,
     "metadata": {},
     "output_type": "execute_result"
    }
   ],
   "source": [
    "X_test_dummy_columns_df.head()"
   ]
  },
  {
   "cell_type": "code",
   "execution_count": 456,
   "id": "b402d38d",
   "metadata": {},
   "outputs": [
    {
     "data": {
      "text/plain": [
       "(268, 5)"
      ]
     },
     "execution_count": 456,
     "metadata": {},
     "output_type": "execute_result"
    }
   ],
   "source": [
    "X_test_dummy_columns_df.shape"
   ]
  },
  {
   "cell_type": "code",
   "execution_count": 457,
   "id": "7f4f61e3",
   "metadata": {},
   "outputs": [
    {
     "data": {
      "text/plain": [
       "RangeIndex(start=0, stop=268, step=1)"
      ]
     },
     "execution_count": 457,
     "metadata": {},
     "output_type": "execute_result"
    }
   ],
   "source": [
    "X_test_num_columns_scaled_df.index"
   ]
  },
  {
   "cell_type": "code",
   "execution_count": 458,
   "id": "c0a7f847",
   "metadata": {},
   "outputs": [
    {
     "data": {
      "text/plain": [
       "Int64Index([ 764,  887,  890, 1293,  259, 1312,  899,  752, 1286,  707,\n",
       "            ...\n",
       "             900,  708,   54,  370,  741,  109,  575,  535,  543,  846],\n",
       "           dtype='int64', length=268)"
      ]
     },
     "execution_count": 458,
     "metadata": {},
     "output_type": "execute_result"
    }
   ],
   "source": [
    "X_test_dummy_columns_df.index"
   ]
  },
  {
   "cell_type": "code",
   "execution_count": 459,
   "id": "ec836089",
   "metadata": {},
   "outputs": [],
   "source": [
    "X_test_num_columns_scaled_df.index = X_test_dummy_columns_df.index"
   ]
  },
  {
   "cell_type": "markdown",
   "id": "78d624be",
   "metadata": {},
   "source": [
    "## Combining Preprocessed Results on Test Dataset"
   ]
  },
  {
   "cell_type": "code",
   "execution_count": 460,
   "id": "be3f7c1e",
   "metadata": {},
   "outputs": [],
   "source": [
    "X_test_final = pd.concat([X_test_num_columns_scaled_df, X_test_dummy_columns_df],axis=1)"
   ]
  },
  {
   "cell_type": "code",
   "execution_count": 461,
   "id": "79a94e7b",
   "metadata": {},
   "outputs": [
    {
     "data": {
      "text/html": [
       "<div>\n",
       "<style scoped>\n",
       "    .dataframe tbody tr th:only-of-type {\n",
       "        vertical-align: middle;\n",
       "    }\n",
       "\n",
       "    .dataframe tbody tr th {\n",
       "        vertical-align: top;\n",
       "    }\n",
       "\n",
       "    .dataframe thead th {\n",
       "        text-align: right;\n",
       "    }\n",
       "</style>\n",
       "<table border=\"1\" class=\"dataframe\">\n",
       "  <thead>\n",
       "    <tr style=\"text-align: right;\">\n",
       "      <th></th>\n",
       "      <th>age</th>\n",
       "      <th>bmi</th>\n",
       "      <th>children</th>\n",
       "      <th>sex_male</th>\n",
       "      <th>smoker_yes</th>\n",
       "      <th>region_northwest</th>\n",
       "      <th>region_southeast</th>\n",
       "      <th>region_southwest</th>\n",
       "    </tr>\n",
       "  </thead>\n",
       "  <tbody>\n",
       "    <tr>\n",
       "      <th>764</th>\n",
       "      <td>0.401140</td>\n",
       "      <td>-0.887708</td>\n",
       "      <td>0.734336</td>\n",
       "      <td>0</td>\n",
       "      <td>0</td>\n",
       "      <td>0</td>\n",
       "      <td>0</td>\n",
       "      <td>0</td>\n",
       "    </tr>\n",
       "    <tr>\n",
       "      <th>887</th>\n",
       "      <td>-0.238638</td>\n",
       "      <td>-0.093064</td>\n",
       "      <td>-0.911192</td>\n",
       "      <td>0</td>\n",
       "      <td>0</td>\n",
       "      <td>1</td>\n",
       "      <td>0</td>\n",
       "      <td>0</td>\n",
       "    </tr>\n",
       "    <tr>\n",
       "      <th>890</th>\n",
       "      <td>1.751782</td>\n",
       "      <td>-0.606272</td>\n",
       "      <td>-0.911192</td>\n",
       "      <td>0</td>\n",
       "      <td>1</td>\n",
       "      <td>1</td>\n",
       "      <td>0</td>\n",
       "      <td>0</td>\n",
       "    </tr>\n",
       "    <tr>\n",
       "      <th>1293</th>\n",
       "      <td>0.472227</td>\n",
       "      <td>-0.804933</td>\n",
       "      <td>1.557100</td>\n",
       "      <td>1</td>\n",
       "      <td>0</td>\n",
       "      <td>1</td>\n",
       "      <td>0</td>\n",
       "      <td>0</td>\n",
       "    </tr>\n",
       "    <tr>\n",
       "      <th>259</th>\n",
       "      <td>-1.447107</td>\n",
       "      <td>0.221482</td>\n",
       "      <td>-0.911192</td>\n",
       "      <td>1</td>\n",
       "      <td>1</td>\n",
       "      <td>1</td>\n",
       "      <td>0</td>\n",
       "      <td>0</td>\n",
       "    </tr>\n",
       "    <tr>\n",
       "      <th>...</th>\n",
       "      <td>...</td>\n",
       "      <td>...</td>\n",
       "      <td>...</td>\n",
       "      <td>...</td>\n",
       "      <td>...</td>\n",
       "      <td>...</td>\n",
       "      <td>...</td>\n",
       "      <td>...</td>\n",
       "    </tr>\n",
       "    <tr>\n",
       "      <th>109</th>\n",
       "      <td>1.680696</td>\n",
       "      <td>0.751245</td>\n",
       "      <td>-0.911192</td>\n",
       "      <td>1</td>\n",
       "      <td>1</td>\n",
       "      <td>0</td>\n",
       "      <td>1</td>\n",
       "      <td>0</td>\n",
       "    </tr>\n",
       "    <tr>\n",
       "      <th>575</th>\n",
       "      <td>1.325264</td>\n",
       "      <td>-0.556607</td>\n",
       "      <td>-0.911192</td>\n",
       "      <td>0</td>\n",
       "      <td>0</td>\n",
       "      <td>1</td>\n",
       "      <td>0</td>\n",
       "      <td>0</td>\n",
       "    </tr>\n",
       "    <tr>\n",
       "      <th>535</th>\n",
       "      <td>-0.096465</td>\n",
       "      <td>-0.424166</td>\n",
       "      <td>-0.088428</td>\n",
       "      <td>1</td>\n",
       "      <td>0</td>\n",
       "      <td>0</td>\n",
       "      <td>0</td>\n",
       "      <td>0</td>\n",
       "    </tr>\n",
       "    <tr>\n",
       "      <th>543</th>\n",
       "      <td>1.040918</td>\n",
       "      <td>2.787520</td>\n",
       "      <td>-0.911192</td>\n",
       "      <td>0</td>\n",
       "      <td>1</td>\n",
       "      <td>0</td>\n",
       "      <td>1</td>\n",
       "      <td>0</td>\n",
       "    </tr>\n",
       "    <tr>\n",
       "      <th>846</th>\n",
       "      <td>0.827659</td>\n",
       "      <td>0.602249</td>\n",
       "      <td>-0.088428</td>\n",
       "      <td>0</td>\n",
       "      <td>0</td>\n",
       "      <td>0</td>\n",
       "      <td>0</td>\n",
       "      <td>1</td>\n",
       "    </tr>\n",
       "  </tbody>\n",
       "</table>\n",
       "<p>268 rows × 8 columns</p>\n",
       "</div>"
      ],
      "text/plain": [
       "           age       bmi  children  sex_male  smoker_yes  region_northwest  \\\n",
       "764   0.401140 -0.887708  0.734336         0           0                 0   \n",
       "887  -0.238638 -0.093064 -0.911192         0           0                 1   \n",
       "890   1.751782 -0.606272 -0.911192         0           1                 1   \n",
       "1293  0.472227 -0.804933  1.557100         1           0                 1   \n",
       "259  -1.447107  0.221482 -0.911192         1           1                 1   \n",
       "...        ...       ...       ...       ...         ...               ...   \n",
       "109   1.680696  0.751245 -0.911192         1           1                 0   \n",
       "575   1.325264 -0.556607 -0.911192         0           0                 1   \n",
       "535  -0.096465 -0.424166 -0.088428         1           0                 0   \n",
       "543   1.040918  2.787520 -0.911192         0           1                 0   \n",
       "846   0.827659  0.602249 -0.088428         0           0                 0   \n",
       "\n",
       "      region_southeast  region_southwest  \n",
       "764                  0                 0  \n",
       "887                  0                 0  \n",
       "890                  0                 0  \n",
       "1293                 0                 0  \n",
       "259                  0                 0  \n",
       "...                ...               ...  \n",
       "109                  1                 0  \n",
       "575                  0                 0  \n",
       "535                  0                 0  \n",
       "543                  1                 0  \n",
       "846                  0                 1  \n",
       "\n",
       "[268 rows x 8 columns]"
      ]
     },
     "execution_count": 461,
     "metadata": {},
     "output_type": "execute_result"
    }
   ],
   "source": [
    "X_test_final"
   ]
  },
  {
   "cell_type": "code",
   "execution_count": 462,
   "id": "bb5aea5d",
   "metadata": {},
   "outputs": [
    {
     "data": {
      "text/plain": [
       "((1070, 8), (268, 8))"
      ]
     },
     "execution_count": 462,
     "metadata": {},
     "output_type": "execute_result"
    }
   ],
   "source": [
    "X_train_final.shape, X_test_final.shape"
   ]
  },
  {
   "cell_type": "code",
   "execution_count": null,
   "id": "e8690eb4",
   "metadata": {},
   "outputs": [],
   "source": []
  },
  {
   "cell_type": "markdown",
   "id": "de63d6d5",
   "metadata": {},
   "source": [
    "# Using Model for prediction and calculation of MSE and RMSE"
   ]
  },
  {
   "cell_type": "markdown",
   "id": "05429945",
   "metadata": {},
   "source": [
    "### Ordinary Least Square Model(OLS)"
   ]
  },
  {
   "cell_type": "code",
   "execution_count": 463,
   "id": "6f9d0baf",
   "metadata": {},
   "outputs": [],
   "source": [
    "import statsmodels.api as sm"
   ]
  },
  {
   "cell_type": "code",
   "execution_count": 464,
   "id": "5d9dd502",
   "metadata": {},
   "outputs": [],
   "source": [
    "x_train_const = sm.add_constant(X_train_final)"
   ]
  },
  {
   "cell_type": "code",
   "execution_count": 465,
   "id": "712440f1",
   "metadata": {},
   "outputs": [
    {
     "data": {
      "text/html": [
       "<div>\n",
       "<style scoped>\n",
       "    .dataframe tbody tr th:only-of-type {\n",
       "        vertical-align: middle;\n",
       "    }\n",
       "\n",
       "    .dataframe tbody tr th {\n",
       "        vertical-align: top;\n",
       "    }\n",
       "\n",
       "    .dataframe thead th {\n",
       "        text-align: right;\n",
       "    }\n",
       "</style>\n",
       "<table border=\"1\" class=\"dataframe\">\n",
       "  <thead>\n",
       "    <tr style=\"text-align: right;\">\n",
       "      <th></th>\n",
       "      <th>const</th>\n",
       "      <th>age</th>\n",
       "      <th>bmi</th>\n",
       "      <th>children</th>\n",
       "      <th>sex_male</th>\n",
       "      <th>smoker_yes</th>\n",
       "      <th>region_northwest</th>\n",
       "      <th>region_southeast</th>\n",
       "      <th>region_southwest</th>\n",
       "    </tr>\n",
       "  </thead>\n",
       "  <tbody>\n",
       "    <tr>\n",
       "      <th>560</th>\n",
       "      <td>1.0</td>\n",
       "      <td>0.472227</td>\n",
       "      <td>-1.748572</td>\n",
       "      <td>0.734336</td>\n",
       "      <td>0</td>\n",
       "      <td>0</td>\n",
       "      <td>1</td>\n",
       "      <td>0</td>\n",
       "      <td>0</td>\n",
       "    </tr>\n",
       "    <tr>\n",
       "      <th>1285</th>\n",
       "      <td>1.0</td>\n",
       "      <td>0.543313</td>\n",
       "      <td>-1.036704</td>\n",
       "      <td>-0.911192</td>\n",
       "      <td>0</td>\n",
       "      <td>0</td>\n",
       "      <td>0</td>\n",
       "      <td>0</td>\n",
       "      <td>0</td>\n",
       "    </tr>\n",
       "    <tr>\n",
       "      <th>1142</th>\n",
       "      <td>1.0</td>\n",
       "      <td>0.898745</td>\n",
       "      <td>-0.937373</td>\n",
       "      <td>-0.911192</td>\n",
       "      <td>0</td>\n",
       "      <td>0</td>\n",
       "      <td>0</td>\n",
       "      <td>1</td>\n",
       "      <td>0</td>\n",
       "    </tr>\n",
       "    <tr>\n",
       "      <th>969</th>\n",
       "      <td>1.0</td>\n",
       "      <td>-0.025379</td>\n",
       "      <td>0.618804</td>\n",
       "      <td>3.202629</td>\n",
       "      <td>0</td>\n",
       "      <td>0</td>\n",
       "      <td>0</td>\n",
       "      <td>1</td>\n",
       "      <td>0</td>\n",
       "    </tr>\n",
       "    <tr>\n",
       "      <th>486</th>\n",
       "      <td>1.0</td>\n",
       "      <td>1.040918</td>\n",
       "      <td>-1.500246</td>\n",
       "      <td>1.557100</td>\n",
       "      <td>0</td>\n",
       "      <td>0</td>\n",
       "      <td>1</td>\n",
       "      <td>0</td>\n",
       "      <td>0</td>\n",
       "    </tr>\n",
       "    <tr>\n",
       "      <th>...</th>\n",
       "      <td>...</td>\n",
       "      <td>...</td>\n",
       "      <td>...</td>\n",
       "      <td>...</td>\n",
       "      <td>...</td>\n",
       "      <td>...</td>\n",
       "      <td>...</td>\n",
       "      <td>...</td>\n",
       "      <td>...</td>\n",
       "    </tr>\n",
       "    <tr>\n",
       "      <th>1095</th>\n",
       "      <td>1.0</td>\n",
       "      <td>-1.518194</td>\n",
       "      <td>0.138707</td>\n",
       "      <td>2.379865</td>\n",
       "      <td>0</td>\n",
       "      <td>0</td>\n",
       "      <td>0</td>\n",
       "      <td>0</td>\n",
       "      <td>0</td>\n",
       "    </tr>\n",
       "    <tr>\n",
       "      <th>1130</th>\n",
       "      <td>1.0</td>\n",
       "      <td>-0.025379</td>\n",
       "      <td>-1.102924</td>\n",
       "      <td>3.202629</td>\n",
       "      <td>0</td>\n",
       "      <td>0</td>\n",
       "      <td>0</td>\n",
       "      <td>1</td>\n",
       "      <td>0</td>\n",
       "    </tr>\n",
       "    <tr>\n",
       "      <th>1294</th>\n",
       "      <td>1.0</td>\n",
       "      <td>1.325264</td>\n",
       "      <td>-0.887708</td>\n",
       "      <td>-0.911192</td>\n",
       "      <td>1</td>\n",
       "      <td>0</td>\n",
       "      <td>0</td>\n",
       "      <td>0</td>\n",
       "      <td>0</td>\n",
       "    </tr>\n",
       "    <tr>\n",
       "      <th>860</th>\n",
       "      <td>1.0</td>\n",
       "      <td>-0.167551</td>\n",
       "      <td>2.820630</td>\n",
       "      <td>0.734336</td>\n",
       "      <td>0</td>\n",
       "      <td>1</td>\n",
       "      <td>0</td>\n",
       "      <td>0</td>\n",
       "      <td>1</td>\n",
       "    </tr>\n",
       "    <tr>\n",
       "      <th>1126</th>\n",
       "      <td>1.0</td>\n",
       "      <td>1.112004</td>\n",
       "      <td>-0.109619</td>\n",
       "      <td>-0.911192</td>\n",
       "      <td>1</td>\n",
       "      <td>0</td>\n",
       "      <td>0</td>\n",
       "      <td>0</td>\n",
       "      <td>1</td>\n",
       "    </tr>\n",
       "  </tbody>\n",
       "</table>\n",
       "<p>1070 rows × 9 columns</p>\n",
       "</div>"
      ],
      "text/plain": [
       "      const       age       bmi  children  sex_male  smoker_yes  \\\n",
       "560     1.0  0.472227 -1.748572  0.734336         0           0   \n",
       "1285    1.0  0.543313 -1.036704 -0.911192         0           0   \n",
       "1142    1.0  0.898745 -0.937373 -0.911192         0           0   \n",
       "969     1.0 -0.025379  0.618804  3.202629         0           0   \n",
       "486     1.0  1.040918 -1.500246  1.557100         0           0   \n",
       "...     ...       ...       ...       ...       ...         ...   \n",
       "1095    1.0 -1.518194  0.138707  2.379865         0           0   \n",
       "1130    1.0 -0.025379 -1.102924  3.202629         0           0   \n",
       "1294    1.0  1.325264 -0.887708 -0.911192         1           0   \n",
       "860     1.0 -0.167551  2.820630  0.734336         0           1   \n",
       "1126    1.0  1.112004 -0.109619 -0.911192         1           0   \n",
       "\n",
       "      region_northwest  region_southeast  region_southwest  \n",
       "560                  1                 0                 0  \n",
       "1285                 0                 0                 0  \n",
       "1142                 0                 1                 0  \n",
       "969                  0                 1                 0  \n",
       "486                  1                 0                 0  \n",
       "...                ...               ...               ...  \n",
       "1095                 0                 0                 0  \n",
       "1130                 0                 1                 0  \n",
       "1294                 0                 0                 0  \n",
       "860                  0                 0                 1  \n",
       "1126                 0                 0                 1  \n",
       "\n",
       "[1070 rows x 9 columns]"
      ]
     },
     "execution_count": 465,
     "metadata": {},
     "output_type": "execute_result"
    }
   ],
   "source": [
    "x_train_const"
   ]
  },
  {
   "cell_type": "code",
   "execution_count": 466,
   "id": "d102317c",
   "metadata": {},
   "outputs": [
    {
     "data": {
      "text/plain": [
       "560      9193.84\n",
       "1285     8534.67\n",
       "1142    27117.99\n",
       "969      8596.83\n",
       "486     12475.35\n",
       "Name: expenses, dtype: float64"
      ]
     },
     "execution_count": 466,
     "metadata": {},
     "output_type": "execute_result"
    }
   ],
   "source": [
    "y_train[:5]"
   ]
  },
  {
   "cell_type": "code",
   "execution_count": 467,
   "id": "2f63fa8e",
   "metadata": {},
   "outputs": [
    {
     "data": {
      "text/plain": [
       "((1070, 9), (1070,))"
      ]
     },
     "execution_count": 467,
     "metadata": {},
     "output_type": "execute_result"
    }
   ],
   "source": [
    "x_train_const.shape, y_train.shape"
   ]
  },
  {
   "cell_type": "code",
   "execution_count": 468,
   "id": "df831a32",
   "metadata": {},
   "outputs": [],
   "source": [
    "ols_model = sm.OLS( y_train, x_train_const)"
   ]
  },
  {
   "cell_type": "code",
   "execution_count": 469,
   "id": "0710aac0",
   "metadata": {},
   "outputs": [],
   "source": [
    "results = ols_model.fit()"
   ]
  },
  {
   "cell_type": "code",
   "execution_count": 470,
   "id": "eaa31e3e",
   "metadata": {},
   "outputs": [
    {
     "name": "stdout",
     "output_type": "stream",
     "text": [
      "                            OLS Regression Results                            \n",
      "==============================================================================\n",
      "Dep. Variable:               expenses   R-squared:                       0.742\n",
      "Model:                            OLS   Adj. R-squared:                  0.740\n",
      "Method:                 Least Squares   F-statistic:                     380.9\n",
      "Date:                Fri, 25 Mar 2022   Prob (F-statistic):          1.26e-305\n",
      "Time:                        23:39:00   Log-Likelihood:                -10845.\n",
      "No. Observations:                1070   AIC:                         2.171e+04\n",
      "Df Residuals:                    1061   BIC:                         2.175e+04\n",
      "Df Model:                           8                                         \n",
      "Covariance Type:            nonrobust                                         \n",
      "====================================================================================\n",
      "                       coef    std err          t      P>|t|      [0.025      0.975]\n",
      "------------------------------------------------------------------------------------\n",
      "const             8955.3727    434.311     20.620      0.000    8103.167    9807.578\n",
      "age               3614.6976    189.586     19.066      0.000    3242.692    3986.703\n",
      "bmi               2037.2686    196.138     10.387      0.000    1652.406    2422.131\n",
      "children           517.3309    187.961      2.752      0.006     148.513     886.149\n",
      "sex_male           -18.5197    376.156     -0.049      0.961    -756.614     719.574\n",
      "smoker_yes        2.365e+04    466.481     50.699      0.000    2.27e+04    2.46e+04\n",
      "region_northwest  -370.3135    536.846     -0.690      0.490   -1423.713     683.086\n",
      "region_southeast  -658.7124    539.769     -1.220      0.223   -1717.848     400.423\n",
      "region_southwest  -809.2299    535.174     -1.512      0.131   -1859.349     240.889\n",
      "==============================================================================\n",
      "Omnibus:                      252.451   Durbin-Watson:                   2.086\n",
      "Prob(Omnibus):                  0.000   Jarque-Bera (JB):              614.266\n",
      "Skew:                           1.253   Prob(JB):                    4.11e-134\n",
      "Kurtosis:                       5.738   Cond. No.                         5.59\n",
      "==============================================================================\n",
      "\n",
      "Notes:\n",
      "[1] Standard Errors assume that the covariance matrix of the errors is correctly specified.\n"
     ]
    }
   ],
   "source": [
    "print(results.summary())"
   ]
  },
  {
   "cell_type": "markdown",
   "id": "62ae185b",
   "metadata": {},
   "source": [
    "### The model can explain 74% variability of the whole dependent variacle by its independent variables. We can see that the variable 'sex_male', 'region_southwest', 'region_southeast', 'region_northwest' have the p-value greater than 0.05. So these variables are not significant. So we are removing these variables and rebuilding the model"
   ]
  },
  {
   "cell_type": "code",
   "execution_count": 471,
   "id": "8ebd8407",
   "metadata": {},
   "outputs": [],
   "source": [
    "x_train_const = x_train_const.drop(['sex_male', 'region_northwest', 'region_southeast', 'region_southwest'], axis=1)"
   ]
  },
  {
   "cell_type": "code",
   "execution_count": 472,
   "id": "69c4ecf7",
   "metadata": {},
   "outputs": [
    {
     "data": {
      "text/plain": [
       "(1070, 5)"
      ]
     },
     "execution_count": 472,
     "metadata": {},
     "output_type": "execute_result"
    }
   ],
   "source": [
    "x_train_const.shape"
   ]
  },
  {
   "cell_type": "code",
   "execution_count": 473,
   "id": "effa6632",
   "metadata": {},
   "outputs": [],
   "source": [
    "#x_train_const"
   ]
  },
  {
   "cell_type": "code",
   "execution_count": 474,
   "id": "bf63d83f",
   "metadata": {},
   "outputs": [
    {
     "data": {
      "text/plain": [
       "(1070,)"
      ]
     },
     "execution_count": 474,
     "metadata": {},
     "output_type": "execute_result"
    }
   ],
   "source": [
    "y_train.shape"
   ]
  },
  {
   "cell_type": "code",
   "execution_count": 475,
   "id": "d5235b5d",
   "metadata": {},
   "outputs": [],
   "source": [
    "#y_train"
   ]
  },
  {
   "cell_type": "code",
   "execution_count": 476,
   "id": "4afcc4ce",
   "metadata": {},
   "outputs": [],
   "source": [
    "ols_model1 = sm.OLS(y_train, x_train_const)"
   ]
  },
  {
   "cell_type": "code",
   "execution_count": 477,
   "id": "0567649a",
   "metadata": {},
   "outputs": [],
   "source": [
    "results1 = ols_model1.fit()"
   ]
  },
  {
   "cell_type": "code",
   "execution_count": 478,
   "id": "17852956",
   "metadata": {
    "scrolled": false
   },
   "outputs": [
    {
     "name": "stdout",
     "output_type": "stream",
     "text": [
      "                            OLS Regression Results                            \n",
      "==============================================================================\n",
      "Dep. Variable:               expenses   R-squared:                       0.741\n",
      "Model:                            OLS   Adj. R-squared:                  0.740\n",
      "Method:                 Least Squares   F-statistic:                     762.2\n",
      "Date:                Fri, 25 Mar 2022   Prob (F-statistic):          1.20e-310\n",
      "Time:                        23:42:06   Log-Likelihood:                -10847.\n",
      "No. Observations:                1070   AIC:                         2.170e+04\n",
      "Df Residuals:                    1065   BIC:                         2.173e+04\n",
      "Df Model:                           4                                         \n",
      "Covariance Type:            nonrobust                                         \n",
      "==============================================================================\n",
      "                 coef    std err          t      P>|t|      [0.025      0.975]\n",
      "------------------------------------------------------------------------------\n",
      "const       8482.9903    210.223     40.352      0.000    8070.492    8895.489\n",
      "age         3616.0648    189.266     19.106      0.000    3244.688    3987.442\n",
      "bmi         1979.3781    188.652     10.492      0.000    1609.206    2349.550\n",
      "children     519.6668    187.703      2.769      0.006     151.357     887.977\n",
      "smoker_yes  2.365e+04    464.175     50.956      0.000    2.27e+04    2.46e+04\n",
      "==============================================================================\n",
      "Omnibus:                      254.208   Durbin-Watson:                   2.086\n",
      "Prob(Omnibus):                  0.000   Jarque-Bera (JB):              620.294\n",
      "Skew:                           1.261   Prob(JB):                    2.02e-135\n",
      "Kurtosis:                       5.749   Cond. No.                         2.70\n",
      "==============================================================================\n",
      "\n",
      "Notes:\n",
      "[1] Standard Errors assume that the covariance matrix of the errors is correctly specified.\n"
     ]
    }
   ],
   "source": [
    "print(results1.summary())"
   ]
  },
  {
   "cell_type": "markdown",
   "id": "f4851053",
   "metadata": {},
   "source": [
    "### We can see that removing the variables also there is no change in the adjusted R2 score of the model. So we can go with this model"
   ]
  },
  {
   "cell_type": "markdown",
   "id": "10ebc264",
   "metadata": {},
   "source": [
    "### Prediction of y_train"
   ]
  },
  {
   "cell_type": "code",
   "execution_count": 479,
   "id": "0c82d4fd",
   "metadata": {},
   "outputs": [],
   "source": [
    "y_train_hat = results1.predict(x_train_const)"
   ]
  },
  {
   "cell_type": "code",
   "execution_count": 480,
   "id": "68c7bf1e",
   "metadata": {},
   "outputs": [
    {
     "data": {
      "text/plain": [
       "560      9193.84\n",
       "1285     8534.67\n",
       "1142    27117.99\n",
       "969      8596.83\n",
       "486     12475.35\n",
       "          ...   \n",
       "1095     4561.19\n",
       "1130     8582.30\n",
       "1294    11931.13\n",
       "860     46113.51\n",
       "1126    10214.64\n",
       "Name: expenses, Length: 1070, dtype: float64"
      ]
     },
     "execution_count": 480,
     "metadata": {},
     "output_type": "execute_result"
    }
   ],
   "source": [
    "y_train"
   ]
  },
  {
   "cell_type": "code",
   "execution_count": 481,
   "id": "244511bb",
   "metadata": {},
   "outputs": [
    {
     "data": {
      "text/plain": [
       "560      7111.116042\n",
       "1285     7922.099702\n",
       "1142     9403.978012\n",
       "969     11280.367072\n",
       "486     10086.635869\n",
       "            ...     \n",
       "1095     4504.393662\n",
       "1130     7872.415476\n",
       "1294    11044.603171\n",
       "860     37494.165066\n",
       "1126    11813.575711\n",
       "Length: 1070, dtype: float64"
      ]
     },
     "execution_count": 481,
     "metadata": {},
     "output_type": "execute_result"
    }
   ],
   "source": [
    "y_train_hat"
   ]
  },
  {
   "cell_type": "code",
   "execution_count": 482,
   "id": "85d05fb2",
   "metadata": {},
   "outputs": [],
   "source": [
    "concat_train_pred_df = pd.concat([y_train, y_train_hat],axis=1)"
   ]
  },
  {
   "cell_type": "code",
   "execution_count": 483,
   "id": "9f601f6e",
   "metadata": {},
   "outputs": [],
   "source": [
    "concat_train_pred_df.columns = ['Actual expense of train set', 'Predicted expense of train set']"
   ]
  },
  {
   "cell_type": "code",
   "execution_count": 484,
   "id": "9e9b8d74",
   "metadata": {},
   "outputs": [
    {
     "data": {
      "text/html": [
       "<div>\n",
       "<style scoped>\n",
       "    .dataframe tbody tr th:only-of-type {\n",
       "        vertical-align: middle;\n",
       "    }\n",
       "\n",
       "    .dataframe tbody tr th {\n",
       "        vertical-align: top;\n",
       "    }\n",
       "\n",
       "    .dataframe thead th {\n",
       "        text-align: right;\n",
       "    }\n",
       "</style>\n",
       "<table border=\"1\" class=\"dataframe\">\n",
       "  <thead>\n",
       "    <tr style=\"text-align: right;\">\n",
       "      <th></th>\n",
       "      <th>Actual expense of train set</th>\n",
       "      <th>Predicted expense of train set</th>\n",
       "    </tr>\n",
       "  </thead>\n",
       "  <tbody>\n",
       "    <tr>\n",
       "      <th>560</th>\n",
       "      <td>9193.84</td>\n",
       "      <td>7111.116042</td>\n",
       "    </tr>\n",
       "    <tr>\n",
       "      <th>1285</th>\n",
       "      <td>8534.67</td>\n",
       "      <td>7922.099702</td>\n",
       "    </tr>\n",
       "    <tr>\n",
       "      <th>1142</th>\n",
       "      <td>27117.99</td>\n",
       "      <td>9403.978012</td>\n",
       "    </tr>\n",
       "    <tr>\n",
       "      <th>969</th>\n",
       "      <td>8596.83</td>\n",
       "      <td>11280.367072</td>\n",
       "    </tr>\n",
       "    <tr>\n",
       "      <th>486</th>\n",
       "      <td>12475.35</td>\n",
       "      <td>10086.635869</td>\n",
       "    </tr>\n",
       "    <tr>\n",
       "      <th>...</th>\n",
       "      <td>...</td>\n",
       "      <td>...</td>\n",
       "    </tr>\n",
       "    <tr>\n",
       "      <th>1095</th>\n",
       "      <td>4561.19</td>\n",
       "      <td>4504.393662</td>\n",
       "    </tr>\n",
       "    <tr>\n",
       "      <th>1130</th>\n",
       "      <td>8582.30</td>\n",
       "      <td>7872.415476</td>\n",
       "    </tr>\n",
       "    <tr>\n",
       "      <th>1294</th>\n",
       "      <td>11931.13</td>\n",
       "      <td>11044.603171</td>\n",
       "    </tr>\n",
       "    <tr>\n",
       "      <th>860</th>\n",
       "      <td>46113.51</td>\n",
       "      <td>37494.165066</td>\n",
       "    </tr>\n",
       "    <tr>\n",
       "      <th>1126</th>\n",
       "      <td>10214.64</td>\n",
       "      <td>11813.575711</td>\n",
       "    </tr>\n",
       "  </tbody>\n",
       "</table>\n",
       "<p>1070 rows × 2 columns</p>\n",
       "</div>"
      ],
      "text/plain": [
       "      Actual expense of train set  Predicted expense of train set\n",
       "560                       9193.84                     7111.116042\n",
       "1285                      8534.67                     7922.099702\n",
       "1142                     27117.99                     9403.978012\n",
       "969                       8596.83                    11280.367072\n",
       "486                      12475.35                    10086.635869\n",
       "...                           ...                             ...\n",
       "1095                      4561.19                     4504.393662\n",
       "1130                      8582.30                     7872.415476\n",
       "1294                     11931.13                    11044.603171\n",
       "860                      46113.51                    37494.165066\n",
       "1126                     10214.64                    11813.575711\n",
       "\n",
       "[1070 rows x 2 columns]"
      ]
     },
     "execution_count": 484,
     "metadata": {},
     "output_type": "execute_result"
    }
   ],
   "source": [
    "concat_train_pred_df"
   ]
  },
  {
   "cell_type": "code",
   "execution_count": 485,
   "id": "a711078e",
   "metadata": {},
   "outputs": [],
   "source": [
    "from sklearn.metrics import mean_squared_error"
   ]
  },
  {
   "cell_type": "code",
   "execution_count": 486,
   "id": "b6b16970",
   "metadata": {},
   "outputs": [],
   "source": [
    "mse_ols_train = mean_squared_error(y_train, y_train_hat)"
   ]
  },
  {
   "cell_type": "code",
   "execution_count": 487,
   "id": "3bc1018a",
   "metadata": {},
   "outputs": [
    {
     "name": "stdout",
     "output_type": "stream",
     "text": [
      "Root Mean squared error for train set: 6112.77\n"
     ]
    }
   ],
   "source": [
    "print(\"Root Mean squared error for train set: %.2f\" % np.sqrt(mean_squared_error(y_train, y_train_hat)))"
   ]
  },
  {
   "cell_type": "markdown",
   "id": "94ccf2c3",
   "metadata": {},
   "source": [
    "### Predicting The test set"
   ]
  },
  {
   "cell_type": "code",
   "execution_count": 489,
   "id": "319d2338",
   "metadata": {},
   "outputs": [],
   "source": [
    "x_test_const = sm.add_constant(X_test_final)"
   ]
  },
  {
   "cell_type": "code",
   "execution_count": 493,
   "id": "81ddd3eb",
   "metadata": {},
   "outputs": [
    {
     "data": {
      "text/html": [
       "<div>\n",
       "<style scoped>\n",
       "    .dataframe tbody tr th:only-of-type {\n",
       "        vertical-align: middle;\n",
       "    }\n",
       "\n",
       "    .dataframe tbody tr th {\n",
       "        vertical-align: top;\n",
       "    }\n",
       "\n",
       "    .dataframe thead th {\n",
       "        text-align: right;\n",
       "    }\n",
       "</style>\n",
       "<table border=\"1\" class=\"dataframe\">\n",
       "  <thead>\n",
       "    <tr style=\"text-align: right;\">\n",
       "      <th></th>\n",
       "      <th>const</th>\n",
       "      <th>age</th>\n",
       "      <th>bmi</th>\n",
       "      <th>children</th>\n",
       "      <th>sex_male</th>\n",
       "      <th>smoker_yes</th>\n",
       "      <th>region_northwest</th>\n",
       "      <th>region_southeast</th>\n",
       "      <th>region_southwest</th>\n",
       "    </tr>\n",
       "  </thead>\n",
       "  <tbody>\n",
       "    <tr>\n",
       "      <th>764</th>\n",
       "      <td>1.0</td>\n",
       "      <td>0.401140</td>\n",
       "      <td>-0.887708</td>\n",
       "      <td>0.734336</td>\n",
       "      <td>0</td>\n",
       "      <td>0</td>\n",
       "      <td>0</td>\n",
       "      <td>0</td>\n",
       "      <td>0</td>\n",
       "    </tr>\n",
       "    <tr>\n",
       "      <th>887</th>\n",
       "      <td>1.0</td>\n",
       "      <td>-0.238638</td>\n",
       "      <td>-0.093064</td>\n",
       "      <td>-0.911192</td>\n",
       "      <td>0</td>\n",
       "      <td>0</td>\n",
       "      <td>1</td>\n",
       "      <td>0</td>\n",
       "      <td>0</td>\n",
       "    </tr>\n",
       "    <tr>\n",
       "      <th>890</th>\n",
       "      <td>1.0</td>\n",
       "      <td>1.751782</td>\n",
       "      <td>-0.606272</td>\n",
       "      <td>-0.911192</td>\n",
       "      <td>0</td>\n",
       "      <td>1</td>\n",
       "      <td>1</td>\n",
       "      <td>0</td>\n",
       "      <td>0</td>\n",
       "    </tr>\n",
       "    <tr>\n",
       "      <th>1293</th>\n",
       "      <td>1.0</td>\n",
       "      <td>0.472227</td>\n",
       "      <td>-0.804933</td>\n",
       "      <td>1.557100</td>\n",
       "      <td>1</td>\n",
       "      <td>0</td>\n",
       "      <td>1</td>\n",
       "      <td>0</td>\n",
       "      <td>0</td>\n",
       "    </tr>\n",
       "    <tr>\n",
       "      <th>259</th>\n",
       "      <td>1.0</td>\n",
       "      <td>-1.447107</td>\n",
       "      <td>0.221482</td>\n",
       "      <td>-0.911192</td>\n",
       "      <td>1</td>\n",
       "      <td>1</td>\n",
       "      <td>1</td>\n",
       "      <td>0</td>\n",
       "      <td>0</td>\n",
       "    </tr>\n",
       "    <tr>\n",
       "      <th>...</th>\n",
       "      <td>...</td>\n",
       "      <td>...</td>\n",
       "      <td>...</td>\n",
       "      <td>...</td>\n",
       "      <td>...</td>\n",
       "      <td>...</td>\n",
       "      <td>...</td>\n",
       "      <td>...</td>\n",
       "      <td>...</td>\n",
       "    </tr>\n",
       "    <tr>\n",
       "      <th>109</th>\n",
       "      <td>1.0</td>\n",
       "      <td>1.680696</td>\n",
       "      <td>0.751245</td>\n",
       "      <td>-0.911192</td>\n",
       "      <td>1</td>\n",
       "      <td>1</td>\n",
       "      <td>0</td>\n",
       "      <td>1</td>\n",
       "      <td>0</td>\n",
       "    </tr>\n",
       "    <tr>\n",
       "      <th>575</th>\n",
       "      <td>1.0</td>\n",
       "      <td>1.325264</td>\n",
       "      <td>-0.556607</td>\n",
       "      <td>-0.911192</td>\n",
       "      <td>0</td>\n",
       "      <td>0</td>\n",
       "      <td>1</td>\n",
       "      <td>0</td>\n",
       "      <td>0</td>\n",
       "    </tr>\n",
       "    <tr>\n",
       "      <th>535</th>\n",
       "      <td>1.0</td>\n",
       "      <td>-0.096465</td>\n",
       "      <td>-0.424166</td>\n",
       "      <td>-0.088428</td>\n",
       "      <td>1</td>\n",
       "      <td>0</td>\n",
       "      <td>0</td>\n",
       "      <td>0</td>\n",
       "      <td>0</td>\n",
       "    </tr>\n",
       "    <tr>\n",
       "      <th>543</th>\n",
       "      <td>1.0</td>\n",
       "      <td>1.040918</td>\n",
       "      <td>2.787520</td>\n",
       "      <td>-0.911192</td>\n",
       "      <td>0</td>\n",
       "      <td>1</td>\n",
       "      <td>0</td>\n",
       "      <td>1</td>\n",
       "      <td>0</td>\n",
       "    </tr>\n",
       "    <tr>\n",
       "      <th>846</th>\n",
       "      <td>1.0</td>\n",
       "      <td>0.827659</td>\n",
       "      <td>0.602249</td>\n",
       "      <td>-0.088428</td>\n",
       "      <td>0</td>\n",
       "      <td>0</td>\n",
       "      <td>0</td>\n",
       "      <td>0</td>\n",
       "      <td>1</td>\n",
       "    </tr>\n",
       "  </tbody>\n",
       "</table>\n",
       "<p>268 rows × 9 columns</p>\n",
       "</div>"
      ],
      "text/plain": [
       "      const       age       bmi  children  sex_male  smoker_yes  \\\n",
       "764     1.0  0.401140 -0.887708  0.734336         0           0   \n",
       "887     1.0 -0.238638 -0.093064 -0.911192         0           0   \n",
       "890     1.0  1.751782 -0.606272 -0.911192         0           1   \n",
       "1293    1.0  0.472227 -0.804933  1.557100         1           0   \n",
       "259     1.0 -1.447107  0.221482 -0.911192         1           1   \n",
       "...     ...       ...       ...       ...       ...         ...   \n",
       "109     1.0  1.680696  0.751245 -0.911192         1           1   \n",
       "575     1.0  1.325264 -0.556607 -0.911192         0           0   \n",
       "535     1.0 -0.096465 -0.424166 -0.088428         1           0   \n",
       "543     1.0  1.040918  2.787520 -0.911192         0           1   \n",
       "846     1.0  0.827659  0.602249 -0.088428         0           0   \n",
       "\n",
       "      region_northwest  region_southeast  region_southwest  \n",
       "764                  0                 0                 0  \n",
       "887                  1                 0                 0  \n",
       "890                  1                 0                 0  \n",
       "1293                 1                 0                 0  \n",
       "259                  1                 0                 0  \n",
       "...                ...               ...               ...  \n",
       "109                  0                 1                 0  \n",
       "575                  1                 0                 0  \n",
       "535                  0                 0                 0  \n",
       "543                  0                 1                 0  \n",
       "846                  0                 0                 1  \n",
       "\n",
       "[268 rows x 9 columns]"
      ]
     },
     "execution_count": 493,
     "metadata": {},
     "output_type": "execute_result"
    }
   ],
   "source": [
    "x_test_const"
   ]
  },
  {
   "cell_type": "code",
   "execution_count": 494,
   "id": "376a1e53",
   "metadata": {},
   "outputs": [],
   "source": [
    "x_test_const = x_test_const.drop(['sex_male', 'region_northwest', 'region_southeast', 'region_southwest'], axis=1)"
   ]
  },
  {
   "cell_type": "code",
   "execution_count": 495,
   "id": "a8c27bc8",
   "metadata": {},
   "outputs": [
    {
     "data": {
      "text/plain": [
       "(268, 5)"
      ]
     },
     "execution_count": 495,
     "metadata": {},
     "output_type": "execute_result"
    }
   ],
   "source": [
    "x_test_const.shape"
   ]
  },
  {
   "cell_type": "code",
   "execution_count": 496,
   "id": "80cc9425",
   "metadata": {},
   "outputs": [
    {
     "data": {
      "text/plain": [
       "(268,)"
      ]
     },
     "execution_count": 496,
     "metadata": {},
     "output_type": "execute_result"
    }
   ],
   "source": [
    "y_test.shape"
   ]
  },
  {
   "cell_type": "code",
   "execution_count": 497,
   "id": "6a12d020",
   "metadata": {},
   "outputs": [],
   "source": [
    "y_test_hat = results1.predict(x_test_const)"
   ]
  },
  {
   "cell_type": "code",
   "execution_count": 498,
   "id": "eced1f66",
   "metadata": {},
   "outputs": [
    {
     "data": {
      "text/plain": [
       "764      8558.038697\n",
       "887      6962.334745\n",
       "890     36796.339125\n",
       "1293     9406.498864\n",
       "259     26867.385925\n",
       "            ...     \n",
       "109     39226.324740\n",
       "575     11699.978478\n",
       "535      7248.628923\n",
       "543     40943.404585\n",
       "846     12621.983243\n",
       "Length: 268, dtype: float64"
      ]
     },
     "execution_count": 498,
     "metadata": {},
     "output_type": "execute_result"
    }
   ],
   "source": [
    "y_test_hat"
   ]
  },
  {
   "cell_type": "code",
   "execution_count": 488,
   "id": "eb8117ca",
   "metadata": {},
   "outputs": [
    {
     "data": {
      "text/plain": [
       "764      9095.07\n",
       "887      5272.18\n",
       "890     29330.98\n",
       "1293     9301.89\n",
       "259     33750.29\n",
       "          ...   \n",
       "109     47055.53\n",
       "575     12222.90\n",
       "535      6067.13\n",
       "543     63770.43\n",
       "846      9872.70\n",
       "Name: expenses, Length: 268, dtype: float64"
      ]
     },
     "execution_count": 488,
     "metadata": {},
     "output_type": "execute_result"
    }
   ],
   "source": [
    "y_test"
   ]
  },
  {
   "cell_type": "code",
   "execution_count": 502,
   "id": "16458949",
   "metadata": {},
   "outputs": [],
   "source": [
    "concat_test_pred_df = pd.concat([y_test, y_test_hat],axis=1)"
   ]
  },
  {
   "cell_type": "code",
   "execution_count": 503,
   "id": "cd94a56d",
   "metadata": {},
   "outputs": [],
   "source": [
    "concat_test_pred_df.columns = ['Actual expense for test set', 'predicted expense for test set']"
   ]
  },
  {
   "cell_type": "code",
   "execution_count": 504,
   "id": "7a0b3326",
   "metadata": {},
   "outputs": [
    {
     "data": {
      "text/html": [
       "<div>\n",
       "<style scoped>\n",
       "    .dataframe tbody tr th:only-of-type {\n",
       "        vertical-align: middle;\n",
       "    }\n",
       "\n",
       "    .dataframe tbody tr th {\n",
       "        vertical-align: top;\n",
       "    }\n",
       "\n",
       "    .dataframe thead th {\n",
       "        text-align: right;\n",
       "    }\n",
       "</style>\n",
       "<table border=\"1\" class=\"dataframe\">\n",
       "  <thead>\n",
       "    <tr style=\"text-align: right;\">\n",
       "      <th></th>\n",
       "      <th>Actual expense for test set</th>\n",
       "      <th>predicted expense for test set</th>\n",
       "    </tr>\n",
       "  </thead>\n",
       "  <tbody>\n",
       "    <tr>\n",
       "      <th>764</th>\n",
       "      <td>9095.07</td>\n",
       "      <td>8558.038697</td>\n",
       "    </tr>\n",
       "    <tr>\n",
       "      <th>887</th>\n",
       "      <td>5272.18</td>\n",
       "      <td>6962.334745</td>\n",
       "    </tr>\n",
       "    <tr>\n",
       "      <th>890</th>\n",
       "      <td>29330.98</td>\n",
       "      <td>36796.339125</td>\n",
       "    </tr>\n",
       "    <tr>\n",
       "      <th>1293</th>\n",
       "      <td>9301.89</td>\n",
       "      <td>9406.498864</td>\n",
       "    </tr>\n",
       "    <tr>\n",
       "      <th>259</th>\n",
       "      <td>33750.29</td>\n",
       "      <td>26867.385925</td>\n",
       "    </tr>\n",
       "    <tr>\n",
       "      <th>...</th>\n",
       "      <td>...</td>\n",
       "      <td>...</td>\n",
       "    </tr>\n",
       "    <tr>\n",
       "      <th>109</th>\n",
       "      <td>47055.53</td>\n",
       "      <td>39226.324740</td>\n",
       "    </tr>\n",
       "    <tr>\n",
       "      <th>575</th>\n",
       "      <td>12222.90</td>\n",
       "      <td>11699.978478</td>\n",
       "    </tr>\n",
       "    <tr>\n",
       "      <th>535</th>\n",
       "      <td>6067.13</td>\n",
       "      <td>7248.628923</td>\n",
       "    </tr>\n",
       "    <tr>\n",
       "      <th>543</th>\n",
       "      <td>63770.43</td>\n",
       "      <td>40943.404585</td>\n",
       "    </tr>\n",
       "    <tr>\n",
       "      <th>846</th>\n",
       "      <td>9872.70</td>\n",
       "      <td>12621.983243</td>\n",
       "    </tr>\n",
       "  </tbody>\n",
       "</table>\n",
       "<p>268 rows × 2 columns</p>\n",
       "</div>"
      ],
      "text/plain": [
       "      Actual expense for test set  predicted expense for test set\n",
       "764                       9095.07                     8558.038697\n",
       "887                       5272.18                     6962.334745\n",
       "890                      29330.98                    36796.339125\n",
       "1293                      9301.89                     9406.498864\n",
       "259                      33750.29                    26867.385925\n",
       "...                           ...                             ...\n",
       "109                      47055.53                    39226.324740\n",
       "575                      12222.90                    11699.978478\n",
       "535                       6067.13                     7248.628923\n",
       "543                      63770.43                    40943.404585\n",
       "846                       9872.70                    12621.983243\n",
       "\n",
       "[268 rows x 2 columns]"
      ]
     },
     "execution_count": 504,
     "metadata": {},
     "output_type": "execute_result"
    }
   ],
   "source": [
    "concat_test_pred_df"
   ]
  },
  {
   "cell_type": "code",
   "execution_count": 505,
   "id": "17ec3160",
   "metadata": {},
   "outputs": [
    {
     "name": "stdout",
     "output_type": "stream",
     "text": [
      "Root Mean squared error for test set: 5829.68\n"
     ]
    }
   ],
   "source": [
    "print(\"Root Mean squared error for test set: %.2f\" % np.sqrt(mean_squared_error(y_test, y_test_hat)))"
   ]
  },
  {
   "cell_type": "code",
   "execution_count": 117,
   "id": "60aaf171",
   "metadata": {},
   "outputs": [],
   "source": [
    "# Calculating R2 Score \n",
    "# R2 score helps to know how fit the model is for the problem\n",
    "# R-squared is a statistical measure of how close the data are to the fitted regression line. \n",
    "# Also known as coefficient of determination\n",
    "# basically varies from 0 to 1 or 0% to 100% \n",
    "# 0% means the model explains none of the variability of the data around the mean\n",
    "# 100% means the model explains all the variablity of the data around the mean\n",
    "# It can be negative also when the model is extremely worse.\n",
    "# If a model always gives the expected value of y disregarding the features then it gets R2 score as 0\n",
    "# Higher the score better the model will be fit for the problem"
   ]
  },
  {
   "cell_type": "code",
   "execution_count": 506,
   "id": "070697f0",
   "metadata": {},
   "outputs": [],
   "source": [
    "from sklearn.metrics import r2_score"
   ]
  },
  {
   "cell_type": "code",
   "execution_count": 507,
   "id": "a04412f9",
   "metadata": {},
   "outputs": [
    {
     "data": {
      "text/plain": [
       "0.7411141549979002"
      ]
     },
     "execution_count": 507,
     "metadata": {},
     "output_type": "execute_result"
    }
   ],
   "source": [
    "r2_score(y_train, y_train_hat)"
   ]
  },
  {
   "cell_type": "code",
   "execution_count": 508,
   "id": "617576d2",
   "metadata": {},
   "outputs": [
    {
     "data": {
      "text/plain": [
       "0.7810924113697999"
      ]
     },
     "execution_count": 508,
     "metadata": {},
     "output_type": "execute_result"
    }
   ],
   "source": [
    "r2_score(y_test, y_test_hat)"
   ]
  },
  {
   "cell_type": "markdown",
   "id": "f0d5e737",
   "metadata": {},
   "source": [
    "#### For train set the r2 score is 74% and for test set the r2 score was found as 78%"
   ]
  },
  {
   "cell_type": "code",
   "execution_count": 509,
   "id": "9cecedff",
   "metadata": {},
   "outputs": [
    {
     "name": "stderr",
     "output_type": "stream",
     "text": [
      "C:\\Users\\rajde\\anaconda3\\lib\\site-packages\\seaborn\\_decorators.py:36: FutureWarning: Pass the following variables as keyword args: x, y. From version 0.12, the only valid positional argument will be `data`, and passing other arguments without an explicit keyword will result in an error or misinterpretation.\n",
      "  warnings.warn(\n"
     ]
    },
    {
     "data": {
      "text/plain": [
       "<AxesSubplot:xlabel='expenses'>"
      ]
     },
     "execution_count": 509,
     "metadata": {},
     "output_type": "execute_result"
    },
    {
     "data": {
      "image/png": "[encoded data removed]",
      "text/plain": [
       "<Figure size 432x288 with 1 Axes>"
      ]
     },
     "metadata": {
      "needs_background": "light"
     },
     "output_type": "display_data"
    }
   ],
   "source": [
    "sns.regplot(y_train, y_train_hat)"
   ]
  },
  {
   "cell_type": "code",
   "execution_count": 510,
   "id": "87526ea6",
   "metadata": {},
   "outputs": [
    {
     "name": "stderr",
     "output_type": "stream",
     "text": [
      "C:\\Users\\rajde\\anaconda3\\lib\\site-packages\\seaborn\\_decorators.py:36: FutureWarning: Pass the following variables as keyword args: x, y. From version 0.12, the only valid positional argument will be `data`, and passing other arguments without an explicit keyword will result in an error or misinterpretation.\n",
      "  warnings.warn(\n"
     ]
    },
    {
     "data": {
      "text/plain": [
       "<AxesSubplot:xlabel='expenses'>"
      ]
     },
     "execution_count": 510,
     "metadata": {},
     "output_type": "execute_result"
    },
    {
     "data": {
      "image/png": "[encoded data removed]",
      "text/plain": [
       "<Figure size 432x288 with 1 Axes>"
      ]
     },
     "metadata": {
      "needs_background": "light"
     },
     "output_type": "display_data"
    }
   ],
   "source": [
    "sns.regplot(y_test, y_test_hat)"
   ]
  },
  {
   "cell_type": "markdown",
   "id": "4bad747a",
   "metadata": {},
   "source": [
    "### The best fit line for train and test set are shown above"
   ]
  },
  {
   "cell_type": "markdown",
   "id": "71e1aade",
   "metadata": {},
   "source": [
    "### Checking the residuals"
   ]
  },
  {
   "cell_type": "code",
   "execution_count": 511,
   "id": "5ad716f8",
   "metadata": {},
   "outputs": [],
   "source": [
    "res_ols = y_test - y_test_hat"
   ]
  },
  {
   "cell_type": "code",
   "execution_count": 512,
   "id": "7eb0c9c2",
   "metadata": {},
   "outputs": [
    {
     "data": {
      "text/plain": [
       "<AxesSubplot:ylabel='Count'>"
      ]
     },
     "execution_count": 512,
     "metadata": {},
     "output_type": "execute_result"
    },
    {
     "data": {
      "image/png": "[encoded data removed]",
      "text/plain": [
       "<Figure size 432x288 with 1 Axes>"
      ]
     },
     "metadata": {
      "needs_background": "light"
     },
     "output_type": "display_data"
    }
   ],
   "source": [
    "sns.histplot(res_ols, kde=True)"
   ]
  },
  {
   "cell_type": "markdown",
   "id": "94f38496",
   "metadata": {},
   "source": [
    "#### The residual is normally distributed but slightly skewed in nature"
   ]
  },
  {
   "cell_type": "code",
   "execution_count": 516,
   "id": "ea45eb77",
   "metadata": {},
   "outputs": [
    {
     "data": {
      "text/plain": [
       "Text(0, 0.5, 'residual')"
      ]
     },
     "execution_count": 516,
     "metadata": {},
     "output_type": "execute_result"
    },
    {
     "data": {
      "image/png": "[encoded data removed]",
      "text/plain": [
       "<Figure size 432x288 with 1 Axes>"
      ]
     },
     "metadata": {
      "needs_background": "light"
     },
     "output_type": "display_data"
    }
   ],
   "source": [
    "plt.scatter(y_test_hat, y_test_hat - y_test)\n",
    "plt.hlines(y= 0, xmin = 0, xmax= 40000)\n",
    "plt.title('Residual Plot')\n",
    "plt.ylabel('residual')"
   ]
  },
  {
   "cell_type": "code",
   "execution_count": null,
   "id": "f187a660",
   "metadata": {},
   "outputs": [],
   "source": []
  },
  {
   "cell_type": "markdown",
   "id": "3c347b2f",
   "metadata": {},
   "source": [
    "## Decision Tree"
   ]
  },
  {
   "cell_type": "code",
   "execution_count": 517,
   "id": "3cff420a",
   "metadata": {},
   "outputs": [],
   "source": [
    "from sklearn.tree import DecisionTreeRegressor"
   ]
  },
  {
   "cell_type": "code",
   "execution_count": 518,
   "id": "4891fc53",
   "metadata": {},
   "outputs": [],
   "source": [
    "tree_reg = DecisionTreeRegressor()"
   ]
  },
  {
   "cell_type": "code",
   "execution_count": 519,
   "id": "40b09fbc",
   "metadata": {},
   "outputs": [
    {
     "data": {
      "text/plain": [
       "DecisionTreeRegressor()"
      ]
     },
     "execution_count": 519,
     "metadata": {},
     "output_type": "execute_result"
    }
   ],
   "source": [
    "tree_reg.fit(X_train_final, y_train)"
   ]
  },
  {
   "cell_type": "markdown",
   "id": "6495b203",
   "metadata": {},
   "source": [
    "### Predicting train set"
   ]
  },
  {
   "cell_type": "code",
   "execution_count": 520,
   "id": "f699a8de",
   "metadata": {},
   "outputs": [],
   "source": [
    "y_pred_train_tree = tree_reg.predict(X_train_final)"
   ]
  },
  {
   "cell_type": "code",
   "execution_count": 521,
   "id": "998989d3",
   "metadata": {},
   "outputs": [
    {
     "data": {
      "text/plain": [
       "560      9193.84\n",
       "1285     8534.67\n",
       "1142    27117.99\n",
       "969      8596.83\n",
       "486     12475.35\n",
       "Name: expenses, dtype: float64"
      ]
     },
     "execution_count": 521,
     "metadata": {},
     "output_type": "execute_result"
    }
   ],
   "source": [
    "y_train[:5]"
   ]
  },
  {
   "cell_type": "code",
   "execution_count": 522,
   "id": "974c9272",
   "metadata": {},
   "outputs": [
    {
     "data": {
      "text/plain": [
       "array([ 9193.84,  8534.67, 27117.99,  8596.83, 12475.35])"
      ]
     },
     "execution_count": 522,
     "metadata": {},
     "output_type": "execute_result"
    }
   ],
   "source": [
    "y_pred_train_tree[:5]"
   ]
  },
  {
   "cell_type": "markdown",
   "id": "27b05b06",
   "metadata": {},
   "source": [
    "#### MSE and RMSE of Train set"
   ]
  },
  {
   "cell_type": "code",
   "execution_count": 523,
   "id": "c743e1a3",
   "metadata": {},
   "outputs": [],
   "source": [
    "mse_tree_train = mean_squared_error(y_train, y_pred_train_tree)"
   ]
  },
  {
   "cell_type": "code",
   "execution_count": 524,
   "id": "706dfda6",
   "metadata": {},
   "outputs": [
    {
     "data": {
      "text/plain": [
       "244239.68681906545"
      ]
     },
     "execution_count": 524,
     "metadata": {},
     "output_type": "execute_result"
    }
   ],
   "source": [
    "mse_tree_train"
   ]
  },
  {
   "cell_type": "code",
   "execution_count": 525,
   "id": "90ea8589",
   "metadata": {},
   "outputs": [
    {
     "data": {
      "text/plain": [
       "494.2061177475097"
      ]
     },
     "execution_count": 525,
     "metadata": {},
     "output_type": "execute_result"
    }
   ],
   "source": [
    "np.sqrt(mse_tree_train)"
   ]
  },
  {
   "cell_type": "markdown",
   "id": "be6b0a0f",
   "metadata": {},
   "source": [
    "### R2 score of train set"
   ]
  },
  {
   "cell_type": "code",
   "execution_count": 526,
   "id": "63be60be",
   "metadata": {},
   "outputs": [
    {
     "data": {
      "text/plain": [
       "0.9983078115527046"
      ]
     },
     "execution_count": 526,
     "metadata": {},
     "output_type": "execute_result"
    }
   ],
   "source": [
    "r2_score(y_train, y_pred_train_tree)"
   ]
  },
  {
   "cell_type": "markdown",
   "id": "0dfb20cb",
   "metadata": {},
   "source": [
    "### Predicting Test Set"
   ]
  },
  {
   "cell_type": "code",
   "execution_count": 527,
   "id": "02f838f3",
   "metadata": {},
   "outputs": [],
   "source": [
    "y_pred_test_tree = tree_reg.predict(X_test_final)"
   ]
  },
  {
   "cell_type": "code",
   "execution_count": 528,
   "id": "006ee978",
   "metadata": {},
   "outputs": [
    {
     "data": {
      "text/plain": [
       "764      9095.07\n",
       "887      5272.18\n",
       "890     29330.98\n",
       "1293     9301.89\n",
       "259     33750.29\n",
       "Name: expenses, dtype: float64"
      ]
     },
     "execution_count": 528,
     "metadata": {},
     "output_type": "execute_result"
    }
   ],
   "source": [
    "y_test[:5]"
   ]
  },
  {
   "cell_type": "code",
   "execution_count": 529,
   "id": "78425430",
   "metadata": {
    "scrolled": true
   },
   "outputs": [
    {
     "data": {
      "text/plain": [
       "array([ 8615.3 ,  4571.41, 28950.47,  9225.26, 33732.69])"
      ]
     },
     "execution_count": 529,
     "metadata": {},
     "output_type": "execute_result"
    }
   ],
   "source": [
    "y_pred_test_tree[:5]"
   ]
  },
  {
   "cell_type": "code",
   "execution_count": 532,
   "id": "a4083032",
   "metadata": {},
   "outputs": [
    {
     "data": {
      "text/html": [
       "<div>\n",
       "<style scoped>\n",
       "    .dataframe tbody tr th:only-of-type {\n",
       "        vertical-align: middle;\n",
       "    }\n",
       "\n",
       "    .dataframe tbody tr th {\n",
       "        vertical-align: top;\n",
       "    }\n",
       "\n",
       "    .dataframe thead th {\n",
       "        text-align: right;\n",
       "    }\n",
       "</style>\n",
       "<table border=\"1\" class=\"dataframe\">\n",
       "  <thead>\n",
       "    <tr style=\"text-align: right;\">\n",
       "      <th></th>\n",
       "      <th>age</th>\n",
       "      <th>bmi</th>\n",
       "      <th>children</th>\n",
       "      <th>sex_male</th>\n",
       "      <th>smoker_yes</th>\n",
       "      <th>region_northwest</th>\n",
       "      <th>region_southeast</th>\n",
       "      <th>region_southwest</th>\n",
       "    </tr>\n",
       "  </thead>\n",
       "  <tbody>\n",
       "    <tr>\n",
       "      <th>560</th>\n",
       "      <td>0.472227</td>\n",
       "      <td>-1.748572</td>\n",
       "      <td>0.734336</td>\n",
       "      <td>0</td>\n",
       "      <td>0</td>\n",
       "      <td>1</td>\n",
       "      <td>0</td>\n",
       "      <td>0</td>\n",
       "    </tr>\n",
       "    <tr>\n",
       "      <th>1285</th>\n",
       "      <td>0.543313</td>\n",
       "      <td>-1.036704</td>\n",
       "      <td>-0.911192</td>\n",
       "      <td>0</td>\n",
       "      <td>0</td>\n",
       "      <td>0</td>\n",
       "      <td>0</td>\n",
       "      <td>0</td>\n",
       "    </tr>\n",
       "    <tr>\n",
       "      <th>1142</th>\n",
       "      <td>0.898745</td>\n",
       "      <td>-0.937373</td>\n",
       "      <td>-0.911192</td>\n",
       "      <td>0</td>\n",
       "      <td>0</td>\n",
       "      <td>0</td>\n",
       "      <td>1</td>\n",
       "      <td>0</td>\n",
       "    </tr>\n",
       "    <tr>\n",
       "      <th>969</th>\n",
       "      <td>-0.025379</td>\n",
       "      <td>0.618804</td>\n",
       "      <td>3.202629</td>\n",
       "      <td>0</td>\n",
       "      <td>0</td>\n",
       "      <td>0</td>\n",
       "      <td>1</td>\n",
       "      <td>0</td>\n",
       "    </tr>\n",
       "    <tr>\n",
       "      <th>486</th>\n",
       "      <td>1.040918</td>\n",
       "      <td>-1.500246</td>\n",
       "      <td>1.557100</td>\n",
       "      <td>0</td>\n",
       "      <td>0</td>\n",
       "      <td>1</td>\n",
       "      <td>0</td>\n",
       "      <td>0</td>\n",
       "    </tr>\n",
       "    <tr>\n",
       "      <th>...</th>\n",
       "      <td>...</td>\n",
       "      <td>...</td>\n",
       "      <td>...</td>\n",
       "      <td>...</td>\n",
       "      <td>...</td>\n",
       "      <td>...</td>\n",
       "      <td>...</td>\n",
       "      <td>...</td>\n",
       "    </tr>\n",
       "    <tr>\n",
       "      <th>1095</th>\n",
       "      <td>-1.518194</td>\n",
       "      <td>0.138707</td>\n",
       "      <td>2.379865</td>\n",
       "      <td>0</td>\n",
       "      <td>0</td>\n",
       "      <td>0</td>\n",
       "      <td>0</td>\n",
       "      <td>0</td>\n",
       "    </tr>\n",
       "    <tr>\n",
       "      <th>1130</th>\n",
       "      <td>-0.025379</td>\n",
       "      <td>-1.102924</td>\n",
       "      <td>3.202629</td>\n",
       "      <td>0</td>\n",
       "      <td>0</td>\n",
       "      <td>0</td>\n",
       "      <td>1</td>\n",
       "      <td>0</td>\n",
       "    </tr>\n",
       "    <tr>\n",
       "      <th>1294</th>\n",
       "      <td>1.325264</td>\n",
       "      <td>-0.887708</td>\n",
       "      <td>-0.911192</td>\n",
       "      <td>1</td>\n",
       "      <td>0</td>\n",
       "      <td>0</td>\n",
       "      <td>0</td>\n",
       "      <td>0</td>\n",
       "    </tr>\n",
       "    <tr>\n",
       "      <th>860</th>\n",
       "      <td>-0.167551</td>\n",
       "      <td>2.820630</td>\n",
       "      <td>0.734336</td>\n",
       "      <td>0</td>\n",
       "      <td>1</td>\n",
       "      <td>0</td>\n",
       "      <td>0</td>\n",
       "      <td>1</td>\n",
       "    </tr>\n",
       "    <tr>\n",
       "      <th>1126</th>\n",
       "      <td>1.112004</td>\n",
       "      <td>-0.109619</td>\n",
       "      <td>-0.911192</td>\n",
       "      <td>1</td>\n",
       "      <td>0</td>\n",
       "      <td>0</td>\n",
       "      <td>0</td>\n",
       "      <td>1</td>\n",
       "    </tr>\n",
       "  </tbody>\n",
       "</table>\n",
       "<p>1070 rows × 8 columns</p>\n",
       "</div>"
      ],
      "text/plain": [
       "           age       bmi  children  sex_male  smoker_yes  region_northwest  \\\n",
       "560   0.472227 -1.748572  0.734336         0           0                 1   \n",
       "1285  0.543313 -1.036704 -0.911192         0           0                 0   \n",
       "1142  0.898745 -0.937373 -0.911192         0           0                 0   \n",
       "969  -0.025379  0.618804  3.202629         0           0                 0   \n",
       "486   1.040918 -1.500246  1.557100         0           0                 1   \n",
       "...        ...       ...       ...       ...         ...               ...   \n",
       "1095 -1.518194  0.138707  2.379865         0           0                 0   \n",
       "1130 -0.025379 -1.102924  3.202629         0           0                 0   \n",
       "1294  1.325264 -0.887708 -0.911192         1           0                 0   \n",
       "860  -0.167551  2.820630  0.734336         0           1                 0   \n",
       "1126  1.112004 -0.109619 -0.911192         1           0                 0   \n",
       "\n",
       "      region_southeast  region_southwest  \n",
       "560                  0                 0  \n",
       "1285                 0                 0  \n",
       "1142                 1                 0  \n",
       "969                  1                 0  \n",
       "486                  0                 0  \n",
       "...                ...               ...  \n",
       "1095                 0                 0  \n",
       "1130                 1                 0  \n",
       "1294                 0                 0  \n",
       "860                  0                 1  \n",
       "1126                 0                 1  \n",
       "\n",
       "[1070 rows x 8 columns]"
      ]
     },
     "execution_count": 532,
     "metadata": {},
     "output_type": "execute_result"
    }
   ],
   "source": [
    "X_train_final"
   ]
  },
  {
   "cell_type": "code",
   "execution_count": 533,
   "id": "ef09d616",
   "metadata": {},
   "outputs": [
    {
     "data": {
      "text/html": [
       "<div>\n",
       "<style scoped>\n",
       "    .dataframe tbody tr th:only-of-type {\n",
       "        vertical-align: middle;\n",
       "    }\n",
       "\n",
       "    .dataframe tbody tr th {\n",
       "        vertical-align: top;\n",
       "    }\n",
       "\n",
       "    .dataframe thead th {\n",
       "        text-align: right;\n",
       "    }\n",
       "</style>\n",
       "<table border=\"1\" class=\"dataframe\">\n",
       "  <thead>\n",
       "    <tr style=\"text-align: right;\">\n",
       "      <th></th>\n",
       "      <th>age</th>\n",
       "      <th>bmi</th>\n",
       "      <th>children</th>\n",
       "      <th>sex_male</th>\n",
       "      <th>smoker_yes</th>\n",
       "      <th>region_northwest</th>\n",
       "      <th>region_southeast</th>\n",
       "      <th>region_southwest</th>\n",
       "    </tr>\n",
       "  </thead>\n",
       "  <tbody>\n",
       "    <tr>\n",
       "      <th>764</th>\n",
       "      <td>0.401140</td>\n",
       "      <td>-0.887708</td>\n",
       "      <td>0.734336</td>\n",
       "      <td>0</td>\n",
       "      <td>0</td>\n",
       "      <td>0</td>\n",
       "      <td>0</td>\n",
       "      <td>0</td>\n",
       "    </tr>\n",
       "    <tr>\n",
       "      <th>887</th>\n",
       "      <td>-0.238638</td>\n",
       "      <td>-0.093064</td>\n",
       "      <td>-0.911192</td>\n",
       "      <td>0</td>\n",
       "      <td>0</td>\n",
       "      <td>1</td>\n",
       "      <td>0</td>\n",
       "      <td>0</td>\n",
       "    </tr>\n",
       "    <tr>\n",
       "      <th>890</th>\n",
       "      <td>1.751782</td>\n",
       "      <td>-0.606272</td>\n",
       "      <td>-0.911192</td>\n",
       "      <td>0</td>\n",
       "      <td>1</td>\n",
       "      <td>1</td>\n",
       "      <td>0</td>\n",
       "      <td>0</td>\n",
       "    </tr>\n",
       "    <tr>\n",
       "      <th>1293</th>\n",
       "      <td>0.472227</td>\n",
       "      <td>-0.804933</td>\n",
       "      <td>1.557100</td>\n",
       "      <td>1</td>\n",
       "      <td>0</td>\n",
       "      <td>1</td>\n",
       "      <td>0</td>\n",
       "      <td>0</td>\n",
       "    </tr>\n",
       "    <tr>\n",
       "      <th>259</th>\n",
       "      <td>-1.447107</td>\n",
       "      <td>0.221482</td>\n",
       "      <td>-0.911192</td>\n",
       "      <td>1</td>\n",
       "      <td>1</td>\n",
       "      <td>1</td>\n",
       "      <td>0</td>\n",
       "      <td>0</td>\n",
       "    </tr>\n",
       "    <tr>\n",
       "      <th>...</th>\n",
       "      <td>...</td>\n",
       "      <td>...</td>\n",
       "      <td>...</td>\n",
       "      <td>...</td>\n",
       "      <td>...</td>\n",
       "      <td>...</td>\n",
       "      <td>...</td>\n",
       "      <td>...</td>\n",
       "    </tr>\n",
       "    <tr>\n",
       "      <th>109</th>\n",
       "      <td>1.680696</td>\n",
       "      <td>0.751245</td>\n",
       "      <td>-0.911192</td>\n",
       "      <td>1</td>\n",
       "      <td>1</td>\n",
       "      <td>0</td>\n",
       "      <td>1</td>\n",
       "      <td>0</td>\n",
       "    </tr>\n",
       "    <tr>\n",
       "      <th>575</th>\n",
       "      <td>1.325264</td>\n",
       "      <td>-0.556607</td>\n",
       "      <td>-0.911192</td>\n",
       "      <td>0</td>\n",
       "      <td>0</td>\n",
       "      <td>1</td>\n",
       "      <td>0</td>\n",
       "      <td>0</td>\n",
       "    </tr>\n",
       "    <tr>\n",
       "      <th>535</th>\n",
       "      <td>-0.096465</td>\n",
       "      <td>-0.424166</td>\n",
       "      <td>-0.088428</td>\n",
       "      <td>1</td>\n",
       "      <td>0</td>\n",
       "      <td>0</td>\n",
       "      <td>0</td>\n",
       "      <td>0</td>\n",
       "    </tr>\n",
       "    <tr>\n",
       "      <th>543</th>\n",
       "      <td>1.040918</td>\n",
       "      <td>2.787520</td>\n",
       "      <td>-0.911192</td>\n",
       "      <td>0</td>\n",
       "      <td>1</td>\n",
       "      <td>0</td>\n",
       "      <td>1</td>\n",
       "      <td>0</td>\n",
       "    </tr>\n",
       "    <tr>\n",
       "      <th>846</th>\n",
       "      <td>0.827659</td>\n",
       "      <td>0.602249</td>\n",
       "      <td>-0.088428</td>\n",
       "      <td>0</td>\n",
       "      <td>0</td>\n",
       "      <td>0</td>\n",
       "      <td>0</td>\n",
       "      <td>1</td>\n",
       "    </tr>\n",
       "  </tbody>\n",
       "</table>\n",
       "<p>268 rows × 8 columns</p>\n",
       "</div>"
      ],
      "text/plain": [
       "           age       bmi  children  sex_male  smoker_yes  region_northwest  \\\n",
       "764   0.401140 -0.887708  0.734336         0           0                 0   \n",
       "887  -0.238638 -0.093064 -0.911192         0           0                 1   \n",
       "890   1.751782 -0.606272 -0.911192         0           1                 1   \n",
       "1293  0.472227 -0.804933  1.557100         1           0                 1   \n",
       "259  -1.447107  0.221482 -0.911192         1           1                 1   \n",
       "...        ...       ...       ...       ...         ...               ...   \n",
       "109   1.680696  0.751245 -0.911192         1           1                 0   \n",
       "575   1.325264 -0.556607 -0.911192         0           0                 1   \n",
       "535  -0.096465 -0.424166 -0.088428         1           0                 0   \n",
       "543   1.040918  2.787520 -0.911192         0           1                 0   \n",
       "846   0.827659  0.602249 -0.088428         0           0                 0   \n",
       "\n",
       "      region_southeast  region_southwest  \n",
       "764                  0                 0  \n",
       "887                  0                 0  \n",
       "890                  0                 0  \n",
       "1293                 0                 0  \n",
       "259                  0                 0  \n",
       "...                ...               ...  \n",
       "109                  1                 0  \n",
       "575                  0                 0  \n",
       "535                  0                 0  \n",
       "543                  1                 0  \n",
       "846                  0                 1  \n",
       "\n",
       "[268 rows x 8 columns]"
      ]
     },
     "execution_count": 533,
     "metadata": {},
     "output_type": "execute_result"
    }
   ],
   "source": [
    "X_test_final"
   ]
  },
  {
   "cell_type": "markdown",
   "id": "e098dd40",
   "metadata": {},
   "source": [
    "#### MSE and RMSE of Test set"
   ]
  },
  {
   "cell_type": "code",
   "execution_count": 534,
   "id": "102e2e10",
   "metadata": {},
   "outputs": [],
   "source": [
    "mse_tree_test = mean_squared_error(y_test, y_pred_test_tree)"
   ]
  },
  {
   "cell_type": "code",
   "execution_count": 535,
   "id": "3dab8b58",
   "metadata": {},
   "outputs": [],
   "source": [
    "rmse_tree_test = np.sqrt(mse_tree_test)"
   ]
  },
  {
   "cell_type": "code",
   "execution_count": 536,
   "id": "c3918375",
   "metadata": {},
   "outputs": [
    {
     "data": {
      "text/plain": [
       "6542.878281232979"
      ]
     },
     "execution_count": 536,
     "metadata": {},
     "output_type": "execute_result"
    }
   ],
   "source": [
    "rmse_tree_test"
   ]
  },
  {
   "cell_type": "markdown",
   "id": "692892f2",
   "metadata": {},
   "source": [
    "### R2 score of Test set"
   ]
  },
  {
   "cell_type": "code",
   "execution_count": 537,
   "id": "97e6b57f",
   "metadata": {},
   "outputs": [
    {
     "data": {
      "text/plain": [
       "0.7242537496099288"
      ]
     },
     "execution_count": 537,
     "metadata": {},
     "output_type": "execute_result"
    }
   ],
   "source": [
    "r2_score(y_test, y_pred_test_tree)"
   ]
  },
  {
   "cell_type": "markdown",
   "id": "9d8fc5f8",
   "metadata": {},
   "source": [
    "### Decision Tree seems to be overfitting as it has a low rmse for train set and high rmse for test set"
   ]
  },
  {
   "cell_type": "code",
   "execution_count": null,
   "id": "9677a991",
   "metadata": {},
   "outputs": [],
   "source": []
  },
  {
   "cell_type": "markdown",
   "id": "1c68ead4",
   "metadata": {},
   "source": [
    "## KNN (K- Nearest Neighbour)"
   ]
  },
  {
   "cell_type": "code",
   "execution_count": 538,
   "id": "49a138b6",
   "metadata": {},
   "outputs": [],
   "source": [
    "from sklearn.neighbors import KNeighborsRegressor as KNR"
   ]
  },
  {
   "cell_type": "code",
   "execution_count": 539,
   "id": "049b3255",
   "metadata": {},
   "outputs": [],
   "source": [
    "model = KNR(n_neighbors = 3)     # Taking nearest neighbors as 3 "
   ]
  },
  {
   "cell_type": "code",
   "execution_count": 540,
   "id": "30daca6e",
   "metadata": {},
   "outputs": [
    {
     "data": {
      "text/plain": [
       "KNeighborsRegressor(n_neighbors=3)"
      ]
     },
     "execution_count": 540,
     "metadata": {},
     "output_type": "execute_result"
    }
   ],
   "source": [
    "model.fit(X_train_final, y_train)"
   ]
  },
  {
   "cell_type": "markdown",
   "id": "4d8cab42",
   "metadata": {},
   "source": [
    "### Predicting Train set"
   ]
  },
  {
   "cell_type": "code",
   "execution_count": 541,
   "id": "2bbb5386",
   "metadata": {},
   "outputs": [],
   "source": [
    "y_train_pred_KNR = model.predict(X_train_final)"
   ]
  },
  {
   "cell_type": "code",
   "execution_count": 542,
   "id": "7c26df7e",
   "metadata": {},
   "outputs": [
    {
     "data": {
      "text/plain": [
       "array([ 8761.28666667,  8685.83      , 15851.03333333, ...,\n",
       "       11806.83      , 20448.45333333, 10343.50666667])"
      ]
     },
     "execution_count": 542,
     "metadata": {},
     "output_type": "execute_result"
    }
   ],
   "source": [
    "y_train_pred_KNR"
   ]
  },
  {
   "cell_type": "code",
   "execution_count": 543,
   "id": "531f5ca2",
   "metadata": {},
   "outputs": [
    {
     "data": {
      "text/plain": [
       "560      9193.84\n",
       "1285     8534.67\n",
       "1142    27117.99\n",
       "969      8596.83\n",
       "486     12475.35\n",
       "Name: expenses, dtype: float64"
      ]
     },
     "execution_count": 543,
     "metadata": {},
     "output_type": "execute_result"
    }
   ],
   "source": [
    "y_train[:5]"
   ]
  },
  {
   "cell_type": "markdown",
   "id": "8fe79433",
   "metadata": {},
   "source": [
    "### Predicting Test Set"
   ]
  },
  {
   "cell_type": "code",
   "execution_count": 544,
   "id": "c26ef63b",
   "metadata": {},
   "outputs": [],
   "source": [
    "y_test_pred_KNR = model.predict(X_test_final)"
   ]
  },
  {
   "cell_type": "code",
   "execution_count": 545,
   "id": "78e0dde3",
   "metadata": {},
   "outputs": [
    {
     "data": {
      "text/plain": [
       "764      9095.07\n",
       "887      5272.18\n",
       "890     29330.98\n",
       "1293     9301.89\n",
       "259     33750.29\n",
       "          ...   \n",
       "109     47055.53\n",
       "575     12222.90\n",
       "535      6067.13\n",
       "543     63770.43\n",
       "846      9872.70\n",
       "Name: expenses, Length: 268, dtype: float64"
      ]
     },
     "execution_count": 545,
     "metadata": {},
     "output_type": "execute_result"
    }
   ],
   "source": [
    "y_test"
   ]
  },
  {
   "cell_type": "code",
   "execution_count": 546,
   "id": "e305b3d1",
   "metadata": {},
   "outputs": [
    {
     "data": {
      "text/plain": [
       "array([ 8650.57666667,  5166.49      , 27923.53666667,  8192.86      ,\n",
       "       23960.94333333])"
      ]
     },
     "execution_count": 546,
     "metadata": {},
     "output_type": "execute_result"
    }
   ],
   "source": [
    "y_test_pred_KNR[:5]"
   ]
  },
  {
   "cell_type": "markdown",
   "id": "16c35e1b",
   "metadata": {},
   "source": [
    "#### RMSE of Train set"
   ]
  },
  {
   "cell_type": "code",
   "execution_count": 547,
   "id": "07b09b14",
   "metadata": {},
   "outputs": [],
   "source": [
    "train_rmse_error_KNR = np.sqrt(mean_squared_error(y_train, y_train_pred_KNR))"
   ]
  },
  {
   "cell_type": "code",
   "execution_count": 548,
   "id": "f501873b",
   "metadata": {},
   "outputs": [
    {
     "name": "stdout",
     "output_type": "stream",
     "text": [
      "The train set error is : 4464.717182972153\n"
     ]
    }
   ],
   "source": [
    "print(\"The train set error is :\", train_rmse_error_KNR)"
   ]
  },
  {
   "cell_type": "markdown",
   "id": "af4290a0",
   "metadata": {},
   "source": [
    "#### RMSE of Test set"
   ]
  },
  {
   "cell_type": "code",
   "execution_count": 549,
   "id": "5e47dfed",
   "metadata": {},
   "outputs": [],
   "source": [
    "test_rmse_error_KNR = np.sqrt(mean_squared_error(y_test, y_test_pred_KNR))"
   ]
  },
  {
   "cell_type": "code",
   "execution_count": 550,
   "id": "3d56d283",
   "metadata": {},
   "outputs": [
    {
     "name": "stdout",
     "output_type": "stream",
     "text": [
      "The test set error is : 6657.947283058654\n"
     ]
    }
   ],
   "source": [
    "print(\"The test set error is :\", test_rmse_error_KNR)"
   ]
  },
  {
   "cell_type": "markdown",
   "id": "34c993d9",
   "metadata": {},
   "source": [
    "### For Test set the error is quite higher than the train set"
   ]
  },
  {
   "cell_type": "code",
   "execution_count": null,
   "id": "33ef4a5f",
   "metadata": {},
   "outputs": [],
   "source": []
  },
  {
   "cell_type": "markdown",
   "id": "4f232c3d",
   "metadata": {},
   "source": [
    "## Trying different value of K to check which value gives lowest RMSE"
   ]
  },
  {
   "cell_type": "code",
   "execution_count": 551,
   "id": "5ce1b2dc",
   "metadata": {},
   "outputs": [
    {
     "name": "stdout",
     "output_type": "stream",
     "text": [
      "RMSE value for k=  1 is: 7536.725835617839\n",
      "R2 score for value k=  1 is: 0.6341210974309792\n",
      "RMSE value for k=  2 is: 6960.863839043208\n",
      "R2 score for value k=  2 is: 0.6878968077710723\n",
      "RMSE value for k=  3 is: 6657.947283058654\n",
      "R2 score for value k=  3 is: 0.7144694133097766\n",
      "RMSE value for k=  4 is: 6474.351450747474\n",
      "R2 score for value k=  4 is: 0.7299995581187625\n",
      "RMSE value for k=  5 is: 6838.664775371341\n",
      "R2 score for value k=  5 is: 0.698758664324181\n",
      "RMSE value for k=  6 is: 6919.588027588111\n",
      "R2 score for value k=  6 is: 0.6915871883648751\n",
      "RMSE value for k=  7 is: 6919.749468103407\n",
      "R2 score for value k=  7 is: 0.69157279707341\n",
      "RMSE value for k=  8 is: 7043.61342593082\n",
      "R2 score for value k=  8 is: 0.6804322399099825\n",
      "RMSE value for k=  9 is: 7227.300412162068\n",
      "R2 score for value k=  9 is: 0.6635471994284639\n",
      "RMSE value for k=  10 is: 7255.838734043145\n",
      "R2 score for value k=  10 is: 0.6608848621785536\n",
      "RMSE value for k=  11 is: 7318.007877050591\n",
      "R2 score for value k=  11 is: 0.6550487852432864\n",
      "RMSE value for k=  12 is: 7471.617902361202\n",
      "R2 score for value k=  12 is: 0.6404152694923322\n",
      "RMSE value for k=  13 is: 7625.321969457409\n",
      "R2 score for value k=  13 is: 0.6254685385058774\n",
      "RMSE value for k=  14 is: 7597.212035401035\n",
      "R2 score for value k=  14 is: 0.628224789180359\n",
      "RMSE value for k=  15 is: 7602.024341836439\n",
      "R2 score for value k=  15 is: 0.6277536524356302\n",
      "RMSE value for k=  16 is: 7686.649459575961\n",
      "R2 score for value k=  16 is: 0.6194198915767449\n",
      "RMSE value for k=  17 is: 7684.334943157911\n",
      "R2 score for value k=  17 is: 0.6196490489740882\n",
      "RMSE value for k=  18 is: 7738.29258882301\n",
      "R2 score for value k=  18 is: 0.6142888205740376\n",
      "RMSE value for k=  19 is: 7697.177055639111\n",
      "R2 score for value k=  19 is: 0.6183766965208513\n",
      "RMSE value for k=  20 is: 7769.376635119043\n",
      "R2 score for value k=  20 is: 0.6111838605751483\n",
      "The maximum R2 score we get is 0.7299995581187625\n",
      "The minimum error we get is  6474.351450747474\n",
      "The corresponding K value is  4\n"
     ]
    }
   ],
   "source": [
    "rmse_val_list = [] #to store rmse values for different k\n",
    "r2_list = []\n",
    "\n",
    "for K in range(20):\n",
    "    K = K+1\n",
    "    model = KNR(n_neighbors = K)\n",
    "\n",
    "    model.fit(X_train_final, y_train)  #fit the model\n",
    "    y_pred = model.predict(X_test_final) #make prediction on test set\n",
    "    error = np.sqrt(mean_squared_error(y_test, y_pred)) #calculate rmse\n",
    "    r2 = r2_score(y_test, y_pred)\n",
    "    print('RMSE value for k= ' , K , 'is:', error)\n",
    "    print('R2 score for value k= ', K ,'is:', r2)\n",
    "    \n",
    "    rmse_val_list.append(error) #store rmse values\n",
    "    r2_list.append(r2)\n",
    "    \n",
    "print(\"The maximum R2 score we get is\", max(r2_list))    \n",
    "print(\"The minimum error we get is \", min(rmse_val_list))\n",
    "print(\"The corresponding K value is \", 1+rmse_val_list.index(min(rmse_val_list)))"
   ]
  },
  {
   "cell_type": "markdown",
   "id": "5379a7d8",
   "metadata": {},
   "source": [
    "## For Test Dataset we are taking K value as the square root of Total Test Dataset and checking which K value gives lowest RMSE "
   ]
  },
  {
   "cell_type": "code",
   "execution_count": 552,
   "id": "ff567b64",
   "metadata": {},
   "outputs": [
    {
     "name": "stdout",
     "output_type": "stream",
     "text": [
      "The minimum error we get is  6474.351450747474\n",
      "The corresponding K value is  4\n"
     ]
    }
   ],
   "source": [
    "rmse_val_list = list() #to store rmse values for different k\n",
    "rmse_val_df = pd.DataFrame(columns=[\"K\",\"Error\"])\n",
    "\n",
    "iter_len = len(X_test_final)\n",
    "iter_size = round(np.sqrt(iter_len))\n",
    "\n",
    "for K in range(iter_size):\n",
    "    K = K+1\n",
    "    model = KNR(n_neighbors = K)\n",
    "\n",
    "    model.fit(X_train_final, y_train)  #fit the model\n",
    "    y_pred = model.predict(X_test_final) #make prediction on test set\n",
    "    error = np.sqrt(mean_squared_error(y_test, y_pred)) #calculate rmse\n",
    "    \n",
    "    \n",
    "    rmse_val_list.append(error) #store rmse values\n",
    "    rmse_val_df = rmse_val_df.append({'K':K,'Error':error}, ignore_index=True) # Appending the value of k and error to the dataframe\n",
    "    \n",
    "print(\"The minimum error we get is \", min(rmse_val_list))\n",
    "print(\"The corresponding K value is \", 1+rmse_val_list.index(min(rmse_val_list)))\n"
   ]
  },
  {
   "cell_type": "code",
   "execution_count": 553,
   "id": "2a09b682",
   "metadata": {},
   "outputs": [
    {
     "data": {
      "text/html": [
       "<div>\n",
       "<style scoped>\n",
       "    .dataframe tbody tr th:only-of-type {\n",
       "        vertical-align: middle;\n",
       "    }\n",
       "\n",
       "    .dataframe tbody tr th {\n",
       "        vertical-align: top;\n",
       "    }\n",
       "\n",
       "    .dataframe thead th {\n",
       "        text-align: right;\n",
       "    }\n",
       "</style>\n",
       "<table border=\"1\" class=\"dataframe\">\n",
       "  <thead>\n",
       "    <tr style=\"text-align: right;\">\n",
       "      <th></th>\n",
       "      <th>Error</th>\n",
       "    </tr>\n",
       "    <tr>\n",
       "      <th>K</th>\n",
       "      <th></th>\n",
       "    </tr>\n",
       "  </thead>\n",
       "  <tbody>\n",
       "    <tr>\n",
       "      <th>1.0</th>\n",
       "      <td>7536.725836</td>\n",
       "    </tr>\n",
       "    <tr>\n",
       "      <th>2.0</th>\n",
       "      <td>6960.863839</td>\n",
       "    </tr>\n",
       "    <tr>\n",
       "      <th>3.0</th>\n",
       "      <td>6657.947283</td>\n",
       "    </tr>\n",
       "    <tr>\n",
       "      <th>4.0</th>\n",
       "      <td>6474.351451</td>\n",
       "    </tr>\n",
       "    <tr>\n",
       "      <th>5.0</th>\n",
       "      <td>6838.664775</td>\n",
       "    </tr>\n",
       "    <tr>\n",
       "      <th>6.0</th>\n",
       "      <td>6919.588028</td>\n",
       "    </tr>\n",
       "    <tr>\n",
       "      <th>7.0</th>\n",
       "      <td>6919.749468</td>\n",
       "    </tr>\n",
       "    <tr>\n",
       "      <th>8.0</th>\n",
       "      <td>7043.613426</td>\n",
       "    </tr>\n",
       "    <tr>\n",
       "      <th>9.0</th>\n",
       "      <td>7227.300412</td>\n",
       "    </tr>\n",
       "    <tr>\n",
       "      <th>10.0</th>\n",
       "      <td>7255.838734</td>\n",
       "    </tr>\n",
       "    <tr>\n",
       "      <th>11.0</th>\n",
       "      <td>7318.007877</td>\n",
       "    </tr>\n",
       "    <tr>\n",
       "      <th>12.0</th>\n",
       "      <td>7471.617902</td>\n",
       "    </tr>\n",
       "    <tr>\n",
       "      <th>13.0</th>\n",
       "      <td>7625.321969</td>\n",
       "    </tr>\n",
       "    <tr>\n",
       "      <th>14.0</th>\n",
       "      <td>7597.212035</td>\n",
       "    </tr>\n",
       "    <tr>\n",
       "      <th>15.0</th>\n",
       "      <td>7602.024342</td>\n",
       "    </tr>\n",
       "    <tr>\n",
       "      <th>16.0</th>\n",
       "      <td>7686.649460</td>\n",
       "    </tr>\n",
       "  </tbody>\n",
       "</table>\n",
       "</div>"
      ],
      "text/plain": [
       "            Error\n",
       "K                \n",
       "1.0   7536.725836\n",
       "2.0   6960.863839\n",
       "3.0   6657.947283\n",
       "4.0   6474.351451\n",
       "5.0   6838.664775\n",
       "6.0   6919.588028\n",
       "7.0   6919.749468\n",
       "8.0   7043.613426\n",
       "9.0   7227.300412\n",
       "10.0  7255.838734\n",
       "11.0  7318.007877\n",
       "12.0  7471.617902\n",
       "13.0  7625.321969\n",
       "14.0  7597.212035\n",
       "15.0  7602.024342\n",
       "16.0  7686.649460"
      ]
     },
     "execution_count": 553,
     "metadata": {},
     "output_type": "execute_result"
    }
   ],
   "source": [
    "rmse_df = pd.DataFrame(rmse_val_df).set_index('K')\n",
    "rmse_df"
   ]
  },
  {
   "cell_type": "markdown",
   "id": "dde26fc3",
   "metadata": {},
   "source": [
    "### Elbow curve for determining the value of K"
   ]
  },
  {
   "cell_type": "code",
   "execution_count": 554,
   "id": "62c9715c",
   "metadata": {},
   "outputs": [
    {
     "data": {
      "text/plain": [
       "<AxesSubplot:xlabel='K'>"
      ]
     },
     "execution_count": 554,
     "metadata": {},
     "output_type": "execute_result"
    },
    {
     "data": {
      "image/png": "[encoded data removed]",
      "text/plain": [
       "<Figure size 432x288 with 1 Axes>"
      ]
     },
     "metadata": {
      "needs_background": "light"
     },
     "output_type": "display_data"
    }
   ],
   "source": [
    "rmse_df.plot()"
   ]
  },
  {
   "cell_type": "markdown",
   "id": "53c1d454",
   "metadata": {},
   "source": [
    "### As we can see that for k value 4 the error is minimum . So probably we need to fix the k value at 4"
   ]
  },
  {
   "cell_type": "code",
   "execution_count": 558,
   "id": "ce3d623f",
   "metadata": {},
   "outputs": [],
   "source": [
    "#from sklearn.model_selection import cross_val_score"
   ]
  },
  {
   "cell_type": "code",
   "execution_count": 559,
   "id": "e2b74ce9",
   "metadata": {},
   "outputs": [],
   "source": [
    "#mses_model = -cross_val_score(model, X_train_final, y_train, cv = 5, scoring = 'neg_mean_squared_error')"
   ]
  },
  {
   "cell_type": "code",
   "execution_count": 560,
   "id": "88aa98c1",
   "metadata": {},
   "outputs": [],
   "source": [
    "#mses_model"
   ]
  },
  {
   "cell_type": "markdown",
   "id": "e4149921",
   "metadata": {},
   "source": [
    "## Grid Search"
   ]
  },
  {
   "cell_type": "code",
   "execution_count": 561,
   "id": "2f001f6c",
   "metadata": {},
   "outputs": [],
   "source": [
    "from sklearn.model_selection import GridSearchCV\n",
    "\n",
    "params = {'n_neighbors': np.arange(3,50,2),'weights':['uniform', 'distance'],'p':[1,2]}"
   ]
  },
  {
   "cell_type": "code",
   "execution_count": 562,
   "id": "83ccab68",
   "metadata": {},
   "outputs": [
    {
     "data": {
      "text/plain": [
       "GridSearchCV(cv=5, estimator=KNeighborsRegressor(n_neighbors=16),\n",
       "             param_grid={'n_neighbors': array([ 3,  5,  7,  9, 11, 13, 15, 17, 19, 21, 23, 25, 27, 29, 31, 33, 35,\n",
       "       37, 39, 41, 43, 45, 47, 49]),\n",
       "                         'p': [1, 2], 'weights': ['uniform', 'distance']})"
      ]
     },
     "execution_count": 562,
     "metadata": {},
     "output_type": "execute_result"
    }
   ],
   "source": [
    "gserach = GridSearchCV(estimator=model,param_grid=params,cv=5)\n",
    "\n",
    "gserach.fit(X_train_final,y_train)"
   ]
  },
  {
   "cell_type": "code",
   "execution_count": 563,
   "id": "815f814f",
   "metadata": {},
   "outputs": [
    {
     "data": {
      "text/plain": [
       "{'n_neighbors': 5, 'p': 1, 'weights': 'distance'}"
      ]
     },
     "execution_count": 563,
     "metadata": {},
     "output_type": "execute_result"
    }
   ],
   "source": [
    "gserach.best_params_"
   ]
  },
  {
   "cell_type": "code",
   "execution_count": 564,
   "id": "561cdae7",
   "metadata": {},
   "outputs": [],
   "source": [
    "model_best = KNR(n_neighbors = 5,p=1,weights='distance')"
   ]
  },
  {
   "cell_type": "code",
   "execution_count": 565,
   "id": "c66b5056",
   "metadata": {},
   "outputs": [
    {
     "data": {
      "text/plain": [
       "KNeighborsRegressor(p=1, weights='distance')"
      ]
     },
     "execution_count": 565,
     "metadata": {},
     "output_type": "execute_result"
    }
   ],
   "source": [
    "model_best.fit(X_train_final, y_train)"
   ]
  },
  {
   "cell_type": "markdown",
   "id": "6415baa4",
   "metadata": {},
   "source": [
    "#### Predicting Train Set"
   ]
  },
  {
   "cell_type": "code",
   "execution_count": 566,
   "id": "8eeb76df",
   "metadata": {},
   "outputs": [],
   "source": [
    "y_train_pred_KNR = model_best.predict(X_train_final)"
   ]
  },
  {
   "cell_type": "code",
   "execution_count": 567,
   "id": "5cd7d991",
   "metadata": {},
   "outputs": [
    {
     "data": {
      "text/plain": [
       "560      9193.84\n",
       "1285     8534.67\n",
       "1142    27117.99\n",
       "969      8596.83\n",
       "486     12475.35\n",
       "Name: expenses, dtype: float64"
      ]
     },
     "execution_count": 567,
     "metadata": {},
     "output_type": "execute_result"
    }
   ],
   "source": [
    "y_train[:5]"
   ]
  },
  {
   "cell_type": "code",
   "execution_count": 568,
   "id": "07eb6168",
   "metadata": {},
   "outputs": [
    {
     "data": {
      "text/plain": [
       "array([ 9193.84,  8534.67, 27117.99,  8596.83, 12475.35])"
      ]
     },
     "execution_count": 568,
     "metadata": {},
     "output_type": "execute_result"
    }
   ],
   "source": [
    "y_train_pred_KNR[:5]"
   ]
  },
  {
   "cell_type": "code",
   "execution_count": 569,
   "id": "09c5190b",
   "metadata": {},
   "outputs": [
    {
     "name": "stderr",
     "output_type": "stream",
     "text": [
      "C:\\Users\\rajde\\anaconda3\\lib\\site-packages\\seaborn\\_decorators.py:36: FutureWarning: Pass the following variables as keyword args: x, y. From version 0.12, the only valid positional argument will be `data`, and passing other arguments without an explicit keyword will result in an error or misinterpretation.\n",
      "  warnings.warn(\n"
     ]
    },
    {
     "data": {
      "text/plain": [
       "<AxesSubplot:xlabel='expenses'>"
      ]
     },
     "execution_count": 569,
     "metadata": {},
     "output_type": "execute_result"
    },
    {
     "data": {
      "image/png": "[encoded data removed]",
      "text/plain": [
       "<Figure size 432x288 with 1 Axes>"
      ]
     },
     "metadata": {
      "needs_background": "light"
     },
     "output_type": "display_data"
    }
   ],
   "source": [
    "sns.regplot(y_train, y_train_pred_KNR)"
   ]
  },
  {
   "cell_type": "code",
   "execution_count": 570,
   "id": "9cd4a0c7",
   "metadata": {},
   "outputs": [
    {
     "data": {
      "text/plain": [
       "0.9983078115527046"
      ]
     },
     "execution_count": 570,
     "metadata": {},
     "output_type": "execute_result"
    }
   ],
   "source": [
    "r2_score(y_train,y_train_pred_KNR)"
   ]
  },
  {
   "cell_type": "markdown",
   "id": "fa94f269",
   "metadata": {},
   "source": [
    "#### Predicting Test set"
   ]
  },
  {
   "cell_type": "code",
   "execution_count": 571,
   "id": "29fddf9b",
   "metadata": {},
   "outputs": [],
   "source": [
    "y_test_pred_KNR = model_best.predict(X_test_final)"
   ]
  },
  {
   "cell_type": "code",
   "execution_count": 572,
   "id": "31fc2c90",
   "metadata": {},
   "outputs": [
    {
     "data": {
      "text/plain": [
       "array([ 9193.84,  8534.67, 27117.99, ..., 11931.13, 46113.51, 10214.64])"
      ]
     },
     "execution_count": 572,
     "metadata": {},
     "output_type": "execute_result"
    }
   ],
   "source": [
    "y_train_pred_KNR"
   ]
  },
  {
   "cell_type": "code",
   "execution_count": 573,
   "id": "63b2441d",
   "metadata": {},
   "outputs": [
    {
     "data": {
      "text/plain": [
       "array([ 8938.5583426 ,  4661.30323792, 27279.26661625, 13090.10879747,\n",
       "       26591.11022166])"
      ]
     },
     "execution_count": 573,
     "metadata": {},
     "output_type": "execute_result"
    }
   ],
   "source": [
    "y_test_pred_KNR[:5]"
   ]
  },
  {
   "cell_type": "code",
   "execution_count": 574,
   "id": "c82d5b8d",
   "metadata": {},
   "outputs": [
    {
     "name": "stderr",
     "output_type": "stream",
     "text": [
      "C:\\Users\\rajde\\anaconda3\\lib\\site-packages\\seaborn\\_decorators.py:36: FutureWarning: Pass the following variables as keyword args: x, y. From version 0.12, the only valid positional argument will be `data`, and passing other arguments without an explicit keyword will result in an error or misinterpretation.\n",
      "  warnings.warn(\n"
     ]
    },
    {
     "data": {
      "text/plain": [
       "<AxesSubplot:xlabel='expenses'>"
      ]
     },
     "execution_count": 574,
     "metadata": {},
     "output_type": "execute_result"
    },
    {
     "data": {
      "image/png": "[encoded data removed]",
      "text/plain": [
       "<Figure size 432x288 with 1 Axes>"
      ]
     },
     "metadata": {
      "needs_background": "light"
     },
     "output_type": "display_data"
    }
   ],
   "source": [
    "sns.regplot(y_test, y_test_pred_KNR)"
   ]
  },
  {
   "cell_type": "code",
   "execution_count": null,
   "id": "588ee961",
   "metadata": {},
   "outputs": [],
   "source": []
  },
  {
   "cell_type": "markdown",
   "id": "77ed5534",
   "metadata": {},
   "source": [
    "## Checking the error and R2 score for test dataset with the parameter after grid search"
   ]
  },
  {
   "cell_type": "code",
   "execution_count": 575,
   "id": "8aa9c315",
   "metadata": {},
   "outputs": [
    {
     "data": {
      "text/plain": [
       "0.7561119997485194"
      ]
     },
     "execution_count": 575,
     "metadata": {},
     "output_type": "execute_result"
    }
   ],
   "source": [
    "r2_score(y_test,y_test_pred_KNR)"
   ]
  },
  {
   "cell_type": "code",
   "execution_count": 576,
   "id": "3e24158e",
   "metadata": {},
   "outputs": [
    {
     "data": {
      "text/plain": [
       "6153.316439957857"
      ]
     },
     "execution_count": 576,
     "metadata": {},
     "output_type": "execute_result"
    }
   ],
   "source": [
    "np.sqrt(mean_squared_error(y_test, y_test_pred_KNR))"
   ]
  },
  {
   "cell_type": "markdown",
   "id": "e34fe704",
   "metadata": {},
   "source": [
    "## We can see here that after grid search with the best param value k=5, the root mean squared error for the test set has been reduced from 6474.35 to 6153.31."
   ]
  },
  {
   "cell_type": "markdown",
   "id": "f829dcfc",
   "metadata": {},
   "source": [
    "### With the change in value of K from 4 to 5 we are reducing root mean square error around 321.04. But as we know increasing k value sometimes increase the cost of the model. So for changing k value from 4 to 5 we may need the advice from any domain expert in this field."
   ]
  },
  {
   "cell_type": "code",
   "execution_count": null,
   "id": "09096dd6",
   "metadata": {},
   "outputs": [],
   "source": []
  },
  {
   "cell_type": "markdown",
   "id": "010baf4c",
   "metadata": {},
   "source": [
    "# Future Scope: In this Project while using Decision Tree Regressor it was found that there has been found the model to be overfitting which can be controlled by Hyper parameter tuning. Also we can use Ensemble Learning like Random Forest in order to improve the performance and accuracy."
   ]
  },
  {
   "cell_type": "code",
   "execution_count": null,
   "id": "c7b4d8f5",
   "metadata": {},
   "outputs": [],
   "source": []
  },
  {
   "cell_type": "markdown",
   "id": "843d6797",
   "metadata": {},
   "source": [
    "### Random Forest Model"
   ]
  },
  {
   "cell_type": "code",
   "execution_count": 577,
   "id": "a761d95a",
   "metadata": {},
   "outputs": [],
   "source": [
    "from sklearn.ensemble import RandomForestRegressor"
   ]
  },
  {
   "cell_type": "code",
   "execution_count": 578,
   "id": "85fa11f7",
   "metadata": {},
   "outputs": [],
   "source": [
    "forest_reg = RandomForestRegressor()"
   ]
  },
  {
   "cell_type": "code",
   "execution_count": 579,
   "id": "3c5c6d74",
   "metadata": {},
   "outputs": [
    {
     "data": {
      "text/plain": [
       "RandomForestRegressor()"
      ]
     },
     "execution_count": 579,
     "metadata": {},
     "output_type": "execute_result"
    }
   ],
   "source": [
    "forest_reg.fit(X_train_final, y_train)"
   ]
  },
  {
   "cell_type": "markdown",
   "id": "cd0c6990",
   "metadata": {},
   "source": [
    "#### Predicting Train set"
   ]
  },
  {
   "cell_type": "code",
   "execution_count": 580,
   "id": "56c50550",
   "metadata": {},
   "outputs": [],
   "source": [
    "y_pred_train_forest = forest_reg.predict(X_train_final)"
   ]
  },
  {
   "cell_type": "code",
   "execution_count": 581,
   "id": "bef60836",
   "metadata": {},
   "outputs": [
    {
     "data": {
      "text/plain": [
       "560      9193.84\n",
       "1285     8534.67\n",
       "1142    27117.99\n",
       "969      8596.83\n",
       "486     12475.35\n",
       "170     13405.39\n",
       "277      2150.47\n",
       "1033    13747.87\n",
       "209      6610.11\n",
       "947     39047.29\n",
       "Name: expenses, dtype: float64"
      ]
     },
     "execution_count": 581,
     "metadata": {},
     "output_type": "execute_result"
    }
   ],
   "source": [
    "y_train[:10]"
   ]
  },
  {
   "cell_type": "code",
   "execution_count": 582,
   "id": "07816728",
   "metadata": {},
   "outputs": [
    {
     "data": {
      "text/plain": [
       "array([ 9863.2823, 11542.305 , 22701.4695,  9294.7044, 12514.8134,\n",
       "       13663.554 ,  2161.0116, 13774.049 ,  7257.5788, 39462.2007])"
      ]
     },
     "execution_count": 582,
     "metadata": {},
     "output_type": "execute_result"
    }
   ],
   "source": [
    "y_pred_train_forest[:10]"
   ]
  },
  {
   "cell_type": "code",
   "execution_count": 583,
   "id": "b515b031",
   "metadata": {},
   "outputs": [],
   "source": [
    "mse_forest_train = mean_squared_error(y_train, y_pred_train_forest)"
   ]
  },
  {
   "cell_type": "code",
   "execution_count": 584,
   "id": "d302b4d8",
   "metadata": {},
   "outputs": [],
   "source": [
    "rmse_forest_train = np.sqrt(mse_forest_train)"
   ]
  },
  {
   "cell_type": "code",
   "execution_count": 585,
   "id": "fb98cab9",
   "metadata": {},
   "outputs": [
    {
     "data": {
      "text/plain": [
       "1887.4040371284034"
      ]
     },
     "execution_count": 585,
     "metadata": {},
     "output_type": "execute_result"
    }
   ],
   "source": [
    "rmse_forest_train"
   ]
  },
  {
   "cell_type": "code",
   "execution_count": 586,
   "id": "038986de",
   "metadata": {},
   "outputs": [
    {
     "data": {
      "text/plain": [
       "0.9753190284916033"
      ]
     },
     "execution_count": 586,
     "metadata": {},
     "output_type": "execute_result"
    }
   ],
   "source": [
    "r2_score(y_train, y_pred_train_forest)"
   ]
  },
  {
   "cell_type": "markdown",
   "id": "ffe7deea",
   "metadata": {},
   "source": [
    "#### Predicting Test set"
   ]
  },
  {
   "cell_type": "code",
   "execution_count": 587,
   "id": "04e5fd45",
   "metadata": {},
   "outputs": [],
   "source": [
    "y_pred_test_forest = forest_reg.predict(X_test_final)"
   ]
  },
  {
   "cell_type": "code",
   "execution_count": 588,
   "id": "98dd298d",
   "metadata": {},
   "outputs": [
    {
     "data": {
      "text/plain": [
       "764      9095.07\n",
       "887      5272.18\n",
       "890     29330.98\n",
       "1293     9301.89\n",
       "259     33750.29\n",
       "1312     4536.26\n",
       "899      2117.34\n",
       "752     14210.54\n",
       "1286     3732.63\n",
       "707     10264.44\n",
       "Name: expenses, dtype: float64"
      ]
     },
     "execution_count": 588,
     "metadata": {},
     "output_type": "execute_result"
    }
   ],
   "source": [
    "y_test[:10]"
   ]
  },
  {
   "cell_type": "code",
   "execution_count": 589,
   "id": "fb86375f",
   "metadata": {},
   "outputs": [
    {
     "data": {
      "text/plain": [
       "array([ 9941.5608,  5247.8184, 28164.7256, 10508.0962, 34637.6749,\n",
       "        9435.805 ,  2096.2596, 14459.2421,  6714.8285, 11167.5669])"
      ]
     },
     "execution_count": 589,
     "metadata": {},
     "output_type": "execute_result"
    }
   ],
   "source": [
    "y_pred_test_forest[:10]"
   ]
  },
  {
   "cell_type": "code",
   "execution_count": 590,
   "id": "f61f1111",
   "metadata": {},
   "outputs": [],
   "source": [
    "mse_forest_test = mean_squared_error(y_test, y_pred_test_forest)"
   ]
  },
  {
   "cell_type": "code",
   "execution_count": 591,
   "id": "18bfda5a",
   "metadata": {},
   "outputs": [],
   "source": [
    "rmse_forest_test = np.sqrt(mse_forest_test)"
   ]
  },
  {
   "cell_type": "code",
   "execution_count": 592,
   "id": "e61f9764",
   "metadata": {},
   "outputs": [
    {
     "data": {
      "text/plain": [
       "4637.11917673016"
      ]
     },
     "execution_count": 592,
     "metadata": {},
     "output_type": "execute_result"
    }
   ],
   "source": [
    "rmse_forest_test"
   ]
  },
  {
   "cell_type": "code",
   "execution_count": 593,
   "id": "509832b9",
   "metadata": {},
   "outputs": [
    {
     "data": {
      "text/plain": [
       "0.8614940441510524"
      ]
     },
     "execution_count": 593,
     "metadata": {},
     "output_type": "execute_result"
    }
   ],
   "source": [
    "r2_score(y_test, y_pred_test_forest)"
   ]
  },
  {
   "cell_type": "code",
   "execution_count": 594,
   "id": "fac9dac6",
   "metadata": {},
   "outputs": [],
   "source": [
    "# For Trainset Random forest showed 97.53% R2 score whereas for Testset it showed 86.14% score\n",
    "# Comparing all the test set scores we will take up the Random Forest for further parameter tuning as amongs all the models\n",
    "# this model gave highest R2 score for the Test Dataset."
   ]
  },
  {
   "cell_type": "markdown",
   "id": "f6125684",
   "metadata": {},
   "source": [
    "#### We can see that among all the models (Linear Regression, Decision Tree, KNN, Random Forest), we got the RMSE score lowest for the test data set in Random Forest Alogorithm\n",
    "#### Random Forest also seems to be overfitting though its R2_score for the test set is quite good than other models, so we are trying to optimize the RMSE by Hyper parameter tuning and K- Fold cross validation"
   ]
  },
  {
   "cell_type": "markdown",
   "id": "65794bab",
   "metadata": {},
   "source": [
    "## Hyper parameter Tuning "
   ]
  },
  {
   "cell_type": "code",
   "execution_count": 595,
   "id": "a072e777",
   "metadata": {},
   "outputs": [],
   "source": [
    "from pprint import pprint"
   ]
  },
  {
   "cell_type": "code",
   "execution_count": 596,
   "id": "09e9a774",
   "metadata": {},
   "outputs": [
    {
     "name": "stdout",
     "output_type": "stream",
     "text": [
      "Parameters currently in use:\n",
      "\n",
      "{'bootstrap': True,\n",
      " 'ccp_alpha': 0.0,\n",
      " 'criterion': 'mse',\n",
      " 'max_depth': None,\n",
      " 'max_features': 'auto',\n",
      " 'max_leaf_nodes': None,\n",
      " 'max_samples': None,\n",
      " 'min_impurity_decrease': 0.0,\n",
      " 'min_impurity_split': None,\n",
      " 'min_samples_leaf': 1,\n",
      " 'min_samples_split': 2,\n",
      " 'min_weight_fraction_leaf': 0.0,\n",
      " 'n_estimators': 100,\n",
      " 'n_jobs': None,\n",
      " 'oob_score': False,\n",
      " 'random_state': None,\n",
      " 'verbose': 0,\n",
      " 'warm_start': False}\n"
     ]
    }
   ],
   "source": [
    "print('Parameters currently in use:\\n')\n",
    "pprint(forest_reg.get_params())"
   ]
  },
  {
   "cell_type": "code",
   "execution_count": 597,
   "id": "3afa6aef",
   "metadata": {},
   "outputs": [],
   "source": [
    "from sklearn.model_selection import GridSearchCV"
   ]
  },
  {
   "cell_type": "code",
   "execution_count": 598,
   "id": "219511a6",
   "metadata": {},
   "outputs": [],
   "source": [
    "param_grid = [{'n_estimators':[int(x) for x in np.linspace(start = 50, stop = 250, num = 20)], \n",
    "               'max_features':[2, 4, 6], \n",
    "               'bootstrap': [True]},\n",
    "            {'bootstrap': [False], \n",
    "             'n_estimators':[int(x) for x in np.linspace(start = 5, stop = 150, num = 20)], \n",
    "             'max_features': [2, 3, 4]}]\n",
    "forest_reg = RandomForestRegressor()\n",
    "grid_search = GridSearchCV(forest_reg, param_grid, cv=6, scoring = 'neg_mean_squared_error')"
   ]
  },
  {
   "cell_type": "code",
   "execution_count": 599,
   "id": "9cdf04d8",
   "metadata": {},
   "outputs": [
    {
     "data": {
      "text/plain": [
       "GridSearchCV(cv=6, estimator=RandomForestRegressor(),\n",
       "             param_grid=[{'bootstrap': [True], 'max_features': [2, 4, 6],\n",
       "                          'n_estimators': [50, 60, 71, 81, 92, 102, 113, 123,\n",
       "                                           134, 144, 155, 165, 176, 186, 197,\n",
       "                                           207, 218, 228, 239, 250]},\n",
       "                         {'bootstrap': [False], 'max_features': [2, 3, 4],\n",
       "                          'n_estimators': [5, 12, 20, 27, 35, 43, 50, 58, 66,\n",
       "                                           73, 81, 88, 96, 104, 111, 119, 127,\n",
       "                                           134, 142, 150]}],\n",
       "             scoring='neg_mean_squared_error')"
      ]
     },
     "execution_count": 599,
     "metadata": {},
     "output_type": "execute_result"
    }
   ],
   "source": [
    "grid_search.fit(X_train_final, y_train)"
   ]
  },
  {
   "cell_type": "code",
   "execution_count": 600,
   "id": "022bb8e1",
   "metadata": {},
   "outputs": [
    {
     "data": {
      "text/plain": [
       "{'bootstrap': True, 'max_features': 4, 'n_estimators': 186}"
      ]
     },
     "execution_count": 600,
     "metadata": {},
     "output_type": "execute_result"
    }
   ],
   "source": [
    "grid_search.best_params_"
   ]
  },
  {
   "cell_type": "code",
   "execution_count": 601,
   "id": "6ce24bdc",
   "metadata": {},
   "outputs": [],
   "source": [
    "best_model = grid_search.best_estimator_"
   ]
  },
  {
   "cell_type": "code",
   "execution_count": 602,
   "id": "00d78aba",
   "metadata": {},
   "outputs": [
    {
     "data": {
      "text/plain": [
       "RandomForestRegressor(max_features=4, n_estimators=186)"
      ]
     },
     "execution_count": 602,
     "metadata": {},
     "output_type": "execute_result"
    }
   ],
   "source": [
    "best_model.fit(X_train_final, y_train)"
   ]
  },
  {
   "cell_type": "code",
   "execution_count": 603,
   "id": "9d38c6fd",
   "metadata": {},
   "outputs": [],
   "source": [
    "y_pred_train_best_model = best_model.predict(X_train_final)"
   ]
  },
  {
   "cell_type": "code",
   "execution_count": 604,
   "id": "ac46940f",
   "metadata": {},
   "outputs": [
    {
     "data": {
      "text/plain": [
       "array([ 9567.16456989, 10393.2655914 , 21337.85327957,  9885.14172043,\n",
       "       12113.78682796, 13579.23080645,  2358.67903226, 14063.41026882,\n",
       "        7146.08241935, 39173.28521505])"
      ]
     },
     "execution_count": 604,
     "metadata": {},
     "output_type": "execute_result"
    }
   ],
   "source": [
    "y_pred_train_best_model[:10]"
   ]
  },
  {
   "cell_type": "code",
   "execution_count": 605,
   "id": "29aab225",
   "metadata": {},
   "outputs": [
    {
     "data": {
      "text/plain": [
       "560      9193.84\n",
       "1285     8534.67\n",
       "1142    27117.99\n",
       "969      8596.83\n",
       "486     12475.35\n",
       "170     13405.39\n",
       "277      2150.47\n",
       "1033    13747.87\n",
       "209      6610.11\n",
       "947     39047.29\n",
       "Name: expenses, dtype: float64"
      ]
     },
     "execution_count": 605,
     "metadata": {},
     "output_type": "execute_result"
    }
   ],
   "source": [
    "y_train[:10]"
   ]
  },
  {
   "cell_type": "code",
   "execution_count": 606,
   "id": "b6654aec",
   "metadata": {},
   "outputs": [],
   "source": [
    "y_pred_test_best_model = best_model.predict(X_test_final)"
   ]
  },
  {
   "cell_type": "code",
   "execution_count": 607,
   "id": "b5e0069f",
   "metadata": {},
   "outputs": [
    {
     "data": {
      "text/plain": [
       "array([10775.75139785,  5552.57392473, 28548.4227957 , 10636.25865591,\n",
       "       34382.35962366,  8260.18032258,  2504.37645161, 15293.96860215,\n",
       "        4858.67467742, 10810.67403226])"
      ]
     },
     "execution_count": 607,
     "metadata": {},
     "output_type": "execute_result"
    }
   ],
   "source": [
    "y_pred_test_best_model[:10]"
   ]
  },
  {
   "cell_type": "code",
   "execution_count": 608,
   "id": "bd18fccf",
   "metadata": {},
   "outputs": [
    {
     "data": {
      "text/plain": [
       "764      9095.07\n",
       "887      5272.18\n",
       "890     29330.98\n",
       "1293     9301.89\n",
       "259     33750.29\n",
       "1312     4536.26\n",
       "899      2117.34\n",
       "752     14210.54\n",
       "1286     3732.63\n",
       "707     10264.44\n",
       "Name: expenses, dtype: float64"
      ]
     },
     "execution_count": 608,
     "metadata": {},
     "output_type": "execute_result"
    }
   ],
   "source": [
    "y_test[:10]"
   ]
  },
  {
   "cell_type": "code",
   "execution_count": 609,
   "id": "937dfeec",
   "metadata": {},
   "outputs": [
    {
     "data": {
      "text/plain": [
       "1830.9254724307073"
      ]
     },
     "execution_count": 609,
     "metadata": {},
     "output_type": "execute_result"
    }
   ],
   "source": [
    "## For train set root mean squared error\n",
    "np.sqrt(mean_squared_error(y_train,y_pred_train_best_model))"
   ]
  },
  {
   "cell_type": "code",
   "execution_count": 610,
   "id": "b09772ae",
   "metadata": {},
   "outputs": [
    {
     "data": {
      "text/plain": [
       "4447.634341146807"
      ]
     },
     "execution_count": 610,
     "metadata": {},
     "output_type": "execute_result"
    }
   ],
   "source": [
    "## For test set root mean squared error\n",
    "np.sqrt(mean_squared_error(y_test,y_pred_test_best_model))"
   ]
  },
  {
   "cell_type": "code",
   "execution_count": 611,
   "id": "6ff8c926",
   "metadata": {},
   "outputs": [
    {
     "data": {
      "text/plain": [
       "0.9767740319178632"
      ]
     },
     "execution_count": 611,
     "metadata": {},
     "output_type": "execute_result"
    }
   ],
   "source": [
    "## R2_score for train set\n",
    "r2_score(y_train, y_pred_train_best_model)"
   ]
  },
  {
   "cell_type": "code",
   "execution_count": 612,
   "id": "8ea5b245",
   "metadata": {},
   "outputs": [
    {
     "data": {
      "text/plain": [
       "0.8725822056150753"
      ]
     },
     "execution_count": 612,
     "metadata": {},
     "output_type": "execute_result"
    }
   ],
   "source": [
    "## R2 score for test set\n",
    "r2_score(y_test, y_pred_test_best_model)"
   ]
  },
  {
   "cell_type": "markdown",
   "id": "01cb2a4c",
   "metadata": {},
   "source": [
    "### Checking R2 score for train and test set after hyper parameter tuning and 5 fold cross validation"
   ]
  },
  {
   "cell_type": "code",
   "execution_count": 613,
   "id": "46095a51",
   "metadata": {},
   "outputs": [],
   "source": [
    "mses_best_model_hpt_r2_train = cross_val_score(best_model, X_train_final, y_train, cv = 5, scoring = 'r2')"
   ]
  },
  {
   "cell_type": "code",
   "execution_count": 614,
   "id": "caeed71a",
   "metadata": {},
   "outputs": [
    {
     "data": {
      "text/plain": [
       "0.8361323845700224"
      ]
     },
     "execution_count": 614,
     "metadata": {},
     "output_type": "execute_result"
    }
   ],
   "source": [
    "mses_best_model_hpt_r2_train.mean()"
   ]
  },
  {
   "cell_type": "code",
   "execution_count": 615,
   "id": "e256d5be",
   "metadata": {},
   "outputs": [],
   "source": [
    "mses_best_model_hpt_r2_test = cross_val_score(best_model, X_test_final, y_test, cv = 5, scoring = 'r2')"
   ]
  },
  {
   "cell_type": "code",
   "execution_count": 616,
   "id": "153b0e59",
   "metadata": {},
   "outputs": [
    {
     "data": {
      "text/plain": [
       "0.8412323621115121"
      ]
     },
     "execution_count": 616,
     "metadata": {},
     "output_type": "execute_result"
    }
   ],
   "source": [
    "mses_best_model_hpt_r2_test.mean()"
   ]
  },
  {
   "cell_type": "markdown",
   "id": "59aa1764",
   "metadata": {},
   "source": [
    "#### After Hyperparameter tuning  Best Model gives the R2 score as almost 83.61% for train dataset and for test dataset it gives the R2 score as almost 84.12%\n",
    "#### That means for the train set it gives 84% of the changeability of the dependent output variable and for the test set also it gives 84% of the changeability of the dependent output variables."
   ]
  },
  {
   "cell_type": "markdown",
   "id": "11d24afa",
   "metadata": {},
   "source": [
    "#### As per the above modelling Random Forest seemed to be the best model to work with after hyperparameter tuning of which we got a good r2 score which can explain 84% of the variability of the dependent variable can be explained by the model"
   ]
  },
  {
   "cell_type": "code",
   "execution_count": null,
   "id": "77b9ff63",
   "metadata": {},
   "outputs": [],
   "source": []
  }
 ],
 "metadata": {
  "kernelspec": {
   "display_name": "Python 3",
   "language": "python",
   "name": "python3"
  },
  "language_info": {
   "codemirror_mode": {
    "name": "ipython",
    "version": 3
   },
   "file_extension": ".py",
   "mimetype": "text/x-python",
   "name": "python",
   "nbconvert_exporter": "python",
   "pygments_lexer": "ipython3",
   "version": "3.8.8"
  }
 },
 "nbformat": 4,
 "nbformat_minor": 5
}
