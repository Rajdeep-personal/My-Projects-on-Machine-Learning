{
 "cells": [
  {
   "cell_type": "markdown",
   "id": "ac4b8ea1",
   "metadata": {},
   "source": [
    "## Predicting Medical Expenses using Linear Regression"
   ]
  },
  {
   "cell_type": "markdown",
   "id": "735c23ee",
   "metadata": {},
   "source": [
    "### Importing necessary modules"
   ]
  },
  {
   "cell_type": "code",
   "execution_count": 1,
   "id": "a8d737fd",
   "metadata": {},
   "outputs": [],
   "source": [
    "import numpy as np\n",
    "import pandas as pd\n",
    "import matplotlib.pyplot as plt\n",
    "import seaborn as sns\n",
    "import os"
   ]
  },
  {
   "cell_type": "markdown",
   "id": "da82dd45",
   "metadata": {},
   "source": [
    "### Loading Dataset"
   ]
  },
  {
   "cell_type": "code",
   "execution_count": 2,
   "id": "fef487dc",
   "metadata": {},
   "outputs": [],
   "source": [
    "#File_Path = \"..\"+ os.path.sep + \"Python-Practice-code\" + os.path.sep + \"insurance.csv\"\n",
    "File_Path = \"insurance.csv\"\n",
    "medical = pd.read_csv(File_Path)"
   ]
  },
  {
   "cell_type": "code",
   "execution_count": 3,
   "id": "15dfded3",
   "metadata": {},
   "outputs": [
    {
     "name": "stdout",
     "output_type": "stream",
     "text": [
      "insurance.csv\n"
     ]
    }
   ],
   "source": [
    "print(File_Path)"
   ]
  },
  {
   "cell_type": "code",
   "execution_count": 4,
   "id": "bee75199",
   "metadata": {},
   "outputs": [
    {
     "data": {
      "text/plain": [
       "pandas.core.frame.DataFrame"
      ]
     },
     "execution_count": 4,
     "metadata": {},
     "output_type": "execute_result"
    }
   ],
   "source": [
    "type(medical)"
   ]
  },
  {
   "cell_type": "code",
   "execution_count": 5,
   "id": "457a7f17",
   "metadata": {},
   "outputs": [
    {
     "data": {
      "text/html": [
       "<div>\n",
       "<style scoped>\n",
       "    .dataframe tbody tr th:only-of-type {\n",
       "        vertical-align: middle;\n",
       "    }\n",
       "\n",
       "    .dataframe tbody tr th {\n",
       "        vertical-align: top;\n",
       "    }\n",
       "\n",
       "    .dataframe thead th {\n",
       "        text-align: right;\n",
       "    }\n",
       "</style>\n",
       "<table border=\"1\" class=\"dataframe\">\n",
       "  <thead>\n",
       "    <tr style=\"text-align: right;\">\n",
       "      <th></th>\n",
       "      <th>age</th>\n",
       "      <th>sex</th>\n",
       "      <th>bmi</th>\n",
       "      <th>children</th>\n",
       "      <th>smoker</th>\n",
       "      <th>region</th>\n",
       "      <th>expenses</th>\n",
       "    </tr>\n",
       "  </thead>\n",
       "  <tbody>\n",
       "    <tr>\n",
       "      <th>0</th>\n",
       "      <td>19</td>\n",
       "      <td>female</td>\n",
       "      <td>27.9</td>\n",
       "      <td>0</td>\n",
       "      <td>yes</td>\n",
       "      <td>southwest</td>\n",
       "      <td>16884.92</td>\n",
       "    </tr>\n",
       "    <tr>\n",
       "      <th>1</th>\n",
       "      <td>18</td>\n",
       "      <td>male</td>\n",
       "      <td>33.8</td>\n",
       "      <td>1</td>\n",
       "      <td>no</td>\n",
       "      <td>southeast</td>\n",
       "      <td>1725.55</td>\n",
       "    </tr>\n",
       "    <tr>\n",
       "      <th>2</th>\n",
       "      <td>28</td>\n",
       "      <td>male</td>\n",
       "      <td>33.0</td>\n",
       "      <td>3</td>\n",
       "      <td>no</td>\n",
       "      <td>southeast</td>\n",
       "      <td>4449.46</td>\n",
       "    </tr>\n",
       "    <tr>\n",
       "      <th>3</th>\n",
       "      <td>33</td>\n",
       "      <td>male</td>\n",
       "      <td>22.7</td>\n",
       "      <td>0</td>\n",
       "      <td>no</td>\n",
       "      <td>northwest</td>\n",
       "      <td>21984.47</td>\n",
       "    </tr>\n",
       "    <tr>\n",
       "      <th>4</th>\n",
       "      <td>32</td>\n",
       "      <td>male</td>\n",
       "      <td>28.9</td>\n",
       "      <td>0</td>\n",
       "      <td>no</td>\n",
       "      <td>northwest</td>\n",
       "      <td>3866.86</td>\n",
       "    </tr>\n",
       "  </tbody>\n",
       "</table>\n",
       "</div>"
      ],
      "text/plain": [
       "   age     sex   bmi  children smoker     region  expenses\n",
       "0   19  female  27.9         0    yes  southwest  16884.92\n",
       "1   18    male  33.8         1     no  southeast   1725.55\n",
       "2   28    male  33.0         3     no  southeast   4449.46\n",
       "3   33    male  22.7         0     no  northwest  21984.47\n",
       "4   32    male  28.9         0     no  northwest   3866.86"
      ]
     },
     "execution_count": 5,
     "metadata": {},
     "output_type": "execute_result"
    }
   ],
   "source": [
    "medical.head()"
   ]
  },
  {
   "cell_type": "code",
   "execution_count": 6,
   "id": "129ab600",
   "metadata": {},
   "outputs": [
    {
     "data": {
      "text/html": [
       "<div>\n",
       "<style scoped>\n",
       "    .dataframe tbody tr th:only-of-type {\n",
       "        vertical-align: middle;\n",
       "    }\n",
       "\n",
       "    .dataframe tbody tr th {\n",
       "        vertical-align: top;\n",
       "    }\n",
       "\n",
       "    .dataframe thead th {\n",
       "        text-align: right;\n",
       "    }\n",
       "</style>\n",
       "<table border=\"1\" class=\"dataframe\">\n",
       "  <thead>\n",
       "    <tr style=\"text-align: right;\">\n",
       "      <th></th>\n",
       "      <th>age</th>\n",
       "      <th>bmi</th>\n",
       "      <th>children</th>\n",
       "      <th>expenses</th>\n",
       "    </tr>\n",
       "  </thead>\n",
       "  <tbody>\n",
       "    <tr>\n",
       "      <th>count</th>\n",
       "      <td>1338.000000</td>\n",
       "      <td>1338.000000</td>\n",
       "      <td>1338.000000</td>\n",
       "      <td>1338.000000</td>\n",
       "    </tr>\n",
       "    <tr>\n",
       "      <th>mean</th>\n",
       "      <td>39.207025</td>\n",
       "      <td>30.665471</td>\n",
       "      <td>1.094918</td>\n",
       "      <td>13270.422414</td>\n",
       "    </tr>\n",
       "    <tr>\n",
       "      <th>std</th>\n",
       "      <td>14.049960</td>\n",
       "      <td>6.098382</td>\n",
       "      <td>1.205493</td>\n",
       "      <td>12110.011240</td>\n",
       "    </tr>\n",
       "    <tr>\n",
       "      <th>min</th>\n",
       "      <td>18.000000</td>\n",
       "      <td>16.000000</td>\n",
       "      <td>0.000000</td>\n",
       "      <td>1121.870000</td>\n",
       "    </tr>\n",
       "    <tr>\n",
       "      <th>25%</th>\n",
       "      <td>27.000000</td>\n",
       "      <td>26.300000</td>\n",
       "      <td>0.000000</td>\n",
       "      <td>4740.287500</td>\n",
       "    </tr>\n",
       "    <tr>\n",
       "      <th>50%</th>\n",
       "      <td>39.000000</td>\n",
       "      <td>30.400000</td>\n",
       "      <td>1.000000</td>\n",
       "      <td>9382.030000</td>\n",
       "    </tr>\n",
       "    <tr>\n",
       "      <th>75%</th>\n",
       "      <td>51.000000</td>\n",
       "      <td>34.700000</td>\n",
       "      <td>2.000000</td>\n",
       "      <td>16639.915000</td>\n",
       "    </tr>\n",
       "    <tr>\n",
       "      <th>max</th>\n",
       "      <td>64.000000</td>\n",
       "      <td>53.100000</td>\n",
       "      <td>5.000000</td>\n",
       "      <td>63770.430000</td>\n",
       "    </tr>\n",
       "  </tbody>\n",
       "</table>\n",
       "</div>"
      ],
      "text/plain": [
       "               age          bmi     children      expenses\n",
       "count  1338.000000  1338.000000  1338.000000   1338.000000\n",
       "mean     39.207025    30.665471     1.094918  13270.422414\n",
       "std      14.049960     6.098382     1.205493  12110.011240\n",
       "min      18.000000    16.000000     0.000000   1121.870000\n",
       "25%      27.000000    26.300000     0.000000   4740.287500\n",
       "50%      39.000000    30.400000     1.000000   9382.030000\n",
       "75%      51.000000    34.700000     2.000000  16639.915000\n",
       "max      64.000000    53.100000     5.000000  63770.430000"
      ]
     },
     "execution_count": 6,
     "metadata": {},
     "output_type": "execute_result"
    }
   ],
   "source": [
    "medical.describe()"
   ]
  },
  {
   "cell_type": "code",
   "execution_count": 7,
   "id": "3dda31ac",
   "metadata": {},
   "outputs": [
    {
     "name": "stdout",
     "output_type": "stream",
     "text": [
      "<class 'pandas.core.frame.DataFrame'>\n",
      "RangeIndex: 1338 entries, 0 to 1337\n",
      "Data columns (total 7 columns):\n",
      " #   Column    Non-Null Count  Dtype  \n",
      "---  ------    --------------  -----  \n",
      " 0   age       1338 non-null   int64  \n",
      " 1   sex       1338 non-null   object \n",
      " 2   bmi       1338 non-null   float64\n",
      " 3   children  1338 non-null   int64  \n",
      " 4   smoker    1338 non-null   object \n",
      " 5   region    1338 non-null   object \n",
      " 6   expenses  1338 non-null   float64\n",
      "dtypes: float64(2), int64(2), object(3)\n",
      "memory usage: 73.3+ KB\n"
     ]
    }
   ],
   "source": [
    "medical.info()"
   ]
  },
  {
   "cell_type": "code",
   "execution_count": 8,
   "id": "ebb3cb3b",
   "metadata": {},
   "outputs": [],
   "source": [
    "### summarizing about the columns separately which are object or categorical type"
   ]
  },
  {
   "cell_type": "code",
   "execution_count": 9,
   "id": "e88b95c2",
   "metadata": {},
   "outputs": [
    {
     "name": "stdout",
     "output_type": "stream",
     "text": [
      "         sex smoker     region\n",
      "count   1338   1338       1338\n",
      "unique     2      2          4\n",
      "top     male     no  southeast\n",
      "freq     676   1064        364\n"
     ]
    }
   ],
   "source": [
    "print(medical.describe(include = ['object']))"
   ]
  },
  {
   "cell_type": "code",
   "execution_count": 10,
   "id": "a8dfef60",
   "metadata": {},
   "outputs": [],
   "source": [
    "## We have to predict the expense column i.e. how it varies with the change of other columns or attributes"
   ]
  },
  {
   "cell_type": "markdown",
   "id": "938ce1d9",
   "metadata": {},
   "source": [
    "### Exploratory Data Analysis of the dataset"
   ]
  },
  {
   "cell_type": "code",
   "execution_count": 11,
   "id": "5da0c183",
   "metadata": {},
   "outputs": [],
   "source": [
    "# Histogram plot"
   ]
  },
  {
   "cell_type": "code",
   "execution_count": 12,
   "id": "9cb45e70",
   "metadata": {
    "scrolled": false
   },
   "outputs": [
    {
     "name": "stderr",
     "output_type": "stream",
     "text": [
      "d:\\python-practice-code\\venv\\lib\\site-packages\\pandas\\plotting\\_matplotlib\\tools.py:400: MatplotlibDeprecationWarning: \n",
      "The is_first_col function was deprecated in Matplotlib 3.4 and will be removed two minor releases later. Use ax.get_subplotspec().is_first_col() instead.\n",
      "  if ax.is_first_col():\n"
     ]
    },
    {
     "data": {
      "text/plain": [
       "array([[<AxesSubplot:title={'center':'age'}>,\n",
       "        <AxesSubplot:title={'center':'bmi'}>],\n",
       "       [<AxesSubplot:title={'center':'children'}>,\n",
       "        <AxesSubplot:title={'center':'expenses'}>]], dtype=object)"
      ]
     },
     "execution_count": 12,
     "metadata": {},
     "output_type": "execute_result"
    },
    {
     "data": {
      "image/png": "[encoded data removed]",
      "text/plain": [
       "<Figure size 1080x720 with 4 Axes>"
      ]
     },
     "metadata": {
      "needs_background": "light"
     },
     "output_type": "display_data"
    }
   ],
   "source": [
    "medical.hist(bins = 10, figsize=(15,10))"
   ]
  },
  {
   "cell_type": "code",
   "execution_count": 13,
   "id": "71866888",
   "metadata": {},
   "outputs": [],
   "source": [
    "# Regression Plot"
   ]
  },
  {
   "cell_type": "code",
   "execution_count": 14,
   "id": "a9eb5b12",
   "metadata": {},
   "outputs": [
    {
     "data": {
      "text/plain": [
       "<matplotlib.lines.Line2D at 0x2a869a9dbe0>"
      ]
     },
     "execution_count": 14,
     "metadata": {},
     "output_type": "execute_result"
    },
    {
     "data": {
      "image/png": "[encoded data removed]",
      "text/plain": [
       "<Figure size 432x288 with 1 Axes>"
      ]
     },
     "metadata": {
      "needs_background": "light"
     },
     "output_type": "display_data"
    }
   ],
   "source": [
    "sns.regplot(x='age', y='expenses', data=medical,ci=None)\n",
    "plt.axvline(30, color='r')"
   ]
  },
  {
   "cell_type": "markdown",
   "id": "0cc04f75",
   "metadata": {},
   "source": [
    "#### From this graph we can say that with the increase of age the expense is also increasing. In any particular age there are three distinguishable expense cluster and in the lowest cluster the dense of population is highest which is gradually decreasing for higher expense clusters. An example is shown here with the age '30'"
   ]
  },
  {
   "cell_type": "code",
   "execution_count": 15,
   "id": "1c616700",
   "metadata": {},
   "outputs": [
    {
     "data": {
      "text/plain": [
       "<AxesSubplot:xlabel='bmi', ylabel='expenses'>"
      ]
     },
     "execution_count": 15,
     "metadata": {},
     "output_type": "execute_result"
    },
    {
     "data": {
      "image/png": "[encoded data removed]",
      "text/plain": [
       "<Figure size 432x288 with 1 Axes>"
      ]
     },
     "metadata": {
      "needs_background": "light"
     },
     "output_type": "display_data"
    }
   ],
   "source": [
    "sns.regplot(x='bmi', y='expenses', data=medical,ci=None)"
   ]
  },
  {
   "cell_type": "markdown",
   "id": "18e84d4e",
   "metadata": {},
   "source": [
    "#### In this graph also we can see that the expense is gradually increasing with the increase of bmi."
   ]
  },
  {
   "cell_type": "code",
   "execution_count": 16,
   "id": "500bef45",
   "metadata": {},
   "outputs": [
    {
     "data": {
      "text/plain": [
       "Text(0, 0.5, 'mean_expenses')"
      ]
     },
     "execution_count": 16,
     "metadata": {},
     "output_type": "execute_result"
    },
    {
     "data": {
      "image/png": "[encoded data removed]",
      "text/plain": [
       "<Figure size 1296x504 with 1 Axes>"
      ]
     },
     "metadata": {
      "needs_background": "light"
     },
     "output_type": "display_data"
    }
   ],
   "source": [
    "medical.groupby(by = 'age')['expenses'].mean().plot(kind = 'bar',figsize=(18,7))\n",
    "plt.ylabel('mean_expenses')"
   ]
  },
  {
   "cell_type": "markdown",
   "id": "a2646c34",
   "metadata": {},
   "source": [
    "#### If checking the mean expense for individual age group then we can see that as age increases the mean expense also increases"
   ]
  },
  {
   "cell_type": "code",
   "execution_count": null,
   "id": "b48a8f69",
   "metadata": {},
   "outputs": [],
   "source": []
  },
  {
   "cell_type": "markdown",
   "id": "17e946e8",
   "metadata": {},
   "source": [
    "### Correlation"
   ]
  },
  {
   "cell_type": "code",
   "execution_count": 17,
   "id": "b50e8f2c",
   "metadata": {},
   "outputs": [],
   "source": [
    "corr = medical.corr()"
   ]
  },
  {
   "cell_type": "code",
   "execution_count": 18,
   "id": "1560ef7a",
   "metadata": {
    "scrolled": true
   },
   "outputs": [
    {
     "data": {
      "text/html": [
       "<div>\n",
       "<style scoped>\n",
       "    .dataframe tbody tr th:only-of-type {\n",
       "        vertical-align: middle;\n",
       "    }\n",
       "\n",
       "    .dataframe tbody tr th {\n",
       "        vertical-align: top;\n",
       "    }\n",
       "\n",
       "    .dataframe thead th {\n",
       "        text-align: right;\n",
       "    }\n",
       "</style>\n",
       "<table border=\"1\" class=\"dataframe\">\n",
       "  <thead>\n",
       "    <tr style=\"text-align: right;\">\n",
       "      <th></th>\n",
       "      <th>age</th>\n",
       "      <th>bmi</th>\n",
       "      <th>children</th>\n",
       "      <th>expenses</th>\n",
       "    </tr>\n",
       "  </thead>\n",
       "  <tbody>\n",
       "    <tr>\n",
       "      <th>age</th>\n",
       "      <td>1.000000</td>\n",
       "      <td>0.109341</td>\n",
       "      <td>0.042469</td>\n",
       "      <td>0.299008</td>\n",
       "    </tr>\n",
       "    <tr>\n",
       "      <th>bmi</th>\n",
       "      <td>0.109341</td>\n",
       "      <td>1.000000</td>\n",
       "      <td>0.012645</td>\n",
       "      <td>0.198576</td>\n",
       "    </tr>\n",
       "    <tr>\n",
       "      <th>children</th>\n",
       "      <td>0.042469</td>\n",
       "      <td>0.012645</td>\n",
       "      <td>1.000000</td>\n",
       "      <td>0.067998</td>\n",
       "    </tr>\n",
       "    <tr>\n",
       "      <th>expenses</th>\n",
       "      <td>0.299008</td>\n",
       "      <td>0.198576</td>\n",
       "      <td>0.067998</td>\n",
       "      <td>1.000000</td>\n",
       "    </tr>\n",
       "  </tbody>\n",
       "</table>\n",
       "</div>"
      ],
      "text/plain": [
       "               age       bmi  children  expenses\n",
       "age       1.000000  0.109341  0.042469  0.299008\n",
       "bmi       0.109341  1.000000  0.012645  0.198576\n",
       "children  0.042469  0.012645  1.000000  0.067998\n",
       "expenses  0.299008  0.198576  0.067998  1.000000"
      ]
     },
     "execution_count": 18,
     "metadata": {},
     "output_type": "execute_result"
    }
   ],
   "source": [
    "corr"
   ]
  },
  {
   "cell_type": "code",
   "execution_count": 19,
   "id": "00bdf5bd",
   "metadata": {},
   "outputs": [],
   "source": [
    "#sns.heatmap(corr,annot=True,cmap='ocean')"
   ]
  },
  {
   "cell_type": "code",
   "execution_count": 20,
   "id": "30d7d97c",
   "metadata": {},
   "outputs": [
    {
     "data": {
      "text/plain": [
       "<AxesSubplot:>"
      ]
     },
     "execution_count": 20,
     "metadata": {},
     "output_type": "execute_result"
    },
    {
     "data": {
      "image/png": "[encoded data removed]",
      "text/plain": [
       "<Figure size 432x288 with 2 Axes>"
      ]
     },
     "metadata": {
      "needs_background": "light"
     },
     "output_type": "display_data"
    }
   ],
   "source": [
    "sns.heatmap(medical.corr(),annot= True)"
   ]
  },
  {
   "cell_type": "code",
   "execution_count": 21,
   "id": "3c873936",
   "metadata": {},
   "outputs": [
    {
     "data": {
      "text/plain": [
       "expenses    1.000000\n",
       "age         0.299008\n",
       "bmi         0.198576\n",
       "children    0.067998\n",
       "Name: expenses, dtype: float64"
      ]
     },
     "execution_count": 21,
     "metadata": {},
     "output_type": "execute_result"
    }
   ],
   "source": [
    "corr.expenses.sort_values(ascending=False)"
   ]
  },
  {
   "cell_type": "code",
   "execution_count": 22,
   "id": "1cbfb95f",
   "metadata": {},
   "outputs": [],
   "source": [
    "## It can be said from the correlation values that , expenses are more likely to be impacted by age"
   ]
  },
  {
   "cell_type": "code",
   "execution_count": 23,
   "id": "2d14a767",
   "metadata": {},
   "outputs": [
    {
     "data": {
      "text/plain": [
       "18"
      ]
     },
     "execution_count": 23,
     "metadata": {},
     "output_type": "execute_result"
    }
   ],
   "source": [
    "np.min(medical.age)"
   ]
  },
  {
   "cell_type": "code",
   "execution_count": 24,
   "id": "76f8b196",
   "metadata": {},
   "outputs": [
    {
     "data": {
      "text/plain": [
       "64"
      ]
     },
     "execution_count": 24,
     "metadata": {},
     "output_type": "execute_result"
    }
   ],
   "source": [
    "np.max(medical.age)"
   ]
  },
  {
   "cell_type": "code",
   "execution_count": 25,
   "id": "64328b6a",
   "metadata": {},
   "outputs": [
    {
     "data": {
      "text/plain": [
       "47"
      ]
     },
     "execution_count": 25,
     "metadata": {},
     "output_type": "execute_result"
    }
   ],
   "source": [
    "len(medical.age.unique())"
   ]
  },
  {
   "cell_type": "code",
   "execution_count": 26,
   "id": "e0750a7c",
   "metadata": {
    "scrolled": true
   },
   "outputs": [
    {
     "data": {
      "text/plain": [
       "47"
      ]
     },
     "execution_count": 26,
     "metadata": {},
     "output_type": "execute_result"
    }
   ],
   "source": [
    "len(np.ceil(medical.age).unique())"
   ]
  },
  {
   "cell_type": "code",
   "execution_count": 27,
   "id": "1a30eb74",
   "metadata": {},
   "outputs": [],
   "source": [
    "medical['age_cat']=np.ceil(medical.age / 18)"
   ]
  },
  {
   "cell_type": "code",
   "execution_count": 28,
   "id": "bf718ded",
   "metadata": {},
   "outputs": [
    {
     "data": {
      "text/plain": [
       "4"
      ]
     },
     "execution_count": 28,
     "metadata": {},
     "output_type": "execute_result"
    }
   ],
   "source": [
    "len(medical.age_cat.value_counts().sort_index(ascending= True))"
   ]
  },
  {
   "cell_type": "code",
   "execution_count": 29,
   "id": "f96503b5",
   "metadata": {},
   "outputs": [
    {
     "data": {
      "text/plain": [
       "1.0     69\n",
       "2.0    530\n",
       "3.0    497\n",
       "4.0    242\n",
       "Name: age_cat, dtype: int64"
      ]
     },
     "execution_count": 29,
     "metadata": {},
     "output_type": "execute_result"
    }
   ],
   "source": [
    "medical.age_cat.value_counts().sort_index(ascending = True)"
   ]
  },
  {
   "cell_type": "code",
   "execution_count": 30,
   "id": "676ead00",
   "metadata": {},
   "outputs": [],
   "source": [
    "count = medical.age_cat.value_counts()"
   ]
  },
  {
   "cell_type": "code",
   "execution_count": 31,
   "id": "b6b41727",
   "metadata": {},
   "outputs": [
    {
     "data": {
      "text/plain": [
       "<AxesSubplot:xlabel='age_cat', ylabel='count'>"
      ]
     },
     "execution_count": 31,
     "metadata": {},
     "output_type": "execute_result"
    },
    {
     "data": {
      "image/png": "[encoded data removed]",
      "text/plain": [
       "<Figure size 432x288 with 1 Axes>"
      ]
     },
     "metadata": {
      "needs_background": "light"
     },
     "output_type": "display_data"
    }
   ],
   "source": [
    "sns.countplot(x= 'age_cat', data= medical)"
   ]
  },
  {
   "cell_type": "code",
   "execution_count": 32,
   "id": "621326f9",
   "metadata": {},
   "outputs": [
    {
     "data": {
      "text/plain": [
       "275"
      ]
     },
     "execution_count": 32,
     "metadata": {},
     "output_type": "execute_result"
    }
   ],
   "source": [
    "len(medical['bmi'].unique())"
   ]
  },
  {
   "cell_type": "code",
   "execution_count": 33,
   "id": "80f999c5",
   "metadata": {},
   "outputs": [],
   "source": [
    "medical['bmi_cat']=np.ceil(medical.bmi / 16)"
   ]
  },
  {
   "cell_type": "code",
   "execution_count": 34,
   "id": "7d817f71",
   "metadata": {},
   "outputs": [
    {
     "data": {
      "text/plain": [
       "1.0    0.000747\n",
       "2.0    0.599402\n",
       "3.0    0.396114\n",
       "4.0    0.003737\n",
       "Name: bmi_cat, dtype: float64"
      ]
     },
     "execution_count": 34,
     "metadata": {},
     "output_type": "execute_result"
    }
   ],
   "source": [
    "medical.bmi_cat.value_counts().sort_index(ascending = True) / len(medical)"
   ]
  },
  {
   "cell_type": "code",
   "execution_count": 35,
   "id": "576d4bac",
   "metadata": {},
   "outputs": [],
   "source": [
    "# Plot of the Mean Expense vs Attributes"
   ]
  },
  {
   "cell_type": "code",
   "execution_count": 36,
   "id": "9f565f45",
   "metadata": {},
   "outputs": [
    {
     "name": "stdout",
     "output_type": "stream",
     "text": [
      "age_cat\n"
     ]
    },
    {
     "data": {
      "image/png": "[encoded data removed]",
      "text/plain": [
       "<Figure size 432x288 with 1 Axes>"
      ]
     },
     "metadata": {
      "needs_background": "light"
     },
     "output_type": "display_data"
    },
    {
     "name": "stdout",
     "output_type": "stream",
     "text": [
      "sex\n"
     ]
    },
    {
     "data": {
      "image/png": "[encoded data removed]",
      "text/plain": [
       "<Figure size 432x288 with 1 Axes>"
      ]
     },
     "metadata": {
      "needs_background": "light"
     },
     "output_type": "display_data"
    },
    {
     "name": "stdout",
     "output_type": "stream",
     "text": [
      "region\n"
     ]
    },
    {
     "data": {
      "image/png": "[encoded data removed]",
      "text/plain": [
       "<Figure size 432x288 with 1 Axes>"
      ]
     },
     "metadata": {
      "needs_background": "light"
     },
     "output_type": "display_data"
    },
    {
     "name": "stdout",
     "output_type": "stream",
     "text": [
      "bmi_cat\n"
     ]
    },
    {
     "data": {
      "image/png": "[encoded data removed]",
      "text/plain": [
       "<Figure size 432x288 with 1 Axes>"
      ]
     },
     "metadata": {
      "needs_background": "light"
     },
     "output_type": "display_data"
    },
    {
     "name": "stdout",
     "output_type": "stream",
     "text": [
      "children\n"
     ]
    },
    {
     "data": {
      "image/png": "[encoded data removed]",
      "text/plain": [
       "<Figure size 432x288 with 1 Axes>"
      ]
     },
     "metadata": {
      "needs_background": "light"
     },
     "output_type": "display_data"
    }
   ],
   "source": [
    "lst = ['age_cat','sex','region','bmi_cat','children']\n",
    "for i in lst:\n",
    "    data = medical.groupby(by = i)['expenses'].mean().plot(kind = 'bar')\n",
    "    print(i)\n",
    "    plt.ylabel('mean_expenses')\n",
    "    plt.show()"
   ]
  },
  {
   "cell_type": "markdown",
   "id": "69faf1b3",
   "metadata": {},
   "source": [
    "#### Mean expense is highest for the age category 4.0 among all other age categories.\n",
    "#### Mean expense is highest for Male among all genders.\n",
    "#### Mean expense is higher for southwest region among all other regions.\n",
    "#### Mean expense is higher for the bmi category 3.0 among all other categories of bmi.\n",
    "#### Mean expense is higher for the category having 3 children followed by 2 children."
   ]
  },
  {
   "cell_type": "code",
   "execution_count": null,
   "id": "98d20676",
   "metadata": {},
   "outputs": [],
   "source": []
  },
  {
   "cell_type": "markdown",
   "id": "1f284ff4",
   "metadata": {},
   "source": [
    "### Checking for the proportion of each age category in the dataset"
   ]
  },
  {
   "cell_type": "code",
   "execution_count": 37,
   "id": "9d9cd310",
   "metadata": {},
   "outputs": [
    {
     "data": {
      "text/plain": [
       "1.0    0.051570\n",
       "2.0    0.396114\n",
       "3.0    0.371450\n",
       "4.0    0.180867\n",
       "Name: age_cat, dtype: float64"
      ]
     },
     "execution_count": 37,
     "metadata": {},
     "output_type": "execute_result"
    }
   ],
   "source": [
    "medical.age_cat.value_counts().sort_index(ascending = True) / len(medical)"
   ]
  },
  {
   "cell_type": "markdown",
   "id": "1bb1b21e",
   "metadata": {},
   "source": [
    "## Splitting into test data and train data"
   ]
  },
  {
   "cell_type": "code",
   "execution_count": 38,
   "id": "e67ab18c",
   "metadata": {},
   "outputs": [],
   "source": [
    "from sklearn.model_selection import StratifiedShuffleSplit"
   ]
  },
  {
   "cell_type": "code",
   "execution_count": 39,
   "id": "ce200a5d",
   "metadata": {},
   "outputs": [],
   "source": [
    "strat_split = StratifiedShuffleSplit(n_splits = 1, test_size = 0.2, random_state = 42)"
   ]
  },
  {
   "cell_type": "code",
   "execution_count": 40,
   "id": "99549c3e",
   "metadata": {},
   "outputs": [],
   "source": [
    "for train_ix, test_ix in strat_split.split(medical, medical.age_cat):\n",
    "    strat_train = medical.iloc[train_ix]\n",
    "    strat_test = medical.iloc[test_ix]"
   ]
  },
  {
   "cell_type": "markdown",
   "id": "5800d92b",
   "metadata": {},
   "source": [
    "### Checking whether the categories of age are maintained in the train and test dataset"
   ]
  },
  {
   "cell_type": "code",
   "execution_count": 41,
   "id": "cb72ddda",
   "metadata": {},
   "outputs": [
    {
     "data": {
      "text/plain": [
       "1.0    0.051402\n",
       "2.0    0.396262\n",
       "3.0    0.371028\n",
       "4.0    0.181308\n",
       "Name: age_cat, dtype: float64"
      ]
     },
     "execution_count": 41,
     "metadata": {},
     "output_type": "execute_result"
    }
   ],
   "source": [
    "strat_train.age_cat.value_counts().sort_index(ascending = True) / len(strat_train)"
   ]
  },
  {
   "cell_type": "code",
   "execution_count": 42,
   "id": "2b5451ea",
   "metadata": {},
   "outputs": [
    {
     "data": {
      "text/plain": [
       "1.0    0.052239\n",
       "2.0    0.395522\n",
       "3.0    0.373134\n",
       "4.0    0.179104\n",
       "Name: age_cat, dtype: float64"
      ]
     },
     "execution_count": 42,
     "metadata": {},
     "output_type": "execute_result"
    }
   ],
   "source": [
    "strat_test.age_cat.value_counts().sort_index(ascending = True) / len(strat_test)"
   ]
  },
  {
   "cell_type": "code",
   "execution_count": 43,
   "id": "00fb4061",
   "metadata": {},
   "outputs": [],
   "source": [
    "### We can see that the ratio of all the age_categories has been maintained properly in the strat_train and strat_test\n",
    "### Now we want to drop this 'age_cat' column from these two dataframes as these attributes were introduced just for making\n",
    "### the train and test datasets maintaining the proper categorical ratio of age otherwise the sole purpose of stratified\n",
    "### shuffling would have been violated."
   ]
  },
  {
   "cell_type": "markdown",
   "id": "00ffc6e0",
   "metadata": {},
   "source": [
    "### After stratified shuffle split the datasets strat_train and strat_test are as below:"
   ]
  },
  {
   "cell_type": "code",
   "execution_count": 44,
   "id": "d3566bc2",
   "metadata": {},
   "outputs": [
    {
     "data": {
      "text/html": [
       "<div>\n",
       "<style scoped>\n",
       "    .dataframe tbody tr th:only-of-type {\n",
       "        vertical-align: middle;\n",
       "    }\n",
       "\n",
       "    .dataframe tbody tr th {\n",
       "        vertical-align: top;\n",
       "    }\n",
       "\n",
       "    .dataframe thead th {\n",
       "        text-align: right;\n",
       "    }\n",
       "</style>\n",
       "<table border=\"1\" class=\"dataframe\">\n",
       "  <thead>\n",
       "    <tr style=\"text-align: right;\">\n",
       "      <th></th>\n",
       "      <th>age</th>\n",
       "      <th>sex</th>\n",
       "      <th>bmi</th>\n",
       "      <th>children</th>\n",
       "      <th>smoker</th>\n",
       "      <th>region</th>\n",
       "      <th>expenses</th>\n",
       "      <th>age_cat</th>\n",
       "      <th>bmi_cat</th>\n",
       "    </tr>\n",
       "  </thead>\n",
       "  <tbody>\n",
       "    <tr>\n",
       "      <th>376</th>\n",
       "      <td>39</td>\n",
       "      <td>female</td>\n",
       "      <td>24.9</td>\n",
       "      <td>3</td>\n",
       "      <td>yes</td>\n",
       "      <td>northeast</td>\n",
       "      <td>21659.93</td>\n",
       "      <td>3.0</td>\n",
       "      <td>2.0</td>\n",
       "    </tr>\n",
       "    <tr>\n",
       "      <th>1300</th>\n",
       "      <td>45</td>\n",
       "      <td>male</td>\n",
       "      <td>30.4</td>\n",
       "      <td>0</td>\n",
       "      <td>yes</td>\n",
       "      <td>southeast</td>\n",
       "      <td>62592.87</td>\n",
       "      <td>3.0</td>\n",
       "      <td>2.0</td>\n",
       "    </tr>\n",
       "    <tr>\n",
       "      <th>998</th>\n",
       "      <td>33</td>\n",
       "      <td>female</td>\n",
       "      <td>36.3</td>\n",
       "      <td>3</td>\n",
       "      <td>no</td>\n",
       "      <td>northeast</td>\n",
       "      <td>6551.75</td>\n",
       "      <td>2.0</td>\n",
       "      <td>3.0</td>\n",
       "    </tr>\n",
       "    <tr>\n",
       "      <th>800</th>\n",
       "      <td>42</td>\n",
       "      <td>female</td>\n",
       "      <td>26.2</td>\n",
       "      <td>1</td>\n",
       "      <td>no</td>\n",
       "      <td>southeast</td>\n",
       "      <td>7046.72</td>\n",
       "      <td>3.0</td>\n",
       "      <td>2.0</td>\n",
       "    </tr>\n",
       "    <tr>\n",
       "      <th>586</th>\n",
       "      <td>21</td>\n",
       "      <td>male</td>\n",
       "      <td>20.2</td>\n",
       "      <td>3</td>\n",
       "      <td>no</td>\n",
       "      <td>northeast</td>\n",
       "      <td>3861.21</td>\n",
       "      <td>2.0</td>\n",
       "      <td>2.0</td>\n",
       "    </tr>\n",
       "    <tr>\n",
       "      <th>...</th>\n",
       "      <td>...</td>\n",
       "      <td>...</td>\n",
       "      <td>...</td>\n",
       "      <td>...</td>\n",
       "      <td>...</td>\n",
       "      <td>...</td>\n",
       "      <td>...</td>\n",
       "      <td>...</td>\n",
       "      <td>...</td>\n",
       "    </tr>\n",
       "    <tr>\n",
       "      <th>569</th>\n",
       "      <td>48</td>\n",
       "      <td>male</td>\n",
       "      <td>40.6</td>\n",
       "      <td>2</td>\n",
       "      <td>yes</td>\n",
       "      <td>northwest</td>\n",
       "      <td>45702.02</td>\n",
       "      <td>3.0</td>\n",
       "      <td>3.0</td>\n",
       "    </tr>\n",
       "    <tr>\n",
       "      <th>133</th>\n",
       "      <td>19</td>\n",
       "      <td>male</td>\n",
       "      <td>25.6</td>\n",
       "      <td>0</td>\n",
       "      <td>no</td>\n",
       "      <td>northwest</td>\n",
       "      <td>1632.56</td>\n",
       "      <td>2.0</td>\n",
       "      <td>2.0</td>\n",
       "    </tr>\n",
       "    <tr>\n",
       "      <th>286</th>\n",
       "      <td>46</td>\n",
       "      <td>female</td>\n",
       "      <td>48.1</td>\n",
       "      <td>2</td>\n",
       "      <td>no</td>\n",
       "      <td>northeast</td>\n",
       "      <td>9432.93</td>\n",
       "      <td>3.0</td>\n",
       "      <td>4.0</td>\n",
       "    </tr>\n",
       "    <tr>\n",
       "      <th>846</th>\n",
       "      <td>51</td>\n",
       "      <td>female</td>\n",
       "      <td>34.2</td>\n",
       "      <td>1</td>\n",
       "      <td>no</td>\n",
       "      <td>southwest</td>\n",
       "      <td>9872.70</td>\n",
       "      <td>3.0</td>\n",
       "      <td>3.0</td>\n",
       "    </tr>\n",
       "    <tr>\n",
       "      <th>911</th>\n",
       "      <td>18</td>\n",
       "      <td>male</td>\n",
       "      <td>31.7</td>\n",
       "      <td>0</td>\n",
       "      <td>yes</td>\n",
       "      <td>northeast</td>\n",
       "      <td>33732.69</td>\n",
       "      <td>1.0</td>\n",
       "      <td>2.0</td>\n",
       "    </tr>\n",
       "  </tbody>\n",
       "</table>\n",
       "<p>1070 rows × 9 columns</p>\n",
       "</div>"
      ],
      "text/plain": [
       "      age     sex   bmi  children smoker     region  expenses  age_cat  \\\n",
       "376    39  female  24.9         3    yes  northeast  21659.93      3.0   \n",
       "1300   45    male  30.4         0    yes  southeast  62592.87      3.0   \n",
       "998    33  female  36.3         3     no  northeast   6551.75      2.0   \n",
       "800    42  female  26.2         1     no  southeast   7046.72      3.0   \n",
       "586    21    male  20.2         3     no  northeast   3861.21      2.0   \n",
       "...   ...     ...   ...       ...    ...        ...       ...      ...   \n",
       "569    48    male  40.6         2    yes  northwest  45702.02      3.0   \n",
       "133    19    male  25.6         0     no  northwest   1632.56      2.0   \n",
       "286    46  female  48.1         2     no  northeast   9432.93      3.0   \n",
       "846    51  female  34.2         1     no  southwest   9872.70      3.0   \n",
       "911    18    male  31.7         0    yes  northeast  33732.69      1.0   \n",
       "\n",
       "      bmi_cat  \n",
       "376       2.0  \n",
       "1300      2.0  \n",
       "998       3.0  \n",
       "800       2.0  \n",
       "586       2.0  \n",
       "...       ...  \n",
       "569       3.0  \n",
       "133       2.0  \n",
       "286       4.0  \n",
       "846       3.0  \n",
       "911       2.0  \n",
       "\n",
       "[1070 rows x 9 columns]"
      ]
     },
     "execution_count": 44,
     "metadata": {},
     "output_type": "execute_result"
    }
   ],
   "source": [
    "strat_train"
   ]
  },
  {
   "cell_type": "code",
   "execution_count": 45,
   "id": "e5e5bcf3",
   "metadata": {},
   "outputs": [
    {
     "data": {
      "text/html": [
       "<div>\n",
       "<style scoped>\n",
       "    .dataframe tbody tr th:only-of-type {\n",
       "        vertical-align: middle;\n",
       "    }\n",
       "\n",
       "    .dataframe tbody tr th {\n",
       "        vertical-align: top;\n",
       "    }\n",
       "\n",
       "    .dataframe thead th {\n",
       "        text-align: right;\n",
       "    }\n",
       "</style>\n",
       "<table border=\"1\" class=\"dataframe\">\n",
       "  <thead>\n",
       "    <tr style=\"text-align: right;\">\n",
       "      <th></th>\n",
       "      <th>age</th>\n",
       "      <th>sex</th>\n",
       "      <th>bmi</th>\n",
       "      <th>children</th>\n",
       "      <th>smoker</th>\n",
       "      <th>region</th>\n",
       "      <th>expenses</th>\n",
       "      <th>age_cat</th>\n",
       "      <th>bmi_cat</th>\n",
       "    </tr>\n",
       "  </thead>\n",
       "  <tbody>\n",
       "    <tr>\n",
       "      <th>61</th>\n",
       "      <td>25</td>\n",
       "      <td>male</td>\n",
       "      <td>33.7</td>\n",
       "      <td>4</td>\n",
       "      <td>no</td>\n",
       "      <td>southeast</td>\n",
       "      <td>4504.66</td>\n",
       "      <td>2.0</td>\n",
       "      <td>3.0</td>\n",
       "    </tr>\n",
       "    <tr>\n",
       "      <th>1185</th>\n",
       "      <td>45</td>\n",
       "      <td>male</td>\n",
       "      <td>23.6</td>\n",
       "      <td>2</td>\n",
       "      <td>no</td>\n",
       "      <td>northeast</td>\n",
       "      <td>8603.82</td>\n",
       "      <td>3.0</td>\n",
       "      <td>2.0</td>\n",
       "    </tr>\n",
       "    <tr>\n",
       "      <th>1183</th>\n",
       "      <td>48</td>\n",
       "      <td>female</td>\n",
       "      <td>27.4</td>\n",
       "      <td>1</td>\n",
       "      <td>no</td>\n",
       "      <td>northeast</td>\n",
       "      <td>9447.38</td>\n",
       "      <td>3.0</td>\n",
       "      <td>2.0</td>\n",
       "    </tr>\n",
       "    <tr>\n",
       "      <th>790</th>\n",
       "      <td>39</td>\n",
       "      <td>female</td>\n",
       "      <td>41.8</td>\n",
       "      <td>0</td>\n",
       "      <td>no</td>\n",
       "      <td>southeast</td>\n",
       "      <td>5662.23</td>\n",
       "      <td>3.0</td>\n",
       "      <td>3.0</td>\n",
       "    </tr>\n",
       "    <tr>\n",
       "      <th>146</th>\n",
       "      <td>46</td>\n",
       "      <td>male</td>\n",
       "      <td>30.5</td>\n",
       "      <td>3</td>\n",
       "      <td>yes</td>\n",
       "      <td>northwest</td>\n",
       "      <td>40720.55</td>\n",
       "      <td>3.0</td>\n",
       "      <td>2.0</td>\n",
       "    </tr>\n",
       "    <tr>\n",
       "      <th>...</th>\n",
       "      <td>...</td>\n",
       "      <td>...</td>\n",
       "      <td>...</td>\n",
       "      <td>...</td>\n",
       "      <td>...</td>\n",
       "      <td>...</td>\n",
       "      <td>...</td>\n",
       "      <td>...</td>\n",
       "      <td>...</td>\n",
       "    </tr>\n",
       "    <tr>\n",
       "      <th>1244</th>\n",
       "      <td>18</td>\n",
       "      <td>male</td>\n",
       "      <td>33.3</td>\n",
       "      <td>0</td>\n",
       "      <td>no</td>\n",
       "      <td>southeast</td>\n",
       "      <td>1135.94</td>\n",
       "      <td>1.0</td>\n",
       "      <td>3.0</td>\n",
       "    </tr>\n",
       "    <tr>\n",
       "      <th>411</th>\n",
       "      <td>44</td>\n",
       "      <td>female</td>\n",
       "      <td>20.2</td>\n",
       "      <td>1</td>\n",
       "      <td>yes</td>\n",
       "      <td>northeast</td>\n",
       "      <td>19594.81</td>\n",
       "      <td>3.0</td>\n",
       "      <td>2.0</td>\n",
       "    </tr>\n",
       "    <tr>\n",
       "      <th>1108</th>\n",
       "      <td>26</td>\n",
       "      <td>male</td>\n",
       "      <td>30.0</td>\n",
       "      <td>1</td>\n",
       "      <td>no</td>\n",
       "      <td>southwest</td>\n",
       "      <td>2904.09</td>\n",
       "      <td>2.0</td>\n",
       "      <td>2.0</td>\n",
       "    </tr>\n",
       "    <tr>\n",
       "      <th>551</th>\n",
       "      <td>32</td>\n",
       "      <td>female</td>\n",
       "      <td>28.9</td>\n",
       "      <td>0</td>\n",
       "      <td>no</td>\n",
       "      <td>southeast</td>\n",
       "      <td>3972.92</td>\n",
       "      <td>2.0</td>\n",
       "      <td>2.0</td>\n",
       "    </tr>\n",
       "    <tr>\n",
       "      <th>1274</th>\n",
       "      <td>26</td>\n",
       "      <td>male</td>\n",
       "      <td>27.1</td>\n",
       "      <td>0</td>\n",
       "      <td>yes</td>\n",
       "      <td>southeast</td>\n",
       "      <td>17043.34</td>\n",
       "      <td>2.0</td>\n",
       "      <td>2.0</td>\n",
       "    </tr>\n",
       "  </tbody>\n",
       "</table>\n",
       "<p>268 rows × 9 columns</p>\n",
       "</div>"
      ],
      "text/plain": [
       "      age     sex   bmi  children smoker     region  expenses  age_cat  \\\n",
       "61     25    male  33.7         4     no  southeast   4504.66      2.0   \n",
       "1185   45    male  23.6         2     no  northeast   8603.82      3.0   \n",
       "1183   48  female  27.4         1     no  northeast   9447.38      3.0   \n",
       "790    39  female  41.8         0     no  southeast   5662.23      3.0   \n",
       "146    46    male  30.5         3    yes  northwest  40720.55      3.0   \n",
       "...   ...     ...   ...       ...    ...        ...       ...      ...   \n",
       "1244   18    male  33.3         0     no  southeast   1135.94      1.0   \n",
       "411    44  female  20.2         1    yes  northeast  19594.81      3.0   \n",
       "1108   26    male  30.0         1     no  southwest   2904.09      2.0   \n",
       "551    32  female  28.9         0     no  southeast   3972.92      2.0   \n",
       "1274   26    male  27.1         0    yes  southeast  17043.34      2.0   \n",
       "\n",
       "      bmi_cat  \n",
       "61        3.0  \n",
       "1185      2.0  \n",
       "1183      2.0  \n",
       "790       3.0  \n",
       "146       2.0  \n",
       "...       ...  \n",
       "1244      3.0  \n",
       "411       2.0  \n",
       "1108      2.0  \n",
       "551       2.0  \n",
       "1274      2.0  \n",
       "\n",
       "[268 rows x 9 columns]"
      ]
     },
     "execution_count": 45,
     "metadata": {},
     "output_type": "execute_result"
    }
   ],
   "source": [
    "strat_test"
   ]
  },
  {
   "cell_type": "markdown",
   "id": "6a7de6df",
   "metadata": {},
   "source": [
    "### Dropping the age_cat column from the strat_train and strat_test"
   ]
  },
  {
   "cell_type": "code",
   "execution_count": 46,
   "id": "3aedac2a",
   "metadata": {},
   "outputs": [],
   "source": [
    "strat_train = strat_train.drop('age_cat',axis = 1)\n",
    "strat_test = strat_test.drop('age_cat', axis = 1)"
   ]
  },
  {
   "cell_type": "code",
   "execution_count": 47,
   "id": "6bea2d42",
   "metadata": {
    "scrolled": false
   },
   "outputs": [
    {
     "data": {
      "text/html": [
       "<div>\n",
       "<style scoped>\n",
       "    .dataframe tbody tr th:only-of-type {\n",
       "        vertical-align: middle;\n",
       "    }\n",
       "\n",
       "    .dataframe tbody tr th {\n",
       "        vertical-align: top;\n",
       "    }\n",
       "\n",
       "    .dataframe thead th {\n",
       "        text-align: right;\n",
       "    }\n",
       "</style>\n",
       "<table border=\"1\" class=\"dataframe\">\n",
       "  <thead>\n",
       "    <tr style=\"text-align: right;\">\n",
       "      <th></th>\n",
       "      <th>age</th>\n",
       "      <th>sex</th>\n",
       "      <th>bmi</th>\n",
       "      <th>children</th>\n",
       "      <th>smoker</th>\n",
       "      <th>region</th>\n",
       "      <th>expenses</th>\n",
       "      <th>bmi_cat</th>\n",
       "    </tr>\n",
       "  </thead>\n",
       "  <tbody>\n",
       "    <tr>\n",
       "      <th>376</th>\n",
       "      <td>39</td>\n",
       "      <td>female</td>\n",
       "      <td>24.9</td>\n",
       "      <td>3</td>\n",
       "      <td>yes</td>\n",
       "      <td>northeast</td>\n",
       "      <td>21659.93</td>\n",
       "      <td>2.0</td>\n",
       "    </tr>\n",
       "    <tr>\n",
       "      <th>1300</th>\n",
       "      <td>45</td>\n",
       "      <td>male</td>\n",
       "      <td>30.4</td>\n",
       "      <td>0</td>\n",
       "      <td>yes</td>\n",
       "      <td>southeast</td>\n",
       "      <td>62592.87</td>\n",
       "      <td>2.0</td>\n",
       "    </tr>\n",
       "    <tr>\n",
       "      <th>998</th>\n",
       "      <td>33</td>\n",
       "      <td>female</td>\n",
       "      <td>36.3</td>\n",
       "      <td>3</td>\n",
       "      <td>no</td>\n",
       "      <td>northeast</td>\n",
       "      <td>6551.75</td>\n",
       "      <td>3.0</td>\n",
       "    </tr>\n",
       "    <tr>\n",
       "      <th>800</th>\n",
       "      <td>42</td>\n",
       "      <td>female</td>\n",
       "      <td>26.2</td>\n",
       "      <td>1</td>\n",
       "      <td>no</td>\n",
       "      <td>southeast</td>\n",
       "      <td>7046.72</td>\n",
       "      <td>2.0</td>\n",
       "    </tr>\n",
       "    <tr>\n",
       "      <th>586</th>\n",
       "      <td>21</td>\n",
       "      <td>male</td>\n",
       "      <td>20.2</td>\n",
       "      <td>3</td>\n",
       "      <td>no</td>\n",
       "      <td>northeast</td>\n",
       "      <td>3861.21</td>\n",
       "      <td>2.0</td>\n",
       "    </tr>\n",
       "    <tr>\n",
       "      <th>...</th>\n",
       "      <td>...</td>\n",
       "      <td>...</td>\n",
       "      <td>...</td>\n",
       "      <td>...</td>\n",
       "      <td>...</td>\n",
       "      <td>...</td>\n",
       "      <td>...</td>\n",
       "      <td>...</td>\n",
       "    </tr>\n",
       "    <tr>\n",
       "      <th>569</th>\n",
       "      <td>48</td>\n",
       "      <td>male</td>\n",
       "      <td>40.6</td>\n",
       "      <td>2</td>\n",
       "      <td>yes</td>\n",
       "      <td>northwest</td>\n",
       "      <td>45702.02</td>\n",
       "      <td>3.0</td>\n",
       "    </tr>\n",
       "    <tr>\n",
       "      <th>133</th>\n",
       "      <td>19</td>\n",
       "      <td>male</td>\n",
       "      <td>25.6</td>\n",
       "      <td>0</td>\n",
       "      <td>no</td>\n",
       "      <td>northwest</td>\n",
       "      <td>1632.56</td>\n",
       "      <td>2.0</td>\n",
       "    </tr>\n",
       "    <tr>\n",
       "      <th>286</th>\n",
       "      <td>46</td>\n",
       "      <td>female</td>\n",
       "      <td>48.1</td>\n",
       "      <td>2</td>\n",
       "      <td>no</td>\n",
       "      <td>northeast</td>\n",
       "      <td>9432.93</td>\n",
       "      <td>4.0</td>\n",
       "    </tr>\n",
       "    <tr>\n",
       "      <th>846</th>\n",
       "      <td>51</td>\n",
       "      <td>female</td>\n",
       "      <td>34.2</td>\n",
       "      <td>1</td>\n",
       "      <td>no</td>\n",
       "      <td>southwest</td>\n",
       "      <td>9872.70</td>\n",
       "      <td>3.0</td>\n",
       "    </tr>\n",
       "    <tr>\n",
       "      <th>911</th>\n",
       "      <td>18</td>\n",
       "      <td>male</td>\n",
       "      <td>31.7</td>\n",
       "      <td>0</td>\n",
       "      <td>yes</td>\n",
       "      <td>northeast</td>\n",
       "      <td>33732.69</td>\n",
       "      <td>2.0</td>\n",
       "    </tr>\n",
       "  </tbody>\n",
       "</table>\n",
       "<p>1070 rows × 8 columns</p>\n",
       "</div>"
      ],
      "text/plain": [
       "      age     sex   bmi  children smoker     region  expenses  bmi_cat\n",
       "376    39  female  24.9         3    yes  northeast  21659.93      2.0\n",
       "1300   45    male  30.4         0    yes  southeast  62592.87      2.0\n",
       "998    33  female  36.3         3     no  northeast   6551.75      3.0\n",
       "800    42  female  26.2         1     no  southeast   7046.72      2.0\n",
       "586    21    male  20.2         3     no  northeast   3861.21      2.0\n",
       "...   ...     ...   ...       ...    ...        ...       ...      ...\n",
       "569    48    male  40.6         2    yes  northwest  45702.02      3.0\n",
       "133    19    male  25.6         0     no  northwest   1632.56      2.0\n",
       "286    46  female  48.1         2     no  northeast   9432.93      4.0\n",
       "846    51  female  34.2         1     no  southwest   9872.70      3.0\n",
       "911    18    male  31.7         0    yes  northeast  33732.69      2.0\n",
       "\n",
       "[1070 rows x 8 columns]"
      ]
     },
     "execution_count": 47,
     "metadata": {},
     "output_type": "execute_result"
    }
   ],
   "source": [
    "strat_train"
   ]
  },
  {
   "cell_type": "code",
   "execution_count": 48,
   "id": "356ca495",
   "metadata": {
    "scrolled": false
   },
   "outputs": [
    {
     "data": {
      "text/html": [
       "<div>\n",
       "<style scoped>\n",
       "    .dataframe tbody tr th:only-of-type {\n",
       "        vertical-align: middle;\n",
       "    }\n",
       "\n",
       "    .dataframe tbody tr th {\n",
       "        vertical-align: top;\n",
       "    }\n",
       "\n",
       "    .dataframe thead th {\n",
       "        text-align: right;\n",
       "    }\n",
       "</style>\n",
       "<table border=\"1\" class=\"dataframe\">\n",
       "  <thead>\n",
       "    <tr style=\"text-align: right;\">\n",
       "      <th></th>\n",
       "      <th>age</th>\n",
       "      <th>sex</th>\n",
       "      <th>bmi</th>\n",
       "      <th>children</th>\n",
       "      <th>smoker</th>\n",
       "      <th>region</th>\n",
       "      <th>expenses</th>\n",
       "      <th>bmi_cat</th>\n",
       "    </tr>\n",
       "  </thead>\n",
       "  <tbody>\n",
       "    <tr>\n",
       "      <th>61</th>\n",
       "      <td>25</td>\n",
       "      <td>male</td>\n",
       "      <td>33.7</td>\n",
       "      <td>4</td>\n",
       "      <td>no</td>\n",
       "      <td>southeast</td>\n",
       "      <td>4504.66</td>\n",
       "      <td>3.0</td>\n",
       "    </tr>\n",
       "    <tr>\n",
       "      <th>1185</th>\n",
       "      <td>45</td>\n",
       "      <td>male</td>\n",
       "      <td>23.6</td>\n",
       "      <td>2</td>\n",
       "      <td>no</td>\n",
       "      <td>northeast</td>\n",
       "      <td>8603.82</td>\n",
       "      <td>2.0</td>\n",
       "    </tr>\n",
       "    <tr>\n",
       "      <th>1183</th>\n",
       "      <td>48</td>\n",
       "      <td>female</td>\n",
       "      <td>27.4</td>\n",
       "      <td>1</td>\n",
       "      <td>no</td>\n",
       "      <td>northeast</td>\n",
       "      <td>9447.38</td>\n",
       "      <td>2.0</td>\n",
       "    </tr>\n",
       "    <tr>\n",
       "      <th>790</th>\n",
       "      <td>39</td>\n",
       "      <td>female</td>\n",
       "      <td>41.8</td>\n",
       "      <td>0</td>\n",
       "      <td>no</td>\n",
       "      <td>southeast</td>\n",
       "      <td>5662.23</td>\n",
       "      <td>3.0</td>\n",
       "    </tr>\n",
       "    <tr>\n",
       "      <th>146</th>\n",
       "      <td>46</td>\n",
       "      <td>male</td>\n",
       "      <td>30.5</td>\n",
       "      <td>3</td>\n",
       "      <td>yes</td>\n",
       "      <td>northwest</td>\n",
       "      <td>40720.55</td>\n",
       "      <td>2.0</td>\n",
       "    </tr>\n",
       "    <tr>\n",
       "      <th>...</th>\n",
       "      <td>...</td>\n",
       "      <td>...</td>\n",
       "      <td>...</td>\n",
       "      <td>...</td>\n",
       "      <td>...</td>\n",
       "      <td>...</td>\n",
       "      <td>...</td>\n",
       "      <td>...</td>\n",
       "    </tr>\n",
       "    <tr>\n",
       "      <th>1244</th>\n",
       "      <td>18</td>\n",
       "      <td>male</td>\n",
       "      <td>33.3</td>\n",
       "      <td>0</td>\n",
       "      <td>no</td>\n",
       "      <td>southeast</td>\n",
       "      <td>1135.94</td>\n",
       "      <td>3.0</td>\n",
       "    </tr>\n",
       "    <tr>\n",
       "      <th>411</th>\n",
       "      <td>44</td>\n",
       "      <td>female</td>\n",
       "      <td>20.2</td>\n",
       "      <td>1</td>\n",
       "      <td>yes</td>\n",
       "      <td>northeast</td>\n",
       "      <td>19594.81</td>\n",
       "      <td>2.0</td>\n",
       "    </tr>\n",
       "    <tr>\n",
       "      <th>1108</th>\n",
       "      <td>26</td>\n",
       "      <td>male</td>\n",
       "      <td>30.0</td>\n",
       "      <td>1</td>\n",
       "      <td>no</td>\n",
       "      <td>southwest</td>\n",
       "      <td>2904.09</td>\n",
       "      <td>2.0</td>\n",
       "    </tr>\n",
       "    <tr>\n",
       "      <th>551</th>\n",
       "      <td>32</td>\n",
       "      <td>female</td>\n",
       "      <td>28.9</td>\n",
       "      <td>0</td>\n",
       "      <td>no</td>\n",
       "      <td>southeast</td>\n",
       "      <td>3972.92</td>\n",
       "      <td>2.0</td>\n",
       "    </tr>\n",
       "    <tr>\n",
       "      <th>1274</th>\n",
       "      <td>26</td>\n",
       "      <td>male</td>\n",
       "      <td>27.1</td>\n",
       "      <td>0</td>\n",
       "      <td>yes</td>\n",
       "      <td>southeast</td>\n",
       "      <td>17043.34</td>\n",
       "      <td>2.0</td>\n",
       "    </tr>\n",
       "  </tbody>\n",
       "</table>\n",
       "<p>268 rows × 8 columns</p>\n",
       "</div>"
      ],
      "text/plain": [
       "      age     sex   bmi  children smoker     region  expenses  bmi_cat\n",
       "61     25    male  33.7         4     no  southeast   4504.66      3.0\n",
       "1185   45    male  23.6         2     no  northeast   8603.82      2.0\n",
       "1183   48  female  27.4         1     no  northeast   9447.38      2.0\n",
       "790    39  female  41.8         0     no  southeast   5662.23      3.0\n",
       "146    46    male  30.5         3    yes  northwest  40720.55      2.0\n",
       "...   ...     ...   ...       ...    ...        ...       ...      ...\n",
       "1244   18    male  33.3         0     no  southeast   1135.94      3.0\n",
       "411    44  female  20.2         1    yes  northeast  19594.81      2.0\n",
       "1108   26    male  30.0         1     no  southwest   2904.09      2.0\n",
       "551    32  female  28.9         0     no  southeast   3972.92      2.0\n",
       "1274   26    male  27.1         0    yes  southeast  17043.34      2.0\n",
       "\n",
       "[268 rows x 8 columns]"
      ]
     },
     "execution_count": 48,
     "metadata": {},
     "output_type": "execute_result"
    }
   ],
   "source": [
    "strat_test"
   ]
  },
  {
   "cell_type": "markdown",
   "id": "ce1c1b8a",
   "metadata": {},
   "source": [
    "### Now making the actual test and train datasets (x_train, x_test, y_train, y_test) by dropping the expenses column from train set and adding it only to test set."
   ]
  },
  {
   "cell_type": "code",
   "execution_count": 49,
   "id": "7b48cab4",
   "metadata": {},
   "outputs": [],
   "source": [
    "x_train = strat_train.drop('expenses', axis = 1)\n",
    "y_train = strat_train.expenses\n",
    "x_test = strat_test.drop('expenses', axis = 1)\n",
    "y_test = strat_test.expenses"
   ]
  },
  {
   "cell_type": "markdown",
   "id": "684551a9",
   "metadata": {},
   "source": [
    "### checking shape of each train and test set"
   ]
  },
  {
   "cell_type": "code",
   "execution_count": 50,
   "id": "ac1aaa6d",
   "metadata": {},
   "outputs": [
    {
     "data": {
      "text/plain": [
       "((1070, 7), (268, 7), (1070,), (268,))"
      ]
     },
     "execution_count": 50,
     "metadata": {},
     "output_type": "execute_result"
    }
   ],
   "source": [
    "x_train.shape,x_test.shape,y_train.shape,y_test.shape"
   ]
  },
  {
   "cell_type": "markdown",
   "id": "0d381845",
   "metadata": {},
   "source": [
    "### checking whether percentage of train and test data set are according to the given ratio or not"
   ]
  },
  {
   "cell_type": "code",
   "execution_count": 51,
   "id": "c057e57b",
   "metadata": {},
   "outputs": [
    {
     "data": {
      "text/plain": [
       "79.97010463378177"
      ]
     },
     "execution_count": 51,
     "metadata": {},
     "output_type": "execute_result"
    }
   ],
   "source": [
    "(len(x_train)/len(medical))*100"
   ]
  },
  {
   "cell_type": "code",
   "execution_count": 52,
   "id": "13e9ff0b",
   "metadata": {},
   "outputs": [
    {
     "data": {
      "text/plain": [
       "20.029895366218238"
      ]
     },
     "execution_count": 52,
     "metadata": {},
     "output_type": "execute_result"
    }
   ],
   "source": [
    "(len(x_test)/len(medical))*100"
   ]
  },
  {
   "cell_type": "code",
   "execution_count": 53,
   "id": "21ab59fd",
   "metadata": {},
   "outputs": [
    {
     "data": {
      "text/html": [
       "<div>\n",
       "<style scoped>\n",
       "    .dataframe tbody tr th:only-of-type {\n",
       "        vertical-align: middle;\n",
       "    }\n",
       "\n",
       "    .dataframe tbody tr th {\n",
       "        vertical-align: top;\n",
       "    }\n",
       "\n",
       "    .dataframe thead th {\n",
       "        text-align: right;\n",
       "    }\n",
       "</style>\n",
       "<table border=\"1\" class=\"dataframe\">\n",
       "  <thead>\n",
       "    <tr style=\"text-align: right;\">\n",
       "      <th></th>\n",
       "      <th>age</th>\n",
       "      <th>sex</th>\n",
       "      <th>bmi</th>\n",
       "      <th>children</th>\n",
       "      <th>smoker</th>\n",
       "      <th>region</th>\n",
       "      <th>bmi_cat</th>\n",
       "    </tr>\n",
       "  </thead>\n",
       "  <tbody>\n",
       "    <tr>\n",
       "      <th>61</th>\n",
       "      <td>25</td>\n",
       "      <td>male</td>\n",
       "      <td>33.7</td>\n",
       "      <td>4</td>\n",
       "      <td>no</td>\n",
       "      <td>southeast</td>\n",
       "      <td>3.0</td>\n",
       "    </tr>\n",
       "    <tr>\n",
       "      <th>1185</th>\n",
       "      <td>45</td>\n",
       "      <td>male</td>\n",
       "      <td>23.6</td>\n",
       "      <td>2</td>\n",
       "      <td>no</td>\n",
       "      <td>northeast</td>\n",
       "      <td>2.0</td>\n",
       "    </tr>\n",
       "    <tr>\n",
       "      <th>1183</th>\n",
       "      <td>48</td>\n",
       "      <td>female</td>\n",
       "      <td>27.4</td>\n",
       "      <td>1</td>\n",
       "      <td>no</td>\n",
       "      <td>northeast</td>\n",
       "      <td>2.0</td>\n",
       "    </tr>\n",
       "    <tr>\n",
       "      <th>790</th>\n",
       "      <td>39</td>\n",
       "      <td>female</td>\n",
       "      <td>41.8</td>\n",
       "      <td>0</td>\n",
       "      <td>no</td>\n",
       "      <td>southeast</td>\n",
       "      <td>3.0</td>\n",
       "    </tr>\n",
       "    <tr>\n",
       "      <th>146</th>\n",
       "      <td>46</td>\n",
       "      <td>male</td>\n",
       "      <td>30.5</td>\n",
       "      <td>3</td>\n",
       "      <td>yes</td>\n",
       "      <td>northwest</td>\n",
       "      <td>2.0</td>\n",
       "    </tr>\n",
       "    <tr>\n",
       "      <th>...</th>\n",
       "      <td>...</td>\n",
       "      <td>...</td>\n",
       "      <td>...</td>\n",
       "      <td>...</td>\n",
       "      <td>...</td>\n",
       "      <td>...</td>\n",
       "      <td>...</td>\n",
       "    </tr>\n",
       "    <tr>\n",
       "      <th>1244</th>\n",
       "      <td>18</td>\n",
       "      <td>male</td>\n",
       "      <td>33.3</td>\n",
       "      <td>0</td>\n",
       "      <td>no</td>\n",
       "      <td>southeast</td>\n",
       "      <td>3.0</td>\n",
       "    </tr>\n",
       "    <tr>\n",
       "      <th>411</th>\n",
       "      <td>44</td>\n",
       "      <td>female</td>\n",
       "      <td>20.2</td>\n",
       "      <td>1</td>\n",
       "      <td>yes</td>\n",
       "      <td>northeast</td>\n",
       "      <td>2.0</td>\n",
       "    </tr>\n",
       "    <tr>\n",
       "      <th>1108</th>\n",
       "      <td>26</td>\n",
       "      <td>male</td>\n",
       "      <td>30.0</td>\n",
       "      <td>1</td>\n",
       "      <td>no</td>\n",
       "      <td>southwest</td>\n",
       "      <td>2.0</td>\n",
       "    </tr>\n",
       "    <tr>\n",
       "      <th>551</th>\n",
       "      <td>32</td>\n",
       "      <td>female</td>\n",
       "      <td>28.9</td>\n",
       "      <td>0</td>\n",
       "      <td>no</td>\n",
       "      <td>southeast</td>\n",
       "      <td>2.0</td>\n",
       "    </tr>\n",
       "    <tr>\n",
       "      <th>1274</th>\n",
       "      <td>26</td>\n",
       "      <td>male</td>\n",
       "      <td>27.1</td>\n",
       "      <td>0</td>\n",
       "      <td>yes</td>\n",
       "      <td>southeast</td>\n",
       "      <td>2.0</td>\n",
       "    </tr>\n",
       "  </tbody>\n",
       "</table>\n",
       "<p>268 rows × 7 columns</p>\n",
       "</div>"
      ],
      "text/plain": [
       "      age     sex   bmi  children smoker     region  bmi_cat\n",
       "61     25    male  33.7         4     no  southeast      3.0\n",
       "1185   45    male  23.6         2     no  northeast      2.0\n",
       "1183   48  female  27.4         1     no  northeast      2.0\n",
       "790    39  female  41.8         0     no  southeast      3.0\n",
       "146    46    male  30.5         3    yes  northwest      2.0\n",
       "...   ...     ...   ...       ...    ...        ...      ...\n",
       "1244   18    male  33.3         0     no  southeast      3.0\n",
       "411    44  female  20.2         1    yes  northeast      2.0\n",
       "1108   26    male  30.0         1     no  southwest      2.0\n",
       "551    32  female  28.9         0     no  southeast      2.0\n",
       "1274   26    male  27.1         0    yes  southeast      2.0\n",
       "\n",
       "[268 rows x 7 columns]"
      ]
     },
     "execution_count": 53,
     "metadata": {},
     "output_type": "execute_result"
    }
   ],
   "source": [
    "x_test"
   ]
  },
  {
   "cell_type": "code",
   "execution_count": 54,
   "id": "91f8df7a",
   "metadata": {},
   "outputs": [
    {
     "data": {
      "text/html": [
       "<div>\n",
       "<style scoped>\n",
       "    .dataframe tbody tr th:only-of-type {\n",
       "        vertical-align: middle;\n",
       "    }\n",
       "\n",
       "    .dataframe tbody tr th {\n",
       "        vertical-align: top;\n",
       "    }\n",
       "\n",
       "    .dataframe thead th {\n",
       "        text-align: right;\n",
       "    }\n",
       "</style>\n",
       "<table border=\"1\" class=\"dataframe\">\n",
       "  <thead>\n",
       "    <tr style=\"text-align: right;\">\n",
       "      <th></th>\n",
       "      <th>age</th>\n",
       "      <th>sex</th>\n",
       "      <th>bmi</th>\n",
       "      <th>children</th>\n",
       "      <th>smoker</th>\n",
       "      <th>region</th>\n",
       "      <th>bmi_cat</th>\n",
       "    </tr>\n",
       "  </thead>\n",
       "  <tbody>\n",
       "    <tr>\n",
       "      <th>376</th>\n",
       "      <td>39</td>\n",
       "      <td>female</td>\n",
       "      <td>24.9</td>\n",
       "      <td>3</td>\n",
       "      <td>yes</td>\n",
       "      <td>northeast</td>\n",
       "      <td>2.0</td>\n",
       "    </tr>\n",
       "    <tr>\n",
       "      <th>1300</th>\n",
       "      <td>45</td>\n",
       "      <td>male</td>\n",
       "      <td>30.4</td>\n",
       "      <td>0</td>\n",
       "      <td>yes</td>\n",
       "      <td>southeast</td>\n",
       "      <td>2.0</td>\n",
       "    </tr>\n",
       "    <tr>\n",
       "      <th>998</th>\n",
       "      <td>33</td>\n",
       "      <td>female</td>\n",
       "      <td>36.3</td>\n",
       "      <td>3</td>\n",
       "      <td>no</td>\n",
       "      <td>northeast</td>\n",
       "      <td>3.0</td>\n",
       "    </tr>\n",
       "    <tr>\n",
       "      <th>800</th>\n",
       "      <td>42</td>\n",
       "      <td>female</td>\n",
       "      <td>26.2</td>\n",
       "      <td>1</td>\n",
       "      <td>no</td>\n",
       "      <td>southeast</td>\n",
       "      <td>2.0</td>\n",
       "    </tr>\n",
       "    <tr>\n",
       "      <th>586</th>\n",
       "      <td>21</td>\n",
       "      <td>male</td>\n",
       "      <td>20.2</td>\n",
       "      <td>3</td>\n",
       "      <td>no</td>\n",
       "      <td>northeast</td>\n",
       "      <td>2.0</td>\n",
       "    </tr>\n",
       "    <tr>\n",
       "      <th>...</th>\n",
       "      <td>...</td>\n",
       "      <td>...</td>\n",
       "      <td>...</td>\n",
       "      <td>...</td>\n",
       "      <td>...</td>\n",
       "      <td>...</td>\n",
       "      <td>...</td>\n",
       "    </tr>\n",
       "    <tr>\n",
       "      <th>569</th>\n",
       "      <td>48</td>\n",
       "      <td>male</td>\n",
       "      <td>40.6</td>\n",
       "      <td>2</td>\n",
       "      <td>yes</td>\n",
       "      <td>northwest</td>\n",
       "      <td>3.0</td>\n",
       "    </tr>\n",
       "    <tr>\n",
       "      <th>133</th>\n",
       "      <td>19</td>\n",
       "      <td>male</td>\n",
       "      <td>25.6</td>\n",
       "      <td>0</td>\n",
       "      <td>no</td>\n",
       "      <td>northwest</td>\n",
       "      <td>2.0</td>\n",
       "    </tr>\n",
       "    <tr>\n",
       "      <th>286</th>\n",
       "      <td>46</td>\n",
       "      <td>female</td>\n",
       "      <td>48.1</td>\n",
       "      <td>2</td>\n",
       "      <td>no</td>\n",
       "      <td>northeast</td>\n",
       "      <td>4.0</td>\n",
       "    </tr>\n",
       "    <tr>\n",
       "      <th>846</th>\n",
       "      <td>51</td>\n",
       "      <td>female</td>\n",
       "      <td>34.2</td>\n",
       "      <td>1</td>\n",
       "      <td>no</td>\n",
       "      <td>southwest</td>\n",
       "      <td>3.0</td>\n",
       "    </tr>\n",
       "    <tr>\n",
       "      <th>911</th>\n",
       "      <td>18</td>\n",
       "      <td>male</td>\n",
       "      <td>31.7</td>\n",
       "      <td>0</td>\n",
       "      <td>yes</td>\n",
       "      <td>northeast</td>\n",
       "      <td>2.0</td>\n",
       "    </tr>\n",
       "  </tbody>\n",
       "</table>\n",
       "<p>1070 rows × 7 columns</p>\n",
       "</div>"
      ],
      "text/plain": [
       "      age     sex   bmi  children smoker     region  bmi_cat\n",
       "376    39  female  24.9         3    yes  northeast      2.0\n",
       "1300   45    male  30.4         0    yes  southeast      2.0\n",
       "998    33  female  36.3         3     no  northeast      3.0\n",
       "800    42  female  26.2         1     no  southeast      2.0\n",
       "586    21    male  20.2         3     no  northeast      2.0\n",
       "...   ...     ...   ...       ...    ...        ...      ...\n",
       "569    48    male  40.6         2    yes  northwest      3.0\n",
       "133    19    male  25.6         0     no  northwest      2.0\n",
       "286    46  female  48.1         2     no  northeast      4.0\n",
       "846    51  female  34.2         1     no  southwest      3.0\n",
       "911    18    male  31.7         0    yes  northeast      2.0\n",
       "\n",
       "[1070 rows x 7 columns]"
      ]
     },
     "execution_count": 54,
     "metadata": {},
     "output_type": "execute_result"
    }
   ],
   "source": [
    "x_train"
   ]
  },
  {
   "cell_type": "code",
   "execution_count": 55,
   "id": "83f2a707",
   "metadata": {},
   "outputs": [
    {
     "data": {
      "text/plain": [
       "376     21659.93\n",
       "1300    62592.87\n",
       "998      6551.75\n",
       "800      7046.72\n",
       "586      3861.21\n",
       "          ...   \n",
       "569     45702.02\n",
       "133      1632.56\n",
       "286      9432.93\n",
       "846      9872.70\n",
       "911     33732.69\n",
       "Name: expenses, Length: 1070, dtype: float64"
      ]
     },
     "execution_count": 55,
     "metadata": {},
     "output_type": "execute_result"
    }
   ],
   "source": [
    "y_train"
   ]
  },
  {
   "cell_type": "code",
   "execution_count": 56,
   "id": "f35687b7",
   "metadata": {},
   "outputs": [
    {
     "data": {
      "text/plain": [
       "61       4504.66\n",
       "1185     8603.82\n",
       "1183     9447.38\n",
       "790      5662.23\n",
       "146     40720.55\n",
       "          ...   \n",
       "1244     1135.94\n",
       "411     19594.81\n",
       "1108     2904.09\n",
       "551      3972.92\n",
       "1274    17043.34\n",
       "Name: expenses, Length: 268, dtype: float64"
      ]
     },
     "execution_count": 56,
     "metadata": {},
     "output_type": "execute_result"
    }
   ],
   "source": [
    "y_test"
   ]
  },
  {
   "cell_type": "markdown",
   "id": "75d340f9",
   "metadata": {},
   "source": [
    "# Data Preprocessing"
   ]
  },
  {
   "cell_type": "code",
   "execution_count": 57,
   "id": "75395491",
   "metadata": {},
   "outputs": [
    {
     "name": "stdout",
     "output_type": "stream",
     "text": [
      "<class 'pandas.core.frame.DataFrame'>\n",
      "Int64Index: 1070 entries, 376 to 911\n",
      "Data columns (total 7 columns):\n",
      " #   Column    Non-Null Count  Dtype  \n",
      "---  ------    --------------  -----  \n",
      " 0   age       1070 non-null   int64  \n",
      " 1   sex       1070 non-null   object \n",
      " 2   bmi       1070 non-null   float64\n",
      " 3   children  1070 non-null   int64  \n",
      " 4   smoker    1070 non-null   object \n",
      " 5   region    1070 non-null   object \n",
      " 6   bmi_cat   1070 non-null   float64\n",
      "dtypes: float64(2), int64(2), object(3)\n",
      "memory usage: 66.9+ KB\n"
     ]
    }
   ],
   "source": [
    "x_train.info()"
   ]
  },
  {
   "cell_type": "markdown",
   "id": "7cda29a1",
   "metadata": {},
   "source": [
    "#### Separating numerical and categorical attributes"
   ]
  },
  {
   "cell_type": "code",
   "execution_count": 58,
   "id": "823d6ee0",
   "metadata": {},
   "outputs": [],
   "source": [
    "x_train_num = x_train.drop(['sex','smoker','region'],axis = 1)"
   ]
  },
  {
   "cell_type": "code",
   "execution_count": 59,
   "id": "1bbd25c3",
   "metadata": {},
   "outputs": [
    {
     "data": {
      "text/html": [
       "<div>\n",
       "<style scoped>\n",
       "    .dataframe tbody tr th:only-of-type {\n",
       "        vertical-align: middle;\n",
       "    }\n",
       "\n",
       "    .dataframe tbody tr th {\n",
       "        vertical-align: top;\n",
       "    }\n",
       "\n",
       "    .dataframe thead th {\n",
       "        text-align: right;\n",
       "    }\n",
       "</style>\n",
       "<table border=\"1\" class=\"dataframe\">\n",
       "  <thead>\n",
       "    <tr style=\"text-align: right;\">\n",
       "      <th></th>\n",
       "      <th>age</th>\n",
       "      <th>bmi</th>\n",
       "      <th>children</th>\n",
       "      <th>bmi_cat</th>\n",
       "    </tr>\n",
       "  </thead>\n",
       "  <tbody>\n",
       "    <tr>\n",
       "      <th>376</th>\n",
       "      <td>39</td>\n",
       "      <td>24.9</td>\n",
       "      <td>3</td>\n",
       "      <td>2.0</td>\n",
       "    </tr>\n",
       "    <tr>\n",
       "      <th>1300</th>\n",
       "      <td>45</td>\n",
       "      <td>30.4</td>\n",
       "      <td>0</td>\n",
       "      <td>2.0</td>\n",
       "    </tr>\n",
       "    <tr>\n",
       "      <th>998</th>\n",
       "      <td>33</td>\n",
       "      <td>36.3</td>\n",
       "      <td>3</td>\n",
       "      <td>3.0</td>\n",
       "    </tr>\n",
       "    <tr>\n",
       "      <th>800</th>\n",
       "      <td>42</td>\n",
       "      <td>26.2</td>\n",
       "      <td>1</td>\n",
       "      <td>2.0</td>\n",
       "    </tr>\n",
       "    <tr>\n",
       "      <th>586</th>\n",
       "      <td>21</td>\n",
       "      <td>20.2</td>\n",
       "      <td>3</td>\n",
       "      <td>2.0</td>\n",
       "    </tr>\n",
       "    <tr>\n",
       "      <th>...</th>\n",
       "      <td>...</td>\n",
       "      <td>...</td>\n",
       "      <td>...</td>\n",
       "      <td>...</td>\n",
       "    </tr>\n",
       "    <tr>\n",
       "      <th>569</th>\n",
       "      <td>48</td>\n",
       "      <td>40.6</td>\n",
       "      <td>2</td>\n",
       "      <td>3.0</td>\n",
       "    </tr>\n",
       "    <tr>\n",
       "      <th>133</th>\n",
       "      <td>19</td>\n",
       "      <td>25.6</td>\n",
       "      <td>0</td>\n",
       "      <td>2.0</td>\n",
       "    </tr>\n",
       "    <tr>\n",
       "      <th>286</th>\n",
       "      <td>46</td>\n",
       "      <td>48.1</td>\n",
       "      <td>2</td>\n",
       "      <td>4.0</td>\n",
       "    </tr>\n",
       "    <tr>\n",
       "      <th>846</th>\n",
       "      <td>51</td>\n",
       "      <td>34.2</td>\n",
       "      <td>1</td>\n",
       "      <td>3.0</td>\n",
       "    </tr>\n",
       "    <tr>\n",
       "      <th>911</th>\n",
       "      <td>18</td>\n",
       "      <td>31.7</td>\n",
       "      <td>0</td>\n",
       "      <td>2.0</td>\n",
       "    </tr>\n",
       "  </tbody>\n",
       "</table>\n",
       "<p>1070 rows × 4 columns</p>\n",
       "</div>"
      ],
      "text/plain": [
       "      age   bmi  children  bmi_cat\n",
       "376    39  24.9         3      2.0\n",
       "1300   45  30.4         0      2.0\n",
       "998    33  36.3         3      3.0\n",
       "800    42  26.2         1      2.0\n",
       "586    21  20.2         3      2.0\n",
       "...   ...   ...       ...      ...\n",
       "569    48  40.6         2      3.0\n",
       "133    19  25.6         0      2.0\n",
       "286    46  48.1         2      4.0\n",
       "846    51  34.2         1      3.0\n",
       "911    18  31.7         0      2.0\n",
       "\n",
       "[1070 rows x 4 columns]"
      ]
     },
     "execution_count": 59,
     "metadata": {},
     "output_type": "execute_result"
    }
   ],
   "source": [
    "x_train_num"
   ]
  },
  {
   "cell_type": "code",
   "execution_count": 60,
   "id": "c2e0045a",
   "metadata": {},
   "outputs": [],
   "source": [
    "x_train_cat = x_train[['sex','smoker','region']]"
   ]
  },
  {
   "cell_type": "code",
   "execution_count": 61,
   "id": "9e343336",
   "metadata": {},
   "outputs": [
    {
     "data": {
      "text/html": [
       "<div>\n",
       "<style scoped>\n",
       "    .dataframe tbody tr th:only-of-type {\n",
       "        vertical-align: middle;\n",
       "    }\n",
       "\n",
       "    .dataframe tbody tr th {\n",
       "        vertical-align: top;\n",
       "    }\n",
       "\n",
       "    .dataframe thead th {\n",
       "        text-align: right;\n",
       "    }\n",
       "</style>\n",
       "<table border=\"1\" class=\"dataframe\">\n",
       "  <thead>\n",
       "    <tr style=\"text-align: right;\">\n",
       "      <th></th>\n",
       "      <th>sex</th>\n",
       "      <th>smoker</th>\n",
       "      <th>region</th>\n",
       "    </tr>\n",
       "  </thead>\n",
       "  <tbody>\n",
       "    <tr>\n",
       "      <th>376</th>\n",
       "      <td>female</td>\n",
       "      <td>yes</td>\n",
       "      <td>northeast</td>\n",
       "    </tr>\n",
       "    <tr>\n",
       "      <th>1300</th>\n",
       "      <td>male</td>\n",
       "      <td>yes</td>\n",
       "      <td>southeast</td>\n",
       "    </tr>\n",
       "    <tr>\n",
       "      <th>998</th>\n",
       "      <td>female</td>\n",
       "      <td>no</td>\n",
       "      <td>northeast</td>\n",
       "    </tr>\n",
       "    <tr>\n",
       "      <th>800</th>\n",
       "      <td>female</td>\n",
       "      <td>no</td>\n",
       "      <td>southeast</td>\n",
       "    </tr>\n",
       "    <tr>\n",
       "      <th>586</th>\n",
       "      <td>male</td>\n",
       "      <td>no</td>\n",
       "      <td>northeast</td>\n",
       "    </tr>\n",
       "    <tr>\n",
       "      <th>...</th>\n",
       "      <td>...</td>\n",
       "      <td>...</td>\n",
       "      <td>...</td>\n",
       "    </tr>\n",
       "    <tr>\n",
       "      <th>569</th>\n",
       "      <td>male</td>\n",
       "      <td>yes</td>\n",
       "      <td>northwest</td>\n",
       "    </tr>\n",
       "    <tr>\n",
       "      <th>133</th>\n",
       "      <td>male</td>\n",
       "      <td>no</td>\n",
       "      <td>northwest</td>\n",
       "    </tr>\n",
       "    <tr>\n",
       "      <th>286</th>\n",
       "      <td>female</td>\n",
       "      <td>no</td>\n",
       "      <td>northeast</td>\n",
       "    </tr>\n",
       "    <tr>\n",
       "      <th>846</th>\n",
       "      <td>female</td>\n",
       "      <td>no</td>\n",
       "      <td>southwest</td>\n",
       "    </tr>\n",
       "    <tr>\n",
       "      <th>911</th>\n",
       "      <td>male</td>\n",
       "      <td>yes</td>\n",
       "      <td>northeast</td>\n",
       "    </tr>\n",
       "  </tbody>\n",
       "</table>\n",
       "<p>1070 rows × 3 columns</p>\n",
       "</div>"
      ],
      "text/plain": [
       "         sex smoker     region\n",
       "376   female    yes  northeast\n",
       "1300    male    yes  southeast\n",
       "998   female     no  northeast\n",
       "800   female     no  southeast\n",
       "586     male     no  northeast\n",
       "...      ...    ...        ...\n",
       "569     male    yes  northwest\n",
       "133     male     no  northwest\n",
       "286   female     no  northeast\n",
       "846   female     no  southwest\n",
       "911     male    yes  northeast\n",
       "\n",
       "[1070 rows x 3 columns]"
      ]
     },
     "execution_count": 61,
     "metadata": {},
     "output_type": "execute_result"
    }
   ],
   "source": [
    "x_train_cat"
   ]
  },
  {
   "cell_type": "code",
   "execution_count": 62,
   "id": "7df26d44",
   "metadata": {
    "scrolled": true
   },
   "outputs": [
    {
     "name": "stdout",
     "output_type": "stream",
     "text": [
      "<class 'pandas.core.frame.DataFrame'>\n",
      "Int64Index: 1070 entries, 376 to 911\n",
      "Data columns (total 7 columns):\n",
      " #   Column    Non-Null Count  Dtype  \n",
      "---  ------    --------------  -----  \n",
      " 0   age       1070 non-null   int64  \n",
      " 1   sex       1070 non-null   object \n",
      " 2   bmi       1070 non-null   float64\n",
      " 3   children  1070 non-null   int64  \n",
      " 4   smoker    1070 non-null   object \n",
      " 5   region    1070 non-null   object \n",
      " 6   bmi_cat   1070 non-null   float64\n",
      "dtypes: float64(2), int64(2), object(3)\n",
      "memory usage: 66.9+ KB\n"
     ]
    }
   ],
   "source": [
    "x_train.info()"
   ]
  },
  {
   "cell_type": "code",
   "execution_count": 63,
   "id": "2b082e93",
   "metadata": {},
   "outputs": [
    {
     "name": "stdout",
     "output_type": "stream",
     "text": [
      "<class 'pandas.core.frame.DataFrame'>\n",
      "Int64Index: 1070 entries, 376 to 911\n",
      "Data columns (total 4 columns):\n",
      " #   Column    Non-Null Count  Dtype  \n",
      "---  ------    --------------  -----  \n",
      " 0   age       1070 non-null   int64  \n",
      " 1   bmi       1070 non-null   float64\n",
      " 2   children  1070 non-null   int64  \n",
      " 3   bmi_cat   1070 non-null   float64\n",
      "dtypes: float64(2), int64(2)\n",
      "memory usage: 41.8 KB\n"
     ]
    }
   ],
   "source": [
    "x_train_num.info()"
   ]
  },
  {
   "cell_type": "code",
   "execution_count": 64,
   "id": "072c0113",
   "metadata": {},
   "outputs": [
    {
     "name": "stdout",
     "output_type": "stream",
     "text": [
      "<class 'pandas.core.frame.DataFrame'>\n",
      "Int64Index: 1070 entries, 376 to 911\n",
      "Data columns (total 3 columns):\n",
      " #   Column  Non-Null Count  Dtype \n",
      "---  ------  --------------  ----- \n",
      " 0   sex     1070 non-null   object\n",
      " 1   smoker  1070 non-null   object\n",
      " 2   region  1070 non-null   object\n",
      "dtypes: object(3)\n",
      "memory usage: 33.4+ KB\n"
     ]
    }
   ],
   "source": [
    "x_train_cat.info()"
   ]
  },
  {
   "cell_type": "markdown",
   "id": "4b5aba70",
   "metadata": {},
   "source": [
    "#### We can see from the above that there are no null values in x_train and x_test itself. So most likely, we won't need null value imputation"
   ]
  },
  {
   "cell_type": "markdown",
   "id": "1894113a",
   "metadata": {},
   "source": [
    "# Scaling"
   ]
  },
  {
   "cell_type": "code",
   "execution_count": 65,
   "id": "b609939d",
   "metadata": {},
   "outputs": [],
   "source": [
    "### Normally we follow standard scaling to avoid the error of saturation which is caused for min-max scaling\n",
    "### Min-Max scaling brings all the data in a prticular range for which we can't distinguish data with a very high value and\n",
    "### a very low value. This problem can be avoided through standard scaling. Standard scaling doesn't bring the data in any\n",
    "### particular range. Rather after this the values remain distinguishable and a curve like normal distribution can be found\n",
    "### It is for doing the scaling operation on the numerical data"
   ]
  },
  {
   "cell_type": "code",
   "execution_count": 66,
   "id": "b8012c6c",
   "metadata": {},
   "outputs": [],
   "source": [
    "from sklearn.preprocessing import StandardScaler"
   ]
  },
  {
   "cell_type": "code",
   "execution_count": 67,
   "id": "7992ca1d",
   "metadata": {},
   "outputs": [],
   "source": [
    "scaler = StandardScaler()"
   ]
  },
  {
   "cell_type": "code",
   "execution_count": 68,
   "id": "4d29380e",
   "metadata": {},
   "outputs": [],
   "source": [
    "x_train_num_ndarray = scaler.fit_transform(x_train_num)"
   ]
  },
  {
   "cell_type": "code",
   "execution_count": 69,
   "id": "cb7dc61e",
   "metadata": {
    "scrolled": true
   },
   "outputs": [
    {
     "data": {
      "text/plain": [
       "array([[-0.01198313, -0.94901381,  1.57270008, -0.79947829],\n",
       "       [ 0.41305388, -0.04712503, -0.8947326 , -0.79947829],\n",
       "       [-0.43702014,  0.92035566,  1.57270008,  1.20389822],\n",
       "       ...,\n",
       "       [ 0.48389338,  2.85531705,  0.75022252,  3.20727473],\n",
       "       [ 0.83809088,  0.57599813, -0.07225504,  1.20389822],\n",
       "       [-1.49961265,  0.16604868, -0.8947326 , -0.79947829]])"
      ]
     },
     "execution_count": 69,
     "metadata": {},
     "output_type": "execute_result"
    }
   ],
   "source": [
    "x_train_num_ndarray"
   ]
  },
  {
   "cell_type": "code",
   "execution_count": 70,
   "id": "b2839aa6",
   "metadata": {},
   "outputs": [
    {
     "data": {
      "text/plain": [
       "array([[-0.01198313, -0.94901381,  1.57270008, -0.79947829],\n",
       "       [ 0.41305388, -0.04712503, -0.8947326 , -0.79947829],\n",
       "       [-0.43702014,  0.92035566,  1.57270008,  1.20389822],\n",
       "       [ 0.20053537, -0.7358401 , -0.07225504, -0.79947829],\n",
       "       [-1.28709415, -1.71971877,  1.57270008, -0.79947829],\n",
       "       [ 0.76725138,  0.05126284,  1.57270008, -0.79947829],\n",
       "       [ 1.05060938,  0.01846688,  1.57270008, -0.79947829],\n",
       "       [ 1.54648589,  0.08405879, -0.8947326 , -0.79947829],\n",
       "       [ 1.47564639, -0.32589065, -0.07225504, -0.79947829],\n",
       "       [ 1.33396739,  1.37949904, -0.8947326 ,  1.20389822]])"
      ]
     },
     "execution_count": 70,
     "metadata": {},
     "output_type": "execute_result"
    }
   ],
   "source": [
    "x_train_num_ndarray[:10]"
   ]
  },
  {
   "cell_type": "markdown",
   "id": "730c3896",
   "metadata": {},
   "source": [
    "## OneHot Encoding"
   ]
  },
  {
   "cell_type": "code",
   "execution_count": 71,
   "id": "607a0981",
   "metadata": {},
   "outputs": [],
   "source": [
    "from sklearn.preprocessing import OneHotEncoder"
   ]
  },
  {
   "cell_type": "code",
   "execution_count": 72,
   "id": "b627d6d6",
   "metadata": {},
   "outputs": [],
   "source": [
    "hot_encoder = OneHotEncoder(sparse = False)"
   ]
  },
  {
   "cell_type": "code",
   "execution_count": 73,
   "id": "70cabc34",
   "metadata": {},
   "outputs": [],
   "source": [
    "x_train_cat_hot_encoded_ndarray = hot_encoder.fit_transform(x_train_cat[['sex','smoker','region']].values)"
   ]
  },
  {
   "cell_type": "code",
   "execution_count": 74,
   "id": "4d9a4f29",
   "metadata": {
    "scrolled": true
   },
   "outputs": [
    {
     "data": {
      "text/html": [
       "<div>\n",
       "<style scoped>\n",
       "    .dataframe tbody tr th:only-of-type {\n",
       "        vertical-align: middle;\n",
       "    }\n",
       "\n",
       "    .dataframe tbody tr th {\n",
       "        vertical-align: top;\n",
       "    }\n",
       "\n",
       "    .dataframe thead th {\n",
       "        text-align: right;\n",
       "    }\n",
       "</style>\n",
       "<table border=\"1\" class=\"dataframe\">\n",
       "  <thead>\n",
       "    <tr style=\"text-align: right;\">\n",
       "      <th></th>\n",
       "      <th>sex</th>\n",
       "      <th>smoker</th>\n",
       "      <th>region</th>\n",
       "    </tr>\n",
       "  </thead>\n",
       "  <tbody>\n",
       "    <tr>\n",
       "      <th>376</th>\n",
       "      <td>female</td>\n",
       "      <td>yes</td>\n",
       "      <td>northeast</td>\n",
       "    </tr>\n",
       "    <tr>\n",
       "      <th>1300</th>\n",
       "      <td>male</td>\n",
       "      <td>yes</td>\n",
       "      <td>southeast</td>\n",
       "    </tr>\n",
       "    <tr>\n",
       "      <th>998</th>\n",
       "      <td>female</td>\n",
       "      <td>no</td>\n",
       "      <td>northeast</td>\n",
       "    </tr>\n",
       "    <tr>\n",
       "      <th>800</th>\n",
       "      <td>female</td>\n",
       "      <td>no</td>\n",
       "      <td>southeast</td>\n",
       "    </tr>\n",
       "    <tr>\n",
       "      <th>586</th>\n",
       "      <td>male</td>\n",
       "      <td>no</td>\n",
       "      <td>northeast</td>\n",
       "    </tr>\n",
       "    <tr>\n",
       "      <th>1333</th>\n",
       "      <td>male</td>\n",
       "      <td>no</td>\n",
       "      <td>northwest</td>\n",
       "    </tr>\n",
       "    <tr>\n",
       "      <th>96</th>\n",
       "      <td>female</td>\n",
       "      <td>no</td>\n",
       "      <td>southwest</td>\n",
       "    </tr>\n",
       "    <tr>\n",
       "      <th>332</th>\n",
       "      <td>female</td>\n",
       "      <td>no</td>\n",
       "      <td>northwest</td>\n",
       "    </tr>\n",
       "    <tr>\n",
       "      <th>466</th>\n",
       "      <td>female</td>\n",
       "      <td>no</td>\n",
       "      <td>southwest</td>\n",
       "    </tr>\n",
       "    <tr>\n",
       "      <th>386</th>\n",
       "      <td>female</td>\n",
       "      <td>no</td>\n",
       "      <td>southeast</td>\n",
       "    </tr>\n",
       "  </tbody>\n",
       "</table>\n",
       "</div>"
      ],
      "text/plain": [
       "         sex smoker     region\n",
       "376   female    yes  northeast\n",
       "1300    male    yes  southeast\n",
       "998   female     no  northeast\n",
       "800   female     no  southeast\n",
       "586     male     no  northeast\n",
       "1333    male     no  northwest\n",
       "96    female     no  southwest\n",
       "332   female     no  northwest\n",
       "466   female     no  southwest\n",
       "386   female     no  southeast"
      ]
     },
     "execution_count": 74,
     "metadata": {},
     "output_type": "execute_result"
    }
   ],
   "source": [
    "x_train_cat.head(10)"
   ]
  },
  {
   "cell_type": "code",
   "execution_count": 75,
   "id": "36333a37",
   "metadata": {
    "scrolled": false
   },
   "outputs": [
    {
     "data": {
      "text/plain": [
       "[array(['female', 'male'], dtype=object),\n",
       " array(['no', 'yes'], dtype=object),\n",
       " array(['northeast', 'northwest', 'southeast', 'southwest'], dtype=object)]"
      ]
     },
     "execution_count": 75,
     "metadata": {},
     "output_type": "execute_result"
    }
   ],
   "source": [
    "hot_encoder.categories_"
   ]
  },
  {
   "cell_type": "code",
   "execution_count": 76,
   "id": "e94f61dd",
   "metadata": {
    "scrolled": false
   },
   "outputs": [
    {
     "data": {
      "text/plain": [
       "array([[1., 0., 0., 1., 1., 0., 0., 0.],\n",
       "       [0., 1., 0., 1., 0., 0., 1., 0.],\n",
       "       [1., 0., 1., 0., 1., 0., 0., 0.],\n",
       "       [1., 0., 1., 0., 0., 0., 1., 0.],\n",
       "       [0., 1., 1., 0., 1., 0., 0., 0.],\n",
       "       [0., 1., 1., 0., 0., 1., 0., 0.],\n",
       "       [1., 0., 1., 0., 0., 0., 0., 1.],\n",
       "       [1., 0., 1., 0., 0., 1., 0., 0.],\n",
       "       [1., 0., 1., 0., 0., 0., 0., 1.],\n",
       "       [1., 0., 1., 0., 0., 0., 1., 0.]])"
      ]
     },
     "execution_count": 76,
     "metadata": {},
     "output_type": "execute_result"
    }
   ],
   "source": [
    "x_train_cat_hot_encoded_ndarray[:10]"
   ]
  },
  {
   "cell_type": "markdown",
   "id": "f79f0bca",
   "metadata": {},
   "source": [
    "# Combining Preprocessed Results"
   ]
  },
  {
   "cell_type": "code",
   "execution_count": 77,
   "id": "7d77d528",
   "metadata": {},
   "outputs": [],
   "source": [
    "x_train_final = np.c_[x_train_num_ndarray, x_train_cat_hot_encoded_ndarray]"
   ]
  },
  {
   "cell_type": "code",
   "execution_count": 78,
   "id": "3e32fc0c",
   "metadata": {},
   "outputs": [
    {
     "data": {
      "text/plain": [
       "(1070, 12)"
      ]
     },
     "execution_count": 78,
     "metadata": {},
     "output_type": "execute_result"
    }
   ],
   "source": [
    "x_train_final.shape"
   ]
  },
  {
   "cell_type": "code",
   "execution_count": 79,
   "id": "ea273086",
   "metadata": {},
   "outputs": [
    {
     "data": {
      "text/plain": [
       "array([[-0.01198313, -0.94901381,  1.57270008, ...,  0.        ,\n",
       "         0.        ,  0.        ],\n",
       "       [ 0.41305388, -0.04712503, -0.8947326 , ...,  0.        ,\n",
       "         1.        ,  0.        ],\n",
       "       [-0.43702014,  0.92035566,  1.57270008, ...,  0.        ,\n",
       "         0.        ,  0.        ],\n",
       "       ...,\n",
       "       [ 0.48389338,  2.85531705,  0.75022252, ...,  0.        ,\n",
       "         0.        ,  0.        ],\n",
       "       [ 0.83809088,  0.57599813, -0.07225504, ...,  0.        ,\n",
       "         0.        ,  1.        ],\n",
       "       [-1.49961265,  0.16604868, -0.8947326 , ...,  0.        ,\n",
       "         0.        ,  0.        ]])"
      ]
     },
     "execution_count": 79,
     "metadata": {},
     "output_type": "execute_result"
    }
   ],
   "source": [
    "x_train_final"
   ]
  },
  {
   "cell_type": "markdown",
   "id": "f43be896",
   "metadata": {},
   "source": [
    "### Applying Linear Regression Model just to check how much the prediction is varying from the actual label"
   ]
  },
  {
   "cell_type": "code",
   "execution_count": 80,
   "id": "bd117077",
   "metadata": {},
   "outputs": [],
   "source": [
    "from sklearn.linear_model import LinearRegression"
   ]
  },
  {
   "cell_type": "code",
   "execution_count": 81,
   "id": "22a44a68",
   "metadata": {},
   "outputs": [],
   "source": [
    "lin_reg = LinearRegression()"
   ]
  },
  {
   "cell_type": "code",
   "execution_count": 82,
   "id": "2877c118",
   "metadata": {},
   "outputs": [
    {
     "data": {
      "text/plain": [
       "sklearn.linear_model._base.LinearRegression"
      ]
     },
     "execution_count": 82,
     "metadata": {},
     "output_type": "execute_result"
    }
   ],
   "source": [
    "type(lin_reg)"
   ]
  },
  {
   "cell_type": "code",
   "execution_count": 83,
   "id": "82b3320b",
   "metadata": {},
   "outputs": [],
   "source": [
    "### Here we want the model to determine the relation between y and x . So here we need to give both x and y \n",
    "### as the arguments of the model.In other cases where fit was a part of data preprocessor there we only needed\n",
    "### to learn something particular from any attribute"
   ]
  },
  {
   "cell_type": "code",
   "execution_count": 84,
   "id": "a28f0cb2",
   "metadata": {},
   "outputs": [
    {
     "data": {
      "text/plain": [
       "LinearRegression()"
      ]
     },
     "execution_count": 84,
     "metadata": {},
     "output_type": "execute_result"
    }
   ],
   "source": [
    "lin_reg.fit(x_train_final, y_train)"
   ]
  },
  {
   "cell_type": "code",
   "execution_count": 85,
   "id": "ade3be97",
   "metadata": {},
   "outputs": [],
   "source": [
    "### we want our model to predict that train dataset first, which we used for learning to check whether the prediction on the\n",
    "### training set is going perfectly or not."
   ]
  },
  {
   "cell_type": "code",
   "execution_count": 86,
   "id": "afafdd14",
   "metadata": {},
   "outputs": [],
   "source": [
    "y_hat = lin_reg.predict(x_train_final)"
   ]
  },
  {
   "cell_type": "code",
   "execution_count": 87,
   "id": "ff16e725",
   "metadata": {},
   "outputs": [
    {
     "data": {
      "text/plain": [
       "376     21659.93\n",
       "1300    62592.87\n",
       "998      6551.75\n",
       "800      7046.72\n",
       "586      3861.21\n",
       "Name: expenses, dtype: float64"
      ]
     },
     "execution_count": 87,
     "metadata": {},
     "output_type": "execute_result"
    }
   ],
   "source": [
    "y_train[0:5]"
   ]
  },
  {
   "cell_type": "code",
   "execution_count": 88,
   "id": "c3e42727",
   "metadata": {},
   "outputs": [
    {
     "data": {
      "text/plain": [
       "array([31535.86836995, 32110.88835969, 10602.338322  ,  6772.21176189,\n",
       "        1624.00906177])"
      ]
     },
     "execution_count": 88,
     "metadata": {},
     "output_type": "execute_result"
    }
   ],
   "source": [
    "y_hat[0:5]"
   ]
  },
  {
   "cell_type": "code",
   "execution_count": 89,
   "id": "6095d232",
   "metadata": {},
   "outputs": [
    {
     "data": {
      "text/html": [
       "<div>\n",
       "<style scoped>\n",
       "    .dataframe tbody tr th:only-of-type {\n",
       "        vertical-align: middle;\n",
       "    }\n",
       "\n",
       "    .dataframe tbody tr th {\n",
       "        vertical-align: top;\n",
       "    }\n",
       "\n",
       "    .dataframe thead th {\n",
       "        text-align: right;\n",
       "    }\n",
       "</style>\n",
       "<table border=\"1\" class=\"dataframe\">\n",
       "  <thead>\n",
       "    <tr style=\"text-align: right;\">\n",
       "      <th></th>\n",
       "      <th>age</th>\n",
       "      <th>sex</th>\n",
       "      <th>bmi</th>\n",
       "      <th>children</th>\n",
       "      <th>smoker</th>\n",
       "      <th>region</th>\n",
       "      <th>bmi_cat</th>\n",
       "    </tr>\n",
       "  </thead>\n",
       "  <tbody>\n",
       "    <tr>\n",
       "      <th>376</th>\n",
       "      <td>39</td>\n",
       "      <td>female</td>\n",
       "      <td>24.9</td>\n",
       "      <td>3</td>\n",
       "      <td>yes</td>\n",
       "      <td>northeast</td>\n",
       "      <td>2.0</td>\n",
       "    </tr>\n",
       "    <tr>\n",
       "      <th>1300</th>\n",
       "      <td>45</td>\n",
       "      <td>male</td>\n",
       "      <td>30.4</td>\n",
       "      <td>0</td>\n",
       "      <td>yes</td>\n",
       "      <td>southeast</td>\n",
       "      <td>2.0</td>\n",
       "    </tr>\n",
       "    <tr>\n",
       "      <th>998</th>\n",
       "      <td>33</td>\n",
       "      <td>female</td>\n",
       "      <td>36.3</td>\n",
       "      <td>3</td>\n",
       "      <td>no</td>\n",
       "      <td>northeast</td>\n",
       "      <td>3.0</td>\n",
       "    </tr>\n",
       "    <tr>\n",
       "      <th>800</th>\n",
       "      <td>42</td>\n",
       "      <td>female</td>\n",
       "      <td>26.2</td>\n",
       "      <td>1</td>\n",
       "      <td>no</td>\n",
       "      <td>southeast</td>\n",
       "      <td>2.0</td>\n",
       "    </tr>\n",
       "    <tr>\n",
       "      <th>586</th>\n",
       "      <td>21</td>\n",
       "      <td>male</td>\n",
       "      <td>20.2</td>\n",
       "      <td>3</td>\n",
       "      <td>no</td>\n",
       "      <td>northeast</td>\n",
       "      <td>2.0</td>\n",
       "    </tr>\n",
       "    <tr>\n",
       "      <th>...</th>\n",
       "      <td>...</td>\n",
       "      <td>...</td>\n",
       "      <td>...</td>\n",
       "      <td>...</td>\n",
       "      <td>...</td>\n",
       "      <td>...</td>\n",
       "      <td>...</td>\n",
       "    </tr>\n",
       "    <tr>\n",
       "      <th>569</th>\n",
       "      <td>48</td>\n",
       "      <td>male</td>\n",
       "      <td>40.6</td>\n",
       "      <td>2</td>\n",
       "      <td>yes</td>\n",
       "      <td>northwest</td>\n",
       "      <td>3.0</td>\n",
       "    </tr>\n",
       "    <tr>\n",
       "      <th>133</th>\n",
       "      <td>19</td>\n",
       "      <td>male</td>\n",
       "      <td>25.6</td>\n",
       "      <td>0</td>\n",
       "      <td>no</td>\n",
       "      <td>northwest</td>\n",
       "      <td>2.0</td>\n",
       "    </tr>\n",
       "    <tr>\n",
       "      <th>286</th>\n",
       "      <td>46</td>\n",
       "      <td>female</td>\n",
       "      <td>48.1</td>\n",
       "      <td>2</td>\n",
       "      <td>no</td>\n",
       "      <td>northeast</td>\n",
       "      <td>4.0</td>\n",
       "    </tr>\n",
       "    <tr>\n",
       "      <th>846</th>\n",
       "      <td>51</td>\n",
       "      <td>female</td>\n",
       "      <td>34.2</td>\n",
       "      <td>1</td>\n",
       "      <td>no</td>\n",
       "      <td>southwest</td>\n",
       "      <td>3.0</td>\n",
       "    </tr>\n",
       "    <tr>\n",
       "      <th>911</th>\n",
       "      <td>18</td>\n",
       "      <td>male</td>\n",
       "      <td>31.7</td>\n",
       "      <td>0</td>\n",
       "      <td>yes</td>\n",
       "      <td>northeast</td>\n",
       "      <td>2.0</td>\n",
       "    </tr>\n",
       "  </tbody>\n",
       "</table>\n",
       "<p>1070 rows × 7 columns</p>\n",
       "</div>"
      ],
      "text/plain": [
       "      age     sex   bmi  children smoker     region  bmi_cat\n",
       "376    39  female  24.9         3    yes  northeast      2.0\n",
       "1300   45    male  30.4         0    yes  southeast      2.0\n",
       "998    33  female  36.3         3     no  northeast      3.0\n",
       "800    42  female  26.2         1     no  southeast      2.0\n",
       "586    21    male  20.2         3     no  northeast      2.0\n",
       "...   ...     ...   ...       ...    ...        ...      ...\n",
       "569    48    male  40.6         2    yes  northwest      3.0\n",
       "133    19    male  25.6         0     no  northwest      2.0\n",
       "286    46  female  48.1         2     no  northeast      4.0\n",
       "846    51  female  34.2         1     no  southwest      3.0\n",
       "911    18    male  31.7         0    yes  northeast      2.0\n",
       "\n",
       "[1070 rows x 7 columns]"
      ]
     },
     "execution_count": 89,
     "metadata": {},
     "output_type": "execute_result"
    }
   ],
   "source": [
    "x_train"
   ]
  },
  {
   "cell_type": "code",
   "execution_count": 90,
   "id": "f342b80c",
   "metadata": {},
   "outputs": [
    {
     "data": {
      "text/plain": [
       "Index(['age', 'sex', 'bmi', 'children', 'smoker', 'region', 'bmi_cat'], dtype='object')"
      ]
     },
     "execution_count": 90,
     "metadata": {},
     "output_type": "execute_result"
    }
   ],
   "source": [
    "x_train.columns"
   ]
  },
  {
   "cell_type": "code",
   "execution_count": 91,
   "id": "179a9a24",
   "metadata": {},
   "outputs": [
    {
     "data": {
      "text/plain": [
       "Index(['sex', 'smoker', 'region'], dtype='object')"
      ]
     },
     "execution_count": 91,
     "metadata": {},
     "output_type": "execute_result"
    }
   ],
   "source": [
    "x_train.columns[[1,4,5]]"
   ]
  },
  {
   "cell_type": "code",
   "execution_count": 92,
   "id": "e89fba92",
   "metadata": {},
   "outputs": [
    {
     "data": {
      "text/plain": [
       "Index(['age', 'bmi', 'children'], dtype='object')"
      ]
     },
     "execution_count": 92,
     "metadata": {},
     "output_type": "execute_result"
    }
   ],
   "source": [
    "x_train.columns[[0,2,3]]"
   ]
  },
  {
   "cell_type": "code",
   "execution_count": 93,
   "id": "6ebcb785",
   "metadata": {},
   "outputs": [
    {
     "data": {
      "text/plain": [
       "array([[39, 'female', 24.9, 3, 'yes', 'northeast'],\n",
       "       [45, 'male', 30.4, 0, 'yes', 'southeast'],\n",
       "       [33, 'female', 36.3, 3, 'no', 'northeast'],\n",
       "       ...,\n",
       "       [46, 'female', 48.1, 2, 'no', 'northeast'],\n",
       "       [51, 'female', 34.2, 1, 'no', 'southwest'],\n",
       "       [18, 'male', 31.7, 0, 'yes', 'northeast']], dtype=object)"
      ]
     },
     "execution_count": 93,
     "metadata": {},
     "output_type": "execute_result"
    }
   ],
   "source": [
    "x_train[['age', 'sex', 'bmi', 'children', 'smoker', 'region']].values"
   ]
  },
  {
   "cell_type": "code",
   "execution_count": 94,
   "id": "1861d299",
   "metadata": {},
   "outputs": [],
   "source": [
    "### Using Custom Transformer to apply the preprocessing steps on train dataset and test dataset by pipelining\n",
    "### DataFrameSelector custom Transformer will select the sttributes as required\n",
    "### Base Estimator helps with basic estimation So we don't need to write set_params and get_params\n",
    "### TransformerMixin provides fit and transform methods."
   ]
  },
  {
   "cell_type": "markdown",
   "id": "cc139358",
   "metadata": {},
   "source": [
    "# Custom Transformer"
   ]
  },
  {
   "cell_type": "code",
   "execution_count": 95,
   "id": "2ebbffac",
   "metadata": {},
   "outputs": [],
   "source": [
    "from sklearn.base import BaseEstimator, TransformerMixin"
   ]
  },
  {
   "cell_type": "code",
   "execution_count": 96,
   "id": "72ef4196",
   "metadata": {},
   "outputs": [],
   "source": [
    "class DataFrameSelector(BaseEstimator, TransformerMixin):\n",
    "    def __init__(self,attrs=[]):\n",
    "        self.attrs = attrs\n",
    "    def fit(self, X, y=None):\n",
    "        return self\n",
    "    def transform(self, X):\n",
    "        return X[self.attrs].values"
   ]
  },
  {
   "cell_type": "code",
   "execution_count": 97,
   "id": "c36dee61",
   "metadata": {},
   "outputs": [
    {
     "data": {
      "text/plain": [
       "(1070, 3)"
      ]
     },
     "execution_count": 97,
     "metadata": {},
     "output_type": "execute_result"
    }
   ],
   "source": [
    "ds = DataFrameSelector(attrs = x_train.columns[[1,4,5]])\n",
    "ds.fit_transform(x_train).shape"
   ]
  },
  {
   "cell_type": "code",
   "execution_count": 98,
   "id": "27d57470",
   "metadata": {},
   "outputs": [
    {
     "data": {
      "text/plain": [
       "(1070, 3)"
      ]
     },
     "execution_count": 98,
     "metadata": {},
     "output_type": "execute_result"
    }
   ],
   "source": [
    "ds = DataFrameSelector(attrs = x_train.columns[[0,2,3]])\n",
    "ds.fit_transform(x_train).shape"
   ]
  },
  {
   "cell_type": "code",
   "execution_count": 99,
   "id": "19b0df4c",
   "metadata": {},
   "outputs": [
    {
     "data": {
      "text/plain": [
       "Index(['sex', 'smoker', 'region'], dtype='object')"
      ]
     },
     "execution_count": 99,
     "metadata": {},
     "output_type": "execute_result"
    }
   ],
   "source": [
    "x_train.columns[[1,4,5]]"
   ]
  },
  {
   "cell_type": "markdown",
   "id": "8b9d730b",
   "metadata": {},
   "source": [
    "## Importing Ordinal Encoder for Pipelining purpose"
   ]
  },
  {
   "cell_type": "code",
   "execution_count": 100,
   "id": "76f0cec6",
   "metadata": {},
   "outputs": [],
   "source": [
    "from sklearn.preprocessing import OrdinalEncoder"
   ]
  },
  {
   "cell_type": "code",
   "execution_count": 101,
   "id": "bebd45c5",
   "metadata": {},
   "outputs": [],
   "source": [
    "ord_encoder = OrdinalEncoder()"
   ]
  },
  {
   "cell_type": "markdown",
   "id": "e3797712",
   "metadata": {},
   "source": [
    "# Pipelining"
   ]
  },
  {
   "cell_type": "code",
   "execution_count": 102,
   "id": "874d7de5",
   "metadata": {},
   "outputs": [],
   "source": [
    "from sklearn.pipeline import Pipeline, FeatureUnion"
   ]
  },
  {
   "cell_type": "code",
   "execution_count": 103,
   "id": "08ce5f7d",
   "metadata": {},
   "outputs": [],
   "source": [
    "num_pipe = Pipeline([\n",
    "        ('Selector', DataFrameSelector(attrs = x_train.columns[[0,2,3]])),\n",
    "        ('Scaler', StandardScaler())])\n",
    "cat_pipe1 = Pipeline([\n",
    "        ('Selector', DataFrameSelector(attrs = x_train.columns[[5]])),\n",
    "        ('Hot_Encoder', OneHotEncoder(sparse=False))])\n",
    "cat_pipe2 = Pipeline([\n",
    "        ('Selector', DataFrameSelector(attrs = x_train.columns[[1,4]])),\n",
    "        ('Ord_Encoder', OrdinalEncoder())])\n",
    "\n",
    "full_pipe = FeatureUnion([\n",
    "        ('num_pipe', num_pipe),\n",
    "        ('cat_pipe1', cat_pipe1),\n",
    "        ('cat_pipe2', cat_pipe2)])"
   ]
  },
  {
   "cell_type": "markdown",
   "id": "9cc75b2f",
   "metadata": {},
   "source": [
    "### To reduce the number of features or attributes we used OneHot Encoder only on Region attribute and applied Ordinal_Encoder only on sex and smoker attributes\n",
    "\n",
    "### If we wouldn't have applied these then the number of features would be 11 after combining the results of all preprocessing steps.\n",
    "\n",
    "### Here by this way we got total 9 attributes . So by Pipelining process we are doing the preprocessing part again on x_train and x_test"
   ]
  },
  {
   "cell_type": "markdown",
   "id": "76d6435e",
   "metadata": {},
   "source": [
    "# Applying Full PipeLine on Train Dataset"
   ]
  },
  {
   "cell_type": "code",
   "execution_count": 104,
   "id": "7713dcbf",
   "metadata": {},
   "outputs": [],
   "source": [
    "x_train_final_pipe = full_pipe.fit_transform(x_train)"
   ]
  },
  {
   "cell_type": "code",
   "execution_count": 105,
   "id": "83b576e4",
   "metadata": {},
   "outputs": [
    {
     "data": {
      "text/plain": [
       "(1070, 9)"
      ]
     },
     "execution_count": 105,
     "metadata": {},
     "output_type": "execute_result"
    }
   ],
   "source": [
    "x_train_final_pipe.shape"
   ]
  },
  {
   "cell_type": "markdown",
   "id": "d07fd164",
   "metadata": {},
   "source": [
    "# Applying Full PipeLine on Test Dataset"
   ]
  },
  {
   "cell_type": "code",
   "execution_count": 106,
   "id": "c423ea70",
   "metadata": {},
   "outputs": [],
   "source": [
    "x_test_final_pipe = full_pipe.fit_transform(x_test)"
   ]
  },
  {
   "cell_type": "code",
   "execution_count": 107,
   "id": "b05c48f9",
   "metadata": {},
   "outputs": [
    {
     "data": {
      "text/plain": [
       "(268, 9)"
      ]
     },
     "execution_count": 107,
     "metadata": {},
     "output_type": "execute_result"
    }
   ],
   "source": [
    "x_test_final_pipe.shape"
   ]
  },
  {
   "cell_type": "code",
   "execution_count": 108,
   "id": "59548e0e",
   "metadata": {},
   "outputs": [
    {
     "data": {
      "text/html": [
       "<div>\n",
       "<style scoped>\n",
       "    .dataframe tbody tr th:only-of-type {\n",
       "        vertical-align: middle;\n",
       "    }\n",
       "\n",
       "    .dataframe tbody tr th {\n",
       "        vertical-align: top;\n",
       "    }\n",
       "\n",
       "    .dataframe thead th {\n",
       "        text-align: right;\n",
       "    }\n",
       "</style>\n",
       "<table border=\"1\" class=\"dataframe\">\n",
       "  <thead>\n",
       "    <tr style=\"text-align: right;\">\n",
       "      <th></th>\n",
       "      <th>age</th>\n",
       "      <th>sex</th>\n",
       "      <th>bmi</th>\n",
       "      <th>children</th>\n",
       "      <th>smoker</th>\n",
       "      <th>region</th>\n",
       "      <th>bmi_cat</th>\n",
       "    </tr>\n",
       "  </thead>\n",
       "  <tbody>\n",
       "    <tr>\n",
       "      <th>61</th>\n",
       "      <td>25</td>\n",
       "      <td>male</td>\n",
       "      <td>33.7</td>\n",
       "      <td>4</td>\n",
       "      <td>no</td>\n",
       "      <td>southeast</td>\n",
       "      <td>3.0</td>\n",
       "    </tr>\n",
       "    <tr>\n",
       "      <th>1185</th>\n",
       "      <td>45</td>\n",
       "      <td>male</td>\n",
       "      <td>23.6</td>\n",
       "      <td>2</td>\n",
       "      <td>no</td>\n",
       "      <td>northeast</td>\n",
       "      <td>2.0</td>\n",
       "    </tr>\n",
       "    <tr>\n",
       "      <th>1183</th>\n",
       "      <td>48</td>\n",
       "      <td>female</td>\n",
       "      <td>27.4</td>\n",
       "      <td>1</td>\n",
       "      <td>no</td>\n",
       "      <td>northeast</td>\n",
       "      <td>2.0</td>\n",
       "    </tr>\n",
       "    <tr>\n",
       "      <th>790</th>\n",
       "      <td>39</td>\n",
       "      <td>female</td>\n",
       "      <td>41.8</td>\n",
       "      <td>0</td>\n",
       "      <td>no</td>\n",
       "      <td>southeast</td>\n",
       "      <td>3.0</td>\n",
       "    </tr>\n",
       "    <tr>\n",
       "      <th>146</th>\n",
       "      <td>46</td>\n",
       "      <td>male</td>\n",
       "      <td>30.5</td>\n",
       "      <td>3</td>\n",
       "      <td>yes</td>\n",
       "      <td>northwest</td>\n",
       "      <td>2.0</td>\n",
       "    </tr>\n",
       "    <tr>\n",
       "      <th>...</th>\n",
       "      <td>...</td>\n",
       "      <td>...</td>\n",
       "      <td>...</td>\n",
       "      <td>...</td>\n",
       "      <td>...</td>\n",
       "      <td>...</td>\n",
       "      <td>...</td>\n",
       "    </tr>\n",
       "    <tr>\n",
       "      <th>1244</th>\n",
       "      <td>18</td>\n",
       "      <td>male</td>\n",
       "      <td>33.3</td>\n",
       "      <td>0</td>\n",
       "      <td>no</td>\n",
       "      <td>southeast</td>\n",
       "      <td>3.0</td>\n",
       "    </tr>\n",
       "    <tr>\n",
       "      <th>411</th>\n",
       "      <td>44</td>\n",
       "      <td>female</td>\n",
       "      <td>20.2</td>\n",
       "      <td>1</td>\n",
       "      <td>yes</td>\n",
       "      <td>northeast</td>\n",
       "      <td>2.0</td>\n",
       "    </tr>\n",
       "    <tr>\n",
       "      <th>1108</th>\n",
       "      <td>26</td>\n",
       "      <td>male</td>\n",
       "      <td>30.0</td>\n",
       "      <td>1</td>\n",
       "      <td>no</td>\n",
       "      <td>southwest</td>\n",
       "      <td>2.0</td>\n",
       "    </tr>\n",
       "    <tr>\n",
       "      <th>551</th>\n",
       "      <td>32</td>\n",
       "      <td>female</td>\n",
       "      <td>28.9</td>\n",
       "      <td>0</td>\n",
       "      <td>no</td>\n",
       "      <td>southeast</td>\n",
       "      <td>2.0</td>\n",
       "    </tr>\n",
       "    <tr>\n",
       "      <th>1274</th>\n",
       "      <td>26</td>\n",
       "      <td>male</td>\n",
       "      <td>27.1</td>\n",
       "      <td>0</td>\n",
       "      <td>yes</td>\n",
       "      <td>southeast</td>\n",
       "      <td>2.0</td>\n",
       "    </tr>\n",
       "  </tbody>\n",
       "</table>\n",
       "<p>268 rows × 7 columns</p>\n",
       "</div>"
      ],
      "text/plain": [
       "      age     sex   bmi  children smoker     region  bmi_cat\n",
       "61     25    male  33.7         4     no  southeast      3.0\n",
       "1185   45    male  23.6         2     no  northeast      2.0\n",
       "1183   48  female  27.4         1     no  northeast      2.0\n",
       "790    39  female  41.8         0     no  southeast      3.0\n",
       "146    46    male  30.5         3    yes  northwest      2.0\n",
       "...   ...     ...   ...       ...    ...        ...      ...\n",
       "1244   18    male  33.3         0     no  southeast      3.0\n",
       "411    44  female  20.2         1    yes  northeast      2.0\n",
       "1108   26    male  30.0         1     no  southwest      2.0\n",
       "551    32  female  28.9         0     no  southeast      2.0\n",
       "1274   26    male  27.1         0    yes  southeast      2.0\n",
       "\n",
       "[268 rows x 7 columns]"
      ]
     },
     "execution_count": 108,
     "metadata": {},
     "output_type": "execute_result"
    }
   ],
   "source": [
    "x_test"
   ]
  },
  {
   "cell_type": "code",
   "execution_count": 109,
   "id": "d07331ac",
   "metadata": {},
   "outputs": [],
   "source": [
    "x_test_num = x_test.drop(['sex','smoker','region'],axis = 1)"
   ]
  },
  {
   "cell_type": "code",
   "execution_count": 110,
   "id": "b4cd6db2",
   "metadata": {},
   "outputs": [],
   "source": [
    "x_test_cat = x_test[['sex','smoker','region']]"
   ]
  },
  {
   "cell_type": "code",
   "execution_count": 111,
   "id": "f3a99b60",
   "metadata": {},
   "outputs": [
    {
     "name": "stdout",
     "output_type": "stream",
     "text": [
      "<class 'pandas.core.frame.DataFrame'>\n",
      "Int64Index: 268 entries, 61 to 1274\n",
      "Data columns (total 4 columns):\n",
      " #   Column    Non-Null Count  Dtype  \n",
      "---  ------    --------------  -----  \n",
      " 0   age       268 non-null    int64  \n",
      " 1   bmi       268 non-null    float64\n",
      " 2   children  268 non-null    int64  \n",
      " 3   bmi_cat   268 non-null    float64\n",
      "dtypes: float64(2), int64(2)\n",
      "memory usage: 10.5 KB\n"
     ]
    }
   ],
   "source": [
    "x_test_num.info()"
   ]
  },
  {
   "cell_type": "code",
   "execution_count": 112,
   "id": "40c9b016",
   "metadata": {},
   "outputs": [
    {
     "name": "stdout",
     "output_type": "stream",
     "text": [
      "<class 'pandas.core.frame.DataFrame'>\n",
      "Int64Index: 268 entries, 61 to 1274\n",
      "Data columns (total 3 columns):\n",
      " #   Column  Non-Null Count  Dtype \n",
      "---  ------  --------------  ----- \n",
      " 0   sex     268 non-null    object\n",
      " 1   smoker  268 non-null    object\n",
      " 2   region  268 non-null    object\n",
      "dtypes: object(3)\n",
      "memory usage: 8.4+ KB\n"
     ]
    }
   ],
   "source": [
    "x_test_cat.info()"
   ]
  },
  {
   "cell_type": "code",
   "execution_count": 113,
   "id": "b5dcf43b",
   "metadata": {},
   "outputs": [
    {
     "data": {
      "text/plain": [
       "(1070, 7)"
      ]
     },
     "execution_count": 113,
     "metadata": {},
     "output_type": "execute_result"
    }
   ],
   "source": [
    "x_train.shape"
   ]
  },
  {
   "cell_type": "code",
   "execution_count": 114,
   "id": "817df8a0",
   "metadata": {},
   "outputs": [
    {
     "data": {
      "text/plain": [
       "(268, 7)"
      ]
     },
     "execution_count": 114,
     "metadata": {},
     "output_type": "execute_result"
    }
   ],
   "source": [
    "x_test.shape"
   ]
  },
  {
   "cell_type": "code",
   "execution_count": 115,
   "id": "f535ec23",
   "metadata": {},
   "outputs": [
    {
     "data": {
      "text/plain": [
       "(1070,)"
      ]
     },
     "execution_count": 115,
     "metadata": {},
     "output_type": "execute_result"
    }
   ],
   "source": [
    "y_train.shape"
   ]
  },
  {
   "cell_type": "code",
   "execution_count": 116,
   "id": "174e8cee",
   "metadata": {},
   "outputs": [
    {
     "data": {
      "text/plain": [
       "(268,)"
      ]
     },
     "execution_count": 116,
     "metadata": {},
     "output_type": "execute_result"
    }
   ],
   "source": [
    "y_test.shape"
   ]
  },
  {
   "cell_type": "code",
   "execution_count": null,
   "id": "e8690eb4",
   "metadata": {},
   "outputs": [],
   "source": []
  },
  {
   "cell_type": "markdown",
   "id": "de63d6d5",
   "metadata": {},
   "source": [
    "# Using Model for prediction and calculation of MSE and RMSE"
   ]
  },
  {
   "cell_type": "markdown",
   "id": "af148f54",
   "metadata": {},
   "source": [
    "### Linear Regression model"
   ]
  },
  {
   "cell_type": "code",
   "execution_count": 117,
   "id": "f37aa6d5",
   "metadata": {},
   "outputs": [
    {
     "data": {
      "text/plain": [
       "(1070, 9)"
      ]
     },
     "execution_count": 117,
     "metadata": {},
     "output_type": "execute_result"
    }
   ],
   "source": [
    "x_train_final_pipe.shape"
   ]
  },
  {
   "cell_type": "code",
   "execution_count": 118,
   "id": "559fd03c",
   "metadata": {},
   "outputs": [
    {
     "data": {
      "text/plain": [
       "(1070,)"
      ]
     },
     "execution_count": 118,
     "metadata": {},
     "output_type": "execute_result"
    }
   ],
   "source": [
    "y_train.shape"
   ]
  },
  {
   "cell_type": "code",
   "execution_count": 119,
   "id": "2d441673",
   "metadata": {},
   "outputs": [],
   "source": [
    "Lin_reg = LinearRegression()"
   ]
  },
  {
   "cell_type": "code",
   "execution_count": 120,
   "id": "81da2d81",
   "metadata": {},
   "outputs": [
    {
     "data": {
      "text/plain": [
       "LinearRegression()"
      ]
     },
     "execution_count": 120,
     "metadata": {},
     "output_type": "execute_result"
    }
   ],
   "source": [
    "Lin_reg.fit(x_train_final_pipe, y_train)"
   ]
  },
  {
   "cell_type": "markdown",
   "id": "8be74c0e",
   "metadata": {},
   "source": [
    "### prediction of y_train"
   ]
  },
  {
   "cell_type": "code",
   "execution_count": 121,
   "id": "a1c3fc75",
   "metadata": {},
   "outputs": [],
   "source": [
    "y_pred_train_regression = Lin_reg.predict(x_train_final_pipe)"
   ]
  },
  {
   "cell_type": "code",
   "execution_count": 122,
   "id": "25ff74da",
   "metadata": {},
   "outputs": [],
   "source": [
    "from sklearn.metrics import mean_squared_error"
   ]
  },
  {
   "cell_type": "code",
   "execution_count": 123,
   "id": "48615ee8",
   "metadata": {},
   "outputs": [
    {
     "data": {
      "text/plain": [
       "376     21659.93\n",
       "1300    62592.87\n",
       "998      6551.75\n",
       "800      7046.72\n",
       "586      3861.21\n",
       "          ...   \n",
       "569     45702.02\n",
       "133      1632.56\n",
       "286      9432.93\n",
       "846      9872.70\n",
       "911     33732.69\n",
       "Name: expenses, Length: 1070, dtype: float64"
      ]
     },
     "execution_count": 123,
     "metadata": {},
     "output_type": "execute_result"
    }
   ],
   "source": [
    "y_train"
   ]
  },
  {
   "cell_type": "code",
   "execution_count": 124,
   "id": "0ae9a8ae",
   "metadata": {},
   "outputs": [
    {
     "data": {
      "text/plain": [
       "pandas.core.series.Series"
      ]
     },
     "execution_count": 124,
     "metadata": {},
     "output_type": "execute_result"
    }
   ],
   "source": [
    "type(y_train)"
   ]
  },
  {
   "cell_type": "code",
   "execution_count": 125,
   "id": "95d725e4",
   "metadata": {},
   "outputs": [
    {
     "data": {
      "text/plain": [
       "array([31557.05795221, 32416.54961419, 10430.13335309, ...,\n",
       "       17611.23256295, 12065.6973032 , 27170.43577068])"
      ]
     },
     "execution_count": 125,
     "metadata": {},
     "output_type": "execute_result"
    }
   ],
   "source": [
    "y_pred_train_regression"
   ]
  },
  {
   "cell_type": "code",
   "execution_count": 126,
   "id": "9b271ae9",
   "metadata": {},
   "outputs": [
    {
     "data": {
      "text/plain": [
       "numpy.ndarray"
      ]
     },
     "execution_count": 126,
     "metadata": {},
     "output_type": "execute_result"
    }
   ],
   "source": [
    "type(y_pred_train_regression)"
   ]
  },
  {
   "cell_type": "code",
   "execution_count": 127,
   "id": "171b7d2f",
   "metadata": {},
   "outputs": [],
   "source": [
    "mse_reg_train = mean_squared_error(y_train, y_pred_train_regression)"
   ]
  },
  {
   "cell_type": "code",
   "execution_count": 128,
   "id": "bd24e328",
   "metadata": {},
   "outputs": [],
   "source": [
    "rmse_reg_train = np.sqrt(mse_reg_train)"
   ]
  },
  {
   "cell_type": "code",
   "execution_count": 129,
   "id": "40021ddc",
   "metadata": {},
   "outputs": [
    {
     "data": {
      "text/plain": [
       "5905.718465065766"
      ]
     },
     "execution_count": 129,
     "metadata": {},
     "output_type": "execute_result"
    }
   ],
   "source": [
    "rmse_reg_train"
   ]
  },
  {
   "cell_type": "code",
   "execution_count": 130,
   "id": "4b9a566c",
   "metadata": {},
   "outputs": [
    {
     "data": {
      "text/plain": [
       "(268, 9)"
      ]
     },
     "execution_count": 130,
     "metadata": {},
     "output_type": "execute_result"
    }
   ],
   "source": [
    "x_test_final_pipe.shape"
   ]
  },
  {
   "cell_type": "code",
   "execution_count": 131,
   "id": "fd3a1673",
   "metadata": {},
   "outputs": [],
   "source": [
    "y_pred_test_regression = Lin_reg.predict(x_test_final_pipe)"
   ]
  },
  {
   "cell_type": "code",
   "execution_count": 132,
   "id": "bbd5ca07",
   "metadata": {},
   "outputs": [],
   "source": [
    "mse_reg_test = mean_squared_error(y_test, y_pred_test_regression)"
   ]
  },
  {
   "cell_type": "code",
   "execution_count": 133,
   "id": "86978f02",
   "metadata": {},
   "outputs": [],
   "source": [
    "rmse_reg_test = np.sqrt(mse_reg_test)"
   ]
  },
  {
   "cell_type": "code",
   "execution_count": 134,
   "id": "0a91150a",
   "metadata": {},
   "outputs": [
    {
     "data": {
      "text/plain": [
       "6579.293526748946"
      ]
     },
     "execution_count": 134,
     "metadata": {},
     "output_type": "execute_result"
    }
   ],
   "source": [
    "rmse_reg_test"
   ]
  },
  {
   "cell_type": "code",
   "execution_count": 135,
   "id": "60aaf171",
   "metadata": {},
   "outputs": [],
   "source": [
    "# Calculating R2 Score \n",
    "# R2 score helps to know how fit the model is for the problem\n",
    "# R-squared is a statistical measure of how close the data are to the fitted regression line. \n",
    "# Also known as coefficient of determination\n",
    "# basically varies from 0 to 1 or 0% to 100% \n",
    "# 0% means the model explains none of the variability of the data around the mean\n",
    "# 100% means the model explains all the variablity of the data around the mean\n",
    "# It can be negative also when the model is extremely worse.\n",
    "# If a model always gives the expected value of y disregarding the features then it gets R2 score as 0\n",
    "# Higher the score better the model will be fit for the problem"
   ]
  },
  {
   "cell_type": "code",
   "execution_count": 136,
   "id": "bc303f37",
   "metadata": {},
   "outputs": [],
   "source": [
    "from sklearn.metrics import r2_score"
   ]
  },
  {
   "cell_type": "code",
   "execution_count": 137,
   "id": "5f154ad5",
   "metadata": {},
   "outputs": [
    {
     "data": {
      "text/plain": [
       "0.758530031177981"
      ]
     },
     "execution_count": 137,
     "metadata": {},
     "output_type": "execute_result"
    }
   ],
   "source": [
    "r2_score(y_train, y_pred_train_regression)"
   ]
  },
  {
   "cell_type": "code",
   "execution_count": 138,
   "id": "f8e20600",
   "metadata": {},
   "outputs": [
    {
     "data": {
      "text/plain": [
       "0.7203597839412395"
      ]
     },
     "execution_count": 138,
     "metadata": {},
     "output_type": "execute_result"
    }
   ],
   "source": [
    "r2_score(y_test, y_pred_test_regression)"
   ]
  },
  {
   "cell_type": "markdown",
   "id": "2d74c3a7",
   "metadata": {},
   "source": [
    "#### For train set the score is approx 75.83% and for test set it's almost 72.03%"
   ]
  },
  {
   "cell_type": "markdown",
   "id": "3bba5b0f",
   "metadata": {},
   "source": [
    "##### RMSE of Linear Regression Model on Test Dataset is quite higher than that of the Train Dataset"
   ]
  },
  {
   "cell_type": "markdown",
   "id": "09372480",
   "metadata": {},
   "source": [
    "### Decision Tree Model"
   ]
  },
  {
   "cell_type": "code",
   "execution_count": 139,
   "id": "f3aea9cb",
   "metadata": {},
   "outputs": [],
   "source": [
    "from sklearn.tree import DecisionTreeRegressor"
   ]
  },
  {
   "cell_type": "code",
   "execution_count": 140,
   "id": "1b6bd649",
   "metadata": {},
   "outputs": [],
   "source": [
    "tree_reg = DecisionTreeRegressor()"
   ]
  },
  {
   "cell_type": "code",
   "execution_count": 141,
   "id": "166c0388",
   "metadata": {},
   "outputs": [
    {
     "data": {
      "text/plain": [
       "DecisionTreeRegressor()"
      ]
     },
     "execution_count": 141,
     "metadata": {},
     "output_type": "execute_result"
    }
   ],
   "source": [
    "tree_reg.fit(x_train_final_pipe, y_train)"
   ]
  },
  {
   "cell_type": "code",
   "execution_count": 142,
   "id": "4af353d6",
   "metadata": {},
   "outputs": [],
   "source": [
    "y_pred_train_tree = tree_reg.predict(x_train_final_pipe)"
   ]
  },
  {
   "cell_type": "code",
   "execution_count": 143,
   "id": "b883fe3d",
   "metadata": {},
   "outputs": [],
   "source": [
    "mse_tree_train = mean_squared_error(y_train, y_pred_train_tree)"
   ]
  },
  {
   "cell_type": "code",
   "execution_count": 144,
   "id": "e88da931",
   "metadata": {},
   "outputs": [],
   "source": [
    "rmse_tree_train = np.sqrt(mse_tree_train)"
   ]
  },
  {
   "cell_type": "code",
   "execution_count": 145,
   "id": "412f5265",
   "metadata": {},
   "outputs": [
    {
     "data": {
      "text/plain": [
       "494.2061177475097"
      ]
     },
     "execution_count": 145,
     "metadata": {},
     "output_type": "execute_result"
    }
   ],
   "source": [
    "rmse_tree_train"
   ]
  },
  {
   "cell_type": "code",
   "execution_count": 146,
   "id": "8117bbea",
   "metadata": {},
   "outputs": [],
   "source": [
    "y_pred_test_tree = tree_reg.predict(x_test_final_pipe)"
   ]
  },
  {
   "cell_type": "code",
   "execution_count": 147,
   "id": "78fe5211",
   "metadata": {},
   "outputs": [],
   "source": [
    "mse_tree_test = mean_squared_error(y_test, y_pred_test_tree)"
   ]
  },
  {
   "cell_type": "code",
   "execution_count": 148,
   "id": "a7bcc13a",
   "metadata": {},
   "outputs": [],
   "source": [
    "rmse_tree_test = np.sqrt(mse_tree_test)"
   ]
  },
  {
   "cell_type": "code",
   "execution_count": 149,
   "id": "bb570bd4",
   "metadata": {},
   "outputs": [
    {
     "data": {
      "text/plain": [
       "6730.980986184886"
      ]
     },
     "execution_count": 149,
     "metadata": {},
     "output_type": "execute_result"
    }
   ],
   "source": [
    "rmse_tree_test"
   ]
  },
  {
   "cell_type": "markdown",
   "id": "44dce1b9",
   "metadata": {},
   "source": [
    "#### Decision Tree seems to be overfit model as it has a low rmse for train set and high rmse for test set"
   ]
  },
  {
   "cell_type": "markdown",
   "id": "9dc416ea",
   "metadata": {},
   "source": [
    "## calculating R2_Score for Decision Tree Train set and Test Set"
   ]
  },
  {
   "cell_type": "code",
   "execution_count": 150,
   "id": "ebd3c83b",
   "metadata": {},
   "outputs": [
    {
     "data": {
      "text/plain": [
       "0.9983090378709384"
      ]
     },
     "execution_count": 150,
     "metadata": {},
     "output_type": "execute_result"
    }
   ],
   "source": [
    "r2_score(y_train, y_pred_train_tree)"
   ]
  },
  {
   "cell_type": "code",
   "execution_count": 151,
   "id": "0b232833",
   "metadata": {},
   "outputs": [
    {
     "data": {
      "text/plain": [
       "0.7073167749272775"
      ]
     },
     "execution_count": 151,
     "metadata": {},
     "output_type": "execute_result"
    }
   ],
   "source": [
    "r2_score(y_test, y_pred_test_tree)"
   ]
  },
  {
   "cell_type": "markdown",
   "id": "2faaf779",
   "metadata": {},
   "source": [
    "#### For Trainset it showed approx 100% (99.83%) score in train set but for test set it showed only 69% , so concluding this model to be overfit model as the model is performing quite poor for test set in this case"
   ]
  },
  {
   "cell_type": "markdown",
   "id": "d290202c",
   "metadata": {},
   "source": [
    "### Random Forest Model"
   ]
  },
  {
   "cell_type": "code",
   "execution_count": 152,
   "id": "632b44a2",
   "metadata": {},
   "outputs": [],
   "source": [
    "from sklearn.ensemble import RandomForestRegressor"
   ]
  },
  {
   "cell_type": "code",
   "execution_count": 153,
   "id": "729b9879",
   "metadata": {},
   "outputs": [],
   "source": [
    "forest_reg = RandomForestRegressor()"
   ]
  },
  {
   "cell_type": "code",
   "execution_count": 154,
   "id": "50b6d572",
   "metadata": {},
   "outputs": [
    {
     "data": {
      "text/plain": [
       "RandomForestRegressor()"
      ]
     },
     "execution_count": 154,
     "metadata": {},
     "output_type": "execute_result"
    }
   ],
   "source": [
    "forest_reg.fit(x_train_final_pipe, y_train)"
   ]
  },
  {
   "cell_type": "code",
   "execution_count": 155,
   "id": "c7e22618",
   "metadata": {},
   "outputs": [],
   "source": [
    "y_pred_train_forest = forest_reg.predict(x_train_final_pipe)"
   ]
  },
  {
   "cell_type": "code",
   "execution_count": 156,
   "id": "7ad45682",
   "metadata": {},
   "outputs": [],
   "source": [
    "mse_forest_train = mean_squared_error(y_train, y_pred_train_forest)"
   ]
  },
  {
   "cell_type": "code",
   "execution_count": 157,
   "id": "2f49ad16",
   "metadata": {},
   "outputs": [],
   "source": [
    "rmse_forest_train = np.sqrt(mse_forest_train)"
   ]
  },
  {
   "cell_type": "code",
   "execution_count": 158,
   "id": "1ba3eddd",
   "metadata": {},
   "outputs": [
    {
     "data": {
      "text/plain": [
       "1797.7138953318297"
      ]
     },
     "execution_count": 158,
     "metadata": {},
     "output_type": "execute_result"
    }
   ],
   "source": [
    "rmse_forest_train"
   ]
  },
  {
   "cell_type": "code",
   "execution_count": 159,
   "id": "2af21be1",
   "metadata": {},
   "outputs": [],
   "source": [
    "y_pred_test_forest = forest_reg.predict(x_test_final_pipe)"
   ]
  },
  {
   "cell_type": "code",
   "execution_count": 160,
   "id": "c7c6c4c9",
   "metadata": {},
   "outputs": [],
   "source": [
    "mse_forest_test = mean_squared_error(y_test, y_pred_test_forest)"
   ]
  },
  {
   "cell_type": "code",
   "execution_count": 161,
   "id": "0d25b702",
   "metadata": {},
   "outputs": [],
   "source": [
    "rmse_forest_test = np.sqrt(mse_forest_test)"
   ]
  },
  {
   "cell_type": "code",
   "execution_count": 162,
   "id": "31942d6f",
   "metadata": {},
   "outputs": [
    {
     "data": {
      "text/plain": [
       "5081.862702989401"
      ]
     },
     "execution_count": 162,
     "metadata": {},
     "output_type": "execute_result"
    }
   ],
   "source": [
    "rmse_forest_test"
   ]
  },
  {
   "cell_type": "code",
   "execution_count": 163,
   "id": "6b2606ab",
   "metadata": {},
   "outputs": [
    {
     "data": {
      "text/plain": [
       "0.9776252187854331"
      ]
     },
     "execution_count": 163,
     "metadata": {},
     "output_type": "execute_result"
    }
   ],
   "source": [
    "r2_score(y_train, y_pred_train_forest)"
   ]
  },
  {
   "cell_type": "code",
   "execution_count": 164,
   "id": "aea7c55c",
   "metadata": {},
   "outputs": [
    {
     "data": {
      "text/plain": [
       "0.8331650792481795"
      ]
     },
     "execution_count": 164,
     "metadata": {},
     "output_type": "execute_result"
    }
   ],
   "source": [
    "r2_score(y_test, y_pred_test_forest)"
   ]
  },
  {
   "cell_type": "code",
   "execution_count": 165,
   "id": "c2a09ea5",
   "metadata": {},
   "outputs": [],
   "source": [
    "# For Trainset Random forest showed 97.7% R2 score whereas for Testset it showed 82.65% score\n",
    "# Comparing all the test set scores we will take up the Random Forest for further parameter tuning as amongs all the models\n",
    "# this model gave highest R2 score for the Test Dataset."
   ]
  },
  {
   "cell_type": "markdown",
   "id": "ed1a7c36",
   "metadata": {},
   "source": [
    "#### We can see that among all the models (Linear Regression, Decision Tree, Random Forest), we got the RMSE score lowest for the test data set in Random Forest Alogorithm\n",
    "#### Decision Tree algorithm seemed to be overfitting model as it performed well in train set but its RMSE was higher in test data set than train data set"
   ]
  },
  {
   "cell_type": "markdown",
   "id": "058c806a",
   "metadata": {},
   "source": [
    "# K-Fold Cross Validation"
   ]
  },
  {
   "cell_type": "markdown",
   "id": "04d1f0c5",
   "metadata": {},
   "source": [
    "### Cross validation for Linear Regression"
   ]
  },
  {
   "cell_type": "code",
   "execution_count": 166,
   "id": "fed10ad2",
   "metadata": {},
   "outputs": [],
   "source": [
    "from sklearn.model_selection import cross_val_score"
   ]
  },
  {
   "cell_type": "code",
   "execution_count": 167,
   "id": "45024757",
   "metadata": {},
   "outputs": [],
   "source": [
    "mses_reg = -cross_val_score(lin_reg, x_train_final, y_train, cv = 6, scoring = 'neg_mean_squared_error')"
   ]
  },
  {
   "cell_type": "code",
   "execution_count": 168,
   "id": "7bc6e474",
   "metadata": {},
   "outputs": [
    {
     "data": {
      "text/plain": [
       "array([34199060.27586628, 40452811.59663513, 30727922.33646742,\n",
       "       38582702.19433843, 35397740.01010169, 34492277.36540591])"
      ]
     },
     "execution_count": 168,
     "metadata": {},
     "output_type": "execute_result"
    }
   ],
   "source": [
    "mses_reg"
   ]
  },
  {
   "cell_type": "markdown",
   "id": "be4dbc92",
   "metadata": {},
   "source": [
    "### Cross validation for Decision Tree"
   ]
  },
  {
   "cell_type": "code",
   "execution_count": 169,
   "id": "fb86ef34",
   "metadata": {},
   "outputs": [],
   "source": [
    "mses_tree = -cross_val_score(tree_reg, x_train_final, y_train, cv = 6, scoring= 'neg_mean_squared_error')"
   ]
  },
  {
   "cell_type": "code",
   "execution_count": 170,
   "id": "ed03826f",
   "metadata": {},
   "outputs": [
    {
     "data": {
      "text/plain": [
       "array([36380662.4106866 , 46540457.07815196, 47031742.0102146 ,\n",
       "       42576497.82808596, 48507825.54456855, 30314262.19398539])"
      ]
     },
     "execution_count": 170,
     "metadata": {},
     "output_type": "execute_result"
    }
   ],
   "source": [
    "mses_tree"
   ]
  },
  {
   "cell_type": "markdown",
   "id": "817e82d0",
   "metadata": {},
   "source": [
    "### Cross validation for Random Forest"
   ]
  },
  {
   "cell_type": "code",
   "execution_count": 171,
   "id": "a9b2b27a",
   "metadata": {},
   "outputs": [],
   "source": [
    "mses_forest = -cross_val_score(forest_reg, x_train_final, y_train, cv = 6, scoring = 'neg_mean_squared_error')"
   ]
  },
  {
   "cell_type": "code",
   "execution_count": 172,
   "id": "9151e635",
   "metadata": {},
   "outputs": [
    {
     "data": {
      "text/plain": [
       "array([19542339.00105851, 27854106.90804621, 18601760.91134448,\n",
       "       25652633.61558908, 23071460.58629018, 20770585.3647511 ])"
      ]
     },
     "execution_count": 172,
     "metadata": {},
     "output_type": "execute_result"
    }
   ],
   "source": [
    "mses_forest"
   ]
  },
  {
   "cell_type": "markdown",
   "id": "bda7f841",
   "metadata": {},
   "source": [
    "#### In cross validation also, The cross validation score on the metric Mean squared error seemed to be low in Random Forest algorithm.\n",
    "#### So in hyperparameter tuning we are taking random forest as our base model"
   ]
  },
  {
   "cell_type": "markdown",
   "id": "9f4a0fd7",
   "metadata": {},
   "source": [
    "# Hyper parameter tuning "
   ]
  },
  {
   "cell_type": "code",
   "execution_count": 173,
   "id": "7cf96e5c",
   "metadata": {},
   "outputs": [],
   "source": [
    "from pprint import pprint"
   ]
  },
  {
   "cell_type": "code",
   "execution_count": 174,
   "id": "62da857a",
   "metadata": {},
   "outputs": [
    {
     "name": "stdout",
     "output_type": "stream",
     "text": [
      "Parameters currently in use:\n",
      "\n",
      "{'bootstrap': True,\n",
      " 'ccp_alpha': 0.0,\n",
      " 'criterion': 'mse',\n",
      " 'max_depth': None,\n",
      " 'max_features': 'auto',\n",
      " 'max_leaf_nodes': None,\n",
      " 'max_samples': None,\n",
      " 'min_impurity_decrease': 0.0,\n",
      " 'min_impurity_split': None,\n",
      " 'min_samples_leaf': 1,\n",
      " 'min_samples_split': 2,\n",
      " 'min_weight_fraction_leaf': 0.0,\n",
      " 'n_estimators': 100,\n",
      " 'n_jobs': None,\n",
      " 'oob_score': False,\n",
      " 'random_state': None,\n",
      " 'verbose': 0,\n",
      " 'warm_start': False}\n"
     ]
    }
   ],
   "source": [
    "print('Parameters currently in use:\\n')\n",
    "pprint(forest_reg.get_params())"
   ]
  },
  {
   "cell_type": "code",
   "execution_count": 175,
   "id": "0b3b40c0",
   "metadata": {},
   "outputs": [],
   "source": [
    "from sklearn.model_selection import GridSearchCV"
   ]
  },
  {
   "cell_type": "code",
   "execution_count": 176,
   "id": "922b8f0a",
   "metadata": {},
   "outputs": [],
   "source": [
    "param_grid = [{'n_estimators':[int(x) for x in np.linspace(start = 50, stop = 250, num = 20)], \n",
    "               'max_features':[2, 4, 6], \n",
    "               'bootstrap': [True]},\n",
    "            {'bootstrap': [False], \n",
    "             'n_estimators':[int(x) for x in np.linspace(start = 5, stop = 150, num = 20)], \n",
    "             'max_features': [2, 3, 4]}]\n",
    "forest_reg = RandomForestRegressor()\n",
    "grid_search = GridSearchCV(forest_reg, param_grid, cv=6, scoring = 'neg_mean_squared_error', return_train_score = True)"
   ]
  },
  {
   "cell_type": "code",
   "execution_count": 177,
   "id": "bd63e77d",
   "metadata": {},
   "outputs": [
    {
     "data": {
      "text/plain": [
       "GridSearchCV(cv=6, estimator=RandomForestRegressor(),\n",
       "             param_grid=[{'bootstrap': [True], 'max_features': [2, 4, 6],\n",
       "                          'n_estimators': [50, 60, 71, 81, 92, 102, 113, 123,\n",
       "                                           134, 144, 155, 165, 176, 186, 197,\n",
       "                                           207, 218, 228, 239, 250]},\n",
       "                         {'bootstrap': [False], 'max_features': [2, 3, 4],\n",
       "                          'n_estimators': [5, 12, 20, 27, 35, 43, 50, 58, 66,\n",
       "                                           73, 81, 88, 96, 104, 111, 119, 127,\n",
       "                                           134, 142, 150]}],\n",
       "             return_train_score=True, scoring='neg_mean_squared_error')"
      ]
     },
     "execution_count": 177,
     "metadata": {},
     "output_type": "execute_result"
    }
   ],
   "source": [
    "grid_search.fit(x_train_final_pipe, y_train)"
   ]
  },
  {
   "cell_type": "code",
   "execution_count": 178,
   "id": "09ae9f65",
   "metadata": {},
   "outputs": [
    {
     "data": {
      "text/plain": [
       "{'bootstrap': True, 'max_features': 4, 'n_estimators': 197}"
      ]
     },
     "execution_count": 178,
     "metadata": {},
     "output_type": "execute_result"
    }
   ],
   "source": [
    "grid_search.best_params_"
   ]
  },
  {
   "cell_type": "code",
   "execution_count": 179,
   "id": "7b09f39f",
   "metadata": {},
   "outputs": [],
   "source": [
    "best_model = grid_search.best_estimator_"
   ]
  },
  {
   "cell_type": "markdown",
   "id": "66d4ea5d",
   "metadata": {},
   "source": [
    "# Fitting the train dataset to the best model and predicting the test set"
   ]
  },
  {
   "cell_type": "code",
   "execution_count": 180,
   "id": "cf74bbb1",
   "metadata": {},
   "outputs": [
    {
     "data": {
      "text/plain": [
       "RandomForestRegressor(max_features=4, n_estimators=197)"
      ]
     },
     "execution_count": 180,
     "metadata": {},
     "output_type": "execute_result"
    }
   ],
   "source": [
    "best_model.fit(x_train_final_pipe, y_train)"
   ]
  },
  {
   "cell_type": "code",
   "execution_count": 181,
   "id": "430a8c00",
   "metadata": {},
   "outputs": [],
   "source": [
    "y_pred_train_best_model = best_model.predict(x_train_final_pipe)"
   ]
  },
  {
   "cell_type": "code",
   "execution_count": 182,
   "id": "a3fce972",
   "metadata": {},
   "outputs": [],
   "source": [
    "y_pred_test_best_model = best_model.predict(x_test_final_pipe)"
   ]
  },
  {
   "cell_type": "code",
   "execution_count": 183,
   "id": "4b5df425",
   "metadata": {},
   "outputs": [],
   "source": [
    "mse_train_best_model = mean_squared_error(y_train, y_pred_train_best_model)"
   ]
  },
  {
   "cell_type": "code",
   "execution_count": 184,
   "id": "3960b798",
   "metadata": {},
   "outputs": [],
   "source": [
    "rmse_train_best_model = np.sqrt(mse_train_best_model)"
   ]
  },
  {
   "cell_type": "code",
   "execution_count": 185,
   "id": "bf5bcaba",
   "metadata": {},
   "outputs": [
    {
     "data": {
      "text/plain": [
       "1725.1311443506656"
      ]
     },
     "execution_count": 185,
     "metadata": {},
     "output_type": "execute_result"
    }
   ],
   "source": [
    "rmse_train_best_model"
   ]
  },
  {
   "cell_type": "code",
   "execution_count": 186,
   "id": "f409f621",
   "metadata": {},
   "outputs": [],
   "source": [
    "mse_test_best_model = mean_squared_error(y_test, y_pred_test_best_model)"
   ]
  },
  {
   "cell_type": "code",
   "execution_count": 187,
   "id": "0430dbd7",
   "metadata": {},
   "outputs": [],
   "source": [
    "rmse_test_best_model = np.sqrt(mse_test_best_model)"
   ]
  },
  {
   "cell_type": "code",
   "execution_count": 188,
   "id": "de4801cb",
   "metadata": {},
   "outputs": [
    {
     "data": {
      "text/plain": [
       "5114.76547557559"
      ]
     },
     "execution_count": 188,
     "metadata": {},
     "output_type": "execute_result"
    }
   ],
   "source": [
    "rmse_test_best_model"
   ]
  },
  {
   "cell_type": "code",
   "execution_count": 189,
   "id": "e5349c42",
   "metadata": {},
   "outputs": [
    {
     "data": {
      "text/plain": [
       "0.9793955095817433"
      ]
     },
     "execution_count": 189,
     "metadata": {},
     "output_type": "execute_result"
    }
   ],
   "source": [
    "r2_score(y_train, y_pred_train_best_model)"
   ]
  },
  {
   "cell_type": "code",
   "execution_count": 190,
   "id": "d5b86704",
   "metadata": {},
   "outputs": [
    {
     "data": {
      "text/plain": [
       "0.8309977235939888"
      ]
     },
     "execution_count": 190,
     "metadata": {},
     "output_type": "execute_result"
    }
   ],
   "source": [
    "r2_score(y_test, y_pred_test_best_model)"
   ]
  },
  {
   "cell_type": "markdown",
   "id": "5e4f3c74",
   "metadata": {},
   "source": [
    "### calculating r2_score for the Best model for Train and Test dataset after hyper parameter tuning"
   ]
  },
  {
   "cell_type": "code",
   "execution_count": 191,
   "id": "34ed6ea8",
   "metadata": {},
   "outputs": [],
   "source": [
    "mses_best_model_hpt_r2_train = cross_val_score(best_model, x_train_final_pipe, y_train, cv = 6, scoring = 'r2')"
   ]
  },
  {
   "cell_type": "code",
   "execution_count": 192,
   "id": "b5d3acb9",
   "metadata": {
    "scrolled": true
   },
   "outputs": [
    {
     "data": {
      "text/plain": [
       "0.8465341884526572"
      ]
     },
     "execution_count": 192,
     "metadata": {},
     "output_type": "execute_result"
    }
   ],
   "source": [
    "mses_best_model_hpt_r2_train.mean()"
   ]
  },
  {
   "cell_type": "code",
   "execution_count": 193,
   "id": "4a2f6e81",
   "metadata": {},
   "outputs": [],
   "source": [
    "mses_best_model_hpt_r2_test = cross_val_score(best_model, x_test_final_pipe, y_test, cv = 6, scoring = 'r2')"
   ]
  },
  {
   "cell_type": "code",
   "execution_count": 194,
   "id": "34475e44",
   "metadata": {},
   "outputs": [
    {
     "data": {
      "text/plain": [
       "0.817744646065378"
      ]
     },
     "execution_count": 194,
     "metadata": {},
     "output_type": "execute_result"
    }
   ],
   "source": [
    "mses_best_model_hpt_r2_test.mean()"
   ]
  },
  {
   "cell_type": "markdown",
   "id": "c6c491e9",
   "metadata": {},
   "source": [
    "#### The Model which we got after hyper parameter tuning of Random Forest Regressor model has been counted as Best Model. \n",
    "#### After Hyperparameter tuning  Best Model gives the R2 score as almost 85% for train dataset and for test dataset it gives the R2 score as almost 81%\n",
    "#### That means for the train set it gives 84% of the changeability of the dependent output variable and for the test set it gives 81% of the changeability of the dependent output variables."
   ]
  },
  {
   "cell_type": "code",
   "execution_count": null,
   "id": "d99f2d1f",
   "metadata": {},
   "outputs": [],
   "source": []
  }
 ],
 "metadata": {
  "kernelspec": {
   "display_name": "Python 3",
   "language": "python",
   "name": "python3"
  },
  "language_info": {
   "codemirror_mode": {
    "name": "ipython",
    "version": 3
   },
   "file_extension": ".py",
   "mimetype": "text/x-python",
   "name": "python",
   "nbconvert_exporter": "python",
   "pygments_lexer": "ipython3",
   "version": "3.8.8"
  }
 },
 "nbformat": 4,
 "nbformat_minor": 5
}
