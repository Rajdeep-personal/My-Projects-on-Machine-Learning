{
 "cells": [
  {
   "cell_type": "markdown",
   "id": "ac4b8ea1",
   "metadata": {},
   "source": [
    "## Predicting Medical Expenses using Regression"
   ]
  },
  {
   "cell_type": "markdown",
   "id": "735c23ee",
   "metadata": {},
   "source": [
    "### Importing necessary modules"
   ]
  },
  {
   "cell_type": "code",
   "execution_count": 1,
   "id": "a8d737fd",
   "metadata": {},
   "outputs": [],
   "source": [
    "import numpy as np\n",
    "import pandas as pd\n",
    "import matplotlib.pyplot as plt\n",
    "import seaborn as sns\n",
    "import os"
   ]
  },
  {
   "cell_type": "markdown",
   "id": "da82dd45",
   "metadata": {},
   "source": [
    "### Loading Dataset"
   ]
  },
  {
   "cell_type": "code",
   "execution_count": 2,
   "id": "fef487dc",
   "metadata": {},
   "outputs": [],
   "source": [
    "#File_Path = \"..\"+ os.path.sep + \"Python-Practice-code\" + os.path.sep + \"insurance.csv\"\n",
    "File_Path = \"insurance.csv\"\n",
    "medical = pd.read_csv(File_Path)"
   ]
  },
  {
   "cell_type": "code",
   "execution_count": 3,
   "id": "15dfded3",
   "metadata": {},
   "outputs": [
    {
     "name": "stdout",
     "output_type": "stream",
     "text": [
      "insurance.csv\n"
     ]
    }
   ],
   "source": [
    "print(File_Path)"
   ]
  },
  {
   "cell_type": "code",
   "execution_count": 4,
   "id": "bee75199",
   "metadata": {},
   "outputs": [
    {
     "data": {
      "text/plain": [
       "pandas.core.frame.DataFrame"
      ]
     },
     "execution_count": 4,
     "metadata": {},
     "output_type": "execute_result"
    }
   ],
   "source": [
    "type(medical)"
   ]
  },
  {
   "cell_type": "code",
   "execution_count": 5,
   "id": "457a7f17",
   "metadata": {},
   "outputs": [
    {
     "data": {
      "text/html": [
       "<div>\n",
       "<style scoped>\n",
       "    .dataframe tbody tr th:only-of-type {\n",
       "        vertical-align: middle;\n",
       "    }\n",
       "\n",
       "    .dataframe tbody tr th {\n",
       "        vertical-align: top;\n",
       "    }\n",
       "\n",
       "    .dataframe thead th {\n",
       "        text-align: right;\n",
       "    }\n",
       "</style>\n",
       "<table border=\"1\" class=\"dataframe\">\n",
       "  <thead>\n",
       "    <tr style=\"text-align: right;\">\n",
       "      <th></th>\n",
       "      <th>age</th>\n",
       "      <th>sex</th>\n",
       "      <th>bmi</th>\n",
       "      <th>children</th>\n",
       "      <th>smoker</th>\n",
       "      <th>region</th>\n",
       "      <th>expenses</th>\n",
       "    </tr>\n",
       "  </thead>\n",
       "  <tbody>\n",
       "    <tr>\n",
       "      <th>0</th>\n",
       "      <td>19</td>\n",
       "      <td>female</td>\n",
       "      <td>27.9</td>\n",
       "      <td>0</td>\n",
       "      <td>yes</td>\n",
       "      <td>southwest</td>\n",
       "      <td>16884.92</td>\n",
       "    </tr>\n",
       "    <tr>\n",
       "      <th>1</th>\n",
       "      <td>18</td>\n",
       "      <td>male</td>\n",
       "      <td>33.8</td>\n",
       "      <td>1</td>\n",
       "      <td>no</td>\n",
       "      <td>southeast</td>\n",
       "      <td>1725.55</td>\n",
       "    </tr>\n",
       "    <tr>\n",
       "      <th>2</th>\n",
       "      <td>28</td>\n",
       "      <td>male</td>\n",
       "      <td>33.0</td>\n",
       "      <td>3</td>\n",
       "      <td>no</td>\n",
       "      <td>southeast</td>\n",
       "      <td>4449.46</td>\n",
       "    </tr>\n",
       "    <tr>\n",
       "      <th>3</th>\n",
       "      <td>33</td>\n",
       "      <td>male</td>\n",
       "      <td>22.7</td>\n",
       "      <td>0</td>\n",
       "      <td>no</td>\n",
       "      <td>northwest</td>\n",
       "      <td>21984.47</td>\n",
       "    </tr>\n",
       "    <tr>\n",
       "      <th>4</th>\n",
       "      <td>32</td>\n",
       "      <td>male</td>\n",
       "      <td>28.9</td>\n",
       "      <td>0</td>\n",
       "      <td>no</td>\n",
       "      <td>northwest</td>\n",
       "      <td>3866.86</td>\n",
       "    </tr>\n",
       "  </tbody>\n",
       "</table>\n",
       "</div>"
      ],
      "text/plain": [
       "   age     sex   bmi  children smoker     region  expenses\n",
       "0   19  female  27.9         0    yes  southwest  16884.92\n",
       "1   18    male  33.8         1     no  southeast   1725.55\n",
       "2   28    male  33.0         3     no  southeast   4449.46\n",
       "3   33    male  22.7         0     no  northwest  21984.47\n",
       "4   32    male  28.9         0     no  northwest   3866.86"
      ]
     },
     "execution_count": 5,
     "metadata": {},
     "output_type": "execute_result"
    }
   ],
   "source": [
    "medical.head()"
   ]
  },
  {
   "cell_type": "code",
   "execution_count": 6,
   "id": "129ab600",
   "metadata": {},
   "outputs": [
    {
     "data": {
      "text/html": [
       "<div>\n",
       "<style scoped>\n",
       "    .dataframe tbody tr th:only-of-type {\n",
       "        vertical-align: middle;\n",
       "    }\n",
       "\n",
       "    .dataframe tbody tr th {\n",
       "        vertical-align: top;\n",
       "    }\n",
       "\n",
       "    .dataframe thead th {\n",
       "        text-align: right;\n",
       "    }\n",
       "</style>\n",
       "<table border=\"1\" class=\"dataframe\">\n",
       "  <thead>\n",
       "    <tr style=\"text-align: right;\">\n",
       "      <th></th>\n",
       "      <th>age</th>\n",
       "      <th>bmi</th>\n",
       "      <th>children</th>\n",
       "      <th>expenses</th>\n",
       "    </tr>\n",
       "  </thead>\n",
       "  <tbody>\n",
       "    <tr>\n",
       "      <th>count</th>\n",
       "      <td>1338.000000</td>\n",
       "      <td>1338.000000</td>\n",
       "      <td>1338.000000</td>\n",
       "      <td>1338.000000</td>\n",
       "    </tr>\n",
       "    <tr>\n",
       "      <th>mean</th>\n",
       "      <td>39.207025</td>\n",
       "      <td>30.665471</td>\n",
       "      <td>1.094918</td>\n",
       "      <td>13270.422414</td>\n",
       "    </tr>\n",
       "    <tr>\n",
       "      <th>std</th>\n",
       "      <td>14.049960</td>\n",
       "      <td>6.098382</td>\n",
       "      <td>1.205493</td>\n",
       "      <td>12110.011240</td>\n",
       "    </tr>\n",
       "    <tr>\n",
       "      <th>min</th>\n",
       "      <td>18.000000</td>\n",
       "      <td>16.000000</td>\n",
       "      <td>0.000000</td>\n",
       "      <td>1121.870000</td>\n",
       "    </tr>\n",
       "    <tr>\n",
       "      <th>25%</th>\n",
       "      <td>27.000000</td>\n",
       "      <td>26.300000</td>\n",
       "      <td>0.000000</td>\n",
       "      <td>4740.287500</td>\n",
       "    </tr>\n",
       "    <tr>\n",
       "      <th>50%</th>\n",
       "      <td>39.000000</td>\n",
       "      <td>30.400000</td>\n",
       "      <td>1.000000</td>\n",
       "      <td>9382.030000</td>\n",
       "    </tr>\n",
       "    <tr>\n",
       "      <th>75%</th>\n",
       "      <td>51.000000</td>\n",
       "      <td>34.700000</td>\n",
       "      <td>2.000000</td>\n",
       "      <td>16639.915000</td>\n",
       "    </tr>\n",
       "    <tr>\n",
       "      <th>max</th>\n",
       "      <td>64.000000</td>\n",
       "      <td>53.100000</td>\n",
       "      <td>5.000000</td>\n",
       "      <td>63770.430000</td>\n",
       "    </tr>\n",
       "  </tbody>\n",
       "</table>\n",
       "</div>"
      ],
      "text/plain": [
       "               age          bmi     children      expenses\n",
       "count  1338.000000  1338.000000  1338.000000   1338.000000\n",
       "mean     39.207025    30.665471     1.094918  13270.422414\n",
       "std      14.049960     6.098382     1.205493  12110.011240\n",
       "min      18.000000    16.000000     0.000000   1121.870000\n",
       "25%      27.000000    26.300000     0.000000   4740.287500\n",
       "50%      39.000000    30.400000     1.000000   9382.030000\n",
       "75%      51.000000    34.700000     2.000000  16639.915000\n",
       "max      64.000000    53.100000     5.000000  63770.430000"
      ]
     },
     "execution_count": 6,
     "metadata": {},
     "output_type": "execute_result"
    }
   ],
   "source": [
    "medical.describe()"
   ]
  },
  {
   "cell_type": "code",
   "execution_count": 7,
   "id": "3dda31ac",
   "metadata": {},
   "outputs": [
    {
     "name": "stdout",
     "output_type": "stream",
     "text": [
      "<class 'pandas.core.frame.DataFrame'>\n",
      "RangeIndex: 1338 entries, 0 to 1337\n",
      "Data columns (total 7 columns):\n",
      " #   Column    Non-Null Count  Dtype  \n",
      "---  ------    --------------  -----  \n",
      " 0   age       1338 non-null   int64  \n",
      " 1   sex       1338 non-null   object \n",
      " 2   bmi       1338 non-null   float64\n",
      " 3   children  1338 non-null   int64  \n",
      " 4   smoker    1338 non-null   object \n",
      " 5   region    1338 non-null   object \n",
      " 6   expenses  1338 non-null   float64\n",
      "dtypes: float64(2), int64(2), object(3)\n",
      "memory usage: 73.3+ KB\n"
     ]
    }
   ],
   "source": [
    "medical.info()"
   ]
  },
  {
   "cell_type": "code",
   "execution_count": 8,
   "id": "ebb3cb3b",
   "metadata": {},
   "outputs": [],
   "source": [
    "### summarizing about the columns separately which are object or categorical type"
   ]
  },
  {
   "cell_type": "code",
   "execution_count": 9,
   "id": "e88b95c2",
   "metadata": {},
   "outputs": [
    {
     "name": "stdout",
     "output_type": "stream",
     "text": [
      "         sex smoker     region\n",
      "count   1338   1338       1338\n",
      "unique     2      2          4\n",
      "top     male     no  southeast\n",
      "freq     676   1064        364\n"
     ]
    }
   ],
   "source": [
    "print(medical.describe(include = ['object']))"
   ]
  },
  {
   "cell_type": "code",
   "execution_count": 10,
   "id": "a8dfef60",
   "metadata": {},
   "outputs": [],
   "source": [
    "## We have to predict the expense column i.e. how it varies with the change of other columns or attributes"
   ]
  },
  {
   "cell_type": "markdown",
   "id": "938ce1d9",
   "metadata": {},
   "source": [
    "### Exploratory Data Analysis of the dataset"
   ]
  },
  {
   "cell_type": "code",
   "execution_count": 11,
   "id": "5da0c183",
   "metadata": {},
   "outputs": [],
   "source": [
    "# Histogram plot"
   ]
  },
  {
   "cell_type": "code",
   "execution_count": 12,
   "id": "9cb45e70",
   "metadata": {
    "scrolled": false
   },
   "outputs": [
    {
     "data": {
      "text/plain": [
       "array([[<AxesSubplot:title={'center':'age'}>,\n",
       "        <AxesSubplot:title={'center':'bmi'}>],\n",
       "       [<AxesSubplot:title={'center':'children'}>,\n",
       "        <AxesSubplot:title={'center':'expenses'}>]], dtype=object)"
      ]
     },
     "execution_count": 12,
     "metadata": {},
     "output_type": "execute_result"
    },
    {
     "data": {
      "image/png": "[encoded data removed]",
      "text/plain": [
       "<Figure size 1080x720 with 4 Axes>"
      ]
     },
     "metadata": {
      "needs_background": "light"
     },
     "output_type": "display_data"
    }
   ],
   "source": [
    "medical.hist(bins = 10, figsize=(15,10))"
   ]
  },
  {
   "cell_type": "code",
   "execution_count": 13,
   "id": "71866888",
   "metadata": {},
   "outputs": [],
   "source": [
    "# Regression Plot"
   ]
  },
  {
   "cell_type": "code",
   "execution_count": 14,
   "id": "a9eb5b12",
   "metadata": {},
   "outputs": [
    {
     "data": {
      "text/plain": [
       "<matplotlib.lines.Line2D at 0x2516ef4a9a0>"
      ]
     },
     "execution_count": 14,
     "metadata": {},
     "output_type": "execute_result"
    },
    {
     "data": {
      "image/png": "[encoded data removed]",
      "text/plain": [
       "<Figure size 432x288 with 1 Axes>"
      ]
     },
     "metadata": {
      "needs_background": "light"
     },
     "output_type": "display_data"
    }
   ],
   "source": [
    "sns.regplot(x='age', y='expenses', data=medical,ci=None)\n",
    "plt.axvline(30, color='r')"
   ]
  },
  {
   "cell_type": "markdown",
   "id": "0cc04f75",
   "metadata": {},
   "source": [
    "#### From this graph we can say that with the increase of age the expense is also increasing. In any particular age there are three distinguishable expense cluster and in the lowest cluster the dense of population is highest which is gradually decreasing for higher expense clusters. An example is shown here with the age '30'"
   ]
  },
  {
   "cell_type": "code",
   "execution_count": 15,
   "id": "1c616700",
   "metadata": {
    "scrolled": true
   },
   "outputs": [
    {
     "data": {
      "text/plain": [
       "<AxesSubplot:xlabel='bmi', ylabel='expenses'>"
      ]
     },
     "execution_count": 15,
     "metadata": {},
     "output_type": "execute_result"
    },
    {
     "data": {
      "image/png": "[encoded data removed]",
      "text/plain": [
       "<Figure size 432x288 with 1 Axes>"
      ]
     },
     "metadata": {
      "needs_background": "light"
     },
     "output_type": "display_data"
    }
   ],
   "source": [
    "sns.regplot(x='bmi', y='expenses', data=medical,ci=None)"
   ]
  },
  {
   "cell_type": "markdown",
   "id": "18e84d4e",
   "metadata": {},
   "source": [
    "#### In this graph also we can see that the expense is gradually increasing with the increase of bmi."
   ]
  },
  {
   "cell_type": "code",
   "execution_count": 20,
   "id": "fd555ca7",
   "metadata": {},
   "outputs": [
    {
     "data": {
      "text/plain": [
       "<AxesSubplot:xlabel='sex', ylabel='count'>"
      ]
     },
     "execution_count": 20,
     "metadata": {},
     "output_type": "execute_result"
    },
    {
     "data": {
      "image/png": "[encoded data removed]",
      "text/plain": [
       "<Figure size 432x288 with 1 Axes>"
      ]
     },
     "metadata": {
      "needs_background": "light"
     },
     "output_type": "display_data"
    }
   ],
   "source": [
    "sns.countplot(x='sex',data=medical)"
   ]
  },
  {
   "cell_type": "markdown",
   "id": "47fa9340",
   "metadata": {},
   "source": [
    "## Count of Male and Female are almost equal"
   ]
  },
  {
   "cell_type": "code",
   "execution_count": null,
   "id": "31d9def5",
   "metadata": {},
   "outputs": [],
   "source": []
  },
  {
   "cell_type": "code",
   "execution_count": 21,
   "id": "500bef45",
   "metadata": {},
   "outputs": [
    {
     "data": {
      "text/plain": [
       "Text(0, 0.5, 'mean_expenses')"
      ]
     },
     "execution_count": 21,
     "metadata": {},
     "output_type": "execute_result"
    },
    {
     "data": {
      "image/png": "[encoded data removed]",
      "text/plain": [
       "<Figure size 1296x504 with 1 Axes>"
      ]
     },
     "metadata": {
      "needs_background": "light"
     },
     "output_type": "display_data"
    }
   ],
   "source": [
    "medical.groupby(by = 'age')['expenses'].mean().plot(kind = 'bar',figsize=(18,7))\n",
    "plt.ylabel('mean_expenses')"
   ]
  },
  {
   "cell_type": "markdown",
   "id": "a2646c34",
   "metadata": {},
   "source": [
    "#### If checking the mean expense for individual age group then we can see that as age increases the mean expense also increases"
   ]
  },
  {
   "cell_type": "code",
   "execution_count": null,
   "id": "b48a8f69",
   "metadata": {},
   "outputs": [],
   "source": []
  },
  {
   "cell_type": "markdown",
   "id": "17e946e8",
   "metadata": {},
   "source": [
    "### Correlation"
   ]
  },
  {
   "cell_type": "code",
   "execution_count": 22,
   "id": "b50e8f2c",
   "metadata": {},
   "outputs": [],
   "source": [
    "corr = medical.corr()"
   ]
  },
  {
   "cell_type": "code",
   "execution_count": 23,
   "id": "1560ef7a",
   "metadata": {
    "scrolled": true
   },
   "outputs": [
    {
     "data": {
      "text/html": [
       "<div>\n",
       "<style scoped>\n",
       "    .dataframe tbody tr th:only-of-type {\n",
       "        vertical-align: middle;\n",
       "    }\n",
       "\n",
       "    .dataframe tbody tr th {\n",
       "        vertical-align: top;\n",
       "    }\n",
       "\n",
       "    .dataframe thead th {\n",
       "        text-align: right;\n",
       "    }\n",
       "</style>\n",
       "<table border=\"1\" class=\"dataframe\">\n",
       "  <thead>\n",
       "    <tr style=\"text-align: right;\">\n",
       "      <th></th>\n",
       "      <th>age</th>\n",
       "      <th>bmi</th>\n",
       "      <th>children</th>\n",
       "      <th>expenses</th>\n",
       "    </tr>\n",
       "  </thead>\n",
       "  <tbody>\n",
       "    <tr>\n",
       "      <th>age</th>\n",
       "      <td>1.000000</td>\n",
       "      <td>0.109341</td>\n",
       "      <td>0.042469</td>\n",
       "      <td>0.299008</td>\n",
       "    </tr>\n",
       "    <tr>\n",
       "      <th>bmi</th>\n",
       "      <td>0.109341</td>\n",
       "      <td>1.000000</td>\n",
       "      <td>0.012645</td>\n",
       "      <td>0.198576</td>\n",
       "    </tr>\n",
       "    <tr>\n",
       "      <th>children</th>\n",
       "      <td>0.042469</td>\n",
       "      <td>0.012645</td>\n",
       "      <td>1.000000</td>\n",
       "      <td>0.067998</td>\n",
       "    </tr>\n",
       "    <tr>\n",
       "      <th>expenses</th>\n",
       "      <td>0.299008</td>\n",
       "      <td>0.198576</td>\n",
       "      <td>0.067998</td>\n",
       "      <td>1.000000</td>\n",
       "    </tr>\n",
       "  </tbody>\n",
       "</table>\n",
       "</div>"
      ],
      "text/plain": [
       "               age       bmi  children  expenses\n",
       "age       1.000000  0.109341  0.042469  0.299008\n",
       "bmi       0.109341  1.000000  0.012645  0.198576\n",
       "children  0.042469  0.012645  1.000000  0.067998\n",
       "expenses  0.299008  0.198576  0.067998  1.000000"
      ]
     },
     "execution_count": 23,
     "metadata": {},
     "output_type": "execute_result"
    }
   ],
   "source": [
    "corr"
   ]
  },
  {
   "cell_type": "code",
   "execution_count": 24,
   "id": "30d7d97c",
   "metadata": {},
   "outputs": [
    {
     "data": {
      "text/plain": [
       "<AxesSubplot:>"
      ]
     },
     "execution_count": 24,
     "metadata": {},
     "output_type": "execute_result"
    },
    {
     "data": {
      "image/png": "[encoded data removed]",
      "text/plain": [
       "<Figure size 432x288 with 2 Axes>"
      ]
     },
     "metadata": {
      "needs_background": "light"
     },
     "output_type": "display_data"
    }
   ],
   "source": [
    "sns.heatmap(medical.corr(),annot= True)"
   ]
  },
  {
   "cell_type": "code",
   "execution_count": 25,
   "id": "3c873936",
   "metadata": {},
   "outputs": [
    {
     "data": {
      "text/plain": [
       "expenses    1.000000\n",
       "age         0.299008\n",
       "bmi         0.198576\n",
       "children    0.067998\n",
       "Name: expenses, dtype: float64"
      ]
     },
     "execution_count": 25,
     "metadata": {},
     "output_type": "execute_result"
    }
   ],
   "source": [
    "corr.expenses.sort_values(ascending=False)"
   ]
  },
  {
   "cell_type": "markdown",
   "id": "ff4fecc1",
   "metadata": {},
   "source": [
    "### It can be said from the correlation values that , expenses are more likely to be impacted by age . Also it can be said that age and bmi have a very weak positive correlation with expense"
   ]
  },
  {
   "cell_type": "code",
   "execution_count": 27,
   "id": "2d14a767",
   "metadata": {},
   "outputs": [
    {
     "data": {
      "text/plain": [
       "18"
      ]
     },
     "execution_count": 27,
     "metadata": {},
     "output_type": "execute_result"
    }
   ],
   "source": [
    "np.min(medical.age)"
   ]
  },
  {
   "cell_type": "code",
   "execution_count": 28,
   "id": "76f8b196",
   "metadata": {},
   "outputs": [
    {
     "data": {
      "text/plain": [
       "64"
      ]
     },
     "execution_count": 28,
     "metadata": {},
     "output_type": "execute_result"
    }
   ],
   "source": [
    "np.max(medical.age)"
   ]
  },
  {
   "cell_type": "code",
   "execution_count": 29,
   "id": "64328b6a",
   "metadata": {},
   "outputs": [
    {
     "data": {
      "text/plain": [
       "47"
      ]
     },
     "execution_count": 29,
     "metadata": {},
     "output_type": "execute_result"
    }
   ],
   "source": [
    "len(medical.age.unique())"
   ]
  },
  {
   "cell_type": "code",
   "execution_count": 30,
   "id": "e0750a7c",
   "metadata": {
    "scrolled": true
   },
   "outputs": [
    {
     "data": {
      "text/plain": [
       "47"
      ]
     },
     "execution_count": 30,
     "metadata": {},
     "output_type": "execute_result"
    }
   ],
   "source": [
    "len(np.ceil(medical.age).unique())"
   ]
  },
  {
   "cell_type": "code",
   "execution_count": 31,
   "id": "1a30eb74",
   "metadata": {},
   "outputs": [],
   "source": [
    "medical['age_cat']=np.ceil(medical.age / 18)"
   ]
  },
  {
   "cell_type": "code",
   "execution_count": 32,
   "id": "bf718ded",
   "metadata": {},
   "outputs": [
    {
     "data": {
      "text/plain": [
       "4"
      ]
     },
     "execution_count": 32,
     "metadata": {},
     "output_type": "execute_result"
    }
   ],
   "source": [
    "len(medical.age_cat.value_counts().sort_index(ascending= True))"
   ]
  },
  {
   "cell_type": "code",
   "execution_count": 33,
   "id": "33a0c301",
   "metadata": {},
   "outputs": [],
   "source": [
    "## Making some age category which can help in understanding categorywise mean expense "
   ]
  },
  {
   "cell_type": "code",
   "execution_count": 34,
   "id": "f96503b5",
   "metadata": {},
   "outputs": [
    {
     "data": {
      "text/plain": [
       "1.0     69\n",
       "2.0    530\n",
       "3.0    497\n",
       "4.0    242\n",
       "Name: age_cat, dtype: int64"
      ]
     },
     "execution_count": 34,
     "metadata": {},
     "output_type": "execute_result"
    }
   ],
   "source": [
    "medical.age_cat.value_counts().sort_index(ascending = True)"
   ]
  },
  {
   "cell_type": "code",
   "execution_count": 35,
   "id": "676ead00",
   "metadata": {},
   "outputs": [],
   "source": [
    "count = medical.age_cat.value_counts()"
   ]
  },
  {
   "cell_type": "code",
   "execution_count": 36,
   "id": "b6b41727",
   "metadata": {},
   "outputs": [
    {
     "data": {
      "text/plain": [
       "<AxesSubplot:xlabel='age_cat', ylabel='count'>"
      ]
     },
     "execution_count": 36,
     "metadata": {},
     "output_type": "execute_result"
    },
    {
     "data": {
      "image/png": "[encoded data removed]",
      "text/plain": [
       "<Figure size 432x288 with 1 Axes>"
      ]
     },
     "metadata": {
      "needs_background": "light"
     },
     "output_type": "display_data"
    }
   ],
   "source": [
    "sns.countplot(x= 'age_cat', data= medical)"
   ]
  },
  {
   "cell_type": "code",
   "execution_count": 37,
   "id": "dd5a9b54",
   "metadata": {},
   "outputs": [],
   "source": [
    "## IN age category 2 the count of people is higher than other categories"
   ]
  },
  {
   "cell_type": "code",
   "execution_count": 38,
   "id": "621326f9",
   "metadata": {},
   "outputs": [
    {
     "data": {
      "text/plain": [
       "275"
      ]
     },
     "execution_count": 38,
     "metadata": {},
     "output_type": "execute_result"
    }
   ],
   "source": [
    "len(medical['bmi'].unique())"
   ]
  },
  {
   "cell_type": "code",
   "execution_count": 41,
   "id": "50df4130",
   "metadata": {},
   "outputs": [],
   "source": [
    "## Similar operation performed on BMI as age to check which category has higher average medical expense "
   ]
  },
  {
   "cell_type": "code",
   "execution_count": 42,
   "id": "80f999c5",
   "metadata": {},
   "outputs": [],
   "source": [
    "medical['bmi_cat']=np.ceil(medical.bmi / 16)"
   ]
  },
  {
   "cell_type": "code",
   "execution_count": 44,
   "id": "e0f1ec96",
   "metadata": {},
   "outputs": [
    {
     "data": {
      "text/plain": [
       "1.0      1\n",
       "2.0    802\n",
       "3.0    530\n",
       "4.0      5\n",
       "Name: bmi_cat, dtype: int64"
      ]
     },
     "execution_count": 44,
     "metadata": {},
     "output_type": "execute_result"
    }
   ],
   "source": [
    "medical.bmi_cat.value_counts().sort_index(ascending=True)"
   ]
  },
  {
   "cell_type": "code",
   "execution_count": 34,
   "id": "7d817f71",
   "metadata": {},
   "outputs": [
    {
     "data": {
      "text/plain": [
       "1.0    0.000747\n",
       "2.0    0.599402\n",
       "3.0    0.396114\n",
       "4.0    0.003737\n",
       "Name: bmi_cat, dtype: float64"
      ]
     },
     "execution_count": 34,
     "metadata": {},
     "output_type": "execute_result"
    }
   ],
   "source": [
    "medical.bmi_cat.value_counts().sort_index(ascending = True) / len(medical)"
   ]
  },
  {
   "cell_type": "code",
   "execution_count": 157,
   "id": "ae522d39",
   "metadata": {},
   "outputs": [
    {
     "data": {
      "text/plain": [
       "<AxesSubplot:xlabel='age'>"
      ]
     },
     "execution_count": 157,
     "metadata": {},
     "output_type": "execute_result"
    },
    {
     "data": {
      "image/png": "[encoded data removed]",
      "text/plain": [
       "<Figure size 432x288 with 1 Axes>"
      ]
     },
     "metadata": {
      "needs_background": "light"
     },
     "output_type": "display_data"
    }
   ],
   "source": [
    "sns.boxplot(x='age', data=medical)"
   ]
  },
  {
   "cell_type": "code",
   "execution_count": 158,
   "id": "af15aadc",
   "metadata": {},
   "outputs": [
    {
     "data": {
      "text/plain": [
       "<AxesSubplot:xlabel='bmi'>"
      ]
     },
     "execution_count": 158,
     "metadata": {},
     "output_type": "execute_result"
    },
    {
     "data": {
      "image/png": "[encoded data removed]",
      "text/plain": [
       "<Figure size 432x288 with 1 Axes>"
      ]
     },
     "metadata": {
      "needs_background": "light"
     },
     "output_type": "display_data"
    }
   ],
   "source": [
    "sns.boxplot(x='bmi', data=medical)"
   ]
  },
  {
   "cell_type": "markdown",
   "id": "2fcd840a",
   "metadata": {},
   "source": [
    "## Only BMI has few outliers , age doesn't have any outliers"
   ]
  },
  {
   "cell_type": "markdown",
   "id": "66a700e5",
   "metadata": {},
   "source": [
    "### Plot of the Mean Expense vs Attributes"
   ]
  },
  {
   "cell_type": "code",
   "execution_count": 45,
   "id": "9f565f45",
   "metadata": {},
   "outputs": [
    {
     "name": "stdout",
     "output_type": "stream",
     "text": [
      "age_cat\n"
     ]
    },
    {
     "data": {
      "image/png": "[encoded data removed]",
      "text/plain": [
       "<Figure size 432x288 with 1 Axes>"
      ]
     },
     "metadata": {
      "needs_background": "light"
     },
     "output_type": "display_data"
    },
    {
     "name": "stdout",
     "output_type": "stream",
     "text": [
      "sex\n"
     ]
    },
    {
     "data": {
      "image/png": "[encoded data removed]",
      "text/plain": [
       "<Figure size 432x288 with 1 Axes>"
      ]
     },
     "metadata": {
      "needs_background": "light"
     },
     "output_type": "display_data"
    },
    {
     "name": "stdout",
     "output_type": "stream",
     "text": [
      "region\n"
     ]
    },
    {
     "data": {
      "image/png": "[encoded data removed]",
      "text/plain": [
       "<Figure size 432x288 with 1 Axes>"
      ]
     },
     "metadata": {
      "needs_background": "light"
     },
     "output_type": "display_data"
    },
    {
     "name": "stdout",
     "output_type": "stream",
     "text": [
      "bmi_cat\n"
     ]
    },
    {
     "data": {
      "image/png": "[encoded data removed]",
      "text/plain": [
       "<Figure size 432x288 with 1 Axes>"
      ]
     },
     "metadata": {
      "needs_background": "light"
     },
     "output_type": "display_data"
    },
    {
     "name": "stdout",
     "output_type": "stream",
     "text": [
      "children\n"
     ]
    },
    {
     "data": {
      "image/png": "[encoded data removed]",
      "text/plain": [
       "<Figure size 432x288 with 1 Axes>"
      ]
     },
     "metadata": {
      "needs_background": "light"
     },
     "output_type": "display_data"
    }
   ],
   "source": [
    "lst = ['age_cat','sex','region','bmi_cat','children']\n",
    "for i in lst:\n",
    "    data = medical.groupby(by = i)['expenses'].mean().plot(kind = 'bar')\n",
    "    print(i)\n",
    "    plt.ylabel('mean_expenses')\n",
    "    plt.show()"
   ]
  },
  {
   "cell_type": "markdown",
   "id": "69faf1b3",
   "metadata": {},
   "source": [
    "#### Mean expense is highest for the age category 4.0 among all other age categories.\n",
    "#### Mean expense is highest for Male among all genders.\n",
    "#### Mean expense is higher for southwest region among all other regions.\n",
    "#### Mean expense is higher for the bmi category 3.0 among all other categories of bmi.\n",
    "#### Mean expense is higher for the category having 3 children followed by 2 children."
   ]
  },
  {
   "cell_type": "code",
   "execution_count": null,
   "id": "98d20676",
   "metadata": {},
   "outputs": [],
   "source": []
  },
  {
   "cell_type": "markdown",
   "id": "1f284ff4",
   "metadata": {},
   "source": [
    "### Checking for the proportion of each age category in the dataset"
   ]
  },
  {
   "cell_type": "code",
   "execution_count": 46,
   "id": "9d9cd310",
   "metadata": {},
   "outputs": [
    {
     "data": {
      "text/plain": [
       "1.0    0.051570\n",
       "2.0    0.396114\n",
       "3.0    0.371450\n",
       "4.0    0.180867\n",
       "Name: age_cat, dtype: float64"
      ]
     },
     "execution_count": 46,
     "metadata": {},
     "output_type": "execute_result"
    }
   ],
   "source": [
    "medical.age_cat.value_counts().sort_index(ascending = True) / len(medical)"
   ]
  },
  {
   "cell_type": "code",
   "execution_count": 50,
   "id": "125e2018",
   "metadata": {},
   "outputs": [],
   "source": [
    "medical = medical.drop('age_cat',axis=1)\n",
    "medical = medical.drop('bmi_cat',axis=1)"
   ]
  },
  {
   "cell_type": "code",
   "execution_count": 51,
   "id": "43d54376",
   "metadata": {},
   "outputs": [
    {
     "data": {
      "text/html": [
       "<div>\n",
       "<style scoped>\n",
       "    .dataframe tbody tr th:only-of-type {\n",
       "        vertical-align: middle;\n",
       "    }\n",
       "\n",
       "    .dataframe tbody tr th {\n",
       "        vertical-align: top;\n",
       "    }\n",
       "\n",
       "    .dataframe thead th {\n",
       "        text-align: right;\n",
       "    }\n",
       "</style>\n",
       "<table border=\"1\" class=\"dataframe\">\n",
       "  <thead>\n",
       "    <tr style=\"text-align: right;\">\n",
       "      <th></th>\n",
       "      <th>age</th>\n",
       "      <th>sex</th>\n",
       "      <th>bmi</th>\n",
       "      <th>children</th>\n",
       "      <th>smoker</th>\n",
       "      <th>region</th>\n",
       "      <th>expenses</th>\n",
       "    </tr>\n",
       "  </thead>\n",
       "  <tbody>\n",
       "    <tr>\n",
       "      <th>0</th>\n",
       "      <td>19</td>\n",
       "      <td>female</td>\n",
       "      <td>27.9</td>\n",
       "      <td>0</td>\n",
       "      <td>yes</td>\n",
       "      <td>southwest</td>\n",
       "      <td>16884.92</td>\n",
       "    </tr>\n",
       "    <tr>\n",
       "      <th>1</th>\n",
       "      <td>18</td>\n",
       "      <td>male</td>\n",
       "      <td>33.8</td>\n",
       "      <td>1</td>\n",
       "      <td>no</td>\n",
       "      <td>southeast</td>\n",
       "      <td>1725.55</td>\n",
       "    </tr>\n",
       "    <tr>\n",
       "      <th>2</th>\n",
       "      <td>28</td>\n",
       "      <td>male</td>\n",
       "      <td>33.0</td>\n",
       "      <td>3</td>\n",
       "      <td>no</td>\n",
       "      <td>southeast</td>\n",
       "      <td>4449.46</td>\n",
       "    </tr>\n",
       "    <tr>\n",
       "      <th>3</th>\n",
       "      <td>33</td>\n",
       "      <td>male</td>\n",
       "      <td>22.7</td>\n",
       "      <td>0</td>\n",
       "      <td>no</td>\n",
       "      <td>northwest</td>\n",
       "      <td>21984.47</td>\n",
       "    </tr>\n",
       "    <tr>\n",
       "      <th>4</th>\n",
       "      <td>32</td>\n",
       "      <td>male</td>\n",
       "      <td>28.9</td>\n",
       "      <td>0</td>\n",
       "      <td>no</td>\n",
       "      <td>northwest</td>\n",
       "      <td>3866.86</td>\n",
       "    </tr>\n",
       "    <tr>\n",
       "      <th>...</th>\n",
       "      <td>...</td>\n",
       "      <td>...</td>\n",
       "      <td>...</td>\n",
       "      <td>...</td>\n",
       "      <td>...</td>\n",
       "      <td>...</td>\n",
       "      <td>...</td>\n",
       "    </tr>\n",
       "    <tr>\n",
       "      <th>1333</th>\n",
       "      <td>50</td>\n",
       "      <td>male</td>\n",
       "      <td>31.0</td>\n",
       "      <td>3</td>\n",
       "      <td>no</td>\n",
       "      <td>northwest</td>\n",
       "      <td>10600.55</td>\n",
       "    </tr>\n",
       "    <tr>\n",
       "      <th>1334</th>\n",
       "      <td>18</td>\n",
       "      <td>female</td>\n",
       "      <td>31.9</td>\n",
       "      <td>0</td>\n",
       "      <td>no</td>\n",
       "      <td>northeast</td>\n",
       "      <td>2205.98</td>\n",
       "    </tr>\n",
       "    <tr>\n",
       "      <th>1335</th>\n",
       "      <td>18</td>\n",
       "      <td>female</td>\n",
       "      <td>36.9</td>\n",
       "      <td>0</td>\n",
       "      <td>no</td>\n",
       "      <td>southeast</td>\n",
       "      <td>1629.83</td>\n",
       "    </tr>\n",
       "    <tr>\n",
       "      <th>1336</th>\n",
       "      <td>21</td>\n",
       "      <td>female</td>\n",
       "      <td>25.8</td>\n",
       "      <td>0</td>\n",
       "      <td>no</td>\n",
       "      <td>southwest</td>\n",
       "      <td>2007.95</td>\n",
       "    </tr>\n",
       "    <tr>\n",
       "      <th>1337</th>\n",
       "      <td>61</td>\n",
       "      <td>female</td>\n",
       "      <td>29.1</td>\n",
       "      <td>0</td>\n",
       "      <td>yes</td>\n",
       "      <td>northwest</td>\n",
       "      <td>29141.36</td>\n",
       "    </tr>\n",
       "  </tbody>\n",
       "</table>\n",
       "<p>1338 rows × 7 columns</p>\n",
       "</div>"
      ],
      "text/plain": [
       "      age     sex   bmi  children smoker     region  expenses\n",
       "0      19  female  27.9         0    yes  southwest  16884.92\n",
       "1      18    male  33.8         1     no  southeast   1725.55\n",
       "2      28    male  33.0         3     no  southeast   4449.46\n",
       "3      33    male  22.7         0     no  northwest  21984.47\n",
       "4      32    male  28.9         0     no  northwest   3866.86\n",
       "...   ...     ...   ...       ...    ...        ...       ...\n",
       "1333   50    male  31.0         3     no  northwest  10600.55\n",
       "1334   18  female  31.9         0     no  northeast   2205.98\n",
       "1335   18  female  36.9         0     no  southeast   1629.83\n",
       "1336   21  female  25.8         0     no  southwest   2007.95\n",
       "1337   61  female  29.1         0    yes  northwest  29141.36\n",
       "\n",
       "[1338 rows x 7 columns]"
      ]
     },
     "execution_count": 51,
     "metadata": {},
     "output_type": "execute_result"
    }
   ],
   "source": [
    "medical"
   ]
  },
  {
   "cell_type": "code",
   "execution_count": 54,
   "id": "32da129e",
   "metadata": {},
   "outputs": [],
   "source": [
    "X = medical.drop('expenses', axis = 1)\n",
    "y = medical['expenses']"
   ]
  },
  {
   "cell_type": "code",
   "execution_count": 55,
   "id": "0c3b2bfe",
   "metadata": {},
   "outputs": [
    {
     "data": {
      "text/html": [
       "<div>\n",
       "<style scoped>\n",
       "    .dataframe tbody tr th:only-of-type {\n",
       "        vertical-align: middle;\n",
       "    }\n",
       "\n",
       "    .dataframe tbody tr th {\n",
       "        vertical-align: top;\n",
       "    }\n",
       "\n",
       "    .dataframe thead th {\n",
       "        text-align: right;\n",
       "    }\n",
       "</style>\n",
       "<table border=\"1\" class=\"dataframe\">\n",
       "  <thead>\n",
       "    <tr style=\"text-align: right;\">\n",
       "      <th></th>\n",
       "      <th>age</th>\n",
       "      <th>sex</th>\n",
       "      <th>bmi</th>\n",
       "      <th>children</th>\n",
       "      <th>smoker</th>\n",
       "      <th>region</th>\n",
       "    </tr>\n",
       "  </thead>\n",
       "  <tbody>\n",
       "    <tr>\n",
       "      <th>0</th>\n",
       "      <td>19</td>\n",
       "      <td>female</td>\n",
       "      <td>27.9</td>\n",
       "      <td>0</td>\n",
       "      <td>yes</td>\n",
       "      <td>southwest</td>\n",
       "    </tr>\n",
       "    <tr>\n",
       "      <th>1</th>\n",
       "      <td>18</td>\n",
       "      <td>male</td>\n",
       "      <td>33.8</td>\n",
       "      <td>1</td>\n",
       "      <td>no</td>\n",
       "      <td>southeast</td>\n",
       "    </tr>\n",
       "    <tr>\n",
       "      <th>2</th>\n",
       "      <td>28</td>\n",
       "      <td>male</td>\n",
       "      <td>33.0</td>\n",
       "      <td>3</td>\n",
       "      <td>no</td>\n",
       "      <td>southeast</td>\n",
       "    </tr>\n",
       "    <tr>\n",
       "      <th>3</th>\n",
       "      <td>33</td>\n",
       "      <td>male</td>\n",
       "      <td>22.7</td>\n",
       "      <td>0</td>\n",
       "      <td>no</td>\n",
       "      <td>northwest</td>\n",
       "    </tr>\n",
       "    <tr>\n",
       "      <th>4</th>\n",
       "      <td>32</td>\n",
       "      <td>male</td>\n",
       "      <td>28.9</td>\n",
       "      <td>0</td>\n",
       "      <td>no</td>\n",
       "      <td>northwest</td>\n",
       "    </tr>\n",
       "  </tbody>\n",
       "</table>\n",
       "</div>"
      ],
      "text/plain": [
       "   age     sex   bmi  children smoker     region\n",
       "0   19  female  27.9         0    yes  southwest\n",
       "1   18    male  33.8         1     no  southeast\n",
       "2   28    male  33.0         3     no  southeast\n",
       "3   33    male  22.7         0     no  northwest\n",
       "4   32    male  28.9         0     no  northwest"
      ]
     },
     "execution_count": 55,
     "metadata": {},
     "output_type": "execute_result"
    }
   ],
   "source": [
    "X.head()"
   ]
  },
  {
   "cell_type": "code",
   "execution_count": 56,
   "id": "e0c2af69",
   "metadata": {},
   "outputs": [
    {
     "data": {
      "text/plain": [
       "0    16884.92\n",
       "1     1725.55\n",
       "2     4449.46\n",
       "3    21984.47\n",
       "4     3866.86\n",
       "Name: expenses, dtype: float64"
      ]
     },
     "execution_count": 56,
     "metadata": {},
     "output_type": "execute_result"
    }
   ],
   "source": [
    "y.head()"
   ]
  },
  {
   "cell_type": "markdown",
   "id": "1bb1b21e",
   "metadata": {},
   "source": [
    "## Splitting into test data and train data"
   ]
  },
  {
   "cell_type": "code",
   "execution_count": 52,
   "id": "cba501a6",
   "metadata": {},
   "outputs": [],
   "source": [
    "from sklearn.model_selection import train_test_split"
   ]
  },
  {
   "cell_type": "code",
   "execution_count": 57,
   "id": "41a5b5d7",
   "metadata": {},
   "outputs": [],
   "source": [
    "X_train, X_test, y_train, y_test = train_test_split(X, y, test_size=0.2, random_state=42)"
   ]
  },
  {
   "cell_type": "code",
   "execution_count": 58,
   "id": "e975c206",
   "metadata": {},
   "outputs": [
    {
     "data": {
      "text/plain": [
       "((1070, 6), (1070,), (268, 6), (268,))"
      ]
     },
     "execution_count": 58,
     "metadata": {},
     "output_type": "execute_result"
    }
   ],
   "source": [
    "X_train.shape, y_train.shape, X_test.shape, y_test.shape"
   ]
  },
  {
   "cell_type": "code",
   "execution_count": null,
   "id": "7aeb6852",
   "metadata": {},
   "outputs": [],
   "source": []
  },
  {
   "cell_type": "markdown",
   "id": "0d381845",
   "metadata": {},
   "source": [
    "### checking whether percentage of train and test data set are according to the given ratio or not"
   ]
  },
  {
   "cell_type": "code",
   "execution_count": 71,
   "id": "c057e57b",
   "metadata": {},
   "outputs": [
    {
     "data": {
      "text/plain": [
       "79.97010463378177"
      ]
     },
     "execution_count": 71,
     "metadata": {},
     "output_type": "execute_result"
    }
   ],
   "source": [
    "(len(X_train)/len(medical))*100"
   ]
  },
  {
   "cell_type": "code",
   "execution_count": 72,
   "id": "13e9ff0b",
   "metadata": {},
   "outputs": [
    {
     "data": {
      "text/plain": [
       "20.029895366218238"
      ]
     },
     "execution_count": 72,
     "metadata": {},
     "output_type": "execute_result"
    }
   ],
   "source": [
    "(len(X_test)/len(medical))*100"
   ]
  },
  {
   "cell_type": "code",
   "execution_count": 73,
   "id": "21ab59fd",
   "metadata": {},
   "outputs": [
    {
     "data": {
      "text/html": [
       "<div>\n",
       "<style scoped>\n",
       "    .dataframe tbody tr th:only-of-type {\n",
       "        vertical-align: middle;\n",
       "    }\n",
       "\n",
       "    .dataframe tbody tr th {\n",
       "        vertical-align: top;\n",
       "    }\n",
       "\n",
       "    .dataframe thead th {\n",
       "        text-align: right;\n",
       "    }\n",
       "</style>\n",
       "<table border=\"1\" class=\"dataframe\">\n",
       "  <thead>\n",
       "    <tr style=\"text-align: right;\">\n",
       "      <th></th>\n",
       "      <th>age</th>\n",
       "      <th>sex</th>\n",
       "      <th>bmi</th>\n",
       "      <th>children</th>\n",
       "      <th>smoker</th>\n",
       "      <th>region</th>\n",
       "    </tr>\n",
       "  </thead>\n",
       "  <tbody>\n",
       "    <tr>\n",
       "      <th>764</th>\n",
       "      <td>45</td>\n",
       "      <td>female</td>\n",
       "      <td>25.2</td>\n",
       "      <td>2</td>\n",
       "      <td>no</td>\n",
       "      <td>northeast</td>\n",
       "    </tr>\n",
       "    <tr>\n",
       "      <th>887</th>\n",
       "      <td>36</td>\n",
       "      <td>female</td>\n",
       "      <td>30.0</td>\n",
       "      <td>0</td>\n",
       "      <td>no</td>\n",
       "      <td>northwest</td>\n",
       "    </tr>\n",
       "    <tr>\n",
       "      <th>890</th>\n",
       "      <td>64</td>\n",
       "      <td>female</td>\n",
       "      <td>26.9</td>\n",
       "      <td>0</td>\n",
       "      <td>yes</td>\n",
       "      <td>northwest</td>\n",
       "    </tr>\n",
       "    <tr>\n",
       "      <th>1293</th>\n",
       "      <td>46</td>\n",
       "      <td>male</td>\n",
       "      <td>25.7</td>\n",
       "      <td>3</td>\n",
       "      <td>no</td>\n",
       "      <td>northwest</td>\n",
       "    </tr>\n",
       "    <tr>\n",
       "      <th>259</th>\n",
       "      <td>19</td>\n",
       "      <td>male</td>\n",
       "      <td>31.9</td>\n",
       "      <td>0</td>\n",
       "      <td>yes</td>\n",
       "      <td>northwest</td>\n",
       "    </tr>\n",
       "    <tr>\n",
       "      <th>...</th>\n",
       "      <td>...</td>\n",
       "      <td>...</td>\n",
       "      <td>...</td>\n",
       "      <td>...</td>\n",
       "      <td>...</td>\n",
       "      <td>...</td>\n",
       "    </tr>\n",
       "    <tr>\n",
       "      <th>109</th>\n",
       "      <td>63</td>\n",
       "      <td>male</td>\n",
       "      <td>35.1</td>\n",
       "      <td>0</td>\n",
       "      <td>yes</td>\n",
       "      <td>southeast</td>\n",
       "    </tr>\n",
       "    <tr>\n",
       "      <th>575</th>\n",
       "      <td>58</td>\n",
       "      <td>female</td>\n",
       "      <td>27.2</td>\n",
       "      <td>0</td>\n",
       "      <td>no</td>\n",
       "      <td>northwest</td>\n",
       "    </tr>\n",
       "    <tr>\n",
       "      <th>535</th>\n",
       "      <td>38</td>\n",
       "      <td>male</td>\n",
       "      <td>28.0</td>\n",
       "      <td>1</td>\n",
       "      <td>no</td>\n",
       "      <td>northeast</td>\n",
       "    </tr>\n",
       "    <tr>\n",
       "      <th>543</th>\n",
       "      <td>54</td>\n",
       "      <td>female</td>\n",
       "      <td>47.4</td>\n",
       "      <td>0</td>\n",
       "      <td>yes</td>\n",
       "      <td>southeast</td>\n",
       "    </tr>\n",
       "    <tr>\n",
       "      <th>846</th>\n",
       "      <td>51</td>\n",
       "      <td>female</td>\n",
       "      <td>34.2</td>\n",
       "      <td>1</td>\n",
       "      <td>no</td>\n",
       "      <td>southwest</td>\n",
       "    </tr>\n",
       "  </tbody>\n",
       "</table>\n",
       "<p>268 rows × 6 columns</p>\n",
       "</div>"
      ],
      "text/plain": [
       "      age     sex   bmi  children smoker     region\n",
       "764    45  female  25.2         2     no  northeast\n",
       "887    36  female  30.0         0     no  northwest\n",
       "890    64  female  26.9         0    yes  northwest\n",
       "1293   46    male  25.7         3     no  northwest\n",
       "259    19    male  31.9         0    yes  northwest\n",
       "...   ...     ...   ...       ...    ...        ...\n",
       "109    63    male  35.1         0    yes  southeast\n",
       "575    58  female  27.2         0     no  northwest\n",
       "535    38    male  28.0         1     no  northeast\n",
       "543    54  female  47.4         0    yes  southeast\n",
       "846    51  female  34.2         1     no  southwest\n",
       "\n",
       "[268 rows x 6 columns]"
      ]
     },
     "execution_count": 73,
     "metadata": {},
     "output_type": "execute_result"
    }
   ],
   "source": [
    "X_test"
   ]
  },
  {
   "cell_type": "code",
   "execution_count": 74,
   "id": "91f8df7a",
   "metadata": {},
   "outputs": [
    {
     "data": {
      "text/html": [
       "<div>\n",
       "<style scoped>\n",
       "    .dataframe tbody tr th:only-of-type {\n",
       "        vertical-align: middle;\n",
       "    }\n",
       "\n",
       "    .dataframe tbody tr th {\n",
       "        vertical-align: top;\n",
       "    }\n",
       "\n",
       "    .dataframe thead th {\n",
       "        text-align: right;\n",
       "    }\n",
       "</style>\n",
       "<table border=\"1\" class=\"dataframe\">\n",
       "  <thead>\n",
       "    <tr style=\"text-align: right;\">\n",
       "      <th></th>\n",
       "      <th>age</th>\n",
       "      <th>sex</th>\n",
       "      <th>bmi</th>\n",
       "      <th>children</th>\n",
       "      <th>smoker</th>\n",
       "      <th>region</th>\n",
       "    </tr>\n",
       "  </thead>\n",
       "  <tbody>\n",
       "    <tr>\n",
       "      <th>560</th>\n",
       "      <td>46</td>\n",
       "      <td>female</td>\n",
       "      <td>20.0</td>\n",
       "      <td>2</td>\n",
       "      <td>no</td>\n",
       "      <td>northwest</td>\n",
       "    </tr>\n",
       "    <tr>\n",
       "      <th>1285</th>\n",
       "      <td>47</td>\n",
       "      <td>female</td>\n",
       "      <td>24.3</td>\n",
       "      <td>0</td>\n",
       "      <td>no</td>\n",
       "      <td>northeast</td>\n",
       "    </tr>\n",
       "    <tr>\n",
       "      <th>1142</th>\n",
       "      <td>52</td>\n",
       "      <td>female</td>\n",
       "      <td>24.9</td>\n",
       "      <td>0</td>\n",
       "      <td>no</td>\n",
       "      <td>southeast</td>\n",
       "    </tr>\n",
       "    <tr>\n",
       "      <th>969</th>\n",
       "      <td>39</td>\n",
       "      <td>female</td>\n",
       "      <td>34.3</td>\n",
       "      <td>5</td>\n",
       "      <td>no</td>\n",
       "      <td>southeast</td>\n",
       "    </tr>\n",
       "    <tr>\n",
       "      <th>486</th>\n",
       "      <td>54</td>\n",
       "      <td>female</td>\n",
       "      <td>21.5</td>\n",
       "      <td>3</td>\n",
       "      <td>no</td>\n",
       "      <td>northwest</td>\n",
       "    </tr>\n",
       "    <tr>\n",
       "      <th>...</th>\n",
       "      <td>...</td>\n",
       "      <td>...</td>\n",
       "      <td>...</td>\n",
       "      <td>...</td>\n",
       "      <td>...</td>\n",
       "      <td>...</td>\n",
       "    </tr>\n",
       "    <tr>\n",
       "      <th>1095</th>\n",
       "      <td>18</td>\n",
       "      <td>female</td>\n",
       "      <td>31.4</td>\n",
       "      <td>4</td>\n",
       "      <td>no</td>\n",
       "      <td>northeast</td>\n",
       "    </tr>\n",
       "    <tr>\n",
       "      <th>1130</th>\n",
       "      <td>39</td>\n",
       "      <td>female</td>\n",
       "      <td>23.9</td>\n",
       "      <td>5</td>\n",
       "      <td>no</td>\n",
       "      <td>southeast</td>\n",
       "    </tr>\n",
       "    <tr>\n",
       "      <th>1294</th>\n",
       "      <td>58</td>\n",
       "      <td>male</td>\n",
       "      <td>25.2</td>\n",
       "      <td>0</td>\n",
       "      <td>no</td>\n",
       "      <td>northeast</td>\n",
       "    </tr>\n",
       "    <tr>\n",
       "      <th>860</th>\n",
       "      <td>37</td>\n",
       "      <td>female</td>\n",
       "      <td>47.6</td>\n",
       "      <td>2</td>\n",
       "      <td>yes</td>\n",
       "      <td>southwest</td>\n",
       "    </tr>\n",
       "    <tr>\n",
       "      <th>1126</th>\n",
       "      <td>55</td>\n",
       "      <td>male</td>\n",
       "      <td>29.9</td>\n",
       "      <td>0</td>\n",
       "      <td>no</td>\n",
       "      <td>southwest</td>\n",
       "    </tr>\n",
       "  </tbody>\n",
       "</table>\n",
       "<p>1070 rows × 6 columns</p>\n",
       "</div>"
      ],
      "text/plain": [
       "      age     sex   bmi  children smoker     region\n",
       "560    46  female  20.0         2     no  northwest\n",
       "1285   47  female  24.3         0     no  northeast\n",
       "1142   52  female  24.9         0     no  southeast\n",
       "969    39  female  34.3         5     no  southeast\n",
       "486    54  female  21.5         3     no  northwest\n",
       "...   ...     ...   ...       ...    ...        ...\n",
       "1095   18  female  31.4         4     no  northeast\n",
       "1130   39  female  23.9         5     no  southeast\n",
       "1294   58    male  25.2         0     no  northeast\n",
       "860    37  female  47.6         2    yes  southwest\n",
       "1126   55    male  29.9         0     no  southwest\n",
       "\n",
       "[1070 rows x 6 columns]"
      ]
     },
     "execution_count": 74,
     "metadata": {},
     "output_type": "execute_result"
    }
   ],
   "source": [
    "X_train"
   ]
  },
  {
   "cell_type": "code",
   "execution_count": 76,
   "id": "83f2a707",
   "metadata": {},
   "outputs": [
    {
     "data": {
      "text/plain": [
       "560      9193.84\n",
       "1285     8534.67\n",
       "1142    27117.99\n",
       "969      8596.83\n",
       "486     12475.35\n",
       "          ...   \n",
       "1095     4561.19\n",
       "1130     8582.30\n",
       "1294    11931.13\n",
       "860     46113.51\n",
       "1126    10214.64\n",
       "Name: expenses, Length: 1070, dtype: float64"
      ]
     },
     "execution_count": 76,
     "metadata": {},
     "output_type": "execute_result"
    }
   ],
   "source": [
    "y_train"
   ]
  },
  {
   "cell_type": "code",
   "execution_count": 77,
   "id": "f35687b7",
   "metadata": {},
   "outputs": [
    {
     "data": {
      "text/plain": [
       "764      9095.07\n",
       "887      5272.18\n",
       "890     29330.98\n",
       "1293     9301.89\n",
       "259     33750.29\n",
       "          ...   \n",
       "109     47055.53\n",
       "575     12222.90\n",
       "535      6067.13\n",
       "543     63770.43\n",
       "846      9872.70\n",
       "Name: expenses, Length: 268, dtype: float64"
      ]
     },
     "execution_count": 77,
     "metadata": {},
     "output_type": "execute_result"
    }
   ],
   "source": [
    "y_test"
   ]
  },
  {
   "cell_type": "markdown",
   "id": "75d340f9",
   "metadata": {},
   "source": [
    "# Data Preprocessing"
   ]
  },
  {
   "cell_type": "code",
   "execution_count": 79,
   "id": "75395491",
   "metadata": {},
   "outputs": [
    {
     "name": "stdout",
     "output_type": "stream",
     "text": [
      "<class 'pandas.core.frame.DataFrame'>\n",
      "Int64Index: 1070 entries, 560 to 1126\n",
      "Data columns (total 6 columns):\n",
      " #   Column    Non-Null Count  Dtype  \n",
      "---  ------    --------------  -----  \n",
      " 0   age       1070 non-null   int64  \n",
      " 1   sex       1070 non-null   object \n",
      " 2   bmi       1070 non-null   float64\n",
      " 3   children  1070 non-null   int64  \n",
      " 4   smoker    1070 non-null   object \n",
      " 5   region    1070 non-null   object \n",
      "dtypes: float64(1), int64(2), object(3)\n",
      "memory usage: 58.5+ KB\n"
     ]
    }
   ],
   "source": [
    "X_train.info()"
   ]
  },
  {
   "cell_type": "markdown",
   "id": "7cda29a1",
   "metadata": {},
   "source": [
    "#### Separating numerical and categorical attributes"
   ]
  },
  {
   "cell_type": "code",
   "execution_count": 80,
   "id": "823d6ee0",
   "metadata": {},
   "outputs": [],
   "source": [
    "X_train_num = X_train.drop(['sex','smoker','region'],axis = 1)"
   ]
  },
  {
   "cell_type": "code",
   "execution_count": 82,
   "id": "1bbd25c3",
   "metadata": {},
   "outputs": [
    {
     "data": {
      "text/html": [
       "<div>\n",
       "<style scoped>\n",
       "    .dataframe tbody tr th:only-of-type {\n",
       "        vertical-align: middle;\n",
       "    }\n",
       "\n",
       "    .dataframe tbody tr th {\n",
       "        vertical-align: top;\n",
       "    }\n",
       "\n",
       "    .dataframe thead th {\n",
       "        text-align: right;\n",
       "    }\n",
       "</style>\n",
       "<table border=\"1\" class=\"dataframe\">\n",
       "  <thead>\n",
       "    <tr style=\"text-align: right;\">\n",
       "      <th></th>\n",
       "      <th>age</th>\n",
       "      <th>bmi</th>\n",
       "      <th>children</th>\n",
       "    </tr>\n",
       "  </thead>\n",
       "  <tbody>\n",
       "    <tr>\n",
       "      <th>560</th>\n",
       "      <td>46</td>\n",
       "      <td>20.0</td>\n",
       "      <td>2</td>\n",
       "    </tr>\n",
       "    <tr>\n",
       "      <th>1285</th>\n",
       "      <td>47</td>\n",
       "      <td>24.3</td>\n",
       "      <td>0</td>\n",
       "    </tr>\n",
       "    <tr>\n",
       "      <th>1142</th>\n",
       "      <td>52</td>\n",
       "      <td>24.9</td>\n",
       "      <td>0</td>\n",
       "    </tr>\n",
       "    <tr>\n",
       "      <th>969</th>\n",
       "      <td>39</td>\n",
       "      <td>34.3</td>\n",
       "      <td>5</td>\n",
       "    </tr>\n",
       "    <tr>\n",
       "      <th>486</th>\n",
       "      <td>54</td>\n",
       "      <td>21.5</td>\n",
       "      <td>3</td>\n",
       "    </tr>\n",
       "    <tr>\n",
       "      <th>...</th>\n",
       "      <td>...</td>\n",
       "      <td>...</td>\n",
       "      <td>...</td>\n",
       "    </tr>\n",
       "    <tr>\n",
       "      <th>1095</th>\n",
       "      <td>18</td>\n",
       "      <td>31.4</td>\n",
       "      <td>4</td>\n",
       "    </tr>\n",
       "    <tr>\n",
       "      <th>1130</th>\n",
       "      <td>39</td>\n",
       "      <td>23.9</td>\n",
       "      <td>5</td>\n",
       "    </tr>\n",
       "    <tr>\n",
       "      <th>1294</th>\n",
       "      <td>58</td>\n",
       "      <td>25.2</td>\n",
       "      <td>0</td>\n",
       "    </tr>\n",
       "    <tr>\n",
       "      <th>860</th>\n",
       "      <td>37</td>\n",
       "      <td>47.6</td>\n",
       "      <td>2</td>\n",
       "    </tr>\n",
       "    <tr>\n",
       "      <th>1126</th>\n",
       "      <td>55</td>\n",
       "      <td>29.9</td>\n",
       "      <td>0</td>\n",
       "    </tr>\n",
       "  </tbody>\n",
       "</table>\n",
       "<p>1070 rows × 3 columns</p>\n",
       "</div>"
      ],
      "text/plain": [
       "      age   bmi  children\n",
       "560    46  20.0         2\n",
       "1285   47  24.3         0\n",
       "1142   52  24.9         0\n",
       "969    39  34.3         5\n",
       "486    54  21.5         3\n",
       "...   ...   ...       ...\n",
       "1095   18  31.4         4\n",
       "1130   39  23.9         5\n",
       "1294   58  25.2         0\n",
       "860    37  47.6         2\n",
       "1126   55  29.9         0\n",
       "\n",
       "[1070 rows x 3 columns]"
      ]
     },
     "execution_count": 82,
     "metadata": {},
     "output_type": "execute_result"
    }
   ],
   "source": [
    "X_train_num"
   ]
  },
  {
   "cell_type": "code",
   "execution_count": 84,
   "id": "c2e0045a",
   "metadata": {},
   "outputs": [],
   "source": [
    "X_train_cat = X_train[['sex','smoker','region']]"
   ]
  },
  {
   "cell_type": "code",
   "execution_count": 85,
   "id": "9e343336",
   "metadata": {},
   "outputs": [
    {
     "data": {
      "text/html": [
       "<div>\n",
       "<style scoped>\n",
       "    .dataframe tbody tr th:only-of-type {\n",
       "        vertical-align: middle;\n",
       "    }\n",
       "\n",
       "    .dataframe tbody tr th {\n",
       "        vertical-align: top;\n",
       "    }\n",
       "\n",
       "    .dataframe thead th {\n",
       "        text-align: right;\n",
       "    }\n",
       "</style>\n",
       "<table border=\"1\" class=\"dataframe\">\n",
       "  <thead>\n",
       "    <tr style=\"text-align: right;\">\n",
       "      <th></th>\n",
       "      <th>sex</th>\n",
       "      <th>smoker</th>\n",
       "      <th>region</th>\n",
       "    </tr>\n",
       "  </thead>\n",
       "  <tbody>\n",
       "    <tr>\n",
       "      <th>560</th>\n",
       "      <td>female</td>\n",
       "      <td>no</td>\n",
       "      <td>northwest</td>\n",
       "    </tr>\n",
       "    <tr>\n",
       "      <th>1285</th>\n",
       "      <td>female</td>\n",
       "      <td>no</td>\n",
       "      <td>northeast</td>\n",
       "    </tr>\n",
       "    <tr>\n",
       "      <th>1142</th>\n",
       "      <td>female</td>\n",
       "      <td>no</td>\n",
       "      <td>southeast</td>\n",
       "    </tr>\n",
       "    <tr>\n",
       "      <th>969</th>\n",
       "      <td>female</td>\n",
       "      <td>no</td>\n",
       "      <td>southeast</td>\n",
       "    </tr>\n",
       "    <tr>\n",
       "      <th>486</th>\n",
       "      <td>female</td>\n",
       "      <td>no</td>\n",
       "      <td>northwest</td>\n",
       "    </tr>\n",
       "    <tr>\n",
       "      <th>...</th>\n",
       "      <td>...</td>\n",
       "      <td>...</td>\n",
       "      <td>...</td>\n",
       "    </tr>\n",
       "    <tr>\n",
       "      <th>1095</th>\n",
       "      <td>female</td>\n",
       "      <td>no</td>\n",
       "      <td>northeast</td>\n",
       "    </tr>\n",
       "    <tr>\n",
       "      <th>1130</th>\n",
       "      <td>female</td>\n",
       "      <td>no</td>\n",
       "      <td>southeast</td>\n",
       "    </tr>\n",
       "    <tr>\n",
       "      <th>1294</th>\n",
       "      <td>male</td>\n",
       "      <td>no</td>\n",
       "      <td>northeast</td>\n",
       "    </tr>\n",
       "    <tr>\n",
       "      <th>860</th>\n",
       "      <td>female</td>\n",
       "      <td>yes</td>\n",
       "      <td>southwest</td>\n",
       "    </tr>\n",
       "    <tr>\n",
       "      <th>1126</th>\n",
       "      <td>male</td>\n",
       "      <td>no</td>\n",
       "      <td>southwest</td>\n",
       "    </tr>\n",
       "  </tbody>\n",
       "</table>\n",
       "<p>1070 rows × 3 columns</p>\n",
       "</div>"
      ],
      "text/plain": [
       "         sex smoker     region\n",
       "560   female     no  northwest\n",
       "1285  female     no  northeast\n",
       "1142  female     no  southeast\n",
       "969   female     no  southeast\n",
       "486   female     no  northwest\n",
       "...      ...    ...        ...\n",
       "1095  female     no  northeast\n",
       "1130  female     no  southeast\n",
       "1294    male     no  northeast\n",
       "860   female    yes  southwest\n",
       "1126    male     no  southwest\n",
       "\n",
       "[1070 rows x 3 columns]"
      ]
     },
     "execution_count": 85,
     "metadata": {},
     "output_type": "execute_result"
    }
   ],
   "source": [
    "X_train_cat"
   ]
  },
  {
   "cell_type": "code",
   "execution_count": 86,
   "id": "2b082e93",
   "metadata": {},
   "outputs": [
    {
     "name": "stdout",
     "output_type": "stream",
     "text": [
      "<class 'pandas.core.frame.DataFrame'>\n",
      "Int64Index: 1070 entries, 560 to 1126\n",
      "Data columns (total 3 columns):\n",
      " #   Column    Non-Null Count  Dtype  \n",
      "---  ------    --------------  -----  \n",
      " 0   age       1070 non-null   int64  \n",
      " 1   bmi       1070 non-null   float64\n",
      " 2   children  1070 non-null   int64  \n",
      "dtypes: float64(1), int64(2)\n",
      "memory usage: 33.4 KB\n"
     ]
    }
   ],
   "source": [
    "X_train_num.info()"
   ]
  },
  {
   "cell_type": "code",
   "execution_count": 87,
   "id": "072c0113",
   "metadata": {},
   "outputs": [
    {
     "name": "stdout",
     "output_type": "stream",
     "text": [
      "<class 'pandas.core.frame.DataFrame'>\n",
      "Int64Index: 1070 entries, 560 to 1126\n",
      "Data columns (total 3 columns):\n",
      " #   Column  Non-Null Count  Dtype \n",
      "---  ------  --------------  ----- \n",
      " 0   sex     1070 non-null   object\n",
      " 1   smoker  1070 non-null   object\n",
      " 2   region  1070 non-null   object\n",
      "dtypes: object(3)\n",
      "memory usage: 33.4+ KB\n"
     ]
    }
   ],
   "source": [
    "X_train_cat.info()"
   ]
  },
  {
   "cell_type": "markdown",
   "id": "4b5aba70",
   "metadata": {},
   "source": [
    "#### We can see from the above that there are no null values in x_train and x_test itself. So most likely, we won't need null value imputation"
   ]
  },
  {
   "cell_type": "markdown",
   "id": "1894113a",
   "metadata": {},
   "source": [
    "# Scaling"
   ]
  },
  {
   "cell_type": "code",
   "execution_count": 65,
   "id": "b609939d",
   "metadata": {},
   "outputs": [],
   "source": [
    "### Normally we follow standard scaling to avoid the error of saturation which is caused for min-max scaling\n",
    "### Min-Max scaling brings all the data in a prticular range for which we can't distinguish data with a very high value and\n",
    "### a very low value. This problem can be avoided through standard scaling. Standard scaling doesn't bring the data in any\n",
    "### particular range. Rather after this the values remain distinguishable and a curve like normal distribution can be found\n",
    "### It is for doing the scaling operation on the numerical data"
   ]
  },
  {
   "cell_type": "code",
   "execution_count": 88,
   "id": "b8012c6c",
   "metadata": {},
   "outputs": [],
   "source": [
    "from sklearn.preprocessing import StandardScaler"
   ]
  },
  {
   "cell_type": "code",
   "execution_count": 89,
   "id": "7992ca1d",
   "metadata": {},
   "outputs": [],
   "source": [
    "scaler = StandardScaler()"
   ]
  },
  {
   "cell_type": "code",
   "execution_count": 90,
   "id": "4d29380e",
   "metadata": {},
   "outputs": [],
   "source": [
    "X_train_num_ndarray = scaler.fit_transform(X_train_num)"
   ]
  },
  {
   "cell_type": "code",
   "execution_count": 91,
   "id": "cb7dc61e",
   "metadata": {
    "scrolled": true
   },
   "outputs": [
    {
     "data": {
      "text/plain": [
       "array([[ 0.47222651, -1.74857248,  0.73433626],\n",
       "       [ 0.54331294, -1.03670397, -0.91119211],\n",
       "       [ 0.8987451 , -0.93737348, -0.91119211],\n",
       "       ...,\n",
       "       [ 1.3252637 , -0.88770823, -0.91119211],\n",
       "       [-0.16755139,  2.82063006,  0.73433626],\n",
       "       [ 1.1120044 , -0.1096194 , -0.91119211]])"
      ]
     },
     "execution_count": 91,
     "metadata": {},
     "output_type": "execute_result"
    }
   ],
   "source": [
    "X_train_num_ndarray"
   ]
  },
  {
   "cell_type": "code",
   "execution_count": 92,
   "id": "b2839aa6",
   "metadata": {
    "scrolled": true
   },
   "outputs": [
    {
     "data": {
      "text/plain": [
       "array([[ 0.47222651, -1.74857248,  0.73433626],\n",
       "       [ 0.54331294, -1.03670397, -0.91119211],\n",
       "       [ 0.8987451 , -0.93737348, -0.91119211],\n",
       "       [-0.02537852,  0.6188042 ,  3.20262882],\n",
       "       [ 1.04091797, -1.50024626,  1.55710045],\n",
       "       [ 1.68069586,  1.81077008, -0.91119211],\n",
       "       [-1.23384787, -1.03670397, -0.91119211],\n",
       "       [-1.5181936 , -1.48369117, -0.91119211],\n",
       "       [ 0.04570791,  1.76110483, -0.08842793],\n",
       "       [-0.16755139,  0.60224912, -0.08842793]])"
      ]
     },
     "execution_count": 92,
     "metadata": {},
     "output_type": "execute_result"
    }
   ],
   "source": [
    "X_train_num_ndarray[:10]"
   ]
  },
  {
   "cell_type": "markdown",
   "id": "730c3896",
   "metadata": {},
   "source": [
    "## OneHot Encoding"
   ]
  },
  {
   "cell_type": "code",
   "execution_count": 93,
   "id": "607a0981",
   "metadata": {},
   "outputs": [],
   "source": [
    "from sklearn.preprocessing import OneHotEncoder"
   ]
  },
  {
   "cell_type": "code",
   "execution_count": 94,
   "id": "b627d6d6",
   "metadata": {},
   "outputs": [],
   "source": [
    "hot_encoder = OneHotEncoder(sparse = False)"
   ]
  },
  {
   "cell_type": "code",
   "execution_count": 95,
   "id": "70cabc34",
   "metadata": {},
   "outputs": [],
   "source": [
    "X_train_cat_hot_encoded_ndarray = hot_encoder.fit_transform(X_train_cat[['sex','smoker','region']].values)"
   ]
  },
  {
   "cell_type": "code",
   "execution_count": 97,
   "id": "4d9a4f29",
   "metadata": {
    "scrolled": true
   },
   "outputs": [
    {
     "data": {
      "text/html": [
       "<div>\n",
       "<style scoped>\n",
       "    .dataframe tbody tr th:only-of-type {\n",
       "        vertical-align: middle;\n",
       "    }\n",
       "\n",
       "    .dataframe tbody tr th {\n",
       "        vertical-align: top;\n",
       "    }\n",
       "\n",
       "    .dataframe thead th {\n",
       "        text-align: right;\n",
       "    }\n",
       "</style>\n",
       "<table border=\"1\" class=\"dataframe\">\n",
       "  <thead>\n",
       "    <tr style=\"text-align: right;\">\n",
       "      <th></th>\n",
       "      <th>sex</th>\n",
       "      <th>smoker</th>\n",
       "      <th>region</th>\n",
       "    </tr>\n",
       "  </thead>\n",
       "  <tbody>\n",
       "    <tr>\n",
       "      <th>560</th>\n",
       "      <td>female</td>\n",
       "      <td>no</td>\n",
       "      <td>northwest</td>\n",
       "    </tr>\n",
       "    <tr>\n",
       "      <th>1285</th>\n",
       "      <td>female</td>\n",
       "      <td>no</td>\n",
       "      <td>northeast</td>\n",
       "    </tr>\n",
       "    <tr>\n",
       "      <th>1142</th>\n",
       "      <td>female</td>\n",
       "      <td>no</td>\n",
       "      <td>southeast</td>\n",
       "    </tr>\n",
       "    <tr>\n",
       "      <th>969</th>\n",
       "      <td>female</td>\n",
       "      <td>no</td>\n",
       "      <td>southeast</td>\n",
       "    </tr>\n",
       "    <tr>\n",
       "      <th>486</th>\n",
       "      <td>female</td>\n",
       "      <td>no</td>\n",
       "      <td>northwest</td>\n",
       "    </tr>\n",
       "    <tr>\n",
       "      <th>170</th>\n",
       "      <td>male</td>\n",
       "      <td>no</td>\n",
       "      <td>southeast</td>\n",
       "    </tr>\n",
       "    <tr>\n",
       "      <th>277</th>\n",
       "      <td>female</td>\n",
       "      <td>no</td>\n",
       "      <td>southwest</td>\n",
       "    </tr>\n",
       "    <tr>\n",
       "      <th>1033</th>\n",
       "      <td>male</td>\n",
       "      <td>yes</td>\n",
       "      <td>northeast</td>\n",
       "    </tr>\n",
       "    <tr>\n",
       "      <th>209</th>\n",
       "      <td>male</td>\n",
       "      <td>no</td>\n",
       "      <td>northeast</td>\n",
       "    </tr>\n",
       "    <tr>\n",
       "      <th>947</th>\n",
       "      <td>male</td>\n",
       "      <td>yes</td>\n",
       "      <td>northeast</td>\n",
       "    </tr>\n",
       "  </tbody>\n",
       "</table>\n",
       "</div>"
      ],
      "text/plain": [
       "         sex smoker     region\n",
       "560   female     no  northwest\n",
       "1285  female     no  northeast\n",
       "1142  female     no  southeast\n",
       "969   female     no  southeast\n",
       "486   female     no  northwest\n",
       "170     male     no  southeast\n",
       "277   female     no  southwest\n",
       "1033    male    yes  northeast\n",
       "209     male     no  northeast\n",
       "947     male    yes  northeast"
      ]
     },
     "execution_count": 97,
     "metadata": {},
     "output_type": "execute_result"
    }
   ],
   "source": [
    "X_train_cat.head(10)"
   ]
  },
  {
   "cell_type": "code",
   "execution_count": 98,
   "id": "36333a37",
   "metadata": {
    "scrolled": false
   },
   "outputs": [
    {
     "data": {
      "text/plain": [
       "[array(['female', 'male'], dtype=object),\n",
       " array(['no', 'yes'], dtype=object),\n",
       " array(['northeast', 'northwest', 'southeast', 'southwest'], dtype=object)]"
      ]
     },
     "execution_count": 98,
     "metadata": {},
     "output_type": "execute_result"
    }
   ],
   "source": [
    "hot_encoder.categories_"
   ]
  },
  {
   "cell_type": "code",
   "execution_count": 99,
   "id": "e94f61dd",
   "metadata": {
    "scrolled": false
   },
   "outputs": [
    {
     "data": {
      "text/plain": [
       "array([[1., 0., 1., 0., 0., 1., 0., 0.],\n",
       "       [1., 0., 1., 0., 1., 0., 0., 0.],\n",
       "       [1., 0., 1., 0., 0., 0., 1., 0.],\n",
       "       [1., 0., 1., 0., 0., 0., 1., 0.],\n",
       "       [1., 0., 1., 0., 0., 1., 0., 0.],\n",
       "       [0., 1., 1., 0., 0., 0., 1., 0.],\n",
       "       [1., 0., 1., 0., 0., 0., 0., 1.],\n",
       "       [0., 1., 0., 1., 1., 0., 0., 0.],\n",
       "       [0., 1., 1., 0., 1., 0., 0., 0.],\n",
       "       [0., 1., 0., 1., 1., 0., 0., 0.]])"
      ]
     },
     "execution_count": 99,
     "metadata": {},
     "output_type": "execute_result"
    }
   ],
   "source": [
    "X_train_cat_hot_encoded_ndarray[:10]"
   ]
  },
  {
   "cell_type": "markdown",
   "id": "f79f0bca",
   "metadata": {},
   "source": [
    "## Combining Preprocessed Results on Train Dataset"
   ]
  },
  {
   "cell_type": "code",
   "execution_count": 101,
   "id": "7d77d528",
   "metadata": {},
   "outputs": [],
   "source": [
    "X_train_final = np.c_[X_train_num_ndarray, X_train_cat_hot_encoded_ndarray]"
   ]
  },
  {
   "cell_type": "code",
   "execution_count": 102,
   "id": "3e32fc0c",
   "metadata": {},
   "outputs": [
    {
     "data": {
      "text/plain": [
       "(1070, 11)"
      ]
     },
     "execution_count": 102,
     "metadata": {},
     "output_type": "execute_result"
    }
   ],
   "source": [
    "X_train_final.shape"
   ]
  },
  {
   "cell_type": "code",
   "execution_count": 103,
   "id": "ea273086",
   "metadata": {},
   "outputs": [
    {
     "data": {
      "text/plain": [
       "array([[ 0.47222651, -1.74857248,  0.73433626, ...,  1.        ,\n",
       "         0.        ,  0.        ],\n",
       "       [ 0.54331294, -1.03670397, -0.91119211, ...,  0.        ,\n",
       "         0.        ,  0.        ],\n",
       "       [ 0.8987451 , -0.93737348, -0.91119211, ...,  0.        ,\n",
       "         1.        ,  0.        ],\n",
       "       ...,\n",
       "       [ 1.3252637 , -0.88770823, -0.91119211, ...,  0.        ,\n",
       "         0.        ,  0.        ],\n",
       "       [-0.16755139,  2.82063006,  0.73433626, ...,  0.        ,\n",
       "         0.        ,  1.        ],\n",
       "       [ 1.1120044 , -0.1096194 , -0.91119211, ...,  0.        ,\n",
       "         0.        ,  1.        ]])"
      ]
     },
     "execution_count": 103,
     "metadata": {},
     "output_type": "execute_result"
    }
   ],
   "source": [
    "X_train_final"
   ]
  },
  {
   "cell_type": "markdown",
   "id": "431b9552",
   "metadata": {},
   "source": [
    "# Preprocessing on Test Dataset"
   ]
  },
  {
   "cell_type": "code",
   "execution_count": 104,
   "id": "d1d9e202",
   "metadata": {},
   "outputs": [
    {
     "data": {
      "text/html": [
       "<div>\n",
       "<style scoped>\n",
       "    .dataframe tbody tr th:only-of-type {\n",
       "        vertical-align: middle;\n",
       "    }\n",
       "\n",
       "    .dataframe tbody tr th {\n",
       "        vertical-align: top;\n",
       "    }\n",
       "\n",
       "    .dataframe thead th {\n",
       "        text-align: right;\n",
       "    }\n",
       "</style>\n",
       "<table border=\"1\" class=\"dataframe\">\n",
       "  <thead>\n",
       "    <tr style=\"text-align: right;\">\n",
       "      <th></th>\n",
       "      <th>age</th>\n",
       "      <th>sex</th>\n",
       "      <th>bmi</th>\n",
       "      <th>children</th>\n",
       "      <th>smoker</th>\n",
       "      <th>region</th>\n",
       "    </tr>\n",
       "  </thead>\n",
       "  <tbody>\n",
       "    <tr>\n",
       "      <th>764</th>\n",
       "      <td>45</td>\n",
       "      <td>female</td>\n",
       "      <td>25.2</td>\n",
       "      <td>2</td>\n",
       "      <td>no</td>\n",
       "      <td>northeast</td>\n",
       "    </tr>\n",
       "    <tr>\n",
       "      <th>887</th>\n",
       "      <td>36</td>\n",
       "      <td>female</td>\n",
       "      <td>30.0</td>\n",
       "      <td>0</td>\n",
       "      <td>no</td>\n",
       "      <td>northwest</td>\n",
       "    </tr>\n",
       "    <tr>\n",
       "      <th>890</th>\n",
       "      <td>64</td>\n",
       "      <td>female</td>\n",
       "      <td>26.9</td>\n",
       "      <td>0</td>\n",
       "      <td>yes</td>\n",
       "      <td>northwest</td>\n",
       "    </tr>\n",
       "    <tr>\n",
       "      <th>1293</th>\n",
       "      <td>46</td>\n",
       "      <td>male</td>\n",
       "      <td>25.7</td>\n",
       "      <td>3</td>\n",
       "      <td>no</td>\n",
       "      <td>northwest</td>\n",
       "    </tr>\n",
       "    <tr>\n",
       "      <th>259</th>\n",
       "      <td>19</td>\n",
       "      <td>male</td>\n",
       "      <td>31.9</td>\n",
       "      <td>0</td>\n",
       "      <td>yes</td>\n",
       "      <td>northwest</td>\n",
       "    </tr>\n",
       "  </tbody>\n",
       "</table>\n",
       "</div>"
      ],
      "text/plain": [
       "      age     sex   bmi  children smoker     region\n",
       "764    45  female  25.2         2     no  northeast\n",
       "887    36  female  30.0         0     no  northwest\n",
       "890    64  female  26.9         0    yes  northwest\n",
       "1293   46    male  25.7         3     no  northwest\n",
       "259    19    male  31.9         0    yes  northwest"
      ]
     },
     "execution_count": 104,
     "metadata": {},
     "output_type": "execute_result"
    }
   ],
   "source": [
    "X_test.head()"
   ]
  },
  {
   "cell_type": "code",
   "execution_count": 105,
   "id": "da7675d5",
   "metadata": {},
   "outputs": [],
   "source": [
    "X_test_num = X_test.drop(['sex','smoker','region'],axis = 1)"
   ]
  },
  {
   "cell_type": "code",
   "execution_count": 106,
   "id": "3ab34dc0",
   "metadata": {},
   "outputs": [],
   "source": [
    "X_test_cat = X_test[['sex','smoker','region']]"
   ]
  },
  {
   "cell_type": "code",
   "execution_count": 108,
   "id": "b35a4495",
   "metadata": {},
   "outputs": [
    {
     "data": {
      "text/html": [
       "<div>\n",
       "<style scoped>\n",
       "    .dataframe tbody tr th:only-of-type {\n",
       "        vertical-align: middle;\n",
       "    }\n",
       "\n",
       "    .dataframe tbody tr th {\n",
       "        vertical-align: top;\n",
       "    }\n",
       "\n",
       "    .dataframe thead th {\n",
       "        text-align: right;\n",
       "    }\n",
       "</style>\n",
       "<table border=\"1\" class=\"dataframe\">\n",
       "  <thead>\n",
       "    <tr style=\"text-align: right;\">\n",
       "      <th></th>\n",
       "      <th>age</th>\n",
       "      <th>bmi</th>\n",
       "      <th>children</th>\n",
       "    </tr>\n",
       "  </thead>\n",
       "  <tbody>\n",
       "    <tr>\n",
       "      <th>764</th>\n",
       "      <td>45</td>\n",
       "      <td>25.2</td>\n",
       "      <td>2</td>\n",
       "    </tr>\n",
       "    <tr>\n",
       "      <th>887</th>\n",
       "      <td>36</td>\n",
       "      <td>30.0</td>\n",
       "      <td>0</td>\n",
       "    </tr>\n",
       "    <tr>\n",
       "      <th>890</th>\n",
       "      <td>64</td>\n",
       "      <td>26.9</td>\n",
       "      <td>0</td>\n",
       "    </tr>\n",
       "    <tr>\n",
       "      <th>1293</th>\n",
       "      <td>46</td>\n",
       "      <td>25.7</td>\n",
       "      <td>3</td>\n",
       "    </tr>\n",
       "    <tr>\n",
       "      <th>259</th>\n",
       "      <td>19</td>\n",
       "      <td>31.9</td>\n",
       "      <td>0</td>\n",
       "    </tr>\n",
       "  </tbody>\n",
       "</table>\n",
       "</div>"
      ],
      "text/plain": [
       "      age   bmi  children\n",
       "764    45  25.2         2\n",
       "887    36  30.0         0\n",
       "890    64  26.9         0\n",
       "1293   46  25.7         3\n",
       "259    19  31.9         0"
      ]
     },
     "execution_count": 108,
     "metadata": {},
     "output_type": "execute_result"
    }
   ],
   "source": [
    "X_test_num.head()"
   ]
  },
  {
   "cell_type": "code",
   "execution_count": 109,
   "id": "fb17c17c",
   "metadata": {},
   "outputs": [
    {
     "data": {
      "text/html": [
       "<div>\n",
       "<style scoped>\n",
       "    .dataframe tbody tr th:only-of-type {\n",
       "        vertical-align: middle;\n",
       "    }\n",
       "\n",
       "    .dataframe tbody tr th {\n",
       "        vertical-align: top;\n",
       "    }\n",
       "\n",
       "    .dataframe thead th {\n",
       "        text-align: right;\n",
       "    }\n",
       "</style>\n",
       "<table border=\"1\" class=\"dataframe\">\n",
       "  <thead>\n",
       "    <tr style=\"text-align: right;\">\n",
       "      <th></th>\n",
       "      <th>sex</th>\n",
       "      <th>smoker</th>\n",
       "      <th>region</th>\n",
       "    </tr>\n",
       "  </thead>\n",
       "  <tbody>\n",
       "    <tr>\n",
       "      <th>764</th>\n",
       "      <td>female</td>\n",
       "      <td>no</td>\n",
       "      <td>northeast</td>\n",
       "    </tr>\n",
       "    <tr>\n",
       "      <th>887</th>\n",
       "      <td>female</td>\n",
       "      <td>no</td>\n",
       "      <td>northwest</td>\n",
       "    </tr>\n",
       "    <tr>\n",
       "      <th>890</th>\n",
       "      <td>female</td>\n",
       "      <td>yes</td>\n",
       "      <td>northwest</td>\n",
       "    </tr>\n",
       "    <tr>\n",
       "      <th>1293</th>\n",
       "      <td>male</td>\n",
       "      <td>no</td>\n",
       "      <td>northwest</td>\n",
       "    </tr>\n",
       "    <tr>\n",
       "      <th>259</th>\n",
       "      <td>male</td>\n",
       "      <td>yes</td>\n",
       "      <td>northwest</td>\n",
       "    </tr>\n",
       "  </tbody>\n",
       "</table>\n",
       "</div>"
      ],
      "text/plain": [
       "         sex smoker     region\n",
       "764   female     no  northeast\n",
       "887   female     no  northwest\n",
       "890   female    yes  northwest\n",
       "1293    male     no  northwest\n",
       "259     male    yes  northwest"
      ]
     },
     "execution_count": 109,
     "metadata": {},
     "output_type": "execute_result"
    }
   ],
   "source": [
    "X_test_cat.head()"
   ]
  },
  {
   "cell_type": "code",
   "execution_count": 110,
   "id": "58bc8836",
   "metadata": {},
   "outputs": [],
   "source": [
    "# Scaling on numerical Data\n",
    "X_test_num_ndarray = scaler.fit_transform(X_test_num)"
   ]
  },
  {
   "cell_type": "code",
   "execution_count": 111,
   "id": "429a59a3",
   "metadata": {},
   "outputs": [
    {
     "data": {
      "text/plain": [
       "array([[ 0.45859585, -0.93352178,  0.82250933],\n",
       "       [-0.18713281, -0.17120196, -0.89961958],\n",
       "       [ 1.82180078, -0.66353351, -0.89961958],\n",
       "       [ 0.53034348, -0.85411347,  1.68357378],\n",
       "       [-1.40684249,  0.13054964, -0.89961958],\n",
       "       [-0.33062806,  1.87753257, -0.03855512],\n",
       "       [-1.40684249, -1.36232668, -0.89961958],\n",
       "       [ 1.82180078,  1.08344942, -0.89961958],\n",
       "       [-0.76111383, -2.18817316, -0.89961958],\n",
       "       [ 0.74558636, -0.37766358,  1.68357378]])"
      ]
     },
     "execution_count": 111,
     "metadata": {},
     "output_type": "execute_result"
    }
   ],
   "source": [
    "X_test_num_ndarray[:10]"
   ]
  },
  {
   "cell_type": "code",
   "execution_count": 112,
   "id": "bc36f194",
   "metadata": {},
   "outputs": [],
   "source": [
    "# One hot Encoding on Categorical Data\n",
    "X_test_cat_hot_encoded_ndarray = hot_encoder.fit_transform(X_test_cat[['sex','smoker','region']].values)"
   ]
  },
  {
   "cell_type": "code",
   "execution_count": 113,
   "id": "9b5e3e11",
   "metadata": {},
   "outputs": [
    {
     "data": {
      "text/plain": [
       "[array(['female', 'male'], dtype=object),\n",
       " array(['no', 'yes'], dtype=object),\n",
       " array(['northeast', 'northwest', 'southeast', 'southwest'], dtype=object)]"
      ]
     },
     "execution_count": 113,
     "metadata": {},
     "output_type": "execute_result"
    }
   ],
   "source": [
    "hot_encoder.categories_"
   ]
  },
  {
   "cell_type": "code",
   "execution_count": 114,
   "id": "aa7c7b26",
   "metadata": {},
   "outputs": [
    {
     "data": {
      "text/plain": [
       "array([[1., 0., 1., 0., 1., 0., 0., 0.],\n",
       "       [1., 0., 1., 0., 0., 1., 0., 0.],\n",
       "       [1., 0., 0., 1., 0., 1., 0., 0.],\n",
       "       [0., 1., 1., 0., 0., 1., 0., 0.],\n",
       "       [0., 1., 0., 1., 0., 1., 0., 0.],\n",
       "       [0., 1., 1., 0., 0., 0., 0., 1.],\n",
       "       [1., 0., 1., 0., 0., 1., 0., 0.],\n",
       "       [0., 1., 1., 0., 0., 1., 0., 0.],\n",
       "       [1., 0., 1., 0., 1., 0., 0., 0.],\n",
       "       [0., 1., 1., 0., 0., 1., 0., 0.]])"
      ]
     },
     "execution_count": 114,
     "metadata": {},
     "output_type": "execute_result"
    }
   ],
   "source": [
    "X_test_cat_hot_encoded_ndarray[:10]"
   ]
  },
  {
   "cell_type": "markdown",
   "id": "78d624be",
   "metadata": {},
   "source": [
    "## Combining Preprocessed Results on Test Dataset"
   ]
  },
  {
   "cell_type": "code",
   "execution_count": 115,
   "id": "c7c2e857",
   "metadata": {},
   "outputs": [],
   "source": [
    "X_test_final = np.c_[X_test_num_ndarray, X_test_cat_hot_encoded_ndarray]"
   ]
  },
  {
   "cell_type": "code",
   "execution_count": 116,
   "id": "79a94e7b",
   "metadata": {},
   "outputs": [
    {
     "data": {
      "text/plain": [
       "array([[ 0.45859585, -0.93352178,  0.82250933, ...,  0.        ,\n",
       "         0.        ,  0.        ],\n",
       "       [-0.18713281, -0.17120196, -0.89961958, ...,  1.        ,\n",
       "         0.        ,  0.        ],\n",
       "       [ 1.82180078, -0.66353351, -0.89961958, ...,  1.        ,\n",
       "         0.        ,  0.        ],\n",
       "       ...,\n",
       "       [-0.04363755, -0.48883522, -0.03855512, ...,  0.        ,\n",
       "         0.        ,  0.        ],\n",
       "       [ 1.1043245 ,  2.59220741, -0.89961958, ...,  0.        ,\n",
       "         1.        ,  0.        ],\n",
       "       [ 0.88908162,  0.49582789, -0.03855512, ...,  0.        ,\n",
       "         0.        ,  1.        ]])"
      ]
     },
     "execution_count": 116,
     "metadata": {},
     "output_type": "execute_result"
    }
   ],
   "source": [
    "X_test_final"
   ]
  },
  {
   "cell_type": "code",
   "execution_count": 121,
   "id": "bb5aea5d",
   "metadata": {},
   "outputs": [
    {
     "data": {
      "text/plain": [
       "((1070, 11), (268, 11))"
      ]
     },
     "execution_count": 121,
     "metadata": {},
     "output_type": "execute_result"
    }
   ],
   "source": [
    "X_train_final.shape, X_test_final.shape"
   ]
  },
  {
   "cell_type": "markdown",
   "id": "f43be896",
   "metadata": {},
   "source": [
    "### Applying Linear Regression Model just to check how much the prediction is varying from the actual label"
   ]
  },
  {
   "cell_type": "code",
   "execution_count": 234,
   "id": "bd117077",
   "metadata": {},
   "outputs": [],
   "source": [
    "from sklearn.linear_model import LinearRegression"
   ]
  },
  {
   "cell_type": "code",
   "execution_count": 235,
   "id": "22a44a68",
   "metadata": {},
   "outputs": [],
   "source": [
    "lin_reg = LinearRegression()"
   ]
  },
  {
   "cell_type": "code",
   "execution_count": 236,
   "id": "2877c118",
   "metadata": {},
   "outputs": [
    {
     "data": {
      "text/plain": [
       "sklearn.linear_model._base.LinearRegression"
      ]
     },
     "execution_count": 236,
     "metadata": {},
     "output_type": "execute_result"
    }
   ],
   "source": [
    "type(lin_reg)"
   ]
  },
  {
   "cell_type": "code",
   "execution_count": 125,
   "id": "a28f0cb2",
   "metadata": {},
   "outputs": [
    {
     "data": {
      "text/plain": [
       "LinearRegression()"
      ]
     },
     "execution_count": 125,
     "metadata": {},
     "output_type": "execute_result"
    }
   ],
   "source": [
    "lin_reg.fit(X_train_final, y_train)"
   ]
  },
  {
   "cell_type": "code",
   "execution_count": 126,
   "id": "afafdd14",
   "metadata": {},
   "outputs": [],
   "source": [
    "y_hat = lin_reg.predict(X_train_final)"
   ]
  },
  {
   "cell_type": "code",
   "execution_count": 127,
   "id": "ff16e725",
   "metadata": {},
   "outputs": [
    {
     "data": {
      "text/plain": [
       "560      9193.84\n",
       "1285     8534.67\n",
       "1142    27117.99\n",
       "969      8596.83\n",
       "486     12475.35\n",
       "Name: expenses, dtype: float64"
      ]
     },
     "execution_count": 127,
     "metadata": {},
     "output_type": "execute_result"
    }
   ],
   "source": [
    "y_train[0:5]"
   ]
  },
  {
   "cell_type": "code",
   "execution_count": 128,
   "id": "c3e42727",
   "metadata": {},
   "outputs": [
    {
     "data": {
      "text/plain": [
       "array([ 7109.59839836,  8335.85245127,  9164.28274941, 11122.41400248,\n",
       "       10096.79465769])"
      ]
     },
     "execution_count": 128,
     "metadata": {},
     "output_type": "execute_result"
    }
   ],
   "source": [
    "y_hat[0:5]"
   ]
  },
  {
   "cell_type": "code",
   "execution_count": 130,
   "id": "6095d232",
   "metadata": {},
   "outputs": [
    {
     "data": {
      "text/plain": [
       "array([[ 0.47222651, -1.74857248,  0.73433626, ...,  1.        ,\n",
       "         0.        ,  0.        ],\n",
       "       [ 0.54331294, -1.03670397, -0.91119211, ...,  0.        ,\n",
       "         0.        ,  0.        ],\n",
       "       [ 0.8987451 , -0.93737348, -0.91119211, ...,  0.        ,\n",
       "         1.        ,  0.        ],\n",
       "       ...,\n",
       "       [ 1.3252637 , -0.88770823, -0.91119211, ...,  0.        ,\n",
       "         0.        ,  0.        ],\n",
       "       [-0.16755139,  2.82063006,  0.73433626, ...,  0.        ,\n",
       "         0.        ,  1.        ],\n",
       "       [ 1.1120044 , -0.1096194 , -0.91119211, ...,  0.        ,\n",
       "         0.        ,  1.        ]])"
      ]
     },
     "execution_count": 130,
     "metadata": {},
     "output_type": "execute_result"
    }
   ],
   "source": [
    "X_train_final"
   ]
  },
  {
   "cell_type": "code",
   "execution_count": null,
   "id": "e8690eb4",
   "metadata": {},
   "outputs": [],
   "source": []
  },
  {
   "cell_type": "markdown",
   "id": "de63d6d5",
   "metadata": {},
   "source": [
    "# Using Model for prediction and calculation of MSE and RMSE"
   ]
  },
  {
   "cell_type": "markdown",
   "id": "af148f54",
   "metadata": {},
   "source": [
    "### Linear Regression model"
   ]
  },
  {
   "cell_type": "code",
   "execution_count": 161,
   "id": "f37aa6d5",
   "metadata": {},
   "outputs": [
    {
     "data": {
      "text/plain": [
       "(1070, 11)"
      ]
     },
     "execution_count": 161,
     "metadata": {},
     "output_type": "execute_result"
    }
   ],
   "source": [
    "X_train_final.shape"
   ]
  },
  {
   "cell_type": "code",
   "execution_count": 162,
   "id": "559fd03c",
   "metadata": {},
   "outputs": [
    {
     "data": {
      "text/plain": [
       "(1070,)"
      ]
     },
     "execution_count": 162,
     "metadata": {},
     "output_type": "execute_result"
    }
   ],
   "source": [
    "y_train.shape"
   ]
  },
  {
   "cell_type": "code",
   "execution_count": 163,
   "id": "2d441673",
   "metadata": {},
   "outputs": [],
   "source": [
    "Lin_reg = LinearRegression()"
   ]
  },
  {
   "cell_type": "code",
   "execution_count": 164,
   "id": "81da2d81",
   "metadata": {},
   "outputs": [
    {
     "data": {
      "text/plain": [
       "LinearRegression()"
      ]
     },
     "execution_count": 164,
     "metadata": {},
     "output_type": "execute_result"
    }
   ],
   "source": [
    "Lin_reg.fit(X_train_final, y_train)"
   ]
  },
  {
   "cell_type": "markdown",
   "id": "8be74c0e",
   "metadata": {},
   "source": [
    "### prediction of y_train"
   ]
  },
  {
   "cell_type": "code",
   "execution_count": 165,
   "id": "a1c3fc75",
   "metadata": {},
   "outputs": [],
   "source": [
    "y_pred_train_regression = Lin_reg.predict(X_train_final)"
   ]
  },
  {
   "cell_type": "code",
   "execution_count": 166,
   "id": "25ff74da",
   "metadata": {},
   "outputs": [],
   "source": [
    "from sklearn.metrics import mean_squared_error"
   ]
  },
  {
   "cell_type": "code",
   "execution_count": 167,
   "id": "48615ee8",
   "metadata": {},
   "outputs": [
    {
     "data": {
      "text/plain": [
       "560      9193.84\n",
       "1285     8534.67\n",
       "1142    27117.99\n",
       "969      8596.83\n",
       "486     12475.35\n",
       "          ...   \n",
       "1095     4561.19\n",
       "1130     8582.30\n",
       "1294    11931.13\n",
       "860     46113.51\n",
       "1126    10214.64\n",
       "Name: expenses, Length: 1070, dtype: float64"
      ]
     },
     "execution_count": 167,
     "metadata": {},
     "output_type": "execute_result"
    }
   ],
   "source": [
    "y_train"
   ]
  },
  {
   "cell_type": "code",
   "execution_count": 168,
   "id": "0ae9a8ae",
   "metadata": {},
   "outputs": [
    {
     "data": {
      "text/plain": [
       "pandas.core.series.Series"
      ]
     },
     "execution_count": 168,
     "metadata": {},
     "output_type": "execute_result"
    }
   ],
   "source": [
    "type(y_train)"
   ]
  },
  {
   "cell_type": "code",
   "execution_count": 169,
   "id": "95d725e4",
   "metadata": {},
   "outputs": [
    {
     "data": {
      "text/plain": [
       "array([ 7109.59839836,  8335.85245127,  9164.28274941, ...,\n",
       "       11447.39258833, 37317.08335281, 11452.47075493])"
      ]
     },
     "execution_count": 169,
     "metadata": {},
     "output_type": "execute_result"
    }
   ],
   "source": [
    "y_pred_train_regression"
   ]
  },
  {
   "cell_type": "code",
   "execution_count": 170,
   "id": "9b271ae9",
   "metadata": {},
   "outputs": [
    {
     "data": {
      "text/plain": [
       "numpy.ndarray"
      ]
     },
     "execution_count": 170,
     "metadata": {},
     "output_type": "execute_result"
    }
   ],
   "source": [
    "type(y_pred_train_regression)"
   ]
  },
  {
   "cell_type": "code",
   "execution_count": 171,
   "id": "171b7d2f",
   "metadata": {},
   "outputs": [],
   "source": [
    "mse_reg_train = mean_squared_error(y_train, y_pred_train_regression)"
   ]
  },
  {
   "cell_type": "code",
   "execution_count": 172,
   "id": "bd24e328",
   "metadata": {},
   "outputs": [],
   "source": [
    "rmse_reg_train = np.sqrt(mse_reg_train)"
   ]
  },
  {
   "cell_type": "code",
   "execution_count": 173,
   "id": "40021ddc",
   "metadata": {},
   "outputs": [
    {
     "data": {
      "text/plain": [
       "6105.245134876944"
      ]
     },
     "execution_count": 173,
     "metadata": {},
     "output_type": "execute_result"
    }
   ],
   "source": [
    "rmse_reg_train"
   ]
  },
  {
   "cell_type": "code",
   "execution_count": 174,
   "id": "4b9a566c",
   "metadata": {},
   "outputs": [
    {
     "data": {
      "text/plain": [
       "(268, 11)"
      ]
     },
     "execution_count": 174,
     "metadata": {},
     "output_type": "execute_result"
    }
   ],
   "source": [
    "X_test_final.shape"
   ]
  },
  {
   "cell_type": "code",
   "execution_count": 175,
   "id": "fd3a1673",
   "metadata": {},
   "outputs": [],
   "source": [
    "y_pred_test_regression = Lin_reg.predict(X_test_final)"
   ]
  },
  {
   "cell_type": "code",
   "execution_count": 176,
   "id": "bbd5ca07",
   "metadata": {},
   "outputs": [],
   "source": [
    "mse_reg_test = mean_squared_error(y_test, y_pred_test_regression)"
   ]
  },
  {
   "cell_type": "code",
   "execution_count": 177,
   "id": "86978f02",
   "metadata": {},
   "outputs": [],
   "source": [
    "rmse_reg_test = np.sqrt(mse_reg_test)"
   ]
  },
  {
   "cell_type": "code",
   "execution_count": 178,
   "id": "0a91150a",
   "metadata": {},
   "outputs": [
    {
     "data": {
      "text/plain": [
       "5795.546590711341"
      ]
     },
     "execution_count": 178,
     "metadata": {},
     "output_type": "execute_result"
    }
   ],
   "source": [
    "rmse_reg_test"
   ]
  },
  {
   "cell_type": "code",
   "execution_count": 179,
   "id": "60aaf171",
   "metadata": {},
   "outputs": [],
   "source": [
    "# Calculating R2 Score \n",
    "# R2 score helps to know how fit the model is for the problem\n",
    "# R-squared is a statistical measure of how close the data are to the fitted regression line. \n",
    "# Also known as coefficient of determination\n",
    "# basically varies from 0 to 1 or 0% to 100% \n",
    "# 0% means the model explains none of the variability of the data around the mean\n",
    "# 100% means the model explains all the variablity of the data around the mean\n",
    "# It can be negative also when the model is extremely worse.\n",
    "# If a model always gives the expected value of y disregarding the features then it gets R2 score as 0\n",
    "# Higher the score better the model will be fit for the problem"
   ]
  },
  {
   "cell_type": "code",
   "execution_count": 180,
   "id": "bc303f37",
   "metadata": {},
   "outputs": [],
   "source": [
    "from sklearn.metrics import r2_score"
   ]
  },
  {
   "cell_type": "code",
   "execution_count": 181,
   "id": "5f154ad5",
   "metadata": {},
   "outputs": [
    {
     "data": {
      "text/plain": [
       "0.7417509671301924"
      ]
     },
     "execution_count": 181,
     "metadata": {},
     "output_type": "execute_result"
    }
   ],
   "source": [
    "r2_score(y_train, y_pred_train_regression)"
   ]
  },
  {
   "cell_type": "code",
   "execution_count": 182,
   "id": "f8e20600",
   "metadata": {},
   "outputs": [
    {
     "data": {
      "text/plain": [
       "0.7836480885946081"
      ]
     },
     "execution_count": 182,
     "metadata": {},
     "output_type": "execute_result"
    }
   ],
   "source": [
    "r2_score(y_test, y_pred_test_regression)"
   ]
  },
  {
   "cell_type": "markdown",
   "id": "2d74c3a7",
   "metadata": {},
   "source": [
    "#### For train set the R2 score is approx 74.17% and for test set it's almost 78.36%"
   ]
  },
  {
   "cell_type": "markdown",
   "id": "56ecd719",
   "metadata": {},
   "source": [
    "### Linear Regression Model can describe 74% variability of the train set and 78% variability of the test dataset"
   ]
  },
  {
   "cell_type": "code",
   "execution_count": null,
   "id": "d3fa4317",
   "metadata": {},
   "outputs": [],
   "source": []
  },
  {
   "cell_type": "markdown",
   "id": "3c347b2f",
   "metadata": {},
   "source": [
    "## Decision Tree"
   ]
  },
  {
   "cell_type": "code",
   "execution_count": 247,
   "id": "3cff420a",
   "metadata": {},
   "outputs": [],
   "source": [
    "from sklearn.tree import DecisionTreeRegressor"
   ]
  },
  {
   "cell_type": "code",
   "execution_count": 248,
   "id": "4891fc53",
   "metadata": {},
   "outputs": [],
   "source": [
    "tree_reg = DecisionTreeRegressor()"
   ]
  },
  {
   "cell_type": "code",
   "execution_count": 251,
   "id": "40b09fbc",
   "metadata": {},
   "outputs": [
    {
     "data": {
      "text/plain": [
       "DecisionTreeRegressor()"
      ]
     },
     "execution_count": 251,
     "metadata": {},
     "output_type": "execute_result"
    }
   ],
   "source": [
    "tree_reg.fit(X_train_final, y_train)"
   ]
  },
  {
   "cell_type": "code",
   "execution_count": 253,
   "id": "f699a8de",
   "metadata": {},
   "outputs": [],
   "source": [
    "y_pred_train_tree = tree_reg.predict(X_train_final)"
   ]
  },
  {
   "cell_type": "code",
   "execution_count": 254,
   "id": "c743e1a3",
   "metadata": {},
   "outputs": [],
   "source": [
    "mse_tree_train = mean_squared_error(y_train, y_pred_train_tree)"
   ]
  },
  {
   "cell_type": "code",
   "execution_count": 255,
   "id": "706dfda6",
   "metadata": {},
   "outputs": [
    {
     "data": {
      "text/plain": [
       "244239.68681906545"
      ]
     },
     "execution_count": 255,
     "metadata": {},
     "output_type": "execute_result"
    }
   ],
   "source": [
    "mse_tree_train"
   ]
  },
  {
   "cell_type": "code",
   "execution_count": 256,
   "id": "90ea8589",
   "metadata": {},
   "outputs": [
    {
     "data": {
      "text/plain": [
       "494.2061177475097"
      ]
     },
     "execution_count": 256,
     "metadata": {},
     "output_type": "execute_result"
    }
   ],
   "source": [
    "np.sqrt(mse_tree_train)"
   ]
  },
  {
   "cell_type": "code",
   "execution_count": 258,
   "id": "02f838f3",
   "metadata": {},
   "outputs": [],
   "source": [
    "y_pred_test_tree = tree_reg.predict(X_test_final)"
   ]
  },
  {
   "cell_type": "code",
   "execution_count": 259,
   "id": "102e2e10",
   "metadata": {},
   "outputs": [],
   "source": [
    "mse_tree_test = mean_squared_error(y_test, y_pred_test_tree)"
   ]
  },
  {
   "cell_type": "code",
   "execution_count": 260,
   "id": "3dab8b58",
   "metadata": {},
   "outputs": [],
   "source": [
    "rmse_tree_test = np.sqrt(mse_tree_test)"
   ]
  },
  {
   "cell_type": "code",
   "execution_count": 261,
   "id": "c3918375",
   "metadata": {},
   "outputs": [
    {
     "data": {
      "text/plain": [
       "5793.085953752149"
      ]
     },
     "execution_count": 261,
     "metadata": {},
     "output_type": "execute_result"
    }
   ],
   "source": [
    "rmse_tree_test"
   ]
  },
  {
   "cell_type": "markdown",
   "id": "9d8fc5f8",
   "metadata": {},
   "source": [
    "### Decision Tree seems to be overfitting as it has a low rmse for train set and high rmse for test set"
   ]
  },
  {
   "cell_type": "code",
   "execution_count": null,
   "id": "9677a991",
   "metadata": {},
   "outputs": [],
   "source": []
  },
  {
   "cell_type": "markdown",
   "id": "1c68ead4",
   "metadata": {},
   "source": [
    "## KNN (K- Nearest Neighbour)"
   ]
  },
  {
   "cell_type": "code",
   "execution_count": 183,
   "id": "49a138b6",
   "metadata": {},
   "outputs": [],
   "source": [
    "from sklearn.neighbors import KNeighborsRegressor as KNR"
   ]
  },
  {
   "cell_type": "code",
   "execution_count": 185,
   "id": "049b3255",
   "metadata": {},
   "outputs": [],
   "source": [
    "model = KNR(n_neighbors = 3)     # Taking nearest neighbors as 3 "
   ]
  },
  {
   "cell_type": "code",
   "execution_count": 186,
   "id": "30daca6e",
   "metadata": {},
   "outputs": [
    {
     "data": {
      "text/plain": [
       "KNeighborsRegressor(n_neighbors=3)"
      ]
     },
     "execution_count": 186,
     "metadata": {},
     "output_type": "execute_result"
    }
   ],
   "source": [
    "model.fit(X_train_final, y_train)"
   ]
  },
  {
   "cell_type": "code",
   "execution_count": 187,
   "id": "2bbb5386",
   "metadata": {},
   "outputs": [],
   "source": [
    "y_train_pred_KNR = model.predict(X_train_final)"
   ]
  },
  {
   "cell_type": "code",
   "execution_count": 188,
   "id": "7c26df7e",
   "metadata": {},
   "outputs": [
    {
     "data": {
      "text/plain": [
       "array([ 8761.28666667,  8685.83      , 15851.03333333, ...,\n",
       "       11806.83      , 34617.64      , 10343.50666667])"
      ]
     },
     "execution_count": 188,
     "metadata": {},
     "output_type": "execute_result"
    }
   ],
   "source": [
    "y_train_pred_KNR"
   ]
  },
  {
   "cell_type": "code",
   "execution_count": 189,
   "id": "531f5ca2",
   "metadata": {},
   "outputs": [
    {
     "data": {
      "text/plain": [
       "560      9193.84\n",
       "1285     8534.67\n",
       "1142    27117.99\n",
       "969      8596.83\n",
       "486     12475.35\n",
       "Name: expenses, dtype: float64"
      ]
     },
     "execution_count": 189,
     "metadata": {},
     "output_type": "execute_result"
    }
   ],
   "source": [
    "y_train[:5]"
   ]
  },
  {
   "cell_type": "code",
   "execution_count": 190,
   "id": "c26ef63b",
   "metadata": {},
   "outputs": [],
   "source": [
    "y_test_pred_KNR = model.predict(X_test_final)"
   ]
  },
  {
   "cell_type": "code",
   "execution_count": 193,
   "id": "78e0dde3",
   "metadata": {},
   "outputs": [
    {
     "data": {
      "text/plain": [
       "764      9095.07\n",
       "887      5272.18\n",
       "890     29330.98\n",
       "1293     9301.89\n",
       "259     33750.29\n",
       "          ...   \n",
       "109     47055.53\n",
       "575     12222.90\n",
       "535      6067.13\n",
       "543     63770.43\n",
       "846      9872.70\n",
       "Name: expenses, Length: 268, dtype: float64"
      ]
     },
     "execution_count": 193,
     "metadata": {},
     "output_type": "execute_result"
    }
   ],
   "source": [
    "y_test"
   ]
  },
  {
   "cell_type": "code",
   "execution_count": 192,
   "id": "e305b3d1",
   "metadata": {},
   "outputs": [
    {
     "data": {
      "text/plain": [
       "array([ 9042.27333333,  5449.88      , 27923.53666667,  9850.16      ,\n",
       "       23960.94333333])"
      ]
     },
     "execution_count": 192,
     "metadata": {},
     "output_type": "execute_result"
    }
   ],
   "source": [
    "y_test_pred_KNR[:5]"
   ]
  },
  {
   "cell_type": "code",
   "execution_count": 197,
   "id": "07b09b14",
   "metadata": {},
   "outputs": [],
   "source": [
    "train_rmse_error_KNR = np.sqrt(mean_squared_error(y_train, y_train_pred_KNR))"
   ]
  },
  {
   "cell_type": "code",
   "execution_count": 198,
   "id": "f501873b",
   "metadata": {},
   "outputs": [
    {
     "name": "stdout",
     "output_type": "stream",
     "text": [
      "The train set error is : 3957.3938986155636\n"
     ]
    }
   ],
   "source": [
    "print(\"The train set error is :\", train_rmse_error_KNR)"
   ]
  },
  {
   "cell_type": "code",
   "execution_count": null,
   "id": "e3085f5f",
   "metadata": {},
   "outputs": [],
   "source": []
  },
  {
   "cell_type": "code",
   "execution_count": 199,
   "id": "5e47dfed",
   "metadata": {},
   "outputs": [],
   "source": [
    "test_rmse_error_KNR = np.sqrt(mean_squared_error(y_test, y_test_pred_KNR))"
   ]
  },
  {
   "cell_type": "code",
   "execution_count": 200,
   "id": "3d56d283",
   "metadata": {},
   "outputs": [
    {
     "name": "stdout",
     "output_type": "stream",
     "text": [
      "The train set error is : 5896.499280770057\n"
     ]
    }
   ],
   "source": [
    "print(\"The train set error is :\", test_rmse_error_KNR)"
   ]
  },
  {
   "cell_type": "markdown",
   "id": "34c993d9",
   "metadata": {},
   "source": [
    "### For Test set the error is quite higher than the train set"
   ]
  },
  {
   "cell_type": "code",
   "execution_count": null,
   "id": "33ef4a5f",
   "metadata": {},
   "outputs": [],
   "source": []
  },
  {
   "cell_type": "markdown",
   "id": "4f232c3d",
   "metadata": {},
   "source": [
    "## Trying different value of K to check which value gives lowest RMSE"
   ]
  },
  {
   "cell_type": "code",
   "execution_count": 203,
   "id": "5ce1b2dc",
   "metadata": {},
   "outputs": [
    {
     "name": "stdout",
     "output_type": "stream",
     "text": [
      "RMSE value for k=  1 is: 6737.090219757119\n",
      "R2 score for value k=  1 is: 0.7076408706240565\n",
      "RMSE value for k=  2 is: 6258.849312457403\n",
      "R2 score for value k=  2 is: 0.7476746265452301\n",
      "RMSE value for k=  3 is: 5896.499280770057\n",
      "R2 score for value k=  3 is: 0.7760451700091886\n",
      "RMSE value for k=  4 is: 5846.051333927622\n",
      "R2 score for value k=  4 is: 0.779860902060482\n",
      "RMSE value for k=  5 is: 5886.155836372296\n",
      "R2 score for value k=  5 is: 0.7768301892176316\n",
      "RMSE value for k=  6 is: 6071.741734781336\n",
      "R2 score for value k=  6 is: 0.7625355981407853\n",
      "RMSE value for k=  7 is: 6231.617646484019\n",
      "R2 score for value k=  7 is: 0.7498655379678996\n",
      "RMSE value for k=  8 is: 6195.551673996633\n",
      "R2 score for value k=  8 is: 0.7527525048116785\n",
      "RMSE value for k=  9 is: 6232.853219308346\n",
      "R2 score for value k=  9 is: 0.7497663374069569\n",
      "RMSE value for k=  10 is: 6193.832175318435\n",
      "R2 score for value k=  10 is: 0.752889726730603\n",
      "RMSE value for k=  11 is: 6158.717143151456\n",
      "R2 score for value k=  11 is: 0.7556836958422929\n",
      "RMSE value for k=  12 is: 6208.024628446503\n",
      "R2 score for value k=  12 is: 0.7517559798254723\n",
      "RMSE value for k=  13 is: 6345.111841732733\n",
      "R2 score for value k=  13 is: 0.7406713515944647\n",
      "RMSE value for k=  14 is: 6364.83856765167\n",
      "R2 score for value k=  14 is: 0.7390563580151284\n",
      "RMSE value for k=  15 is: 6404.252760317569\n",
      "R2 score for value k=  15 is: 0.7358145703774013\n",
      "RMSE value for k=  16 is: 6478.428776681641\n",
      "R2 score for value k=  16 is: 0.7296593768788064\n",
      "RMSE value for k=  17 is: 6471.454566515065\n",
      "R2 score for value k=  17 is: 0.7302411220943705\n",
      "RMSE value for k=  18 is: 6521.480450066554\n",
      "R2 score for value k=  18 is: 0.7260544016070107\n",
      "RMSE value for k=  19 is: 6478.263220172048\n",
      "R2 score for value k=  19 is: 0.7296731938333887\n",
      "RMSE value for k=  20 is: 6498.402610423247\n",
      "R2 score for value k=  20 is: 0.7279898168998202\n",
      "The maximum R2 score we get is 0.779860902060482\n",
      "The minimum error we get is  5846.051333927622\n",
      "The corresponding K value is  4\n"
     ]
    }
   ],
   "source": [
    "rmse_val_list = [] #to store rmse values for different k\n",
    "r2_list = []\n",
    "\n",
    "for K in range(20):\n",
    "    K = K+1\n",
    "    model = KNR(n_neighbors = K)\n",
    "\n",
    "    model.fit(X_train_final, y_train)  #fit the model\n",
    "    y_pred = model.predict(X_test_final) #make prediction on test set\n",
    "    error = np.sqrt(mean_squared_error(y_test, y_pred)) #calculate rmse\n",
    "    r2 = r2_score(y_test, y_pred)\n",
    "    print('RMSE value for k= ' , K , 'is:', error)\n",
    "    print('R2 score for value k= ', K ,'is:', r2)\n",
    "    \n",
    "    rmse_val_list.append(error) #store rmse values\n",
    "    r2_list.append(r2)\n",
    "    \n",
    "print(\"The maximum R2 score we get is\", max(r2_list))    \n",
    "print(\"The minimum error we get is \", min(rmse_val_list))\n",
    "print(\"The corresponding K value is \", 1+rmse_val_list.index(min(rmse_val_list)))"
   ]
  },
  {
   "cell_type": "markdown",
   "id": "5379a7d8",
   "metadata": {},
   "source": [
    "## For Test Dataset we are taking K value as the square root of Total Test Dataset and checking which K value gives lowest RMSE "
   ]
  },
  {
   "cell_type": "code",
   "execution_count": 204,
   "id": "ff567b64",
   "metadata": {},
   "outputs": [
    {
     "name": "stdout",
     "output_type": "stream",
     "text": [
      "The minimum error we get is  5846.051333927622\n",
      "The corresponding K value is  4\n"
     ]
    }
   ],
   "source": [
    "rmse_val_list = list() #to store rmse values for different k\n",
    "rmse_val_df = pd.DataFrame(columns=[\"K\",\"Error\"])\n",
    "\n",
    "iter_len = len(X_test_final)\n",
    "iter_size = round(np.sqrt(iter_len))\n",
    "\n",
    "for K in range(iter_size):\n",
    "    K = K+1\n",
    "    model = KNR(n_neighbors = K)\n",
    "\n",
    "    model.fit(X_train_final, y_train)  #fit the model\n",
    "    y_pred = model.predict(X_test_final) #make prediction on test set\n",
    "    error = np.sqrt(mean_squared_error(y_test, y_pred)) #calculate rmse\n",
    "    \n",
    "    \n",
    "    rmse_val_list.append(error) #store rmse values\n",
    "    rmse_val_df = rmse_val_df.append({'K':K,'Error':error}, ignore_index=True) # Appending the value of k and error to the dataframe\n",
    "    \n",
    "print(\"The minimum error we get is \", min(rmse_val_list))\n",
    "print(\"The corresponding K value is \", 1+rmse_val_list.index(min(rmse_val_list)))\n"
   ]
  },
  {
   "cell_type": "code",
   "execution_count": 206,
   "id": "2a09b682",
   "metadata": {},
   "outputs": [
    {
     "data": {
      "text/html": [
       "<div>\n",
       "<style scoped>\n",
       "    .dataframe tbody tr th:only-of-type {\n",
       "        vertical-align: middle;\n",
       "    }\n",
       "\n",
       "    .dataframe tbody tr th {\n",
       "        vertical-align: top;\n",
       "    }\n",
       "\n",
       "    .dataframe thead th {\n",
       "        text-align: right;\n",
       "    }\n",
       "</style>\n",
       "<table border=\"1\" class=\"dataframe\">\n",
       "  <thead>\n",
       "    <tr style=\"text-align: right;\">\n",
       "      <th></th>\n",
       "      <th>Error</th>\n",
       "    </tr>\n",
       "    <tr>\n",
       "      <th>K</th>\n",
       "      <th></th>\n",
       "    </tr>\n",
       "  </thead>\n",
       "  <tbody>\n",
       "    <tr>\n",
       "      <th>1.0</th>\n",
       "      <td>6737.090220</td>\n",
       "    </tr>\n",
       "    <tr>\n",
       "      <th>2.0</th>\n",
       "      <td>6258.849312</td>\n",
       "    </tr>\n",
       "    <tr>\n",
       "      <th>3.0</th>\n",
       "      <td>5896.499281</td>\n",
       "    </tr>\n",
       "    <tr>\n",
       "      <th>4.0</th>\n",
       "      <td>5846.051334</td>\n",
       "    </tr>\n",
       "    <tr>\n",
       "      <th>5.0</th>\n",
       "      <td>5886.155836</td>\n",
       "    </tr>\n",
       "    <tr>\n",
       "      <th>6.0</th>\n",
       "      <td>6071.741735</td>\n",
       "    </tr>\n",
       "    <tr>\n",
       "      <th>7.0</th>\n",
       "      <td>6231.617646</td>\n",
       "    </tr>\n",
       "    <tr>\n",
       "      <th>8.0</th>\n",
       "      <td>6195.551674</td>\n",
       "    </tr>\n",
       "    <tr>\n",
       "      <th>9.0</th>\n",
       "      <td>6232.853219</td>\n",
       "    </tr>\n",
       "    <tr>\n",
       "      <th>10.0</th>\n",
       "      <td>6193.832175</td>\n",
       "    </tr>\n",
       "    <tr>\n",
       "      <th>11.0</th>\n",
       "      <td>6158.717143</td>\n",
       "    </tr>\n",
       "    <tr>\n",
       "      <th>12.0</th>\n",
       "      <td>6208.024628</td>\n",
       "    </tr>\n",
       "    <tr>\n",
       "      <th>13.0</th>\n",
       "      <td>6345.111842</td>\n",
       "    </tr>\n",
       "    <tr>\n",
       "      <th>14.0</th>\n",
       "      <td>6364.838568</td>\n",
       "    </tr>\n",
       "    <tr>\n",
       "      <th>15.0</th>\n",
       "      <td>6404.252760</td>\n",
       "    </tr>\n",
       "    <tr>\n",
       "      <th>16.0</th>\n",
       "      <td>6478.428777</td>\n",
       "    </tr>\n",
       "  </tbody>\n",
       "</table>\n",
       "</div>"
      ],
      "text/plain": [
       "            Error\n",
       "K                \n",
       "1.0   6737.090220\n",
       "2.0   6258.849312\n",
       "3.0   5896.499281\n",
       "4.0   5846.051334\n",
       "5.0   5886.155836\n",
       "6.0   6071.741735\n",
       "7.0   6231.617646\n",
       "8.0   6195.551674\n",
       "9.0   6232.853219\n",
       "10.0  6193.832175\n",
       "11.0  6158.717143\n",
       "12.0  6208.024628\n",
       "13.0  6345.111842\n",
       "14.0  6364.838568\n",
       "15.0  6404.252760\n",
       "16.0  6478.428777"
      ]
     },
     "execution_count": 206,
     "metadata": {},
     "output_type": "execute_result"
    }
   ],
   "source": [
    "rmse_df = pd.DataFrame(rmse_val_df).set_index('K')\n",
    "rmse_df"
   ]
  },
  {
   "cell_type": "code",
   "execution_count": 207,
   "id": "62c9715c",
   "metadata": {},
   "outputs": [
    {
     "data": {
      "text/plain": [
       "<AxesSubplot:xlabel='K'>"
      ]
     },
     "execution_count": 207,
     "metadata": {},
     "output_type": "execute_result"
    },
    {
     "data": {
      "image/png": "[encoded data removed]",
      "text/plain": [
       "<Figure size 432x288 with 1 Axes>"
      ]
     },
     "metadata": {
      "needs_background": "light"
     },
     "output_type": "display_data"
    }
   ],
   "source": [
    "rmse_df.plot()"
   ]
  },
  {
   "cell_type": "markdown",
   "id": "53c1d454",
   "metadata": {},
   "source": [
    "### As we can see that for k value 4 the error is minimum . After k=4 the error value is increasing and again at around k=11 the error became a bit low. But the error value is not that much low as it is at k=4. So probably we need to fix the k value at 4"
   ]
  },
  {
   "cell_type": "code",
   "execution_count": 243,
   "id": "ce3d623f",
   "metadata": {},
   "outputs": [],
   "source": [
    "from sklearn.model_selection import cross_val_score"
   ]
  },
  {
   "cell_type": "code",
   "execution_count": 245,
   "id": "e2b74ce9",
   "metadata": {},
   "outputs": [],
   "source": [
    "mses_model = -cross_val_score(model, X_train_final, y_train, cv = 5, scoring = 'neg_mean_squared_error')"
   ]
  },
  {
   "cell_type": "code",
   "execution_count": 246,
   "id": "88aa98c1",
   "metadata": {},
   "outputs": [
    {
     "data": {
      "text/plain": [
       "array([42425912.12781933, 42998579.04808877, 39984790.15009969,\n",
       "       49753339.87247205, 45661334.23836162])"
      ]
     },
     "execution_count": 246,
     "metadata": {},
     "output_type": "execute_result"
    }
   ],
   "source": [
    "mses_model"
   ]
  },
  {
   "cell_type": "code",
   "execution_count": null,
   "id": "10143590",
   "metadata": {},
   "outputs": [],
   "source": []
  },
  {
   "cell_type": "code",
   "execution_count": null,
   "id": "d6101160",
   "metadata": {},
   "outputs": [],
   "source": []
  },
  {
   "cell_type": "markdown",
   "id": "e4149921",
   "metadata": {},
   "source": [
    "## Grid Search"
   ]
  },
  {
   "cell_type": "code",
   "execution_count": 237,
   "id": "2f001f6c",
   "metadata": {},
   "outputs": [],
   "source": [
    "from sklearn.model_selection import GridSearchCV\n",
    "\n",
    "params = {'n_neighbors': np.arange(3,50,2),'weights':['uniform', 'distance'],'p':[1,2]}"
   ]
  },
  {
   "cell_type": "code",
   "execution_count": 238,
   "id": "83ccab68",
   "metadata": {},
   "outputs": [
    {
     "data": {
      "text/plain": [
       "GridSearchCV(cv=5, estimator=KNeighborsRegressor(n_neighbors=16),\n",
       "             param_grid={'n_neighbors': array([ 3,  5,  7,  9, 11, 13, 15, 17, 19, 21, 23, 25, 27, 29, 31, 33, 35,\n",
       "       37, 39, 41, 43, 45, 47, 49]),\n",
       "                         'p': [1, 2], 'weights': ['uniform', 'distance']})"
      ]
     },
     "execution_count": 238,
     "metadata": {},
     "output_type": "execute_result"
    }
   ],
   "source": [
    "gserach = GridSearchCV(estimator=model,param_grid=params,cv=5)\n",
    "\n",
    "gserach.fit(X_train_final,y_train)"
   ]
  },
  {
   "cell_type": "code",
   "execution_count": 239,
   "id": "815f814f",
   "metadata": {},
   "outputs": [
    {
     "data": {
      "text/plain": [
       "{'n_neighbors': 7, 'p': 1, 'weights': 'distance'}"
      ]
     },
     "execution_count": 239,
     "metadata": {},
     "output_type": "execute_result"
    }
   ],
   "source": [
    "gserach.best_params_"
   ]
  },
  {
   "cell_type": "code",
   "execution_count": 217,
   "id": "561cdae7",
   "metadata": {},
   "outputs": [],
   "source": [
    "model_best = KNR(n_neighbors = 7,p=1,weights='distance')"
   ]
  },
  {
   "cell_type": "code",
   "execution_count": 218,
   "id": "c66b5056",
   "metadata": {},
   "outputs": [
    {
     "data": {
      "text/plain": [
       "KNeighborsRegressor(n_neighbors=7, p=1, weights='distance')"
      ]
     },
     "execution_count": 218,
     "metadata": {},
     "output_type": "execute_result"
    }
   ],
   "source": [
    "model_best.fit(X_train_final, y_train)"
   ]
  },
  {
   "cell_type": "code",
   "execution_count": 226,
   "id": "8eeb76df",
   "metadata": {},
   "outputs": [],
   "source": [
    "y_train_pred_KNR = model_best.predict(X_train_final)"
   ]
  },
  {
   "cell_type": "code",
   "execution_count": 227,
   "id": "29fddf9b",
   "metadata": {},
   "outputs": [],
   "source": [
    "y_test_pred_KNR = model_best.predict(X_test_final)"
   ]
  },
  {
   "cell_type": "code",
   "execution_count": 228,
   "id": "31fc2c90",
   "metadata": {},
   "outputs": [
    {
     "data": {
      "text/plain": [
       "array([ 9193.84,  8534.67, 27117.99, ..., 11931.13, 46113.51, 10214.64])"
      ]
     },
     "execution_count": 228,
     "metadata": {},
     "output_type": "execute_result"
    }
   ],
   "source": [
    "y_train_pred_KNR"
   ]
  },
  {
   "cell_type": "code",
   "execution_count": 230,
   "id": "63b2441d",
   "metadata": {},
   "outputs": [
    {
     "data": {
      "text/plain": [
       "array([ 8941.15903879,  6019.32527943, 26828.28956865, 12542.34605462,\n",
       "       19050.277156  ])"
      ]
     },
     "execution_count": 230,
     "metadata": {},
     "output_type": "execute_result"
    }
   ],
   "source": [
    "y_test_pred_KNR[:5]"
   ]
  },
  {
   "cell_type": "code",
   "execution_count": null,
   "id": "feb8d292",
   "metadata": {},
   "outputs": [],
   "source": []
  },
  {
   "cell_type": "code",
   "execution_count": null,
   "id": "e2e7d0eb",
   "metadata": {},
   "outputs": [],
   "source": []
  },
  {
   "cell_type": "code",
   "execution_count": null,
   "id": "c82d5b8d",
   "metadata": {},
   "outputs": [],
   "source": []
  },
  {
   "cell_type": "code",
   "execution_count": null,
   "id": "588ee961",
   "metadata": {},
   "outputs": [],
   "source": []
  },
  {
   "cell_type": "markdown",
   "id": "77ed5534",
   "metadata": {},
   "source": [
    "## Checking the error and R2 score for test dataset with the parameter after grid search"
   ]
  },
  {
   "cell_type": "code",
   "execution_count": 231,
   "id": "8aa9c315",
   "metadata": {},
   "outputs": [
    {
     "data": {
      "text/plain": [
       "0.7921283594801755"
      ]
     },
     "execution_count": 231,
     "metadata": {},
     "output_type": "execute_result"
    }
   ],
   "source": [
    "r2_score(y_test,y_test_pred_KNR)"
   ]
  },
  {
   "cell_type": "code",
   "execution_count": 232,
   "id": "3e24158e",
   "metadata": {},
   "outputs": [
    {
     "data": {
      "text/plain": [
       "5680.828193886828"
      ]
     },
     "execution_count": 232,
     "metadata": {},
     "output_type": "execute_result"
    }
   ],
   "source": [
    "np.sqrt(mean_squared_error(y_test, y_test_pred_KNR))"
   ]
  },
  {
   "cell_type": "markdown",
   "id": "e34fe704",
   "metadata": {},
   "source": [
    "## We can see here that after grid search with the best param value k=7, the root mean squared error for the train dataset has been reduced from 5846.05 to 5680.82."
   ]
  },
  {
   "cell_type": "markdown",
   "id": "f829dcfc",
   "metadata": {},
   "source": [
    "## With the change in value of K from 4 to 7 we are reducing root mean square error around 165.23. But as we know increasing k value sometimes increase the complexity of the model. So for changing k value from 4 to 7 we may need the advice from any domain expert in this field."
   ]
  },
  {
   "cell_type": "code",
   "execution_count": null,
   "id": "25bae330",
   "metadata": {},
   "outputs": [],
   "source": []
  }
 ],
 "metadata": {
  "kernelspec": {
   "display_name": "Python 3",
   "language": "python",
   "name": "python3"
  },
  "language_info": {
   "codemirror_mode": {
    "name": "ipython",
    "version": 3
   },
   "file_extension": ".py",
   "mimetype": "text/x-python",
   "name": "python",
   "nbconvert_exporter": "python",
   "pygments_lexer": "ipython3",
   "version": "3.8.8"
  }
 },
 "nbformat": 4,
 "nbformat_minor": 5
}
